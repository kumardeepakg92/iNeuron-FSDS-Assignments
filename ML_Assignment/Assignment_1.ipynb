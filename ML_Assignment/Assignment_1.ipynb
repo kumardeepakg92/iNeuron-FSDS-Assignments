{
  "nbformat": 4,
  "nbformat_minor": 0,
  "metadata": {
    "colab": {
      "provenance": [],
      "collapsed_sections": []
    },
    "kernelspec": {
      "name": "python3",
      "display_name": "Python 3"
    },
    "language_info": {
      "name": "python"
    }
  },
  "cells": [
    {
      "cell_type": "markdown",
      "source": [
        "1. **What does one mean by the term &quot;machine learning&quot;?**\n",
        "\n",
        "Machine learning (ML) means that of inquiry devoted to understanding and building methods that 'learn', methods that leverage data to improve performance on some set of tasks.\n",
        "\n",
        "Machine learning algorithms build a model based on sample data, known as training data, in order to make predictions or decisions without being explicitly programmed.\n",
        "\n",
        "Machine learning algorithms are used in a wide variety of applications, such as in medicine, email filtering, speech recognition, and computer vision"
      ],
      "metadata": {
        "id": "j9rkzXR5m-eI"
      }
    },
    {
      "cell_type": "markdown",
      "source": [
        "**2.Can you think of 4 distinct types of issues where it shines?**\n",
        "\n",
        "1. **Image recognition** :-  It can identify an object as a digital image, based on the intensity of the pixels in black and white images or colour images.\n",
        "\n",
        "2. **Speech recognition** :- Machine learning can translate speech into text. Certain software applications can convert live voice and recorded speech into a text file. \n",
        "\n",
        "3. **Medical diagnosis** :- Machine learning can help with the diagnosis of diseases. Many physicians use chatbots with speech recognition capabilities to discern patterns in symptoms.\n",
        "\n",
        "4. **Predictive analytics** :- Machine learning can classify available data into groups, which are then defined by rules set by analysts. "
      ],
      "metadata": {
        "id": "42bM3tsjx6Fm"
      }
    },
    {
      "cell_type": "markdown",
      "source": [
        "**3.What is a labeled training set, and how does it work?**\n",
        "\n",
        "We can divide whole data in to two sets. One is for Training model and other is for testing model.\n"
      ],
      "metadata": {
        "id": "56CstNUMzzg0"
      }
    },
    {
      "cell_type": "markdown",
      "source": [
        "**4.What are the two most important tasks that are supervised?**\n",
        "\n",
        "The most important tasks is **classification** and **regression** in supervised learning."
      ],
      "metadata": {
        "id": "iuKT18Sd0WjQ"
      }
    },
    {
      "cell_type": "markdown",
      "source": [
        "**5.Can you think of four examples of unsupervised tasks?**\n",
        "\n",
        "Clustering, Visualization, Dimensionality Reduction, and Association Rule Learning are the examples of unsupervised learning tasks."
      ],
      "metadata": {
        "id": "b-OaLSCS04gE"
      }
    },
    {
      "cell_type": "markdown",
      "source": [
        "**6.State the machine learning model that would be best to make a robot walk through various unfamiliar terrains?**\n",
        "\n",
        "The best machine learning for robot walk is reinforcement algorithm in which that learn itself by and training model by itself.\n"
      ],
      "metadata": {
        "id": "8K9bdHRF1bfJ"
      }
    },
    {
      "cell_type": "markdown",
      "source": [
        "**7.Which algorithm will you use to divide your customers into different groups?**\n",
        "\n",
        "We can divide customer by supevised and unsupervised. If the customer data have label or y value or predicted value we approach supervised learning and if the customer data does not have label or y value we can make prediction on the basis of clustering. we can keep this data in to unsupervised learning.\n"
      ],
      "metadata": {
        "id": "4MwrBPMXAldN"
      }
    },
    {
      "cell_type": "markdown",
      "source": [
        "**8.Will you consider the problem of spam detection to be a supervised or unsupervised learning problem?**\n",
        "\n",
        "we will consider as supervised learning because spam detection have certain value or y value."
      ],
      "metadata": {
        "id": "seNDT3zJBhZ-"
      }
    },
    {
      "cell_type": "markdown",
      "source": [
        "**9.What is the concept of an online learning system?**\n",
        "\n",
        "Online learning is the mechanism learn continiosly."
      ],
      "metadata": {
        "id": "X7Fu2GlyB5f1"
      }
    },
    {
      "cell_type": "markdown",
      "source": [
        "**10.What is out-of-core learning, and how does it differ from core learning?**\n",
        "\n",
        "Out-of-core learning system is a system that can handle data that cannot fit into your computer memory. It uses online learning system to feed data in small bits."
      ],
      "metadata": {
        "id": "zlsMEkHPCTht"
      }
    },
    {
      "cell_type": "markdown",
      "source": [
        "**11.What kind of learning algorithm makes predictions using a similarity measure?**\n",
        "\n",
        "Instance based learning algorithm makes prediction using similarity mesurement."
      ],
      "metadata": {
        "id": "EJ2E79ohChKd"
      }
    },
    {
      "cell_type": "markdown",
      "source": [
        "**12.What&#39;s the difference between a model parameter and a hyperparameter in a learning algorithm?**\n",
        "\n",
        "Model parameter is use for training model and hyperparameter is use for learning purpose.\n"
      ],
      "metadata": {
        "id": "KjM0pEy3C4dD"
      }
    },
    {
      "cell_type": "markdown",
      "source": [
        "**13.What are the criteria that model-based learning algorithms look for? What is the most popular method they use to achieve success? What method do they use to make predictions?**\n",
        "\n",
        "Model based learning algorithm search for the optimal value of parameters in a model that will give the best results for the new instances. \n",
        "\n",
        "We often use a cost function or similar to determine what the parameter value has to be in order to minimize the loss function. \n",
        "\n",
        "The model makes prediction by using the value of the new instance and the parameters in its function."
      ],
      "metadata": {
        "id": "LHdn0cJDDe3d"
      }
    },
    {
      "cell_type": "markdown",
      "source": [
        "**14.Can you name four of the most important Machine Learning challenges?**\n",
        "\n",
        "Four main challenges in Machine Learning include the following:\n",
        "\n",
        "1. Overfitting the Data (using a model too complicated)\n",
        "2. Underfitting the data (using a simple model)\n",
        "3. Lacking in Data\n",
        "4. Non Representative Data.\n"
      ],
      "metadata": {
        "id": "41yko7eEDev9"
      }
    },
    {
      "cell_type": "markdown",
      "source": [
        "**15.What happens if the model performs well on the training data but fails to generalize the results to new situations? Can you think of three different options?**\n",
        "\n",
        "If the model performs poorly to new instances, then it has overfitted on the training data. To solve this, we can do any of the following three:\n",
        "\n",
        "1. Get more data\n",
        "2. Hyperparameter tunning.\n",
        "3. Eliminate outliers or noise from the existing data set."
      ],
      "metadata": {
        "id": "2ctgqkuHDePe"
      }
    },
    {
      "cell_type": "markdown",
      "source": [
        "**16.What exactly is a test set, and why would you need one?**\n",
        "\n",
        "We are using Test data for model accuracy on test data. it is completely different from training data set. "
      ],
      "metadata": {
        "id": "xpdgbmA0E6M9"
      }
    },
    {
      "cell_type": "markdown",
      "source": [
        "**17.What is a validation set&#39;s purpose?**\n",
        "\n",
        "It is the process of validaiting our trained model with different training model."
      ],
      "metadata": {
        "id": "3zsWfFE4E6AU"
      }
    },
    {
      "cell_type": "markdown",
      "source": [
        "**18.What precisely is the train-dev kit, when will you need it, how do you put it to use?**\n",
        "\n",
        "Cross-validation is a tool to compare models without needing a separate validation set. It is preferred over validation set because we can save from breaking of part of the training set to create a validation set, as having more data is valuable regardless."
      ],
      "metadata": {
        "id": "jTl4rDTUE5tE"
      }
    },
    {
      "cell_type": "markdown",
      "source": [
        "**19.What could go wrong if you use the test set to tune hyperparameters?**\n",
        "\n",
        "If we use test set for tune hyperparameters then model may not perform on new data set or future upcoming data for prediction."
      ],
      "metadata": {
        "id": "SMxPrsfoE48N"
      }
    }
  ]
}