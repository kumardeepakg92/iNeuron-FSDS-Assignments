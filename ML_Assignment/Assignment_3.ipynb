{
 "cells": [
  {
   "cell_type": "markdown",
   "id": "32eb25f3",
   "metadata": {},
   "source": [
    "#### 1.\tExplain the term machine learning, and how does it work? Explain two machine learning applications in the business world. What are some of the ethical concerns that machine learning applications could raise?"
   ]
  },
  {
   "cell_type": "markdown",
   "id": "88187308",
   "metadata": {},
   "source": [
    "__Ans:__ Machine learning is the technique which can gives computer capability to work itself without explicitly intervene. It enables computers to learn from experience or past data.\n",
    "\n",
    "\n",
    "We can develop algorithm and train models that can predict or make decision by itself. We use statistics to learn data, identify patterns and make accurate prediction or take actions.\n",
    "The general process of machine learning involves the following steps:\n",
    "\n",
    "1. Data Collection\n",
    "2. Data Preprocessing\n",
    "3. Feature Extraction and Selection\n",
    "4. Model Selection and Training\n",
    "5. Evaluation\n",
    "6. Model Tuning and Optimization\n",
    "7. Prediction and Decision-Making\n",
    "\n",
    "Below are Machine learning applications. \n",
    "\n",
    "1. Image and Object Recognition\n",
    "2. Fraud Detection\n",
    "3. Healthcare Applications\n",
    "4. Financial Analysis\n",
    "5. Social Media Analysis\n",
    "\n",
    "Below are Machine learning applications ethical concerns \n",
    "\n",
    "1. Bias and Discrimination\n",
    "2. Privacy and Data Protection\n",
    "3. Lack of Transparency and Explainability\n",
    "4. Unemployment and Economic Disruption\n",
    "5. Social Manipulation and Misinformation\n",
    "6. Accountability and Liability"
   ]
  },
  {
   "cell_type": "markdown",
   "id": "4ce871f3",
   "metadata": {},
   "source": [
    "#### 2.\tDescribe the process of human learning:\n",
    "\n",
    "1. Under the supervision of experts\n",
    "2. With the assistance of experts in an indirect manner\n",
    "3. Self-education"
   ]
  },
  {
   "cell_type": "markdown",
   "id": "d219fa17",
   "metadata": {},
   "source": [
    "__Ans:__\n",
    "\n",
    "_Under the supervision of experts_\n",
    "\n",
    "•\tTake one simple assessment and identify learners existing knowledge, skills and abilities.\n",
    "\n",
    "•\tBased on assessment result set learning goals on desired skill want to achieve. \n",
    "\n",
    "•\tExperts can decide syllabus based on learners’ skill need to acquire.\n",
    "\n",
    "•\tExperts can provide systemic instruction, lectures, labs, practice to the learner.\n",
    "\n",
    "•\tExpert can give continuous guidance and feedback to the learner.\n",
    "\n",
    "•\tExpert monitor the learners progress and performance by regularly taking tests.\n",
    "\n",
    "•\tBased on assessment result the expert provides additional support or adjustment in learning plan as needed.\n",
    "\n",
    "•\tExpert can make transition to learners to use skill by self\n"
   ]
  },
  {
   "cell_type": "markdown",
   "id": "3de6ec21",
   "metadata": {},
   "source": [
    "_With the assistance of experts in an indirect manner_\n",
    "\n",
    "•\tExpert help to Identify learning resources\n",
    "\n",
    "•\tExpert help to create learning materials\n",
    "\n",
    "•\tExpert assist to create learning roadmap or plan.\n",
    "\n",
    "•\tExpert can assist to setting learning goals.\n",
    "\n",
    "•\tRemote communication, guidance and feedback\n",
    "\n",
    "•\tSelf-assessment by learners\n",
    "\n",
    "•\tExpert can encourage learners to join community\n"
   ]
  },
  {
   "cell_type": "markdown",
   "id": "286292ab",
   "metadata": {},
   "source": [
    "_Self-assessment by learners_\n",
    "\n",
    "•\tExpert can encourage learners to join community Self-education\n",
    "\n",
    "•\tIdentify learning goals and what do you want to learn.\n",
    "\n",
    "•\tIdentify learning materials.\n",
    "\n",
    "•\tCreate learning plan\n",
    "\n",
    "•\tMake routine for study hour \n",
    "\n",
    "•\tMake notes, ask question by self,\n",
    "\n",
    "•\tJoin community and share knowledge to community.\n",
    "\n",
    "•\tPractice \n",
    "\n",
    "•\tAssess your learning"
   ]
  },
  {
   "cell_type": "markdown",
   "id": "b1660b5f",
   "metadata": {},
   "source": [
    "#### 3. Provide a few examples of various types of machine learning."
   ]
  },
  {
   "cell_type": "markdown",
   "id": "650f56e8",
   "metadata": {},
   "source": [
    "__Ans__\n",
    "\n",
    "•\tSupervised learning\n",
    "\n",
    "•\tUnsupervised learning\n",
    "\n",
    "•\tDeep learning\n",
    "\n",
    "•\tTransfer learning\n",
    "\n",
    "•\tReinforcement learning"
   ]
  },
  {
   "cell_type": "markdown",
   "id": "cbd2b954",
   "metadata": {},
   "source": [
    "#### 4.\tExamine the various forms of machine learning."
   ]
  },
  {
   "cell_type": "markdown",
   "id": "25d003f1",
   "metadata": {},
   "source": [
    "__Ans__\n",
    "\n",
    "There are 3 methods to examine machine learning.\n",
    "\n",
    "1.\tSupervised machine learning\n",
    "\n",
    "2.\tUnsupervised learning\n",
    "\n",
    "3.\tReinforcement learning"
   ]
  },
  {
   "cell_type": "markdown",
   "id": "8d76488e",
   "metadata": {},
   "source": [
    "#### 5. Can you explain what a well-posed learning problem is? Explain the main characteristics that must be present to identify a learning problem properly."
   ]
  },
  {
   "cell_type": "markdown",
   "id": "91ac80ac",
   "metadata": {},
   "source": [
    "__Ans__ \n",
    "\n",
    "Well-Posed learning problem of machine learning is learnt from past data and experience train model in efficient manner and predict accurate. We can use performance analyser technique. \n",
    "\n",
    "\n",
    "Three chartists must follow `Task`, `performance` and `experience`."
   ]
  },
  {
   "cell_type": "markdown",
   "id": "8df6ccd7",
   "metadata": {},
   "source": [
    "#### 6. Is machine learning capable of solving all problems? Give a detailed explanation of your answer."
   ]
  },
  {
   "cell_type": "markdown",
   "id": "aaeb7eb8",
   "metadata": {},
   "source": [
    "Machine learning probable to solve all problems but there are some ethics we should consider.\n",
    "\n",
    "Ethics means trusting train data and algorithm and more than that judgement of prediction.\n",
    "\n",
    "Algorithm can automate process by using available data.\n",
    "\n",
    "Deterministic Problem: Machine learning is stochastic, not deterministic. A neural network does not understand Newton’s second law, or that density cannot be negative — there are no physical constraints."
   ]
  },
  {
   "cell_type": "markdown",
   "id": "096c5545",
   "metadata": {},
   "source": [
    "#### 7. What are the various methods and technologies for solving machine learning problems? Any two of them should be defined in detail."
   ]
  },
  {
   "cell_type": "markdown",
   "id": "696d6ee1",
   "metadata": {},
   "source": [
    "\n",
    "__Ans:__ The Various Technologies Used in Machine Learning Problems are: Scikit learn, Pytorch, Tensorflow, Keras, Python.\n",
    "\n",
    "\n",
    "1.\tScikit Learn: Scikit-learn (Sklearn) is the most useful and robust library for machine learning in Python. It provides a selection of efficient tools for machine learning and statistical modelling including classification, Regression, clustering and dimensionality reduction via a consistence interface in Python.\n",
    "\n",
    "\n",
    "2.\tTensorFlow: It is a open source artificial intelligence library, Using data flow graphs to build models. It allows developers to create large-scale neural networks with many layers. TensorFlow is mainly used for: Classification, Perception, Understanding, Discovering, Prediction and Creation.\n",
    "\n",
    "\n",
    "The Various Methods used in Machine Learning Problems are: Regression, Classification, Clustering, Dimensionality Reductio, Ensemble Methods, Neural Network, Deep Learning, Transfer Learning, Reinforcement Learning, Natural Language Processing, Word Embeddings.\n",
    "\n",
    "Regression methods fall within the category of supervised ML. They help to predict or explain a particular numerical value based on a set of prior data, for example predicting the price of a property based on previous pricing data for similar properties.\n",
    "Another class of supervised ML, classification methods predict or explain a class value. For example, they can help predict whether or not an online customer will buy a product. The output can be yes or no, buyer or not buyer. But classification methods aren’t limited to two classes. For example, a classification method could help to assess whether a given image contains a car or a truck. In this case, the output will be 3 different values:\n",
    "\n",
    "1.\tThe image contains a car\n",
    "\n",
    "2.\tThe image contains a truck\n",
    "\n",
    "3.\tThe image contains neither a car nor a truck."
   ]
  },
  {
   "cell_type": "markdown",
   "id": "6719abe4",
   "metadata": {},
   "source": [
    "#### 8. Can you explain the various forms of supervised learning? Explain each one with an example application."
   ]
  },
  {
   "cell_type": "markdown",
   "id": "109ce78d",
   "metadata": {},
   "source": [
    "__Ans:__ Two types of supervised learning are below:-\n",
    "\n",
    "`Regression:` - In regression it can predict a single output based on given data. For example, predict sales for next year, predict price of house. Below are algorithm for regression.\n",
    "\n",
    "1. Linear regression\n",
    "2. Ridge Regression\n",
    "3. Lasso Regression \n",
    "4. Elasticnet Regression\n",
    "5. Support vector regression\n",
    "6. Decision tree regression\n",
    "7. Random Forest Regression\n",
    "\n",
    "`Classification:` - In classification algorithm learns from labelled data and build model. The model learns the patterns and relationship in training data to make prediction about the class labels of target value. Below are Classification algorithm.\n",
    "\n",
    "1. Logistic Regression\n",
    "2. Decision Trees\n",
    "3. Random Forests\n",
    "4. Support Vector Machines\n",
    "5. K-Nearest Neighbours (KNN)\n",
    "6. Naive Bayes"
   ]
  },
  {
   "cell_type": "markdown",
   "id": "202fdc41",
   "metadata": {},
   "source": [
    "#### 9. What is the difference between supervised and unsupervised learning? With a sample application in each region, explain the differences."
   ]
  },
  {
   "cell_type": "markdown",
   "id": "44b37cc0",
   "metadata": {},
   "source": [
    "__Ans:__\n",
    "\n",
    "`Supervised Learning`: - It train model using labelled data where both input and output are given. It learns the relationship between input value and target value to make prediction or classify new or unseen value. Key difference is the presence of labelled data for training. A sample application of supervised learning is Email spam detection.\n",
    "\n",
    "`Unsupervised learning`: - In unsupervised learning training model on unlabelled data where only input features are available and the goal is to discover pattern in data without target value given. A Sample application of Unsupervised learning is to identify customer segmentation."
   ]
  },
  {
   "cell_type": "markdown",
   "id": "f9d56fe9",
   "metadata": {},
   "source": [
    "#### 10. Describe the machine learning process in depth.\n",
    "\n",
    "a. Make brief notes on any two of the following:\n",
    "\n",
    "1. MATLAB is one of the most widely used programming languages.\n",
    "2. Deep learning applications in healthcare\n",
    "3. Study of the market basket\n",
    "4. Linear regression (simple)\n"
   ]
  },
  {
   "cell_type": "markdown",
   "id": "875b6c24",
   "metadata": {},
   "source": [
    "__Ans:__\n",
    "\n",
    "Imagine a dataset as a table, where the rows are each observation (aka measurement, data point, etc), and the columns for each observation represent the features of that observation and their values. At the outset of a machine learning project, a dataset is usually split into two or three subsets. The minimum subsets are the training and test datasets, and often an optional third validation dataset is created as well. Once these data subsets are created from the primary dataset, a predictive model or classifier is trained using the training data, and then the model’s predictive accuracy is determined using the test data. As, machine learning leverages algorithms to automatically model and find patterns in data, usually with the goal of predicting some target output or response. These algorithms are heavily based on statistics and mathematical optimization. Optimization is the process of finding the smallest or largest value (minima or maxima) of a function, often referred to as a loss, or cost function in the minimization case. One of the most popular optimization algorithms used in machine learning is called gradient descent, and another is known as the normal equation. In a nutshell, machine learning is all about automatically learning a highly accurate predictive or classifier model, or finding unknown patterns in data, by leveraging learning algorithms and optimization techniques.\n",
    "\n",
    "`Deep learning applications in healthcare`: Deep learning provides the healthcare industry with the ability to analyse data at exceptional speeds without compromising on accuracy. It’s not machine learning, nor is it AI, it’s an elegant blend of both that uses a layered algorithmic architecture to sift through data at an astonishing rate. The benefits of deep learning in healthcare are plentiful – fast, efficient, accurate – but they don’t stop there. Even more benefits lie within the neural networks formed by multiple layers of AI and ML and their ability to learn. Yes, the secret to deep learning’s success is in the name – learning.\n",
    "\n",
    "`Linear regression (simple)`: Linear Regression models describe the relationship between variables by fitting a line to the observed data. Linear regression models use a straight line, while logistic and nonlinear regression models use a curved line. Regression allows you to estimate how a dependent variable changes as the independent variable(s) change\n"
   ]
  },
  {
   "cell_type": "markdown",
   "id": "2c774872",
   "metadata": {},
   "source": [
    "#### 11. Make a comparison between: -\n",
    "1.\tGeneralization and abstraction\n",
    "2.\tLearning that is guided and unsupervised\n",
    "3.\tRegression and classification"
   ]
  },
  {
   "cell_type": "markdown",
   "id": "b6ce6ea7",
   "metadata": {},
   "source": [
    "__Ans:__ The differences between among the given concepts is:\n",
    "\n",
    "`Generalization and abstraction`: Abstraction is the process of removing details of objects. And Generalization, then, is the formulation of general concepts from specific instances by abstracting common properties. A concrete object can be looked at as a “subset” of a more generalized object.\n",
    "\n",
    "`Learning that is guided and Unsupervised`: Supervised learning is the method that trains machines to use data that is well classified and labeled. Whereas Unsupervised learning, on the other hand, is the method that trains machines to use data that is neither classified nor labeled.\n",
    "\n",
    "`Regression and classification:`\n",
    "\n",
    "Classification Models – Classification models are used for problems where the output variable can be categorized, such as Yes or No, or Pass or Fail. Classification Models are used to predict the category of the data. Real-life examples include spam detection, sentiment analysis, scorecard prediction of exams, etc.\n",
    "\n",
    "Regression Models – Regression models are used for problems where the output variable is a real value such as a unique number, dollars, salary, weight or pressure, for example. It is most often used to predict numerical values based on previous data observations. Some of the more familiar regression algorithms include linear regression, logistic regression, polynomial regression, and ridge regression.\n"
   ]
  }
 ],
 "metadata": {
  "kernelspec": {
   "display_name": "Python 3 (ipykernel)",
   "language": "python",
   "name": "python3"
  },
  "language_info": {
   "codemirror_mode": {
    "name": "ipython",
    "version": 3
   },
   "file_extension": ".py",
   "mimetype": "text/x-python",
   "name": "python",
   "nbconvert_exporter": "python",
   "pygments_lexer": "ipython3",
   "version": "3.9.12"
  }
 },
 "nbformat": 4,
 "nbformat_minor": 5
}
