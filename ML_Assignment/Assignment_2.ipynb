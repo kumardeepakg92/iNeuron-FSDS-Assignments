{
  "nbformat": 4,
  "nbformat_minor": 0,
  "metadata": {
    "colab": {
      "provenance": [],
      "collapsed_sections": []
    },
    "kernelspec": {
      "name": "python3",
      "display_name": "Python 3"
    },
    "language_info": {
      "name": "python"
    }
  },
  "cells": [
    {
      "cell_type": "markdown",
      "source": [
        "**1. What is the concept of human learning? Please give two examples.**\n",
        "\n",
        "Human learning is the form of learning which requires higher order mental processes like thinking, reasoning, intelligence, etc.We learn different concepts from childhood. For example:\n",
        "\n",
        "1. Learning through Association - Classical Conditioning.\n",
        "2. Learning through consequences – Operant Conditioning.\n",
        "3. Learning through observation – Modeling/Observational Learning."
      ],
      "metadata": {
        "id": "EVQlopB2HrZf"
      }
    },
    {
      "cell_type": "markdown",
      "source": [
        "**2. What different forms of human learning are there? Are there any machine learning equivalents?**\n",
        "\n",
        "Different Forms of ML are as follows :\n",
        "\n",
        "1. Artificial Intelligence Learning Theories. Machine Learning. Reinforcement Learning. Supervised Learning. Unsupervised Learning.\n",
        "2. ML equivalents like Linear regression, decision trees, random forest and support vector machines are some commonly used techniques that are actually examples of supervised learning."
      ],
      "metadata": {
        "id": "aTBwSN_aIGWk"
      }
    },
    {
      "cell_type": "markdown",
      "source": [
        "**3. What is machine learning, and how does it work? What are the key responsibilities of machine learning?**\n",
        "\n",
        "Machine learning is a branch of Artificial intelligence (AI) that teaches computers on how to think in a similar way to how humans do, like by Learning and improving upon past experiences.\n",
        "\n",
        "* It works by exploring data and identifying patterns, and involves minimal human intervention.\n",
        "\n",
        "Roles and responsibilities of a machine learning engineer are:\n",
        "\n",
        "* Designing ML systems.\n",
        "* Researching and implementing ML algorithms and tools. Selecting appropriate data sets.\n",
        "* Picking appropriate data representation methods. Identifying differences in data distribution that affects model performance. Verifying data quality."
      ],
      "metadata": {
        "id": "Y35vzQnUIjzs"
      }
    },
    {
      "cell_type": "markdown",
      "source": [
        "**4. Define the terms &quot;penalty&quot; and &quot;reward&quot; in the context of reinforcement learning.**\n",
        "\n",
        "A Reinforcement Learning Algorithm, which may also be referred to as an agent, learns by interacting with its environment. The agent receives rewards by performing correctly and penalties for performing incorrectly. The agent learns without intervention from a human by maximizing its reward and minimizing its penalty."
      ],
      "metadata": {
        "id": "Gz-EEbtEJyAn"
      }
    },
    {
      "cell_type": "markdown",
      "source": [
        "**5. Explain the term &quot;learning as a search&quot;?**\n",
        "\n",
        " Learning can be viewed as a search through the space of all sentences in a concept description language for a sentence that best describes the data. Alternatively, it can be viewed as a search through all hypotheses in a hypothesis space."
      ],
      "metadata": {
        "id": "wMaa45agdCrw"
      }
    },
    {
      "cell_type": "markdown",
      "source": [
        "**6. What are the various goals of machine learning? What is the relationship between these and human learning?**\n",
        "\n",
        "The Goal of machine learning, closely coupled with the goal of AI, is to achieve a through understanding about the nature of learning process (both human learning and other forms of learning), about the computational aspects of learning behaviors, and to implant the learning capability in computer systems.\n",
        "\n",
        "Humans have the ability to learn, however with the progress in artificial intelligence, machine learning has become a resource which can augment or even replace human learning. Learning does not happen all at once, but it builds upon and is shaped by previous knowledge."
      ],
      "metadata": {
        "id": "IC86MIxkdbRg"
      }
    },
    {
      "cell_type": "markdown",
      "source": [
        "**7. Illustrate the various elements of machine learning using a real-life illustration.**\n",
        "\n",
        "The Various elements of the the Machine Learning are:\n",
        "\n",
        "* Data\n",
        "* Task\n",
        "* Model\n",
        "* Loss Function\n",
        "* Learning Algorithm\n",
        "* Evaluation\n",
        "* Prediction \n",
        "* Accuracy"
      ],
      "metadata": {
        "id": "Ts87pe70d6D5"
      }
    },
    {
      "cell_type": "markdown",
      "source": [
        "**8. Provide an example of the abstraction method.**\n",
        "\n",
        "In Machine Learning, Abstraction is supported primarily at the level of modules. This can be justified in two ways: first, Data abstraction is mostly a question of program interfaces and therefore it arises naturally at the point where we have to consider program composition and modules."
      ],
      "metadata": {
        "id": "Td0Kfy09eVmZ"
      }
    },
    {
      "cell_type": "markdown",
      "source": [
        "**9. What is the concept of generalization? What function does it play in the machine learning process?**\n",
        "\n",
        "Generalization refers to your model's ability to adapt properly to new, previously unseen data, drawn from the same distribution as the one used to create the model.\n",
        "\n",
        "In machine learning, generalization is a definition to demonstrate how well is a trained model to classify or forecast unseen data.This issue can result to classify an actual dog image as a cat from the unseen dataset. Therefore, data diversity is very important factor in order to make a good prediction."
      ],
      "metadata": {
        "id": "sV31B-n0eqfw"
      }
    },
    {
      "cell_type": "markdown",
      "source": [
        "**10. What is classification, exactly? What are the main distinctions between classification and regression?**\n",
        "\n",
        "In Machine Learning, Classification refers to a predictive modeling problem where a class label is predicted for a given example of input data.Classification is the task of predicting a discrete class label. Whereas Regression is the task of predicting a continuous quantity."
      ],
      "metadata": {
        "id": "IyiaM-DefDTB"
      }
    },
    {
      "cell_type": "markdown",
      "source": [
        "**11. What is regression, and how does it work? Give an example of a real-world problem that was solved using regression.**\n",
        "\n",
        "Regression is a Supervised Machine Learning technique which is used to predict continuous values. The ultimate goal of a regression algorithm is to plot a best-fit line or a curve between the data.\n",
        "\n",
        "The three main metrics that are used for evaluating the trained regression model are Variance, Bias and Error.\n",
        "\n",
        "A simple linear regression real life example could mean you finding a relationship between the revenue and temperature, with a sample size for revenue as the dependent variable. In case of multiple variable regression, you can find the relationship between temperature, pricing and number of workers to the revenue."
      ],
      "metadata": {
        "id": "t7RK87JkfQ1B"
      }
    },
    {
      "cell_type": "markdown",
      "source": [
        "**12. Describe the clustering mechanism in detail.**\n",
        "\n",
        "Clustering is the task of dividing the population or data points into a number of groups such that data points in the same groups are more similar to other data points in the same group than those in other groups. In simple words, the aim is to segregate groups with similar traits and assign them into clusters."
      ],
      "metadata": {
        "id": "deEBIyGNfqUD"
      }
    },
    {
      "cell_type": "markdown",
      "source": [
        "**13. Make brief observations on two of the following topics:**\n",
        "\n",
        "i. Machine learning algorithms are used\n",
        "\n",
        "ii. Studying under supervision\n",
        "\n",
        "iii. Studying without supervision\n",
        "\n",
        "iv. Reinforcement learning is a form of learning based on positive reinforcement."
      ],
      "metadata": {
        "id": "cUfYa5B_fzyx"
      }
    },
    {
      "cell_type": "markdown",
      "source": [
        "The breif observations on the following two topics is:\n",
        "\n",
        "Machine learning algorithms are used: At its Most basic, Machine Learning uses programmed algorithms that receive and analyse input data to predict output values within an acceptable range. As new data is fed to these algorithms, they learn and optimise their operations to improve performance, developing intelligence over time.\n",
        "\n",
        "Studying Under Supervision: In machine learning, there are two important categories- Supervised and Unsupervised learning.Supervised learning, an algorithm learns from a training dataset. We know the correct answers or desired output, the algorithm makes predictions using the given dataset and is corrected by the “supervisor”."
      ],
      "metadata": {
        "id": "shV4RTSff8io"
      }
    }
  ]
}