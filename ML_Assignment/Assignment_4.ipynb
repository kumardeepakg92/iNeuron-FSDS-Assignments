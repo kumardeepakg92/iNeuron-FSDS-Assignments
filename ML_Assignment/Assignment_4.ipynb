{
 "cells": [
  {
   "cell_type": "markdown",
   "id": "32eb25f3",
   "metadata": {},
   "source": [
    "#### 1. What are the key tasks involved in getting ready to work with machine learning modeling?"
   ]
  },
  {
   "cell_type": "markdown",
   "id": "88187308",
   "metadata": {},
   "source": [
    "__Ans:__ The Key task for machine learning modeling are:- \n",
    "\n",
    "1. Data Collection\n",
    "2. Data Cleaning\n",
    "3. Data Preprocessing\n",
    "4. Feature Extraction and Selection\n",
    "5. Model Selection and Training\n",
    "6. Evaluation\n",
    "7. Model Tuning and Optimization\n",
    "8. Prediction and Decision-Making"
   ]
  },
  {
   "cell_type": "markdown",
   "id": "4ce871f3",
   "metadata": {},
   "source": [
    "#### 2. What are the different forms of data used in machine learning? Give a specific example for each of them."
   ]
  },
  {
   "cell_type": "markdown",
   "id": "d219fa17",
   "metadata": {},
   "source": [
    "__Ans:__\n",
    "\n",
    "_Different Forms of data used in machine learning are_\n",
    "\n",
    "1.\tNumerical Data :- Numerical data consists of quantitative values that can be expressed as numbers. This includes continuous values (e.g., temperature, age, income) and discrete values (e.g., counts, ratings). An example of numerical data is a dataset of housing prices, where the features may include the number of bedrooms, square footage, and price.\n",
    "\n",
    "2.\tCategorical Data :- Categorical data represents qualitative variables that fall into distinct categories or groups. This includes nominal variables (e.g., colors, genders) and ordinal variables (e.g., ratings, survey responses with ordered categories). An example of categorical data is a dataset of customer reviews, where the features may include sentiment labels such as positive, negative, or neutral.\n",
    "\n",
    "3.\tTextual Data :- Textual data consists of unstructured text information, such as documents, articles, social media posts, or emails. \n",
    "\n",
    "4.\tImage Data :- Image data represents visual information\n",
    "\n",
    "5.\tAudio Data:- Audio data consists of sound recordings, such as speech, music\n",
    "\n",
    "6.\tTime Series Data: -Time series data represents observations recorded at successive time points. It is used when the temporal order of the data is essential, and the values are dependent on previous values. Examples of time series data include stock prices, weather measurements, or sensor readings collected over time.\n"
   ]
  },
  {
   "cell_type": "markdown",
   "id": "b1660b5f",
   "metadata": {},
   "source": [
    "#### 3. Distinguish:\n",
    "\n",
    "1. Numeric vs. categorical attributes\n",
    "\n",
    "2. Feature selection vs. dimensionality reduction"
   ]
  },
  {
   "cell_type": "markdown",
   "id": "650f56e8",
   "metadata": {},
   "source": [
    "__Ans__\n",
    "\n",
    "`Numeric attributes` are variables that represent quantitative values expressed as numbers. They can be continuous or discrete.\n",
    "Examples: Age, height, weight, temperature, income, number of children.\n",
    "\n",
    "•\tNumeric attributes have a measurable scale or magnitude.\n",
    "•\tThey allow mathematical operations such as addition, subtraction, multiplication, and division.\n",
    "•\tNumeric attributes can have a range of possible values, and the distance between values has meaning.\n",
    "•\tNumeric attributes can be used for calculations, statistical analysis.\n",
    "\n",
    "\n",
    "`Categorical attributes` are variables that represent qualitative values falling into distinct categories or groups.\n",
    "\n",
    "Examples: Gender (male/female), color (red/green/blue), country of origin (India/USA/UK/Canada), product type (A/B/C). They represent membership in a specific group or category\n",
    "\n",
    "\n",
    "`Feature selection vs. dimensionality reduction`\n",
    "\n",
    "`Feature selection` aims to identify and keep the most important features for a given machine learning task. Various criteria can be used, such as statistical tests (e.g., correlation, p-value), feature importance measures (e.g., based on model coefficients), or domain knowledge. The selected features are evaluated using performance metrics (e.g., accuracy, AUC) on a validation or test set.\n",
    "\n",
    "\n",
    "`Dimensionality reduction` aims to transform the high-dimensional input feature space into a lower-dimensional representation \n",
    "\n",
    "It deals with the \"curse of dimensionality\" by capturing the most important patterns and structures in the data. Dimensionality reduction can improve model performance, reduce computational complexity, and facilitate data visualization\n",
    "\n",
    "Principal Component Analysis (PCA) is a popular linear dimensionality reduction technique.Dimensionality reduction simplifies the representation of data, reduces noise, facilitates visualization, and improves computational efficiency."
   ]
  },
  {
   "cell_type": "markdown",
   "id": "cbd2b954",
   "metadata": {},
   "source": [
    "#### 4. Make quick notes on any two of the following:\n",
    "\n",
    "1. The histogram\n",
    "\n",
    "2. Use a scatter plot\n",
    "\n",
    "3. PCA (Personal Computer Aid)"
   ]
  },
  {
   "cell_type": "markdown",
   "id": "25d003f1",
   "metadata": {},
   "source": [
    "__Ans__\n",
    "\n",
    "`The histogram:` A Histogram is a graphical representation that organizes a group of data points into user-specified ranges. Similar in appearance to a bar graph, the histogram condenses a data series into an easily interpreted visual by taking many data points and grouping them into logical ranges or bins.\n",
    "\n",
    "`Use a scatter plot:` A scatter plot (aka scatter chart, scatter graph) uses dots to represent values for two different numeric variables. The position of each dot on the horizontal and vertical axis indicates values for an individual data point. Scatter plots are used to observe relationships between variables.\n",
    "\n",
    "`PCA (Personal Computer Aid):` Principal Component Analysis or PCA is a widely used technique for dimensionality reduction of the large data set. Reducing the number of components or features costs some accuracy and on the other hand, it makes the large data set simpler, easy to explore and visualize."
   ]
  },
  {
   "cell_type": "markdown",
   "id": "8d76488e",
   "metadata": {},
   "source": [
    "#### 5. Why is it necessary to investigate data? Is there a discrepancy in how qualitative and quantitative data are explored?"
   ]
  },
  {
   "cell_type": "markdown",
   "id": "91ac80ac",
   "metadata": {},
   "source": [
    "__Ans__ \n",
    "\n",
    "If your data set is messy, building models will not help you to solve your problem. What will happen is Garbage In, Garbage Out. In order to build a powerful machine learning algorithm. We need to explore and understand our data set before we define a predictive task and solve it."
   ]
  },
  {
   "cell_type": "markdown",
   "id": "8df6ccd7",
   "metadata": {},
   "source": [
    "#### 6. What are the various histogram shapes? What exactly are ‘bins&#39;?"
   ]
  },
  {
   "cell_type": "markdown",
   "id": "aaeb7eb8",
   "metadata": {},
   "source": [
    "The different types of a Histogram are:\n",
    "\n",
    "1. Uniform Histogram\n",
    "2. Symmetric Histogram\n",
    "3. Bimodal Histogram\n",
    "4. Probability Histogram.\n",
    "\n",
    "The bin in a histogram is the choice of unit and spacing on the X-axis. All the data in a probability distribution represented visually by a histogram is filled into the corresponding bins. The height of each bin is a measurement of the frequency with which data appears inside the range of that bin in the distribution."
   ]
  },
  {
   "cell_type": "markdown",
   "id": "096c5545",
   "metadata": {},
   "source": [
    "#### 7. How do we deal with data outliers?"
   ]
  },
  {
   "cell_type": "markdown",
   "id": "696d6ee1",
   "metadata": {},
   "source": [
    "\n",
    "__Ans:__  We can use Z-Score or any of below methods to deal with data outliers:\n",
    "\n",
    "`Univariate Method:` This method looks for data points with extreme values on one variable.\n",
    "\n",
    "`Multivariate Method:` Here, we look for unusual combinations of all the variables.\n",
    "\n",
    "`Minkowski Error:` This method reduces the contribution of potential outliers in the training process.\n",
    "\n",
    "`Z-Score:` This can be done with just one line code as we have already calculated the Z-score.\n",
    "boston_df_o = boston_df_o[(z < 3).all(axis=1)]\n",
    "\n",
    "`IQR Score:` Calculate IQR score to filter out the outliers by keeping only valid values.\n",
    "boston_df_out = boston_df_o1[~((boston_df_o1 < (Q1 - 1.5 * IQR)) |(boston_df_o1 > (Q3 + 1.5 *IQR))).any(axis=1)]\n",
    "boston_df_out.shape\n",
    "\n",
    "`Quantile function:` Use quantile() to remove amount of data."
   ]
  },
  {
   "cell_type": "markdown",
   "id": "6719abe4",
   "metadata": {},
   "source": [
    "#### 8. What are the various central inclination measures? Why does mean vary too much from median in certain data sets?"
   ]
  },
  {
   "cell_type": "markdown",
   "id": "109ce78d",
   "metadata": {},
   "source": [
    "__Ans:__ Mean, Median and Mode are Central Inclination Measures. Mean varies more than Median due to presence of outliers, as mean is averaging all points while median in like finding a middle number."
   ]
  },
  {
   "cell_type": "markdown",
   "id": "202fdc41",
   "metadata": {},
   "source": [
    "#### 9. Describe how a scatter plot can be used to investigate bivariate relationships. Is it possible to find outliers using a scatter plot?"
   ]
  },
  {
   "cell_type": "markdown",
   "id": "44b37cc0",
   "metadata": {},
   "source": [
    "__Ans:__\n",
    "\n",
    "A Scatter Plot (aka scatter chart, scatter graph) uses dots to represent values for two different numeric variables. The position of each dot on the horizontal and vertical axis indicates values for an individual data point. So this visualization gives us the idea of bivariate relationship.\n",
    "\n",
    "Scatter plot can also help finding outliers as outliers can be visualized at farther distance than regular data."
   ]
  },
  {
   "cell_type": "markdown",
   "id": "f9d56fe9",
   "metadata": {},
   "source": [
    "#### 10. Describe how cross-tabs can be used to figure out how two variables are related.\n"
   ]
  },
  {
   "cell_type": "markdown",
   "id": "875b6c24",
   "metadata": {},
   "source": [
    "__Ans:__\n",
    "\n",
    "Cross tabulation is a method to quantitatively analyze the relationship between multiple variables. Also known as contingency tables or cross tabs, cross tabulation groups variables to understand the correlation between different variables. It also shows how correlations change from one variable grouping to another."
   ]
  }
 ],
 "metadata": {
  "kernelspec": {
   "display_name": "Python 3 (ipykernel)",
   "language": "python",
   "name": "python3"
  },
  "language_info": {
   "codemirror_mode": {
    "name": "ipython",
    "version": 3
   },
   "file_extension": ".py",
   "mimetype": "text/x-python",
   "name": "python",
   "nbconvert_exporter": "python",
   "pygments_lexer": "ipython3",
   "version": "3.9.12"
  }
 },
 "nbformat": 4,
 "nbformat_minor": 5
}
