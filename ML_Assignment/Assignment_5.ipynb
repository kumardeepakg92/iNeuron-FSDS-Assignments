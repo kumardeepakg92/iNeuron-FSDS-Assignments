{
 "cells": [
  {
   "cell_type": "markdown",
   "id": "32eb25f3",
   "metadata": {},
   "source": [
    "#### 1. What are the key tasks that machine learning entails? What does data pre-processing imply?"
   ]
  },
  {
   "cell_type": "markdown",
   "id": "88187308",
   "metadata": {},
   "source": [
    "__Ans:__ The Key task for machine learning modeling are:- \n",
    "\n",
    "1. Data Collection\n",
    "2. Data Cleaning\n",
    "3. Data Preprocessing\n",
    "4. Feature Extraction and Selection\n",
    "5. Model Selection and Training\n",
    "6. Evaluation\n",
    "7. Model Tuning and Optimization\n",
    "8. Prediction and Decision-Making\n",
    "\n",
    "Data Preprocessing :- It consists cleaning of data, removing outliers, Null value emputation, Standardization of data, One hot encoding."
   ]
  },
  {
   "cell_type": "markdown",
   "id": "4ce871f3",
   "metadata": {},
   "source": [
    "#### 2. Describe quantitative and qualitative data in depth. Make a distinction between the two."
   ]
  },
  {
   "cell_type": "markdown",
   "id": "d219fa17",
   "metadata": {},
   "source": [
    "__Ans:__\n",
    "\n",
    "The Data Type Is Broadly Classified Into:\n",
    "\n",
    "1. Quantitative\n",
    "2. Qualitative\n",
    "\n",
    "Quantitative Data Type: This Type Of Data Type Consists Of Numerical Values. Anything Which Is Measured By Numbers. examples:- Profit, Quantity Sold, Height, Weight, Temperature, Etc. This Is Again Of Two Types\n",
    "\n",
    "`Discrete Data Type:` – The Numeric Data Which Have Discrete Values Or Whole Numbers. This Type Of Variable Value can not be expressed as Decimal Format. It Will ne No Proper Meaning. \n",
    "\n",
    "Examples:- – No. Of Cars You Have, No. Of Marbles In Containers, Students In A Class, Etc.\n",
    "\n",
    "`Continuous Data Type:` – The Numerical Measures Which Can Take The Value Within A Certain Range. It have decimial value. examples :-  Height, Weight, Time, Area, Distance, Measurement Of Rainfall, Etc.\n",
    "\n",
    "`Qualitative Data Type`: Qualitative data refers to information that is descriptive or categorical in nature. It provides insights into qualities, attributes, characteristics, or subjective aspects of phenomena. Qualitative data is typically non-numerical and represents observations, opinions, perceptions, or behaviors.\n",
    "\n",
    "Examples of qualitative data include:\n",
    "\n",
    "    Interview transcripts capturing people's opinions or experiences\n",
    "    Observations of behavior in a natural setting\n",
    "    survey responses\n",
    "    Textual analysis of social media posts or online discussions"
   ]
  },
  {
   "cell_type": "markdown",
   "id": "b1660b5f",
   "metadata": {},
   "source": [
    "#### 3. Create a basic data collection that includes some sample records. Have at least one attribute from each of the machine learning data types."
   ]
  },
  {
   "attachments": {},
   "cell_type": "markdown",
   "id": "650f56e8",
   "metadata": {},
   "source": [
    "__Ans__\n",
    "\n",
    "    Customer ID represents a unique identifier for each customer, which is a numeric attribute. example:- 1,2,3,4,5\n",
    "    Age represents the age of the customer, which is a numeric attribute.examples:- 35,28,42,19,51\n",
    "    Gender represents the gender of the customer, which is a categorical attribute. examples:- Male,Female,male, Female, Male\n",
    "    Purchase Amount represents the amount spent by the customer on a purchase, which is a numeric attribute. Examples:- 50.25, 99.99, 75.50, 10.99, 150.00\n",
    "    Review Text represents the feedback or review provided by the customer, which is a textual attribute. \n",
    "    Example:- \n",
    "    \"The product is excellent and worth every penny!\"\n",
    "    \"I had a terrible experience with the customer service.\"\n",
    "    \"The shipping was faster than expected. Highly recommended!\"\n",
    "    \"The color of the product is not as vibrant as shown in the picture.\"\n",
    "    \"This is the best purchase I have made in a long time!\"\n",
    "\n",
    "\n"
   ]
  },
  {
   "cell_type": "markdown",
   "id": "cbd2b954",
   "metadata": {},
   "source": [
    "#### 4. What are the various causes of machine learning data issues? What are the ramifications?"
   ]
  },
  {
   "cell_type": "markdown",
   "id": "25d003f1",
   "metadata": {},
   "source": [
    "__Ans__\n",
    "\n",
    "Machine learning data issues can effect multiple way to train our model. Below are some common causes of machine learning data issues.\n",
    "\n",
    "    Insufficient data\n",
    "    Bias in Data\n",
    "    Noisy Data\n",
    "    Missing Data\n",
    "    Data Leakage\n",
    "The ramifications of machine learning data issues are below.\n",
    "\n",
    "    Reduced model performance\n",
    "    Unfair or Discriminatory Prediction\n",
    "    Misguided Decision\n"
   ]
  },
  {
   "cell_type": "markdown",
   "id": "8d76488e",
   "metadata": {},
   "source": [
    "#### 5. Demonstrate various approaches to categorical data exploration with appropriate examples."
   ]
  },
  {
   "cell_type": "markdown",
   "id": "91ac80ac",
   "metadata": {},
   "source": [
    "__Ans__ \n",
    "\n",
    "Various approaches of categorical data exploration are:\n",
    "\n",
    "1. Unique value count: We can count unique value in column containing categorical values. \n",
    "2. Frequency Count: Frequency count is finding how frequent individual values occur in column. \n",
    "3. Variance: Variance gives a good indication how the values are spread. \n",
    "4. Pareto Analysis: Pareto analysis is a creative way of focusing on what is important. Pareto 80–20 rule can be effectively used in data exploration. \n",
    "5. Histogram: Histogram are one of the data scientists favourite data exploration techniques. It gives information on the range of values in which most of the values fall. It also gives information on whether there is any skew in data. \n",
    "6. Correlation Heat-map between all numeric columns: The term correlation refers to a mutual relationship or association between two things. \n",
    "7. Pearson Correlation and Trend between two numeric columns: Once you have visualised correlation heat-map , the next step is to see the correlation trend between two specific numeric columns. \n",
    "8. Outlier overview: Finding something unusual in data is called Outlier detection (also known as anomaly detection). These outliers represent something unusual, rare , anomaly or something exceptional."
   ]
  },
  {
   "cell_type": "markdown",
   "id": "8df6ccd7",
   "metadata": {},
   "source": [
    "#### 6. How would the learning activity be affected if certain variables have missing values? Having said that, what can be done about it?"
   ]
  },
  {
   "cell_type": "markdown",
   "id": "aaeb7eb8",
   "metadata": {},
   "source": [
    "Missing value in variables can impact on learning activity and performance of model. It can be biased or reduces model accuracy. It is very important to handle missing value data. Below are the method to fill missing values.\n",
    "\n",
    "1. Remove row which having missing value or identify if any column having large missing value remove column\n",
    "2. Fill missing value with mean, median or mode value\n",
    "3. Fill missing value with regression.\n",
    "4. Delete Columns with Missing Values\n",
    "5. Remove missing with KNN algorithm\n"
   ]
  },
  {
   "cell_type": "markdown",
   "id": "096c5545",
   "metadata": {},
   "source": [
    "#### 7. Describe the various methods for dealing with missing data values in depth."
   ]
  },
  {
   "cell_type": "markdown",
   "id": "696d6ee1",
   "metadata": {},
   "source": [
    "\n",
    "__Ans:__  Below are the method to fill missing values.\n",
    "\n",
    "1. Remove row which having missing value or identify if any column having large missing value remove column\n",
    "2. Fill missing value with mean, median or mode value\n",
    "3. Fill missing value with regression.\n",
    "4. Delete Columns with Missing Values\n",
    "5. Remove missing with KNN algorithm"
   ]
  },
  {
   "cell_type": "markdown",
   "id": "6719abe4",
   "metadata": {},
   "source": [
    "#### 8. What are the various data pre-processing techniques? Explain dimensionality reduction and function selection in a few words."
   ]
  },
  {
   "cell_type": "markdown",
   "id": "109ce78d",
   "metadata": {},
   "source": [
    "__Ans:__ Data preprocessing techniques are essential for preparing raw data to be suitable for machine learning algorithms.\n",
    "\n",
    "1. Data Cleaning\n",
    "2. Handling with outliers\n",
    "3. Data Transformation\n",
    "4. Encoding Categorical Variables\n",
    "5. Feature Extraction\n",
    "6. Handling Imbalanced Data\n",
    "7. Normalization and Standardization\n",
    "8. Handling Text Data\n",
    "\n",
    "Dimensionality reduction is the process of reducing the number of input features or variables in a dataset while preserving the most important information. It aims to simplify complex data representations, alleviate the \"curse of dimensionality,\" and improve computational efficiency. Techniques like Principal Component Analysis (PCA) or t-Distributed Stochastic Neighbor Embedding (t-SNE) are used to transform high-dimensional data into a lower-dimensional representation, allowing for easier visualization, analysis, and modeling."
   ]
  },
  {
   "cell_type": "markdown",
   "id": "202fdc41",
   "metadata": {},
   "source": [
    "#### 9. \n",
    "1. What is the IQR? What criteria are used to assess it?\n",
    "2. Describe the various components of a box plot in detail? When will the lower whisker surpass the upper whisker in length? How can box plots be used to identify outliers?"
   ]
  },
  {
   "attachments": {
    "iqr.png": {
     "image/png": "[encoded data removed]"
    }
   },
   "cell_type": "markdown",
   "id": "44b37cc0",
   "metadata": {},
   "source": [
    "__Ans:__\n",
    "\n",
    "IQR stands for Interquartile Range, which is a statistical measure used to assess the variability or spread of a dataset. It is calculated as the difference between the 75th percentile (Q3) and the 25th percentile (Q1) of the data. In other words, the IQR represents the range between the upper quartile and the lower quartile.\n",
    "\n",
    "It focuses on the middle 50% of the data, providing a measure of the dispersion of the central values. The IQR can be used to identify outliers, assess the spread of data, or compare variability between different datasets.\n",
    "\n",
    "Outliers: The IQR is often used in outlier detection. Observations that fall below Q1 - 1.5 * IQR or above Q3 + 1.5 * IQR are considered potential outliers.\n",
    "\n",
    "1.\tOutliers: The IQR is often used in outlier detection. Observations that fall below Q1 - 1.5 * IQR or above Q3 + 1.5 * IQR are considered potential outliers.\n",
    "\n",
    "2.\tSkewness: The IQR can provide insights into the skewness of the data. If the IQR is closer to Q3, it suggests a positively skewed distribution, while an IQR closer to Q1 indicates a negatively skewed distribution.\n",
    "\n",
    "3.\tSpread of Data: A larger IQR indicates a wider spread or greater variability in the data, while a smaller IQR suggests a narrower spread or lower variability.\n",
    "\n",
    "4.\tComparing Datasets: The IQR can be used to compare the spread or variability between different datasets. A larger IQR indicates greater dispersion in one dataset compared to another.\n",
    "\n",
    "A `box plot` is a graphical representation of the distribution of a dataset. It provides a visual summary of key statistical measures and displays the variability and skewness of the data. The various components of a box plot include:\n",
    "\n",
    "Minimum and Maximum (Whiskers):\n",
    "The whiskers of a box plot extend from the box to the minimum and maximum values of the dataset. These lines represent the range of the data, excluding any outliers. Values beyond the whiskers are considered potential outliers.\n",
    "\n",
    "Box:\n",
    "The box represents the interquartile range (IQR) and contains the central 50% of the data. It is drawn between the first quartile (Q1) and the third quartile (Q3). The length of the box corresponds to the spread or variability of the data.\n",
    "\n",
    "Median (Q2):\n",
    "The median, also known as the second quartile (Q2), is represented by a horizontal line within the box. It represents the central or middle value of the dataset when the data is ordered.\n",
    "\n",
    "Quartiles (Q1 and Q3):\n",
    "The first quartile (Q1) and the third quartile (Q3) divide the data into lower and upper halves, respectively. The bottom edge of the box represents Q1, while the top edge represents Q3. These quartiles define the boundaries of the interquartile range (IQR).\n",
    "\n",
    "Outliers:\n",
    "Outliers are individual data points that fall outside the whiskers of the box plot. They are typically plotted as individual points beyond the whiskers or represented by specific symbols. Outliers are often identified using a rule, such as values beyond Q3 + 1.5 * IQR or Q1 - 1.5 * IQR.\n",
    "\n",
    "![iqr.png](attachment:iqr.png)"
   ]
  },
  {
   "cell_type": "markdown",
   "id": "f9d56fe9",
   "metadata": {},
   "source": [
    "#### 10. Make brief notes on any two of the following:\n",
    "\n",
    "1. Data collected at regular intervals\n",
    "\n",
    "2. The gap between the quartiles\n",
    "\n",
    "3. Use a cross-tab\n",
    "\n",
    "    "
   ]
  },
  {
   "cell_type": "markdown",
   "id": "875b6c24",
   "metadata": {},
   "source": [
    "__Ans:__\n",
    "\n",
    "`Data collected at regular intervals`\n",
    "\n",
    "    Interval data is one of the two types of discrete data.\n",
    "    An example of interval data is the data collected on a thermometer—its gradation or markings are equidistant.\n",
    "    Unlike ordinal data, interval data always take numerical values where the distance between two points on the scale is standardised and equal.\n",
    "\n",
    "`The gap between the quartiles:`\n",
    "\n",
    "    Q1 is the first quartile of the data, i.e., to say 25% of the data lies between minimum and Q1.\n",
    "    Q3 is the third quartile of the data, i.e., to say 75% of the data lies between minimum and Q3.\n",
    "    The difference between Q3 and Q1 is called the Inter-Quartile Range or IQR."
   ]
  },
  {
   "cell_type": "markdown",
   "id": "229123e1",
   "metadata": {},
   "source": [
    "#### 11. Make a comparison between:\n",
    "\n",
    "1. Data with nominal and ordinal values\n",
    "\n",
    "2. Histogram and box plot\n",
    "\n",
    "3. The average and median\n"
   ]
  },
  {
   "cell_type": "markdown",
   "id": "fa823361",
   "metadata": {},
   "source": [
    "`Histogram and barplot`\n",
    "\n",
    "Histograms and box plots are very similar in that they both help to visualize and describe numeric data. Although histograms are better in determining the underlying distribution of the data, box plots allow you to compare multiple data sets better than histograms as they are less detailed and take up less space.\n",
    "\n",
    "`The average and median`\n",
    "\n",
    "The mean (informally, the “average“) is found by adding all of the numbers together and dividing by the number of items in the set: 10 + 10 + 20 + 40 + 70 / 5 = 30. The median is found by ordering the set from lowest to highest and finding the exact middle. The median is just the middle number: 20\n"
   ]
  }
 ],
 "metadata": {
  "kernelspec": {
   "display_name": "Python 3 (ipykernel)",
   "language": "python",
   "name": "python3"
  },
  "language_info": {
   "codemirror_mode": {
    "name": "ipython",
    "version": 3
   },
   "file_extension": ".py",
   "mimetype": "text/x-python",
   "name": "python",
   "nbconvert_exporter": "python",
   "pygments_lexer": "ipython3",
   "version": "3.9.12"
  }
 },
 "nbformat": 4,
 "nbformat_minor": 5
}
