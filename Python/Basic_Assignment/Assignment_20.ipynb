{
 "cells": [
  {
   "cell_type": "markdown",
   "id": "e692be22",
   "metadata": {},
   "source": [
    "1. Set the variable test1 to the string 'This is a test of the emergency text system,' and save test1 to a file named test.txt."
   ]
  },
  {
   "cell_type": "code",
   "execution_count": 2,
   "id": "0b056e3c",
   "metadata": {},
   "outputs": [],
   "source": [
    "test1='This is a test of the emergency text system'\n",
    "f=open('test.txt','w')\n",
    "f.write(test1)\n",
    "f.close()\n"
   ]
  },
  {
   "cell_type": "markdown",
   "id": "b1907030",
   "metadata": {},
   "source": [
    "2. Read the contents of the file test.txt into the variable test2. Is there a difference between test 1 and test 2?\n",
    "\n",
    "Ans-NO"
   ]
  },
  {
   "cell_type": "code",
   "execution_count": 3,
   "id": "0378d4ad",
   "metadata": {},
   "outputs": [
    {
     "name": "stdout",
     "output_type": "stream",
     "text": [
      "This is a test of the emergency text system\n"
     ]
    }
   ],
   "source": [
    "test2=open('test.txt','r')\n",
    "print(test2.read())\n",
    "test2.close()"
   ]
  },
  {
   "cell_type": "markdown",
   "id": "8cb9f9cf",
   "metadata": {},
   "source": [
    "3. Create a CSV file called books.csv by using these lines:\n",
    "title,author,year\n",
    "The Weirdstone of Brisingamen,Alan Garner,1960\n",
    "Perdido Street Station,China Miéville,2000\n",
    "Thud!,Terry Pratchett,2005\n",
    "The Spellman Files,Lisa Lutz,2007\n",
    "Small Gods,Terry Pratchett,1992"
   ]
  },
  {
   "cell_type": "code",
   "execution_count": 97,
   "id": "f1841de0",
   "metadata": {},
   "outputs": [],
   "source": [
    "import csv\n",
    "data=[['title','author','year'],\n",
    "    ['The Weirdstone of Brisingamen', 'Alan Garner', 1960],\n",
    "    ['Perdido Street Station', 'China Miéville', 2000],\n",
    "    ['Thud!', 'Terry Pratchett', 2005],\n",
    "    ['The Spellman Files', 'Lisa Lutz', 2007],\n",
    "    ['Small Gods', 'Terry Pratchett', 1992]\n",
    "]\n",
    "\n",
    "f=open('book.csv','w')\n",
    "\n",
    "writer=csv.writer(f)\n",
    "writer.writerows(data)\n",
    "\n",
    "f.close()\n"
   ]
  },
  {
   "cell_type": "markdown",
   "id": "5cfe197e",
   "metadata": {},
   "source": [
    "4. Use the sqlite3 module to create a SQLite database called books.db, and a table called books with these fields: title (text), author (text), and year (integer)."
   ]
  },
  {
   "cell_type": "code",
   "execution_count": 99,
   "id": "75e77623",
   "metadata": {},
   "outputs": [
    {
     "name": "stdout",
     "output_type": "stream",
     "text": [
      "[]\n"
     ]
    }
   ],
   "source": [
    "import mysql.connector as conn\n",
    "mydb = conn.connect(host = \"localhost\" , user =\"root\" , passwd = \"1234\" )\n",
    "cursor=mydb.cursor()\n",
    "cursor.execute(\"create database book\")\n",
    "cursor.execute(\"show databases\")\n",
    "table='create table book.books1(title varchar(100), author varchar(100), year int(6))'\n",
    "cursor.execute(table)\n",
    "print(cursor.fetchall())"
   ]
  },
  {
   "cell_type": "markdown",
   "id": "9a00c52e",
   "metadata": {},
   "source": [
    "5. Read books.csv and insert its data into the book table."
   ]
  },
  {
   "cell_type": "code",
   "execution_count": 100,
   "id": "34d7be0d",
   "metadata": {},
   "outputs": [
    {
     "name": "stdout",
     "output_type": "stream",
     "text": [
      "('The Weirdstone of Brisingamen', 'Alan Garner', 1960)\n",
      "('Perdido Street Station', 'China Miéville', 2000)\n",
      "('Thud!', 'Terry Pratchett', 2005)\n",
      "('The Spellman Files', 'Lisa Lutz', 2007)\n",
      "('Small Gods', 'Terry Pratchett', 1992)\n"
     ]
    }
   ],
   "source": [
    "file=open('book.csv')\n",
    "reader=csv.reader(file)\n",
    "table=[]\n",
    "rows=[]\n",
    "for row in reader:\n",
    "    rows.append(row)\n",
    "file.close()\n",
    "\n",
    "rows.pop(0)#Remove first header row\n",
    "\n",
    "for row in range(1,len(rows),2):\n",
    "    st=\"insert into book.books1 values\"+str(tuple(rows[row]))\n",
    "    cursor.execute(st)\n",
    "mydb.commit()\n",
    "cursor.execute(\"select * from book.books1 \")\n",
    "for i in cursor.fetchall():\n",
    "    print(i)"
   ]
  },
  {
   "cell_type": "markdown",
   "id": "1c2d8201",
   "metadata": {},
   "source": [
    "6. Select and print the title column from the book table in alphabetical order."
   ]
  },
  {
   "cell_type": "code",
   "execution_count": 103,
   "id": "26e6c07f",
   "metadata": {},
   "outputs": [
    {
     "name": "stdout",
     "output_type": "stream",
     "text": [
      "('The Weirdstone of Brisingamen',)\n",
      "('Perdido Street Station',)\n",
      "('Thud!',)\n",
      "('The Spellman Files',)\n",
      "('Small Gods',)\n"
     ]
    }
   ],
   "source": [
    "cursor.execute(\"select title from book.books1\")\n",
    "for i in cursor.fetchall():\n",
    "    print(i)"
   ]
  },
  {
   "cell_type": "markdown",
   "id": "6ab533e8",
   "metadata": {},
   "source": [
    "7. From the book table, select and print all columns in the order of publication."
   ]
  },
  {
   "cell_type": "code",
   "execution_count": 105,
   "id": "c07b452a",
   "metadata": {},
   "outputs": [
    {
     "name": "stdout",
     "output_type": "stream",
     "text": [
      "('The Weirdstone of Brisingamen', 'Alan Garner', 1960)\n",
      "('Perdido Street Station', 'China Miéville', 2000)\n",
      "('The Spellman Files', 'Lisa Lutz', 2007)\n",
      "('Thud!', 'Terry Pratchett', 2005)\n",
      "('Small Gods', 'Terry Pratchett', 1992)\n"
     ]
    }
   ],
   "source": [
    "cursor.execute(\"select * from book.books1 order by author\")\n",
    "for i in cursor.fetchall():\n",
    "    print(i)"
   ]
  },
  {
   "cell_type": "markdown",
   "id": "32eb0802",
   "metadata": {},
   "source": [
    "8. Use the sqlalchemy module to connect to the sqlite3 database books.db that you just made in exercise 6."
   ]
  },
  {
   "cell_type": "code",
   "execution_count": 6,
   "id": "3d340334",
   "metadata": {},
   "outputs": [
    {
     "data": {
      "text/plain": [
       "Engine(sqlite:///books.db)"
      ]
     },
     "execution_count": 6,
     "metadata": {},
     "output_type": "execute_result"
    }
   ],
   "source": [
    "import sqlalchemy\n",
    "conn = sqlalchemy.create_engine('sqlite:///books.db')\n",
    "conn"
   ]
  },
  {
   "cell_type": "markdown",
   "id": "77481e19",
   "metadata": {},
   "source": [
    "9. Install the Redis server and the Python redis library (pip install redis) on your computer. Create a Redis hash called test with the fields count (1) and name (&#39;Fester Bestertester&#39;). Print all the fields for test."
   ]
  },
  {
   "cell_type": "code",
   "execution_count": 1,
   "id": "5155d6f3",
   "metadata": {},
   "outputs": [
    {
     "name": "stdout",
     "output_type": "stream",
     "text": [
      "Defaulting to user installation because normal site-packages is not writeable\n",
      "Requirement already satisfied: redis in c:\\users\\dpkjs\\appdata\\roaming\\python\\python39\\site-packages (4.3.4)\n",
      "Requirement already satisfied: deprecated>=1.2.3 in c:\\users\\dpkjs\\appdata\\roaming\\python\\python39\\site-packages (from redis) (1.2.13)\n",
      "Requirement already satisfied: async-timeout>=4.0.2 in c:\\users\\dpkjs\\appdata\\roaming\\python\\python39\\site-packages (from redis) (4.0.2)\n",
      "Requirement already satisfied: packaging>=20.4 in c:\\programdata\\anaconda3\\lib\\site-packages (from redis) (21.3)\n",
      "Requirement already satisfied: wrapt<2,>=1.10 in c:\\programdata\\anaconda3\\lib\\site-packages (from deprecated>=1.2.3->redis) (1.12.1)\n",
      "Requirement already satisfied: pyparsing!=3.0.5,>=2.0.2 in c:\\programdata\\anaconda3\\lib\\site-packages (from packaging>=20.4->redis) (3.0.4)\n",
      "Note: you may need to restart the kernel to use updated packages.\n"
     ]
    }
   ],
   "source": [
    "pip install redis"
   ]
  },
  {
   "cell_type": "code",
   "execution_count": null,
   "id": "db063eeb",
   "metadata": {},
   "outputs": [],
   "source": [
    "import redis\n",
    "con = redis.Redis()\n",
    "con.hset('test',{\n",
    "    'count':1,\n",
    "    'name':'Fester Bestertester'\n",
    "})\n",
    "con.hgetall('test')"
   ]
  },
  {
   "cell_type": "markdown",
   "id": "ded7f5bf",
   "metadata": {},
   "source": [
    "10. Increment the count field of test and print it."
   ]
  },
  {
   "cell_type": "code",
   "execution_count": 12,
   "id": "a58641d0",
   "metadata": {},
   "outputs": [
    {
     "name": "stdout",
     "output_type": "stream",
     "text": [
      "b'13'\n"
     ]
    }
   ],
   "source": [
    "con.hincrby('test', 'count', 1)\n",
    "con.hget('test', 'count')"
   ]
  }
 ],
 "metadata": {
  "kernelspec": {
   "display_name": "Python 3 (ipykernel)",
   "language": "python",
   "name": "python3"
  },
  "language_info": {
   "codemirror_mode": {
    "name": "ipython",
    "version": 3
   },
   "file_extension": ".py",
   "mimetype": "text/x-python",
   "name": "python",
   "nbconvert_exporter": "python",
   "pygments_lexer": "ipython3",
   "version": "3.9.12"
  }
 },
 "nbformat": 4,
 "nbformat_minor": 5
}
