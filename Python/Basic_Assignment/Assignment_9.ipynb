{
 "cells": [
  {
   "cell_type": "markdown",
   "id": "94b30316",
   "metadata": {},
   "source": [
    "1. To what does a relative path refer?\n",
    "\n",
    "Ans-It refers path from current directory. We can check current directory according to that we map with path. or we can use os module path.relpath function. parameter will be actual path and starting of our project folder."
   ]
  },
  {
   "cell_type": "code",
   "execution_count": 21,
   "id": "cfc2d1fa",
   "metadata": {},
   "outputs": [
    {
     "data": {
      "text/plain": [
       "'ineuron\\\\Python'"
      ]
     },
     "execution_count": 21,
     "metadata": {},
     "output_type": "execute_result"
    }
   ],
   "source": [
    "import os\n",
    "os.path.relpath('C:/Users/dpkjs/Documents/ineuron/Python','C:/Users/dpkjs/Documents/')"
   ]
  },
  {
   "cell_type": "markdown",
   "id": "9bfacf4f",
   "metadata": {},
   "source": [
    "2. What does an absolute path start with your operating system?\n",
    "\n",
    "Ans-Import os module in our programme."
   ]
  },
  {
   "cell_type": "markdown",
   "id": "8b5f37e6",
   "metadata": {},
   "source": [
    "3. What do the functions os.getcwd() and os.chdir() do?\n",
    "\n",
    "Ans-os.getcwd()- Return current directory absolute path.\n",
    "os.chdir()- It takes one parameter as in which directory change from current directory."
   ]
  },
  {
   "cell_type": "code",
   "execution_count": 37,
   "id": "171e6e23",
   "metadata": {},
   "outputs": [
    {
     "data": {
      "text/plain": [
       "'C:\\\\Users\\\\dpkjs\\\\Documents'"
      ]
     },
     "execution_count": 37,
     "metadata": {},
     "output_type": "execute_result"
    }
   ],
   "source": [
    "os.getcwd()"
   ]
  },
  {
   "cell_type": "code",
   "execution_count": 39,
   "id": "0ab5bddb",
   "metadata": {},
   "outputs": [
    {
     "data": {
      "text/plain": [
       "'C:\\\\Users\\\\dpkjs\\\\Documents\\\\ineuron\\\\Python'"
      ]
     },
     "execution_count": 39,
     "metadata": {},
     "output_type": "execute_result"
    }
   ],
   "source": [
    "os.chdir('./ineuron/Python')\n",
    "os.getcwd()"
   ]
  },
  {
   "cell_type": "markdown",
   "id": "a998cfbb",
   "metadata": {},
   "source": [
    "os.getcwd()"
   ]
  },
  {
   "cell_type": "markdown",
   "id": "a1a1a30b",
   "metadata": {},
   "source": [
    "4. What are the . and .. folders?\n",
    "\n",
    "Ans-\n",
    ". represent current directory and\n",
    "\n",
    ".. represent 1 level above from current directory or parent directory."
   ]
  },
  {
   "cell_type": "code",
   "execution_count": 44,
   "id": "de9a2aa9",
   "metadata": {},
   "outputs": [
    {
     "data": {
      "text/plain": [
       "'C:\\\\Users\\\\dpkjs\\\\Documents\\\\ineuron\\\\Python'"
      ]
     },
     "execution_count": 44,
     "metadata": {},
     "output_type": "execute_result"
    }
   ],
   "source": [
    "os.getcwd()"
   ]
  },
  {
   "cell_type": "markdown",
   "id": "dc9febee",
   "metadata": {},
   "source": [
    "5. In C:\\bacon\\eggs\\spam.txt, which part is the dir name, and which part is the base name?\n",
    "\n",
    "Ans-Directory name is eggs and path is C:\\bacon\\eggs\\\n",
    "base name or file name is spam.txt."
   ]
  },
  {
   "cell_type": "code",
   "execution_count": 47,
   "id": "a6426dbc",
   "metadata": {},
   "outputs": [
    {
     "data": {
      "text/plain": [
       "['.ipynb_checkpoints', 'mysql', 'Python']"
      ]
     },
     "execution_count": 47,
     "metadata": {},
     "output_type": "execute_result"
    }
   ],
   "source": [
    "os.listdir('C:\\\\Users\\\\dpkjs\\\\Documents\\\\ineuron\\\\')"
   ]
  },
  {
   "cell_type": "markdown",
   "id": "102619a9",
   "metadata": {},
   "source": [
    "6. What are the three “mode” arguments that can be passed to the open() function?\n",
    "\n",
    "Ans-Read,Write and Append. We pass the value of mode in open method parameter as r,w and a.\n"
   ]
  },
  {
   "cell_type": "markdown",
   "id": "955200c1",
   "metadata": {},
   "source": [
    "7. What happens if an existing file is opened in write mode?\n",
    "\n",
    "Ans-Opens a file for writing only. Overwrites the file if the file exists. If the file does not exist, creates a new file for writing."
   ]
  },
  {
   "cell_type": "markdown",
   "id": "c35c5d4c",
   "metadata": {},
   "source": [
    "8. How do you tell the difference between read() and readlines()?\n",
    "\n",
    "readlines()-It read complete line in one line.\n",
    "\n",
    "read()-It reads complete file in same as written in file."
   ]
  },
  {
   "cell_type": "code",
   "execution_count": 77,
   "id": "fbf901a3",
   "metadata": {},
   "outputs": [
    {
     "name": "stdout",
     "output_type": "stream",
     "text": [
      "Readline() method output :-  ['Hello Team,\\n', '\\n', 'My name is Deepak Kumar, curently i amworking in HCL.\\n', '\\n', 'I am student of Ineuron FSDS May 2022 Batch.\\n', '\\n', 'Regards\\n', 'Deepak']\n",
      "\n",
      "\n",
      "Read() method output :-  Hello Team,\n",
      "\n",
      "My name is Deepak Kumar, curently i amworking in HCL.\n",
      "\n",
      "I am student of Ineuron FSDS May 2022 Batch.\n",
      "\n",
      "Regards\n",
      "Deepak\n"
     ]
    }
   ],
   "source": [
    "\n",
    "a=open('abc.txt', 'r')\n",
    "a.seek(0)\n",
    "print(\"Readline() method output :- \", a.readlines())\n",
    "a.seek(0)\n",
    "print(\"\\n\\nRead() method output :- \",a.read())\n",
    "a.close()"
   ]
  },
  {
   "cell_type": "markdown",
   "id": "199ddfb2",
   "metadata": {},
   "source": [
    "9. What data structure does a shelf value resemble?\n",
    "\n",
    "Ans-Keys and values "
   ]
  },
  {
   "cell_type": "code",
   "execution_count": null,
   "id": "9db511be",
   "metadata": {},
   "outputs": [],
   "source": []
  }
 ],
 "metadata": {
  "kernelspec": {
   "display_name": "Python 3 (ipykernel)",
   "language": "python",
   "name": "python3"
  },
  "language_info": {
   "codemirror_mode": {
    "name": "ipython",
    "version": 3
   },
   "file_extension": ".py",
   "mimetype": "text/x-python",
   "name": "python",
   "nbconvert_exporter": "python",
   "pygments_lexer": "ipython3",
   "version": "3.9.12"
  }
 },
 "nbformat": 4,
 "nbformat_minor": 5
}
