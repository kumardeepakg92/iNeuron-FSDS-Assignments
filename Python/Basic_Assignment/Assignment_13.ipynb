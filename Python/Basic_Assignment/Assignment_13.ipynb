{
 "cells": [
  {
   "cell_type": "markdown",
   "id": "a80e0e84",
   "metadata": {},
   "source": [
    "1. What advantages do Excel spreadsheets have over CSV spreadsheets?\n",
    "\n",
    "Ans-\n",
    "\n",
    "1.CSV is old method of saving tables compared to excel.\n",
    "\n",
    "2.Excel store formatting information while csv not.\n",
    "\n",
    "3.csv format file can be open in notepad while excel not.\n"
   ]
  },
  {
   "cell_type": "markdown",
   "id": "577188f7",
   "metadata": {},
   "source": [
    "2.What do you pass to csv.reader() and csv.writer() to create reader and writer objects?\n",
    "\n",
    "Ans-we can pass csv file in csv.reader() and csv.writer()."
   ]
  },
  {
   "cell_type": "markdown",
   "id": "d215a04b",
   "metadata": {},
   "source": [
    "3. What modes do File objects for reader and writer objects need to be opened in?\n",
    "\n",
    "Ans-For Reader object read mode syntex will be 'r' and for writer object write mode syntex will be 'w'"
   ]
  },
  {
   "cell_type": "markdown",
   "id": "4261e7d5",
   "metadata": {},
   "source": [
    "4. What method takes a list argument and writes it to a CSV file?\n",
    "\n",
    "Ans-writerows(list_row) method takes all rows and write in to csvfile."
   ]
  },
  {
   "cell_type": "markdown",
   "id": "8cad49a9",
   "metadata": {},
   "source": [
    "5. What do the keyword arguments delimiter and line terminator do?\n",
    "\n",
    "Ans-delimiter ->  A one-character string used to separate fields. It defaults to ','.\n",
    "\n",
    "lineterminator ->  The string used to terminate lines produced by the writer. It defaults to '\\r\\n'."
   ]
  },
  {
   "cell_type": "markdown",
   "id": "9cef9a14",
   "metadata": {},
   "source": [
    "6. What function takes a string of JSON data and returns a Python data structure?\n",
    "\n",
    "Ans- json.loads() method takes string of JSON data and return will be python dictionary.\n"
   ]
  },
  {
   "cell_type": "markdown",
   "id": "0b4cadc7",
   "metadata": {},
   "source": [
    "7. What function takes a Python data structure and returns a string of JSON data?\n",
    "\n",
    "Ans-json.dump() method takes two parameter as python data and file name."
   ]
  },
  {
   "cell_type": "code",
   "execution_count": null,
   "id": "6f24d755",
   "metadata": {},
   "outputs": [],
   "source": []
  }
 ],
 "metadata": {
  "kernelspec": {
   "display_name": "Python 3 (ipykernel)",
   "language": "python",
   "name": "python3"
  },
  "language_info": {
   "codemirror_mode": {
    "name": "ipython",
    "version": 3
   },
   "file_extension": ".py",
   "mimetype": "text/x-python",
   "name": "python",
   "nbconvert_exporter": "python",
   "pygments_lexer": "ipython3",
   "version": "3.9.12"
  }
 },
 "nbformat": 4,
 "nbformat_minor": 5
}
