{
  "nbformat": 4,
  "nbformat_minor": 0,
  "metadata": {
    "colab": {
      "name": "Assignment_5.ipynb",
      "provenance": [],
      "authorship_tag": "ABX9TyPnos4QYCVGI9eDDuokR+IL"
    },
    "kernelspec": {
      "name": "python3",
      "display_name": "Python 3"
    },
    "language_info": {
      "name": "python"
    }
  },
  "cells": [
    {
      "cell_type": "markdown",
      "source": [
        "1. What does an empty dictionary's code look like?\n",
        "\n",
        "Ans-\n",
        "a=dict()\n",
        "type(a)"
      ],
      "metadata": {
        "id": "JM-l3TYGjh--"
      }
    },
    {
      "cell_type": "code",
      "execution_count": 1,
      "metadata": {
        "colab": {
          "base_uri": "https://localhost:8080/"
        },
        "id": "VOnizON4jdzi",
        "outputId": "9f0d119c-70ee-4853-8ed3-8ab26e62849c"
      },
      "outputs": [
        {
          "output_type": "execute_result",
          "data": {
            "text/plain": [
              "dict"
            ]
          },
          "metadata": {},
          "execution_count": 1
        }
      ],
      "source": [
        "a=dict()\n",
        "type(a)"
      ]
    },
    {
      "cell_type": "markdown",
      "source": [
        "2. What is the value of a dictionary value with the key 'foo' and the value 42?\n",
        "\n",
        "Ans-\n",
        "42"
      ],
      "metadata": {
        "id": "gCK1tVDjjqJr"
      }
    },
    {
      "cell_type": "code",
      "source": [
        "a={\n",
        "    'foo':42\n",
        "}\n",
        "a.values()"
      ],
      "metadata": {
        "colab": {
          "base_uri": "https://localhost:8080/"
        },
        "id": "fYl0BcZHjmPS",
        "outputId": "54b37d23-62f7-4f5d-b26f-672b4f6b2f8b"
      },
      "execution_count": 2,
      "outputs": [
        {
          "output_type": "execute_result",
          "data": {
            "text/plain": [
              "dict_values([42])"
            ]
          },
          "metadata": {},
          "execution_count": 2
        }
      ]
    },
    {
      "cell_type": "markdown",
      "source": [
        "3. What is the most significant distinction between a dictionary and a list?\n",
        "\n",
        "Ans- Dictionary stores values in keys and values but list stores all values in sequence.\n"
      ],
      "metadata": {
        "id": "1BAbmgCNjwFj"
      }
    },
    {
      "cell_type": "markdown",
      "source": [
        "4. What happens if you try to access spam['foo'] if spam is {'bar': 100}?\n",
        "\n",
        "Ans-It will give keyerror because 'foo' key is not available in spam."
      ],
      "metadata": {
        "id": "75hjVZZKjzyy"
      }
    },
    {
      "cell_type": "code",
      "source": [
        "spam={\n",
        "    'bar':100\n",
        "}\n",
        "spam['foo']"
      ],
      "metadata": {
        "colab": {
          "base_uri": "https://localhost:8080/",
          "height": 200
        },
        "id": "Js-gNimZj5bL",
        "outputId": "8e6f49a3-364a-424f-c307-67dd49a7cfbd"
      },
      "execution_count": 3,
      "outputs": [
        {
          "output_type": "error",
          "ename": "KeyError",
          "evalue": "ignored",
          "traceback": [
            "\u001b[0;31m---------------------------------------------------------------------------\u001b[0m",
            "\u001b[0;31mKeyError\u001b[0m                                  Traceback (most recent call last)",
            "\u001b[0;32m<ipython-input-3-d13a336e4f31>\u001b[0m in \u001b[0;36m<module>\u001b[0;34m()\u001b[0m\n\u001b[1;32m      2\u001b[0m     \u001b[0;34m'bar'\u001b[0m\u001b[0;34m:\u001b[0m\u001b[0;36m100\u001b[0m\u001b[0;34m\u001b[0m\u001b[0;34m\u001b[0m\u001b[0m\n\u001b[1;32m      3\u001b[0m }\n\u001b[0;32m----> 4\u001b[0;31m \u001b[0mspam\u001b[0m\u001b[0;34m[\u001b[0m\u001b[0;34m'foo'\u001b[0m\u001b[0;34m]\u001b[0m\u001b[0;34m\u001b[0m\u001b[0;34m\u001b[0m\u001b[0m\n\u001b[0m",
            "\u001b[0;31mKeyError\u001b[0m: 'foo'"
          ]
        }
      ]
    },
    {
      "cell_type": "markdown",
      "source": [
        "5. If a dictionary is stored in spam, what is the difference between the expressions 'cat' in spam and\n",
        "'cat' in spam.keys()?\n",
        "\n",
        "Ans-'cat' in spam means it will check in all dictionary keys, whether cat is available in dictionary keys or not.\n",
        "'cat' in spam.keys() , It means spam.keys() method return all dictionary keys as dict_keys type. In this it will check 'cat' is available or not."
      ],
      "metadata": {
        "id": "alulb5gwj23d"
      }
    },
    {
      "cell_type": "markdown",
      "source": [
        "6. If a dictionary is stored in spam, what is the difference between the expressions 'cat' in spam and\n",
        "'cat' in spam.values()?\n",
        "\n",
        "Ans-'cat' in spam means it will check in all dictionary keys, whether cat is available in dictionary keys or not.\n",
        "'cat' in spam.values() , It means spam.values() method return all dictionary values as dict_values type. In this it will check 'cat' is available or not."
      ],
      "metadata": {
        "id": "DpeZVmm1kDrb"
      }
    },
    {
      "cell_type": "markdown",
      "source": [
        "7. What is a shortcut for the following code?\n",
        "if 'color' not in spam:\n",
        "spam['color'] = 'black'\n",
        "Ans-\n",
        "spam['color'] = 'black'"
      ],
      "metadata": {
        "id": "2rBpFsLlkFLr"
      }
    },
    {
      "cell_type": "markdown",
      "source": [
        "8. How do you \"pretty print\" dictionary values using which module and function?\n",
        "\n",
        "Ans-pretty print dictionary values using pprint module with pprint function\n",
        "Ex-import pprint\n",
        "\n",
        "dic={\n",
        "    'cat':100,\n",
        "    'dog':50,\n",
        "    'rat':500,\n",
        "    'mouse':1000\n",
        "}\n",
        "pprint.pprint(dic)\n",
        "\n",
        "Output:-\n",
        "{'cat': 100, 'dog': 50, 'mouse': 1000, 'rat': 500}"
      ],
      "metadata": {
        "id": "-dcVUahSkNxD"
      }
    },
    {
      "cell_type": "code",
      "source": [
        "import pprint\n",
        "dic={\n",
        "    'cat':100,\n",
        "    'dog':50,\n",
        "    'rat':500,\n",
        "    'mouse':1000\n",
        "}\n",
        "pprint.pprint(dic)"
      ],
      "metadata": {
        "colab": {
          "base_uri": "https://localhost:8080/"
        },
        "id": "8rvNH1vSjuAp",
        "outputId": "9c35999c-1f32-47e5-bca2-5602e63179b3"
      },
      "execution_count": 5,
      "outputs": [
        {
          "output_type": "stream",
          "name": "stdout",
          "text": [
            "{'cat': 100, 'dog': 50, 'mouse': 1000, 'rat': 500}\n"
          ]
        }
      ]
    }
  ]
}