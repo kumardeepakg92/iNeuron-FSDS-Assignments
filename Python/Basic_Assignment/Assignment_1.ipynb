{
 "cells": [
  {
   "cell_type": "markdown",
   "id": "324c6f75",
   "metadata": {},
   "source": [
    "1. In the below elements which of them are values or an expression? eg:- values can be\n",
    "integer or string and expressions will be mathematical operators.\n",
    "* ->expressions\n",
    "&#39;hello&#39; -> Invalid Syntax\n",
    "-87.8 -> Value\n",
    "- -> Expresssion\n",
    "/ -> Expresssion\n",
    "+ -> Expresssion\n",
    "6 -> Value"
   ]
  },
  {
   "cell_type": "markdown",
   "id": "47d0c6d9",
   "metadata": {},
   "source": [
    "2. What is the difference between string and variable?\n",
    "Ans:-String \n",
    "     -> It is a series of character or set of character or singal character. It contains spaces, numbers, special character,expression. we can define all the string character in singla or double or tripple or multi inverted commas in multi line. \n",
    "       Ex:- a='''''''''1b @o98++\n",
    "  1'''''''''\n",
    "     Variable\n",
    "     ->Any data we are storing in our program to use in our programme. It can be integer, float, complex, string or boolean."
   ]
  },
  {
   "cell_type": "markdown",
   "id": "04ee2ec2",
   "metadata": {},
   "source": [
    "3. Describe three different data types.\n",
    "Ans:-Complex number:- It can store complex number data. it is written as Real part + (Imaginary Part)j. Ex:- 4+3j\n",
    "    List:- It is like an array in which we can store any type of data value.\n",
    "    Boolean:- It can store only two value either True or False."
   ]
  },
  {
   "cell_type": "markdown",
   "id": "8e0f6fae",
   "metadata": {},
   "source": [
    "4. What is an expression made up of? What do all expressions do?\n",
    "Ans:- Expression is a combination of operators and operand. where at least one operand is mandatory and have one or more operator. After evaluting expression we get value. Ex:- x*2+y-3, Where *,+ and - are operator and x,y are variable and 8 is constant."
   ]
  },
  {
   "cell_type": "markdown",
   "id": "87a5dc23",
   "metadata": {},
   "source": [
    "5. This assignment statements, like spam = 10. What is the difference between an expression and a statement?\n",
    "Ans:- Statement are the code instruction in line. Ex:- spam =10, a=10/b, b=x*y+z these are the statement\n",
    "Expression is a combination of operators and operand, where we get value. Ex:- x*y+z, 10+2-1*4/2 these are the expression"
   ]
  },
  {
   "cell_type": "markdown",
   "id": "b41108d0",
   "metadata": {},
   "source": [
    "6. After running the following code, what does the variable bacon contain?\n",
    "bacon = 22\n",
    "bacon + 1"
   ]
  },
  {
   "cell_type": "code",
   "execution_count": 30,
   "id": "c52241ae",
   "metadata": {},
   "outputs": [
    {
     "data": {
      "text/plain": [
       "23"
      ]
     },
     "execution_count": 30,
     "metadata": {},
     "output_type": "execute_result"
    }
   ],
   "source": [
    "bacon=22\n",
    "bacon+1"
   ]
  },
  {
   "cell_type": "markdown",
   "id": "1bf87840",
   "metadata": {},
   "source": [
    "7. What should the values of the following two terms be?\n",
    "'spam' + 'spamspam' :- 'spamspamspam'\n",
    "'spam' * 3 :- 'spamspamspam'"
   ]
  },
  {
   "cell_type": "code",
   "execution_count": 35,
   "id": "75bad8e7",
   "metadata": {},
   "outputs": [
    {
     "data": {
      "text/plain": [
       "'spamspamspam'"
      ]
     },
     "execution_count": 35,
     "metadata": {},
     "output_type": "execute_result"
    }
   ],
   "source": [
    "'spam' + 'spamspam'"
   ]
  },
  {
   "cell_type": "code",
   "execution_count": 36,
   "id": "63f7be8a",
   "metadata": {},
   "outputs": [
    {
     "data": {
      "text/plain": [
       "'spamspamspam'"
      ]
     },
     "execution_count": 36,
     "metadata": {},
     "output_type": "execute_result"
    }
   ],
   "source": [
    "'spam' * 3"
   ]
  },
  {
   "cell_type": "markdown",
   "id": "5ba84895",
   "metadata": {},
   "source": [
    "8. Why is eggs a valid variable name while 100 is invalid?\n",
    "Ans:- Becaus a variable name can't start with number."
   ]
  },
  {
   "cell_type": "markdown",
   "id": "8d17b823",
   "metadata": {},
   "source": [
    "9. What three functions can be used to get the integer, floating-point number, or string version of a value?\n",
    "Ans:-int(), float() and str()"
   ]
  },
  {
   "cell_type": "code",
   "execution_count": 45,
   "id": "6be1c51d",
   "metadata": {},
   "outputs": [
    {
     "name": "stdout",
     "output_type": "stream",
     "text": [
      "10\n",
      "10.0\n",
      "10\n"
     ]
    }
   ],
   "source": [
    "a=10\n",
    "print(int(a))\n",
    "print(float(a))\n",
    "print(str(a))"
   ]
  },
  {
   "cell_type": "markdown",
   "id": "1cb6e291",
   "metadata": {},
   "source": [
    "10. Why does this expression cause an error? How can you fix it?\n",
    "'I have eaten ' + 99 + ' burritos.'\n",
    "Ans:- 'I have eaten ' is string type variable and 99 is integer type variable. Hence integer will not concatenate with string vale. We need to convert integer 99 to string variable.\n",
    "Ex:- 'I have eaten ' + str(99) + ' burritos.'"
   ]
  }
 ],
 "metadata": {
  "kernelspec": {
   "display_name": "Python 3 (ipykernel)",
   "language": "python",
   "name": "python3"
  },
  "language_info": {
   "codemirror_mode": {
    "name": "ipython",
    "version": 3
   },
   "file_extension": ".py",
   "mimetype": "text/x-python",
   "name": "python",
   "nbconvert_exporter": "python",
   "pygments_lexer": "ipython3",
   "version": "3.9.12"
  }
 },
 "nbformat": 4,
 "nbformat_minor": 5
}
