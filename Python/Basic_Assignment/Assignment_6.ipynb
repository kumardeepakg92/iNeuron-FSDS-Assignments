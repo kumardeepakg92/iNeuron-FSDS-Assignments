{
  "nbformat": 4,
  "nbformat_minor": 0,
  "metadata": {
    "colab": {
      "name": "Assignment_6.ipynb",
      "provenance": [],
      "authorship_tag": "ABX9TyNpJbcoW+lKKKqUvOZnOCDy"
    },
    "kernelspec": {
      "name": "python3",
      "display_name": "Python 3"
    },
    "language_info": {
      "name": "python"
    }
  },
  "cells": [
    {
      "cell_type": "markdown",
      "source": [
        "1. What are escape characters, and how do you use them?"
      ],
      "metadata": {
        "id": "ZS_moBx7lN5N"
      }
    },
    {
      "cell_type": "markdown",
      "source": [
        "Escape character allow us to add special character in string. Escape character is followd by backslash.Below is the escape character. we can use inside singal quoted or double quoted inverted commas.\n",
        "\n",
        "Code\tDescription\n",
        "\\’\t\tSingle Quote,\n",
        "\\”\t\tDouble Quote,\n",
        "\\\\\t\tBackslash,\n",
        "\\n\t\tNew Line,\n",
        "\\r\t\tCarriage Retrun,\n",
        "\\t\t\tTab,\n",
        "\\b\t\tBackspace,\n",
        "\\f\t\tForm Feed,\n",
        "\\ooo\tOctal Value,\n",
        "\\xhh\tHex Value\n",
        "\n",
        "Ex-print('Hello \\'World\\n \\\"My Name is Deepak \\\"I am Ineuron\\'s student.')"
      ],
      "metadata": {
        "id": "W1XM-X0vH_PS"
      }
    },
    {
      "cell_type": "code",
      "execution_count": 16,
      "metadata": {
        "id": "OCh8y9K_lIqI",
        "colab": {
          "base_uri": "https://localhost:8080/"
        },
        "outputId": "931e649f-c1ca-40e8-d465-195141d3a8da"
      },
      "outputs": [
        {
          "output_type": "stream",
          "name": "stdout",
          "text": [
            "Hello 'World\n",
            " \"My Name is Deepak \"I am Ineuron's student.\n"
          ]
        }
      ],
      "source": [
        "print('Hello \\'World\\n \\\"My Name is Deepak \\\"I am Ineuron\\'s student.')"
      ]
    },
    {
      "cell_type": "markdown",
      "source": [
        "2. What do the escape characters n and t stand for?\n",
        "\n",
        "Ans-n stands for New line and t stands for Tab"
      ],
      "metadata": {
        "id": "SRBE5hnfL61R"
      }
    },
    {
      "cell_type": "markdown",
      "source": [
        "3. What is the way to include backslash characters in a string?\n",
        "\n",
        "Ans-\\\\\\\t\tBackslash"
      ],
      "metadata": {
        "id": "sC1i9h_kMFDD"
      }
    },
    {
      "cell_type": "markdown",
      "source": [
        "4. The string \"Howl's Moving Castle\" is a correct value. Why isn't the single quote character in the\n",
        "word Howl's not escaped a problem?\n",
        "\n",
        "Ans-Because we pass whole string double inverted comma. Hence sigle inverted comma escaped.\n"
      ],
      "metadata": {
        "id": "VUto5sEwMmGM"
      }
    },
    {
      "cell_type": "markdown",
      "source": [
        "5. How do you write a string of newlines if you don't want to use the n character?\n",
        "Ans-We can use print function twice or print the string in three inverted commas with new line. See the below code.\n",
        "\n",
        "Ex-print(\"\"\"Hello \n",
        "I am new line\"\"\")\n",
        "print(\"Without using n character\")\n",
        "print(\"I am new line\")"
      ],
      "metadata": {
        "id": "ITTev3ibNLHw"
      }
    },
    {
      "cell_type": "code",
      "source": [
        "print(\"\"\"Hello \n",
        "I am new line\"\"\")\n",
        "print(\"Without using n character\")\n",
        "print(\"I am new line\")"
      ],
      "metadata": {
        "colab": {
          "base_uri": "https://localhost:8080/"
        },
        "id": "BF1-qKdfKBF_",
        "outputId": "fd17a34f-3cc4-46ad-9815-407db2b2a37d"
      },
      "execution_count": 19,
      "outputs": [
        {
          "output_type": "stream",
          "name": "stdout",
          "text": [
            "Hello \n",
            "I am new line\n",
            "Without using n character\n",
            "I am new line\n"
          ]
        }
      ]
    },
    {
      "cell_type": "markdown",
      "source": [
        "6. What are the values of the given expressions?\n",
        "\n",
        "'Hello, world!'[1]->'e'\n",
        "\n",
        "'Hello, world!'[0:5]->'Hello'\n",
        "\n",
        "'Hello, world!'[:5]->'Hello'\n",
        "\n",
        "'Hello, world!'[3:]->'lo, world!'\n"
      ],
      "metadata": {
        "id": "L3B-z-9tOwe5"
      }
    },
    {
      "cell_type": "code",
      "source": [
        "print('Hello, world!'[1])\n",
        "print('Hello, world!'[0:5])\n",
        "print('Hello, world!'[:5])\n",
        "print('Hello, world!'[3:])"
      ],
      "metadata": {
        "colab": {
          "base_uri": "https://localhost:8080/"
        },
        "id": "zi7jZo04N37A",
        "outputId": "59c2e621-a001-47cb-cacc-e97045d7adb8"
      },
      "execution_count": 26,
      "outputs": [
        {
          "output_type": "stream",
          "name": "stdout",
          "text": [
            "e\n",
            "Hello\n",
            "Hello\n",
            "lo, world!\n"
          ]
        }
      ]
    },
    {
      "cell_type": "markdown",
      "source": [
        "7. What are the values of the following expressions?\n",
        "\n",
        "'Hello'.upper()->Hello\n",
        "'Hello'.upper().isupper()->True\n",
        "'Hello'.upper().lower()->hello"
      ],
      "metadata": {
        "id": "pOzZQX4kPv0I"
      }
    },
    {
      "cell_type": "code",
      "source": [
        "print('Hello'.upper())\n",
        "print('Hello'.upper().isupper())\n",
        "print('Hello'.upper().lower())"
      ],
      "metadata": {
        "colab": {
          "base_uri": "https://localhost:8080/"
        },
        "id": "CkEa310zO2tH",
        "outputId": "6064af48-473a-4d07-ace4-5f0887f83a40"
      },
      "execution_count": 28,
      "outputs": [
        {
          "output_type": "stream",
          "name": "stdout",
          "text": [
            "HELLO\n",
            "True\n",
            "hello\n"
          ]
        }
      ]
    },
    {
      "cell_type": "markdown",
      "source": [
        "8. What are the values of the following expressions?\n",
        "\n",
        "'Remember, remember, the fifth of July.'.split()->['Remember,', 'remember,', 'the', 'fifth', 'of', 'July.']\n",
        "\n",
        "'-'.join('There can only one.'.split())-> There-can-only-one."
      ],
      "metadata": {
        "id": "QDy2ayhsQLi7"
      }
    },
    {
      "cell_type": "code",
      "source": [
        "print('Remember, remember, the fifth of July.'.split())\n",
        "print('-'.join('There can only one.'.split()))"
      ],
      "metadata": {
        "colab": {
          "base_uri": "https://localhost:8080/"
        },
        "id": "SAyACcYRPJ_9",
        "outputId": "55d57e1e-8dd7-48ca-f4d8-3267e0bf4a41"
      },
      "execution_count": 32,
      "outputs": [
        {
          "output_type": "stream",
          "name": "stdout",
          "text": [
            "['Remember,', 'remember,', 'the', 'fifth', 'of', 'July.']\n",
            "There-can-only-one.\n"
          ]
        }
      ]
    },
    {
      "cell_type": "markdown",
      "source": [
        "9. What are the methods for right-justifying, left-justifying, and centering a string?\n",
        "\n",
        "Ans-ljust(),rjust(), center()\n"
      ],
      "metadata": {
        "id": "sJpaFNZHRFiQ"
      }
    },
    {
      "cell_type": "code",
      "source": [
        "print(\"Hello Ineuron\".center(50,'X'))\n",
        "print(\"Writing in Left with Left-Justify\".ljust(50,'-'))\n",
        "print(\"Good to Write with Right-Justify\".rjust(50,'-'))"
      ],
      "metadata": {
        "colab": {
          "base_uri": "https://localhost:8080/"
        },
        "id": "MFKILVzzQhAY",
        "outputId": "ec74c893-7748-49a5-b3dc-086a2c727f0f"
      },
      "execution_count": 41,
      "outputs": [
        {
          "output_type": "stream",
          "name": "stdout",
          "text": [
            "XXXXXXXXXXXXXXXXXXHello IneuronXXXXXXXXXXXXXXXXXXX\n",
            "Writing in Left with Left-Justify-----------------\n",
            "------------------Good to Write with Right-Justify\n"
          ]
        }
      ]
    },
    {
      "cell_type": "markdown",
      "source": [
        "10. What is the best way to remove whitespace characters from the start or end?\n",
        "\n",
        "Ans-Using lstrip() and rstrip()\n"
      ],
      "metadata": {
        "id": "a55aGil-TfoR"
      }
    },
    {
      "cell_type": "code",
      "source": [
        "print(\"   Removed left whitespace     \".lstrip())\n",
        "print(\"   Removed right whitespace     \".rstrip())"
      ],
      "metadata": {
        "colab": {
          "base_uri": "https://localhost:8080/"
        },
        "id": "FGx89jtrSRWY",
        "outputId": "15ab9302-c7aa-4087-a035-d3cb67aa7758"
      },
      "execution_count": 45,
      "outputs": [
        {
          "output_type": "stream",
          "name": "stdout",
          "text": [
            "Removed left whitespace     \n",
            "   Removed right whitespace\n"
          ]
        }
      ]
    }
  ]
}