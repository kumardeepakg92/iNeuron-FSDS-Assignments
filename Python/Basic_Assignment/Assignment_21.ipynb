{
 "cells": [
  {
   "cell_type": "markdown",
   "id": "c300e2c3",
   "metadata": {},
   "source": [
    "1. Add the current date to the text file today.txt as a string."
   ]
  },
  {
   "cell_type": "code",
   "execution_count": 6,
   "id": "3c8c80fe",
   "metadata": {},
   "outputs": [],
   "source": [
    "from datetime import date\n",
    "today=date.today()\n",
    "f=open('today.txt','w')\n",
    "f.write(str(today))\n",
    "f.close()"
   ]
  },
  {
   "cell_type": "markdown",
   "id": "3005c892",
   "metadata": {},
   "source": [
    "2. Read the text file today.txt into the string today_string"
   ]
  },
  {
   "cell_type": "code",
   "execution_count": 7,
   "id": "146f1b88",
   "metadata": {},
   "outputs": [
    {
     "data": {
      "text/plain": [
       "'2022-08-13'"
      ]
     },
     "execution_count": 7,
     "metadata": {},
     "output_type": "execute_result"
    }
   ],
   "source": [
    "f=open('today.txt','r')\n",
    "today_string=f.read()\n",
    "f.close()\n",
    "today_string"
   ]
  },
  {
   "cell_type": "markdown",
   "id": "459d125f",
   "metadata": {},
   "source": [
    "3. Parse the date from today_string."
   ]
  },
  {
   "cell_type": "code",
   "execution_count": 13,
   "id": "9c575c69",
   "metadata": {},
   "outputs": [
    {
     "data": {
      "text/plain": [
       "'13'"
      ]
     },
     "execution_count": 13,
     "metadata": {},
     "output_type": "execute_result"
    }
   ],
   "source": [
    "today_date=today_string.split('-')\n",
    "today_date[-1]"
   ]
  },
  {
   "cell_type": "markdown",
   "id": "5795b962",
   "metadata": {},
   "source": [
    "4. List the files in your current directory"
   ]
  },
  {
   "cell_type": "code",
   "execution_count": 30,
   "id": "e2852680",
   "metadata": {},
   "outputs": [
    {
     "name": "stdout",
     "output_type": "stream",
     "text": [
      "30072022_AH02830700072957837_RLS - Copy (3).pdf\n",
      "30072022_AH02830700072957837_RLS - Copy.pdf\n",
      "30072022_AH02830700072957837_RLS.pdf\n",
      "Assignment_12.pdf\n",
      "demo.docx\n",
      "desktop.ini\n",
      "medical_1.pdf\n",
      "New Text Document.txt\n",
      "PaySlip_APRIL.pdf\n",
      "WIN_20220731_12_50_33_Pro - Copy.jpg\n",
      "WIN_20220731_12_50_33_Pro.jpg\n",
      "WIN_20220731_12_50_36_Pro - Copy.jpg\n",
      "WIN_20220731_12_50_36_Pro.jpg\n"
     ]
    }
   ],
   "source": [
    "import os\n",
    "for folder, subfolder, files in os.walk(os.getcwd()):\n",
    "    for files in files:\n",
    "        print(files)"
   ]
  },
  {
   "cell_type": "markdown",
   "id": "457ca2ba",
   "metadata": {},
   "source": [
    "5. Create a list of all of the files in your parent directory (minimum five files should be available)."
   ]
  },
  {
   "cell_type": "code",
   "execution_count": 32,
   "id": "843c9246",
   "metadata": {},
   "outputs": [
    {
     "data": {
      "text/plain": [
       "'C:\\\\Users\\\\dpkjs\\\\Documents\\\\ineuron\\\\Python'"
      ]
     },
     "execution_count": 32,
     "metadata": {},
     "output_type": "execute_result"
    }
   ],
   "source": [
    "os.chdir('../')\n",
    "os.getcwd()"
   ]
  },
  {
   "cell_type": "code",
   "execution_count": 22,
   "id": "a75abcd7",
   "metadata": {},
   "outputs": [
    {
     "data": {
      "text/plain": [
       "['.ipynb_checkpoints',\n",
       " 'abc.txt',\n",
       " 'abc_shutilcopy.txt',\n",
       " 'Assignment_10.ipynb',\n",
       " 'Assignment_11.ipynb',\n",
       " 'Assignment_12.ipynb',\n",
       " 'Assignment_13.ipynb',\n",
       " 'Assignment_14.ipynb',\n",
       " 'Assignment_15.ipynb',\n",
       " 'Assignment_16.ipynb',\n",
       " 'Assignment_17.ipynb',\n",
       " 'Assignment_18.ipynb',\n",
       " 'Assignment_19.ipynb',\n",
       " 'Assignment_20.ipynb',\n",
       " 'Assignment_21.ipynb',\n",
       " 'Assignment_22.ipynb',\n",
       " 'Assignment_9.ipynb',\n",
       " 'Attribute DataSet.xlsx',\n",
       " 'book.csv',\n",
       " 'Dress Sales.xlsx',\n",
       " 'haberman.csv',\n",
       " 'haberman.names',\n",
       " 'haberman1.csv',\n",
       " 'log.txt',\n",
       " 'logging',\n",
       " 'mongodb1',\n",
       " 'mongodb2',\n",
       " 'mongotest',\n",
       " 'msql_p',\n",
       " 'mysql',\n",
       " 'my_photo.JPG',\n",
       " 'new',\n",
       " 'new_copy',\n",
       " 'numpy.ipynb',\n",
       " 'Online Retail (1).xlsx',\n",
       " 'Online Retail.xlsx',\n",
       " 'online_retail_II (1).xlsx',\n",
       " 'oops1',\n",
       " 'oops2',\n",
       " 'pandas',\n",
       " 'pandas.ipynb',\n",
       " 'pollution.csv',\n",
       " 'pollution.names',\n",
       " 'pycharm_practice',\n",
       " 'pythonProject1',\n",
       " 'shutilcopy',\n",
       " 'shutilcopy.zip',\n",
       " 'shutilcopy_tree',\n",
       " 'test.txt',\n",
       " 'testgitpush',\n",
       " 'today.txt',\n",
       " 'Untitled.ipynb',\n",
       " 'Untitled1.ipynb',\n",
       " 'Untitled2.ipynb',\n",
       " 'Untitled3.ipynb',\n",
       " 'Untitled4.ipynb',\n",
       " 'Untitled5.ipynb',\n",
       " 'Untitled6.ipynb',\n",
       " 'URL Table.txt',\n",
       " 'zoo.py',\n",
       " 'zoo1.py',\n",
       " '__pycache__']"
      ]
     },
     "execution_count": 22,
     "metadata": {},
     "output_type": "execute_result"
    }
   ],
   "source": [
    "import os\n",
    "files=os.listdir()\n",
    "files"
   ]
  },
  {
   "cell_type": "markdown",
   "id": "b2e35b7f",
   "metadata": {},
   "source": [
    "6. Use multiprocessing to create three separate processes. Make each one wait a random number of seconds between one and five, print the current time, and then exit."
   ]
  },
  {
   "cell_type": "code",
   "execution_count": 69,
   "id": "b8f4b66c",
   "metadata": {},
   "outputs": [
    {
     "name": "stdout",
     "output_type": "stream",
     "text": [
      "2022-08-14 08:20:51.279281\n",
      "2022-08-14 08:20:55.284676\n",
      "2022-08-14 08:20:55.284866\n",
      "2022-08-14 08:20:58.295600\n",
      "2022-08-14 08:20:58.295890\n",
      "2022-08-14 08:21:00.308329\n"
     ]
    }
   ],
   "source": [
    "import multiprocessing\n",
    "import datetime\n",
    "import random\n",
    "import time\n",
    "\n",
    "def func1():\n",
    "    now=datetime.datetime.now()\n",
    "    print(str(now))\n",
    "    time.sleep(random.randint(1,5))\n",
    "    now=datetime.datetime.now()\n",
    "    print(str(now))\n",
    "def func2():\n",
    "    now=datetime.datetime.now()\n",
    "    print(str(now))\n",
    "    time.sleep(random.randint(1,5))\n",
    "    now=datetime.datetime.now()\n",
    "    print(str(now))\n",
    "def func3():\n",
    "    now=datetime.datetime.now()\n",
    "    print(str(now))\n",
    "    time.sleep(random.randint(1,5))\n",
    "    now=datetime.datetime.now()\n",
    "    print(str(now))\n",
    "if __name__== \"__main__\":\n",
    "    p1=multiprocessing.Process(target=func1)\n",
    "    p2=multiprocessing.Process(target=func2)\n",
    "    p3=multiprocessing.Process(target=func3)\n",
    "    p1.start()\n",
    "    p2.start()\n",
    "    p3.start()\n",
    "    \n",
    "    p1.join()\n",
    "    p2.join()\n",
    "    p3.join()"
   ]
  },
  {
   "cell_type": "markdown",
   "id": "813a11e8",
   "metadata": {},
   "source": [
    "7. Create a date object of your day of birth."
   ]
  },
  {
   "cell_type": "code",
   "execution_count": 74,
   "id": "bb31c020",
   "metadata": {},
   "outputs": [
    {
     "data": {
      "text/plain": [
       "'1992-01-11'"
      ]
     },
     "execution_count": 74,
     "metadata": {},
     "output_type": "execute_result"
    }
   ],
   "source": [
    "dob=datetime.date(1992,1,11)\n",
    "str(dob)"
   ]
  },
  {
   "cell_type": "markdown",
   "id": "f39cc276",
   "metadata": {},
   "source": [
    "8. What day of the week was your day of birth?"
   ]
  },
  {
   "cell_type": "code",
   "execution_count": 81,
   "id": "ada2cc3d",
   "metadata": {},
   "outputs": [
    {
     "name": "stdout",
     "output_type": "stream",
     "text": [
      "Day was Saturday\n"
     ]
    }
   ],
   "source": [
    "day=datetime.date(1992,1,11)\n",
    "print(\"Day was \"+day.strftime('%A'))"
   ]
  },
  {
   "cell_type": "markdown",
   "id": "cc7009fb",
   "metadata": {},
   "source": [
    "9. When will you be (or when were you) 10,000 days old?"
   ]
  },
  {
   "cell_type": "code",
   "execution_count": 90,
   "id": "02872a8b",
   "metadata": {},
   "outputs": [
    {
     "data": {
      "text/plain": [
       "datetime.datetime(2019, 5, 29, 0, 0)"
      ]
     },
     "execution_count": 90,
     "metadata": {},
     "output_type": "execute_result"
    }
   ],
   "source": [
    "from datetime import timedelta\n",
    "\n",
    "Begindate = datetime.strptime(\"1992-01-11\", \"%Y-%m-%d\")\n",
    "\n",
    "Enddate = Begindate + timedelta(days=10000)\n",
    "Enddate"
   ]
  }
 ],
 "metadata": {
  "kernelspec": {
   "display_name": "Python 3 (ipykernel)",
   "language": "python",
   "name": "python3"
  },
  "language_info": {
   "codemirror_mode": {
    "name": "ipython",
    "version": 3
   },
   "file_extension": ".py",
   "mimetype": "text/x-python",
   "name": "python",
   "nbconvert_exporter": "python",
   "pygments_lexer": "ipython3",
   "version": "3.9.12"
  }
 },
 "nbformat": 4,
 "nbformat_minor": 5
}
