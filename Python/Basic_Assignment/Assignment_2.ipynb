{
 "cells": [
  {
   "cell_type": "markdown",
   "id": "912e6817",
   "metadata": {},
   "source": [
    "1.What are the two values of the Boolean data type? How do you write them?\n",
    "Ans:-Boolean data type hold two value True and False. We write first letter in capital and rest all are in small letter.\n",
    "Ex:- True, False"
   ]
  },
  {
   "cell_type": "markdown",
   "id": "0dfbacba",
   "metadata": {},
   "source": [
    "2. What are the three different types of Boolean operators?\n",
    "Ans:- and, or and not"
   ]
  },
  {
   "attachments": {},
   "cell_type": "markdown",
   "id": "34dd004d",
   "metadata": {},
   "source": [
    "3. Make a list of each Boolean operator's truth tables (i.e. every possible combination of Boolean values for the operator and what it evaluate ).\n",
    "Ans:- \n",
    " A         B\tA and B\tA or B\tnot A\n",
    "TRUE\tTRUE\tTRUE\tTRUE\tFALSE\n",
    "FALSE\tTRUE\tFALSE\tTRUE\tTRUE\n",
    "TRUE\tFALSE\tFALSE\tTRUE\tFALSE\n",
    "FALSE\tFALSE\tFALSE\tFALSE\tTRUE\n"
   ]
  },
  {
   "cell_type": "markdown",
   "id": "3e1e16a3",
   "metadata": {},
   "source": [
    "4. What are the values of the following expressions?\n",
    "(5 > 4) and (3 == 5) :- False\n",
    "not (5 > 4) :- False\n",
    "(5 > 4) or (3 == 5) :- True\n",
    "not ((5 > 4) or (3 == 5)) :- False\n",
    "(True and True) and (True == False) :- False\n",
    "(not False) or (not True) :- True"
   ]
  },
  {
   "attachments": {},
   "cell_type": "markdown",
   "id": "2841ad49",
   "metadata": {},
   "source": [
    "5. What are the six comparison operators?\n",
    "Ans:- \n",
    "Operator\tName\n",
    "==\t      Equal\n",
    "!=\t      Not equal\n",
    ">\t      Greater than\n",
    "<\t      Less than\n",
    ">=\t      Greater than or equal to\n",
    "<=\t      Less than or equal to"
   ]
  },
  {
   "cell_type": "markdown",
   "id": "80ebb394",
   "metadata": {},
   "source": [
    "6. How do you tell the difference between the equal to and assignment operators? Describe a condition and when you would use one.\n",
    "Ans:- The assignment operator used one equal to symbol(=), if we are writting (==), it means this is relational operator, it gives output as True or False"
   ]
  },
  {
   "cell_type": "code",
   "execution_count": 17,
   "id": "f099ffdb",
   "metadata": {},
   "outputs": [
    {
     "name": "stdout",
     "output_type": "stream",
     "text": [
      "10\n"
     ]
    }
   ],
   "source": [
    "a=10\n",
    "if a==10:\n",
    "    print(a)"
   ]
  },
  {
   "cell_type": "markdown",
   "id": "af82a249",
   "metadata": {},
   "source": [
    "7. Identify the three blocks in this code:\n",
    "spam = 0\n",
    "if spam == 10:\n",
    "print('eggs')\n",
    "if spam &gt; 5:\n",
    "print('bacon')\n",
    "else:\n",
    "print('ham')\n",
    "print('spam')\n",
    "print('spam')"
   ]
  },
  {
   "cell_type": "code",
   "execution_count": 16,
   "id": "04943985",
   "metadata": {},
   "outputs": [
    {
     "name": "stdout",
     "output_type": "stream",
     "text": [
      "ham\n",
      "spam\n",
      "spam\n"
     ]
    }
   ],
   "source": [
    "spam = 0\n",
    "if spam == 10:\n",
    "    print('eggs')\n",
    "if spam > 5:\n",
    "    print('bacon')\n",
    "else:\n",
    "    print('ham')\n",
    "print('spam')\n",
    "print('spam')"
   ]
  },
  {
   "cell_type": "markdown",
   "id": "bd25ef09",
   "metadata": {},
   "source": [
    "8. Write code that prints Hello if 1 is stored in spam, prints Howdy if 2 is stored in spam, and prints Greetings! if anything else is stored in spam."
   ]
  },
  {
   "cell_type": "code",
   "execution_count": 24,
   "id": "44bdf691",
   "metadata": {},
   "outputs": [
    {
     "name": "stdout",
     "output_type": "stream",
     "text": [
      "Greetings!\n"
     ]
    }
   ],
   "source": [
    "spam=3\n",
    "if spam ==1:\n",
    "    print(\"Hello\")\n",
    "elif spam ==2:\n",
    "    print(\"Howdy\")\n",
    "else:\n",
    "    print(\"Greetings!\")"
   ]
  },
  {
   "cell_type": "markdown",
   "id": "e1d9bef9",
   "metadata": {},
   "source": [
    "9.If your programme is stuck in an endless loop, what keys you’ll press?\n",
    "Ans:- Ctrl + C or Kernal-> Interrupt"
   ]
  },
  {
   "cell_type": "markdown",
   "id": "92f105ef",
   "metadata": {},
   "source": [
    "10. How can you tell the difference between break and continue?\n",
    "Ans:- break statement is used whenever our loop is required to stop or terminate from running loop.\n",
    "Continue statement skip the code execution after it and control pass to next iteration in loop to execute."
   ]
  },
  {
   "cell_type": "markdown",
   "id": "4ba9171d",
   "metadata": {},
   "source": [
    "11. In a for loop, what is the difference between range(10), range(0, 10), and range(0, 10, 1)?\n",
    "Ans:- range(10):- It will itterate up to 10 times. \n",
    "      range(0,10):- It will itterate up to 10 times. start from 0 to 9.\n",
    "      range(0, 10, 1):- It will itterate up to 10 times. start from 0 to 9 and increment by 1."
   ]
  },
  {
   "cell_type": "markdown",
   "id": "9673a833",
   "metadata": {},
   "source": [
    "12. Write a short program that prints the numbers 1 to 10 using a for loop. Then write an equivalent program that prints the numbers 1 to 10 using a while loop."
   ]
  },
  {
   "cell_type": "code",
   "execution_count": 40,
   "id": "d3c80272",
   "metadata": {},
   "outputs": [
    {
     "name": "stdout",
     "output_type": "stream",
     "text": [
      "1\n",
      "2\n",
      "3\n",
      "4\n",
      "5\n",
      "6\n",
      "7\n",
      "8\n",
      "9\n",
      "10\n"
     ]
    }
   ],
   "source": [
    "for i in range(10):\n",
    "    print(i+1)"
   ]
  },
  {
   "cell_type": "code",
   "execution_count": 47,
   "id": "fe0bad57",
   "metadata": {},
   "outputs": [
    {
     "name": "stdout",
     "output_type": "stream",
     "text": [
      "1\n",
      "2\n",
      "3\n",
      "4\n",
      "5\n",
      "6\n",
      "7\n",
      "8\n",
      "9\n",
      "10\n"
     ]
    }
   ],
   "source": [
    "j=1\n",
    "while j < 11:\n",
    "    print(j)\n",
    "    j+=1"
   ]
  },
  {
   "cell_type": "markdown",
   "id": "8076ed4c",
   "metadata": {},
   "source": [
    "13. If you had a function named bacon() inside a module named spam, how would you call it after importing spam?\n",
    "Ans:- spam.bacon()"
   ]
  }
 ],
 "metadata": {
  "kernelspec": {
   "display_name": "Python 3 (ipykernel)",
   "language": "python",
   "name": "python3"
  },
  "language_info": {
   "codemirror_mode": {
    "name": "ipython",
    "version": 3
   },
   "file_extension": ".py",
   "mimetype": "text/x-python",
   "name": "python",
   "nbconvert_exporter": "python",
   "pygments_lexer": "ipython3",
   "version": "3.9.12"
  }
 },
 "nbformat": 4,
 "nbformat_minor": 5
}
