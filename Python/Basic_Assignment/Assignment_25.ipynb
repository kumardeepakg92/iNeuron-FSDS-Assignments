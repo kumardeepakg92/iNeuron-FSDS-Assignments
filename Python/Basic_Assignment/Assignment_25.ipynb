{
 "cells": [
  {
   "cell_type": "markdown",
   "id": "85e2cf4f",
   "metadata": {},
   "source": [
    "1) . What is the difference between enclosing a list comprehension in square brackets and parentheses?\n",
    "\n",
    "Ans-\n",
    "\n",
    "List Comprehension in square brackets, this method give result in list. While list comprehension in parentheses will give result as generator object."
   ]
  },
  {
   "cell_type": "code",
   "execution_count": 5,
   "id": "2865474f",
   "metadata": {},
   "outputs": [
    {
     "name": "stdout",
     "output_type": "stream",
     "text": [
      "[0, 1, 2, 3, 4]\n",
      "<generator object <genexpr> at 0x0000021D6196FD60>\n"
     ]
    }
   ],
   "source": [
    "given_list = [x for x in range(5)]\n",
    "print(given_list)\n",
    "\n",
    "new_list = (var+3 for var in given_list)\n",
    "\n",
    "print(new_list)"
   ]
  },
  {
   "cell_type": "markdown",
   "id": "3cc0c227",
   "metadata": {},
   "source": [
    "2) What is the relationship between generators and iterators?\n",
    "\n",
    "A python generator is an iterator. Generator in python is a subclass of Iterator.\n",
    "\n",
    "Comparison Between Python Generator vs Iterator\n",
    "\n",
    "1. In creating a python generator, we use a function. But in creating an iterator in python, we use the iter() and next() functions.\n",
    "2. A generator in python makes use of the ‘yield’ keyword. A python iterator doesn’t.\n",
    "3. Python generator saves the states of the local variables every time ‘yield’ pauses the loop in python. An iterator does not make use of local variables, all it needs is iterable to iterate on.\n",
    "4. A generator may have any number of ‘yield’ statements.\n",
    "5. You can implement your own iterator using a python class; a generator does not need a class in python.\n",
    "6. To write a python generator, you can either use a Python function or a comprehension. But for an iterator, you must use the iter() and next() functions.\n",
    "7. Generator in python let us write fast and compact code. This is an advantage over Python iterators. They are also simpler to code than do custom iterator.\n",
    "8. Python iterator is more memory-efficient. "
   ]
  },
  {
   "cell_type": "markdown",
   "id": "d869afcb",
   "metadata": {},
   "source": [
    "3) What are the signs that a function is a generator function?\n",
    "\n",
    "Ans- If the body of a def contains yield, the function automatically becomes a generator function."
   ]
  },
  {
   "cell_type": "markdown",
   "id": "0dde1f58",
   "metadata": {},
   "source": [
    "4) What is the purpose of a yield statement?\n",
    "\n",
    "Ans- It acts as return in function but it will pause the loop in python."
   ]
  },
  {
   "cell_type": "markdown",
   "id": "8e77eee2",
   "metadata": {},
   "source": [
    "5) What is the relationship between map calls and list comprehensions? Make a comparison and contrast between the two."
   ]
  },
  {
   "cell_type": "markdown",
   "id": "7814f22c",
   "metadata": {},
   "source": [
    "Map VS List Comprehension\n",
    "1. List comprehension is more concise and easier to read as compared to map.\n",
    "2. List comprehension allows filtering. In map, we have no such facility. For example, to print all even numbers in range of 100, we can write [n for n in range(100) if n%2 == 0]. There is no alternate for it in map\n",
    "3. List comprehension are used when a list of results is required as map only returns a map object and does not return any list.\n",
    "4. List comprehension is faster than map when we need to evaluate expressions that are too long or complicated to express\n",
    "5. Map is faster in case of calling an already defined function (as no lambda is required)."
   ]
  },
  {
   "cell_type": "code",
   "execution_count": null,
   "id": "d8cfd083",
   "metadata": {},
   "outputs": [],
   "source": []
  }
 ],
 "metadata": {
  "kernelspec": {
   "display_name": "Python 3 (ipykernel)",
   "language": "python",
   "name": "python3"
  },
  "language_info": {
   "codemirror_mode": {
    "name": "ipython",
    "version": 3
   },
   "file_extension": ".py",
   "mimetype": "text/x-python",
   "name": "python",
   "nbconvert_exporter": "python",
   "pygments_lexer": "ipython3",
   "version": "3.9.12"
  }
 },
 "nbformat": 4,
 "nbformat_minor": 5
}
