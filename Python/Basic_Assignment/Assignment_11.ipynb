{
 "cells": [
  {
   "cell_type": "markdown",
   "id": "8957ec8b",
   "metadata": {},
   "source": [
    "1. Create an assert statement that throws an AssertionError if the variable spam is a negative integer."
   ]
  },
  {
   "cell_type": "code",
   "execution_count": 1,
   "id": "38aa901b",
   "metadata": {},
   "outputs": [
    {
     "ename": "AssertionError",
     "evalue": "",
     "output_type": "error",
     "traceback": [
      "\u001b[1;31m---------------------------------------------------------------------------\u001b[0m",
      "\u001b[1;31mAssertionError\u001b[0m                            Traceback (most recent call last)",
      "Input \u001b[1;32mIn [1]\u001b[0m, in \u001b[0;36m<cell line: 2>\u001b[1;34m()\u001b[0m\n\u001b[0;32m      1\u001b[0m spam\u001b[38;5;241m=\u001b[39m\u001b[38;5;241m-\u001b[39m\u001b[38;5;241m2\u001b[39m\n\u001b[1;32m----> 2\u001b[0m \u001b[38;5;28;01massert\u001b[39;00m spam \u001b[38;5;241m>\u001b[39m\u001b[38;5;241m0\u001b[39m\n",
      "\u001b[1;31mAssertionError\u001b[0m: "
     ]
    }
   ],
   "source": [
    "spam=-2\n",
    "assert spam >0"
   ]
  },
  {
   "cell_type": "markdown",
   "id": "c0debd83",
   "metadata": {},
   "source": [
    "2. Write an assert statement that triggers an AssertionError if the variables eggs and bacon contain strings that are the same as each other, even if their cases are different (that is, 'hello' and 'hello' are considered the same, and 'goodbye' and 'GOODbye' are also considered the same)."
   ]
  },
  {
   "cell_type": "code",
   "execution_count": 11,
   "id": "710b83ca",
   "metadata": {},
   "outputs": [
    {
     "ename": "AssertionError",
     "evalue": "",
     "output_type": "error",
     "traceback": [
      "\u001b[1;31m---------------------------------------------------------------------------\u001b[0m",
      "\u001b[1;31mAssertionError\u001b[0m                            Traceback (most recent call last)",
      "Input \u001b[1;32mIn [11]\u001b[0m, in \u001b[0;36m<cell line: 3>\u001b[1;34m()\u001b[0m\n\u001b[0;32m      1\u001b[0m eggs\u001b[38;5;241m=\u001b[39m\u001b[38;5;124m'\u001b[39m\u001b[38;5;124mgoodbye\u001b[39m\u001b[38;5;124m'\u001b[39m\u001b[38;5;241m.\u001b[39mlower()\n\u001b[0;32m      2\u001b[0m bacon\u001b[38;5;241m=\u001b[39m\u001b[38;5;124m'\u001b[39m\u001b[38;5;124mGOODbye\u001b[39m\u001b[38;5;124m'\u001b[39m\u001b[38;5;241m.\u001b[39mlower()\n\u001b[1;32m----> 3\u001b[0m \u001b[38;5;28;01massert\u001b[39;00m eggs\u001b[38;5;241m!=\u001b[39mbacon\n",
      "\u001b[1;31mAssertionError\u001b[0m: "
     ]
    }
   ],
   "source": [
    "eggs='goodbye'.lower()\n",
    "bacon='GOODbye'.lower()\n",
    "assert eggs!=bacon"
   ]
  },
  {
   "cell_type": "markdown",
   "id": "58c3b397",
   "metadata": {},
   "source": [
    "3. Create an assert statement that throws an AssertionError every time."
   ]
  },
  {
   "cell_type": "code",
   "execution_count": 15,
   "id": "4dcb4ffb",
   "metadata": {},
   "outputs": [
    {
     "ename": "AssertionError",
     "evalue": "",
     "output_type": "error",
     "traceback": [
      "\u001b[1;31m---------------------------------------------------------------------------\u001b[0m",
      "\u001b[1;31mAssertionError\u001b[0m                            Traceback (most recent call last)",
      "Input \u001b[1;32mIn [15]\u001b[0m, in \u001b[0;36m<cell line: 1>\u001b[1;34m()\u001b[0m\n\u001b[1;32m----> 1\u001b[0m \u001b[38;5;28;01massert\u001b[39;00m \u001b[38;5;241m1\u001b[39m\u001b[38;5;241m>\u001b[39m\u001b[38;5;241m2\u001b[39m\n",
      "\u001b[1;31mAssertionError\u001b[0m: "
     ]
    }
   ],
   "source": [
    "assert 1>2"
   ]
  },
  {
   "cell_type": "markdown",
   "id": "cf439b1c",
   "metadata": {},
   "source": [
    "4. What are the two lines that must be present in your software in order to call logging.debug()?\n",
    "\n",
    "Ans-logg.basicConfig & logging.debug"
   ]
  },
  {
   "cell_type": "code",
   "execution_count": 8,
   "id": "e9f87cee",
   "metadata": {},
   "outputs": [],
   "source": [
    "import logging\n",
    "logging.basicConfig(filename='log.txt',level=logging.INFO)\n",
    "logging.info(\"This is test function\")"
   ]
  },
  {
   "cell_type": "markdown",
   "id": "974d6d8e",
   "metadata": {},
   "source": [
    "5. What are the two lines that your program must have in order to have logging.debug() send a logging message to a file named programLog.txt?\n",
    "\n",
    "logging.basicConfig(filename='programLog.txt',level=logging.debug)\n",
    "logging.info(\"This is test function\")"
   ]
  },
  {
   "cell_type": "markdown",
   "id": "a6a65567",
   "metadata": {},
   "source": [
    "6. What are the five levels of logging?\n",
    "\n",
    "Ans- DEBUG, INFO, WARNING, ERROR and CRITICAL"
   ]
  },
  {
   "cell_type": "markdown",
   "id": "1af5f90b",
   "metadata": {},
   "source": [
    "7. What line of code would you add to your software to disable all logging messages?\n",
    "\n",
    "Ans- logging.disable()"
   ]
  },
  {
   "cell_type": "code",
   "execution_count": 2,
   "id": "8b7f7531",
   "metadata": {},
   "outputs": [],
   "source": [
    "import logging\n",
    "logging.basicConfig(filename='log.txt',level=logging.INFO)\n",
    "logging.error(\"Error\")\n",
    "logging.disable()\n",
    "logging.info(\"Test\")"
   ]
  },
  {
   "cell_type": "markdown",
   "id": "30db37ad",
   "metadata": {},
   "source": [
    "8.Why is using logging messages better than using print() to display the same message?\n",
    "\n",
    "Ans-Because whenever we are developing any project, we want to see step by step our code is working correctly or not, we want to know which which line of file or function at which time error occured.\n",
    "\n",
    "If our code is imported in multiple other python file. Its not possible to print something using print or user is not aware also hence its better to write in logger file."
   ]
  },
  {
   "cell_type": "markdown",
   "id": "53193311",
   "metadata": {},
   "source": [
    "9. What are the differences between the Step Over, Step In, and Step Out buttons in the debugger?\n",
    "\n",
    "Ans-Step in-It means that if there is any function call, it goes inside the function and we can see how function is executing line by line up to return. it will go back to next line after function call.\n",
    "\n",
    "Step over-if there is a function call, it just execute function we can't see inside the function and return result.\n",
    "\n",
    "Step out-we can skip how function execute If we have step-in in a function."
   ]
  },
  {
   "cell_type": "markdown",
   "id": "c6b62550",
   "metadata": {},
   "source": [
    "10.After you click Continue, when will the debugger stop ?\n",
    "\n",
    "Ans-Continue execution, only stop when a breakpoint is encountered."
   ]
  },
  {
   "cell_type": "code",
   "execution_count": 3,
   "id": "ef113e11",
   "metadata": {},
   "outputs": [],
   "source": [
    "import ipdb"
   ]
  },
  {
   "cell_type": "code",
   "execution_count": 4,
   "id": "acf7da47",
   "metadata": {},
   "outputs": [],
   "source": [
    "def testdebug():\n",
    "    ipdb.set_trace()\n",
    "    l=[]\n",
    "    for i in range(10):\n",
    "        l.append(i)\n",
    "        print(\"Append\")\n",
    "    return l"
   ]
  },
  {
   "cell_type": "code",
   "execution_count": 7,
   "id": "305b7836",
   "metadata": {},
   "outputs": [
    {
     "name": "stdout",
     "output_type": "stream",
     "text": [
      "> \u001b[1;32mc:\\users\\dpkjs\\appdata\\local\\temp\\ipykernel_46860\\544455693.py\u001b[0m(3)\u001b[0;36mtestdebug\u001b[1;34m()\u001b[0m\n",
      "\n",
      "ipdb> help continue\n",
      "c(ont(inue))\n",
      "        Continue execution, only stop when a breakpoint is encountered.\n",
      "ipdb> c\n",
      "Append\n",
      "Append\n",
      "Append\n",
      "Append\n",
      "Append\n",
      "Append\n",
      "Append\n",
      "Append\n",
      "Append\n",
      "Append\n"
     ]
    },
    {
     "data": {
      "text/plain": [
       "[0, 1, 2, 3, 4, 5, 6, 7, 8, 9]"
      ]
     },
     "execution_count": 7,
     "metadata": {},
     "output_type": "execute_result"
    }
   ],
   "source": [
    "testdebug()"
   ]
  },
  {
   "cell_type": "markdown",
   "id": "638bf7cc",
   "metadata": {},
   "source": [
    "11. What is the concept of a breakpoint?\n",
    "\n",
    "Ans-it is same as pdb.set_trace(). In the python 3.6 and above version breakpoint works. but 3.6 and below set_trace() available in pdb module.\n",
    "\n",
    "Debugger finds the bug in the code line by line where we add the breakpoint, if a bug is found then program stops temporarily then you can remove the error and start to execute the code again.\n",
    "\n",
    "c -> continue execution\n",
    "q -> quit the debugger/execution\n",
    "n -> step to next line within the same function\n",
    "s -> step to next line in this function or a called function\n",
    "\n",
    "\n",
    "Documented commands (type help):\n",
    "========================================\n",
    "EOF    c          d        h         list      q        rv       undisplay\n",
    "a      cl         debug    help      ll        quit     s        unt      \n",
    "alias  clear      disable  ignore    longlist  r        source   until    \n",
    "args   commands   display  interact  n         restart  step     up       \n",
    "b      condition  down     j         next      return   tbreak   w        \n",
    "break  cont       enable   jump      p         retval   u        whatis   \n",
    "bt     continue   exit     l         pp        run      unalias  where"
   ]
  },
  {
   "cell_type": "code",
   "execution_count": null,
   "id": "75482b99",
   "metadata": {},
   "outputs": [],
   "source": []
  }
 ],
 "metadata": {
  "kernelspec": {
   "display_name": "Python 3 (ipykernel)",
   "language": "python",
   "name": "python3"
  },
  "language_info": {
   "codemirror_mode": {
    "name": "ipython",
    "version": 3
   },
   "file_extension": ".py",
   "mimetype": "text/x-python",
   "name": "python",
   "nbconvert_exporter": "python",
   "pygments_lexer": "ipython3",
   "version": "3.9.12"
  }
 },
 "nbformat": 4,
 "nbformat_minor": 5
}
