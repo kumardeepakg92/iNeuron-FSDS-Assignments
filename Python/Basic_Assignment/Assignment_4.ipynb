{
 "cells": [
  {
   "cell_type": "markdown",
   "id": "fdceaa17",
   "metadata": {},
   "source": [
    "1. What exactly is []?\n",
    "\n",
    "Ans-\n",
    "To Declare empty list we just assign a variable with square bracket.\n",
    "\n",
    "2. In a list of values stored in a variable called spam, how would you assign the value 'hello'; as the\n",
    "third value? (Assume [2, 4, 6, 8, 10] are in spam.) Let's pretend the spam includes the list ['a','b','c','d'] for the next three queries.\n",
    "\n",
    "Ans-We can use insert function and pass parameter as index postion and value."
   ]
  },
  {
   "cell_type": "code",
   "execution_count": 129,
   "id": "da709c29",
   "metadata": {},
   "outputs": [
    {
     "data": {
      "text/plain": [
       "[2, 4, 'Hello', 6, 8, 10, ['a', 'b', 'c', 'd']]"
      ]
     },
     "execution_count": 129,
     "metadata": {},
     "output_type": "execute_result"
    }
   ],
   "source": [
    "spam=[2, 4, 6, 8, 10]\n",
    "spam.insert(2,\"Hello\")\n",
    "#spam.insert(\"Hello\",3)\n",
    "spam.append(['a','b','c','d'])\n",
    "spam"
   ]
  },
  {
   "cell_type": "markdown",
   "id": "38ad6ac4",
   "metadata": {},
   "source": [
    "3. What is the value of spam[int(int('3' * 2) / 11)]?\n",
    "\n",
    "Ans-3, string value '3' *2='33',int('33')=33,33/11=3,int(3)=3,spam[3]=6"
   ]
  },
  {
   "cell_type": "code",
   "execution_count": 130,
   "id": "b5a78e78",
   "metadata": {},
   "outputs": [
    {
     "data": {
      "text/plain": [
       "6"
      ]
     },
     "execution_count": 130,
     "metadata": {},
     "output_type": "execute_result"
    }
   ],
   "source": [
    "spam[int(int('3' * 2) / 11)]"
   ]
  },
  {
   "cell_type": "markdown",
   "id": "84079e42",
   "metadata": {},
   "source": [
    "4. What is the value of spam[-1]?\n",
    "\n",
    "Ans-It display last value of list."
   ]
  },
  {
   "cell_type": "code",
   "execution_count": 131,
   "id": "2e124d85",
   "metadata": {},
   "outputs": [
    {
     "data": {
      "text/plain": [
       "['a', 'b', 'c', 'd']"
      ]
     },
     "execution_count": 131,
     "metadata": {},
     "output_type": "execute_result"
    }
   ],
   "source": [
    "spam[-1]"
   ]
  },
  {
   "cell_type": "markdown",
   "id": "d60af026",
   "metadata": {},
   "source": [
    "5. What is the value of spam[:2]?\n",
    "\n",
    "Ans-It displays index 0 and 1 values."
   ]
  },
  {
   "cell_type": "code",
   "execution_count": 132,
   "id": "a57298c9",
   "metadata": {},
   "outputs": [
    {
     "data": {
      "text/plain": [
       "[2, 4]"
      ]
     },
     "execution_count": 132,
     "metadata": {},
     "output_type": "execute_result"
    }
   ],
   "source": [
    "spam[:2]"
   ]
  },
  {
   "cell_type": "markdown",
   "id": "78c08792",
   "metadata": {},
   "source": [
    "Let's pretend bacon has the list [3.14, 'cat,' 11, 'cat,' True] for the next three questions."
   ]
  },
  {
   "cell_type": "code",
   "execution_count": 133,
   "id": "f61828d1",
   "metadata": {},
   "outputs": [
    {
     "data": {
      "text/plain": [
       "[3.14, 'cat', 11, 'cat,', True]"
      ]
     },
     "execution_count": 133,
     "metadata": {},
     "output_type": "execute_result"
    }
   ],
   "source": [
    "bacon=[3.14, 'cat', 11, 'cat,',True] \n",
    "bacon"
   ]
  },
  {
   "cell_type": "markdown",
   "id": "edac59c5",
   "metadata": {},
   "source": [
    "6. What is the value of bacon.index('cat')?\n",
    "\n",
    "Ans-1"
   ]
  },
  {
   "cell_type": "code",
   "execution_count": 134,
   "id": "6f1259a7",
   "metadata": {},
   "outputs": [
    {
     "data": {
      "text/plain": [
       "1"
      ]
     },
     "execution_count": 134,
     "metadata": {},
     "output_type": "execute_result"
    }
   ],
   "source": [
    "bacon.index('cat')"
   ]
  },
  {
   "cell_type": "markdown",
   "id": "15ede3fc",
   "metadata": {},
   "source": [
    "7. How does bacon.append(99) change the look of the list value in bacon?\n",
    "\n",
    "Ans-Append will add value at last position. hence new list of bacon=[3.14, 'cat', 11, 'cat,', True, 99, 99]\n"
   ]
  },
  {
   "cell_type": "code",
   "execution_count": 135,
   "id": "cd593fe4",
   "metadata": {},
   "outputs": [
    {
     "data": {
      "text/plain": [
       "[3.14, 'cat', 11, 'cat,', True, 99]"
      ]
     },
     "execution_count": 135,
     "metadata": {},
     "output_type": "execute_result"
    }
   ],
   "source": [
    "bacon.append(99)\n",
    "bacon"
   ]
  },
  {
   "cell_type": "markdown",
   "id": "70b9f4f6",
   "metadata": {},
   "source": [
    "8. How does bacon.remove('cat') change the look of the list in bacon?\n",
    "\n",
    "Ans-remove function will start checking string matches from 0th position. Hence first string match at 1st position and remove it. Now the bacon=[3.14, 11, 'cat,', True, 99, 99, 99]"
   ]
  },
  {
   "cell_type": "code",
   "execution_count": 136,
   "id": "a61bb2aa",
   "metadata": {},
   "outputs": [
    {
     "data": {
      "text/plain": [
       "[3.14, 11, 'cat,', True, 99]"
      ]
     },
     "execution_count": 136,
     "metadata": {},
     "output_type": "execute_result"
    }
   ],
   "source": [
    "bacon.remove('cat')\n",
    "bacon"
   ]
  },
  {
   "cell_type": "markdown",
   "id": "937d524e",
   "metadata": {},
   "source": [
    "9. What are the list concatenation and list replication operators?\n",
    "Ans-we can use + operator between two list for concatenation hence new list will all value of first list and second list.\n",
    "Ex-spam +bacon=[2, 4, 'Hello', 6, 8, 10, ['a', 'b', 'c', 'd'], 3.14, 'cat', 11, 'cat,', True]\n",
    "\n",
    "In replication we use * operator and this will relicate same list whatever integer we give in right side. \n",
    "\n",
    "Ex-spam*2=[2, 4, 'Hello', 6, 8, 10, ['a', 'b', 'c', 'd'], 2, 4, 'Hello', 6, 8, 10, ['a', 'b', 'c', 'd']]\n"
   ]
  },
  {
   "cell_type": "code",
   "execution_count": 137,
   "id": "59fb4add",
   "metadata": {
    "scrolled": true
   },
   "outputs": [
    {
     "name": "stdout",
     "output_type": "stream",
     "text": [
      "[2, 4, 'Hello', 6, 8, 10, ['a', 'b', 'c', 'd'], 3.14, 11, 'cat,', True, 99]\n"
     ]
    },
    {
     "data": {
      "text/plain": [
       "[2,\n",
       " 4,\n",
       " 'Hello',\n",
       " 6,\n",
       " 8,\n",
       " 10,\n",
       " ['a', 'b', 'c', 'd'],\n",
       " 2,\n",
       " 4,\n",
       " 'Hello',\n",
       " 6,\n",
       " 8,\n",
       " 10,\n",
       " ['a', 'b', 'c', 'd']]"
      ]
     },
     "execution_count": 137,
     "metadata": {},
     "output_type": "execute_result"
    }
   ],
   "source": [
    "print(spam +bacon)\n",
    "spam*2"
   ]
  },
  {
   "cell_type": "markdown",
   "id": "57e4b6bd",
   "metadata": {},
   "source": [
    "10. What is difference between the list methods append() and insert()?\n",
    "\n",
    "Ans-append() method add value at last position in list.\n",
    "Ex-a=[1,2]\n",
    "a.append('deepak')\n",
    "print(a)\n",
    "\n",
    "insert() method insert value before index postion.\n",
    "a.insert(2,'kumar')\n",
    "print(a)"
   ]
  },
  {
   "cell_type": "code",
   "execution_count": 138,
   "id": "c9944883",
   "metadata": {},
   "outputs": [
    {
     "name": "stdout",
     "output_type": "stream",
     "text": [
      "Append method  [1, 2, 'deepak']\n",
      "Insert method [1, 2, 'kumar', 'deepak']\n"
     ]
    }
   ],
   "source": [
    "a=[1,2]\n",
    "a.append('deepak')\n",
    "print(\"Append method \",a)\n",
    "a.insert(2,'kumar')\n",
    "print(\"Insert method\",a)"
   ]
  },
  {
   "cell_type": "markdown",
   "id": "e2d5ec2b",
   "metadata": {},
   "source": [
    "11. What are the two methods for removing items from a list?\n",
    "\n",
    "Ans-There two method which can remove item from list.\n",
    "pop() method-It Remove and return item at index value in parameter by default last position.\n",
    "remove() method- It Remove first occurrence of value.\n",
    "\n",
    "Ex-ab=[1,2,3,4]\n",
    "print(\"Our list is \",ab)\n",
    "print(\"Output of pop method \",ab.pop(2))\n",
    "print(\"New list is \",ab)\n",
    "ab.remove(1)\n",
    "print(\"Output after reomve method \",ab)"
   ]
  },
  {
   "cell_type": "code",
   "execution_count": 139,
   "id": "b49b88d4",
   "metadata": {},
   "outputs": [
    {
     "name": "stdout",
     "output_type": "stream",
     "text": [
      "Our list is  [1, 2, 3, 4]\n",
      "Output of pop method  3\n",
      "New list is  [1, 2, 4]\n",
      "Output after reomve method  [2, 4]\n"
     ]
    }
   ],
   "source": [
    "ab=[1,2,3,4]\n",
    "print(\"Our list is \",ab)\n",
    "print(\"Output of pop method \",ab.pop(2))\n",
    "print(\"New list is \",ab)\n",
    "ab.remove(1)\n",
    "print(\"Output after reomve method \",ab)"
   ]
  },
  {
   "cell_type": "markdown",
   "id": "eb0ccd73",
   "metadata": {},
   "source": [
    "12. Describe how list values and string values are identical.\n",
    "\n",
    "Ans- Lists and strings are sequence. we can iterate both by element wise and character by in string. List are mutable and string are immutable. we can change any value in list but in string we can't change any character. List can stores value of different types but string only contains character of string."
   ]
  },
  {
   "cell_type": "markdown",
   "id": "391f4ed4",
   "metadata": {},
   "source": [
    "13. What's the difference between tuples and lists?\n",
    "\n",
    "Ans-List are mutable and tuples are immutable. we can change any value in list but in tuples we can't change any character. "
   ]
  },
  {
   "cell_type": "markdown",
   "id": "4054db40",
   "metadata": {},
   "source": [
    "14. How do you type a tuple value that only contains the integer 42?\n",
    "\n",
    "Ans-a=(42)\n"
   ]
  },
  {
   "cell_type": "code",
   "execution_count": 140,
   "id": "c72612a2",
   "metadata": {},
   "outputs": [
    {
     "data": {
      "text/plain": [
       "42"
      ]
     },
     "execution_count": 140,
     "metadata": {},
     "output_type": "execute_result"
    }
   ],
   "source": [
    "a=(42)\n",
    "a"
   ]
  },
  {
   "cell_type": "markdown",
   "id": "33ec7ce5",
   "metadata": {},
   "source": [
    "15. How do you get a list value's tuple form? How do you get a tuple value's list form?\n",
    "\n",
    "Ans- we can convert list in to tuple and tuple in to list\n",
    "Ex-tu=(5,4,6,3,7)\n",
    "print(\"created a tuple is \",tu)\n",
    "li=list(tu)\n",
    "print(\"Converted Tuple to List \",li)\n",
    "tup=tuple(li)\n",
    "print(\"Converted list to Tuple \",tup)"
   ]
  },
  {
   "cell_type": "code",
   "execution_count": 141,
   "id": "e83be902",
   "metadata": {},
   "outputs": [
    {
     "name": "stdout",
     "output_type": "stream",
     "text": [
      "created a tuple is  (5, 4, 6, 3, 7)\n",
      "Converted Tuple to List  [5, 4, 6, 3, 7]\n",
      "Converted list to Tuple  (5, 4, 6, 3, 7)\n"
     ]
    }
   ],
   "source": [
    "tu=(5,4,6,3,7)\n",
    "print(\"created a tuple is \",tu)\n",
    "li=list(tu)\n",
    "print(\"Converted Tuple to List \",li)\n",
    "tup=tuple(li)\n",
    "print(\"Converted list to Tuple \",tup)"
   ]
  },
  {
   "cell_type": "markdown",
   "id": "4ffc324c",
   "metadata": {},
   "source": [
    "16. Variables that \"contain\" list values are not necessarily lists themselves. Instead, what do they\n",
    "contain?\n",
    "\n",
    "Ans- Variables in list can be any type like it may be Int, float, complex number, string, boolean, list, tuple"
   ]
  },
  {
   "cell_type": "markdown",
   "id": "be8020be",
   "metadata": {},
   "source": [
    "17. How do you distinguish between copy.copy() and copy.deepcopy()?\n",
    "\n",
    "Ans-copy and deepcopy method is available in copy module.\n",
    "\n",
    "In copy.copy() , new memory allocation never happens for the other entities like list inside a list in below example and the only reference is copied to the other entities.\n",
    "Ex-\n",
    "import copy\n",
    "old=[1,2,3,4,[1,3,7]]\n",
    "new=copy.copy(old)\n",
    "old[4][0]='Deepak'\n",
    "new[0]='ineuron'\n",
    "print(new,old)\n",
    "\n",
    "Output-\n",
    "['ineuron', 2, 3, 4, ['Deepak', 3, 7]] [1, 2, 3, 4, ['Deepak', 3, 7]]\n",
    "\n",
    "In copy.deepcopy(), a new memory allocation happens for the other entities, and reference is not copied to the other entities.\n",
    "Ex-\n",
    "import copy\n",
    "old=[1,2,3,4,[1,3,7]]\n",
    "new=copy.deepcopy(old)\n",
    "old[4][0]='Deepak'\n",
    "new[0]='ineuron'\n",
    "print(new,old)\n",
    "Output-\n",
    "['ineuron', 2, 3, 4, [1, 3, 7]] [1, 2, 3, 4, ['Deepak', 3, 7]]"
   ]
  },
  {
   "cell_type": "code",
   "execution_count": 142,
   "id": "90096f6a",
   "metadata": {},
   "outputs": [
    {
     "name": "stdout",
     "output_type": "stream",
     "text": [
      "['ineuron', 2, 3, 4, ['Deepak', 3, 7]] [1, 2, 3, 4, ['Deepak', 3, 7]]\n"
     ]
    }
   ],
   "source": [
    "import copy\n",
    "old=[1,2,3,4,[1,3,7]]\n",
    "new=copy.copy(old)\n",
    "old[4][0]='Deepak'\n",
    "new[0]='ineuron'\n",
    "print(new,old)"
   ]
  },
  {
   "cell_type": "code",
   "execution_count": 143,
   "id": "ea7f4296",
   "metadata": {},
   "outputs": [
    {
     "name": "stdout",
     "output_type": "stream",
     "text": [
      "['ineuron', 2, 3, 4, [1, 3, 7]] [1, 2, 3, 4, ['Deepak', 3, 7]]\n"
     ]
    }
   ],
   "source": [
    "import copy\n",
    "old=[1,2,3,4,[1,3,7]]\n",
    "new=copy.deepcopy(old)\n",
    "old[4][0]='Deepak'\n",
    "new[0]='ineuron'\n",
    "print(new,old)"
   ]
  },
  {
   "cell_type": "code",
   "execution_count": null,
   "id": "96f4718e",
   "metadata": {},
   "outputs": [],
   "source": []
  }
 ],
 "metadata": {
  "kernelspec": {
   "display_name": "Python 3 (ipykernel)",
   "language": "python",
   "name": "python3"
  },
  "language_info": {
   "codemirror_mode": {
    "name": "ipython",
    "version": 3
   },
   "file_extension": ".py",
   "mimetype": "text/x-python",
   "name": "python",
   "nbconvert_exporter": "python",
   "pygments_lexer": "ipython3",
   "version": "3.9.12"
  }
 },
 "nbformat": 4,
 "nbformat_minor": 5
}
