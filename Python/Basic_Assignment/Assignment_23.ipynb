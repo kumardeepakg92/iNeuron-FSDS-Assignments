{
 "cells": [
  {
   "cell_type": "markdown",
   "id": "87949563",
   "metadata": {},
   "source": [
    "1. What is the result of the code, and why?\n",
    "&gt;&gt;&gt; def func(a, b=6, c=8):\n",
    "print(a, b, c)\n",
    "&gt;&gt;&gt; func(1, 2)\n",
    "\n",
    "Ans-In the function three parameter required but one is mendotery and rest to parameter is not medotery because by default value of b=6 and c=8 will pass."
   ]
  },
  {
   "cell_type": "code",
   "execution_count": 1,
   "id": "87c6a2bf",
   "metadata": {},
   "outputs": [
    {
     "name": "stdout",
     "output_type": "stream",
     "text": [
      "1 2 8\n"
     ]
    }
   ],
   "source": [
    "def func(a,b=6,c=8):\n",
    "    print(a,b,c)\n",
    "func(1,2)"
   ]
  },
  {
   "cell_type": "markdown",
   "id": "e7e7c612",
   "metadata": {},
   "source": [
    "2. What is the result of this code, and why?\n",
    "&gt;&gt;&gt; def func(a, b, c=5):\n",
    "print(a, b, c)\n",
    "&gt;&gt;&gt; func(1, c=3, b=2)\n",
    "\n",
    "Ans-func() method have a and b are mendentory parameter whereas c is have by default 5. we can call function and assign parameter as name was defined in function. parameter value will map according to that."
   ]
  },
  {
   "cell_type": "code",
   "execution_count": 2,
   "id": "09ff8c15",
   "metadata": {},
   "outputs": [
    {
     "name": "stdout",
     "output_type": "stream",
     "text": [
      "1 2 3\n"
     ]
    }
   ],
   "source": [
    "def func(a,b,c=5):\n",
    "    print(a,b,c)\n",
    "func(1,c=3,b=2)"
   ]
  },
  {
   "cell_type": "markdown",
   "id": "c32036d6",
   "metadata": {},
   "source": [
    "3. How about this code: what is its result, and why?\n",
    "&gt;&gt;&gt; def func(a, *pargs):\n",
    "print(a, pargs)\n",
    "&gt;&gt;&gt; func(1, 2, 3)\n",
    "\n",
    "Ans-The special syntax *args in function definitions in python is used to pass a variable number of arguments to a function. It is used to pass a non-key worded, variable-length argument list. \n",
    "\n",
    "In the below function *pargs declared which means we can pass any argument in function but atleast one parameter is mendatory. \n",
    "Print function print a and pargs value in tuple."
   ]
  },
  {
   "cell_type": "code",
   "execution_count": 15,
   "id": "7f27a6e5",
   "metadata": {},
   "outputs": [
    {
     "name": "stdout",
     "output_type": "stream",
     "text": [
      "1 (2, 3)\n"
     ]
    }
   ],
   "source": [
    "def func(a,*pargs):\n",
    "    print(a,pargs)\n",
    "func(1,2,3)"
   ]
  },
  {
   "cell_type": "markdown",
   "id": "ac1874f6",
   "metadata": {},
   "source": [
    "4. What does this code print, and why?\n",
    "&gt;&gt;&gt; def func(a, **kargs):\n",
    "print(a, kargs)\n",
    "&gt;&gt;&gt; func(a=1, c=3, b=2)\n",
    "\n",
    "Ans-The special syntax **kwargs in function definitions in python is used to pass a keyworded, variable-length argument list. We use the name kwargs with the double star. \n",
    "\n",
    "In the below function we pass one mendotery parameter whereas we can pass one or moreparameter value in the form of key and values."
   ]
  },
  {
   "cell_type": "code",
   "execution_count": 9,
   "id": "ea596c0b",
   "metadata": {},
   "outputs": [
    {
     "name": "stdout",
     "output_type": "stream",
     "text": [
      "1 {'b': 2, 'c': 3}\n"
     ]
    }
   ],
   "source": [
    "def func(a,**kargs):\n",
    "    print(a,kargs)\n",
    "func(a=1,b=2,c=3)"
   ]
  },
  {
   "cell_type": "markdown",
   "id": "25d24b4b",
   "metadata": {},
   "source": [
    "5. What gets printed by this, and explain?\n",
    "&gt;&gt;&gt; def func(a, b, c=8, d=5): print(a, b, c, d)\n",
    "&gt;&gt;&gt; func(1, *(5, 6))\n",
    "\n",
    "Ans-In the below function a and b values is mendotery parameter and c and d by defalut value is defined. while calling function we assign first value as 1 and we use asteric and pass value in tuple. it will treat as first value as b and 2nd value as c. d value is not defined while calling function but already by default d=5 value is defined in function parameter."
   ]
  },
  {
   "cell_type": "code",
   "execution_count": 10,
   "id": "89060cdc",
   "metadata": {},
   "outputs": [
    {
     "name": "stdout",
     "output_type": "stream",
     "text": [
      "1 5 6 5\n"
     ]
    }
   ],
   "source": [
    "def func(a,b,c=8,d=5):\n",
    "    print(a,b,c,d)\n",
    "func(1,*(5,6))"
   ]
  },
  {
   "cell_type": "markdown",
   "id": "23a2ca08",
   "metadata": {},
   "source": [
    "6. what is the result of this, and explain?\n",
    "&gt;&gt;&gt; def func(a, b, c): a = 2; b[0] = &#39;x&#39;; c[&#39;a&#39;] = &#39;y&#39;\n",
    "&gt;&gt;&gt; l=1; m=[1]; n={&#39;a&#39;:0}\n",
    "&gt;&gt;&gt; func(l, m, n)\n",
    "\n",
    "&gt;&gt;&gt; l, m, n\n",
    "\n",
    "Ans-In the below code we define l as integer ,m as list and n as dictionary values in outside of function. \n",
    "\n",
    "while calling function using l,m,n as parameter. Inside function we are changing a values, while calling b we are changing list items which refered to same pointer which is define outside of function list m items similarly n is a dictionary and changing value function in parameter c which refered to n value pointer and hence changed value of m,n values not l values"
   ]
  },
  {
   "cell_type": "code",
   "execution_count": 16,
   "id": "be7d3770",
   "metadata": {},
   "outputs": [
    {
     "data": {
      "text/plain": [
       "(1, ['x'], {'a': 'y'})"
      ]
     },
     "execution_count": 16,
     "metadata": {},
     "output_type": "execute_result"
    }
   ],
   "source": [
    "def func(a,b,c):\n",
    "    a=2\n",
    "    b[0]='x'\n",
    "    c['a']='y'\n",
    "l=1\n",
    "m=[1]\n",
    "n={'a':0}\n",
    "func(l,m,n)\n",
    "l,m,n"
   ]
  }
 ],
 "metadata": {
  "kernelspec": {
   "display_name": "Python 3 (ipykernel)",
   "language": "python",
   "name": "python3"
  },
  "language_info": {
   "codemirror_mode": {
    "name": "ipython",
    "version": 3
   },
   "file_extension": ".py",
   "mimetype": "text/x-python",
   "name": "python",
   "nbconvert_exporter": "python",
   "pygments_lexer": "ipython3",
   "version": "3.9.12"
  }
 },
 "nbformat": 4,
 "nbformat_minor": 5
}
