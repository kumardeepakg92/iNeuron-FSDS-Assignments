{
 "cells": [
  {
   "cell_type": "markdown",
   "id": "1d27c67c",
   "metadata": {},
   "source": [
    "1. How do you distinguish between shutil.copy() and shutil.copytree()?\n",
    "\n",
    "Ans-shutil.copy method is used when we need to copy file from source to destination. we can pass 2 parameter as source and destination.\n",
    "\n",
    "shutil.copytree method is used when we need to copy whole content of any folder to destination folder. we can pass 2 argument as sorce and destination of folder."
   ]
  },
  {
   "cell_type": "code",
   "execution_count": 1,
   "id": "d8fa3e85",
   "metadata": {},
   "outputs": [],
   "source": [
    "import shutil\n",
    "import os"
   ]
  },
  {
   "cell_type": "code",
   "execution_count": 16,
   "id": "3f9918c2",
   "metadata": {},
   "outputs": [
    {
     "data": {
      "text/plain": [
       "['.idea', 'main.py', 'test1.py', 'test2.py', 'test3.py', 'venv']"
      ]
     },
     "execution_count": 16,
     "metadata": {},
     "output_type": "execute_result"
    }
   ],
   "source": [
    "os.listdir('./shutilcopy')"
   ]
  },
  {
   "cell_type": "code",
   "execution_count": 6,
   "id": "9523dd7e",
   "metadata": {},
   "outputs": [
    {
     "data": {
      "text/plain": [
       "'abc_shutilcopy.txt'"
      ]
     },
     "execution_count": 6,
     "metadata": {},
     "output_type": "execute_result"
    }
   ],
   "source": [
    "shutil.copy('abc.txt','abc_shutilcopy.txt')"
   ]
  },
  {
   "cell_type": "code",
   "execution_count": 24,
   "id": "c63b1c70",
   "metadata": {},
   "outputs": [
    {
     "data": {
      "text/plain": [
       "'mongodb1'"
      ]
     },
     "execution_count": 24,
     "metadata": {},
     "output_type": "execute_result"
    }
   ],
   "source": [
    "shutil.copytree('mongodb','mongodb1')"
   ]
  },
  {
   "cell_type": "code",
   "execution_count": 25,
   "id": "c45fc6c8",
   "metadata": {},
   "outputs": [
    {
     "data": {
      "text/plain": [
       "['.idea', 'main.py', 'test1.py', 'test2.py', 'venv']"
      ]
     },
     "execution_count": 25,
     "metadata": {},
     "output_type": "execute_result"
    }
   ],
   "source": [
    "os.listdir('./mongodb')"
   ]
  },
  {
   "cell_type": "code",
   "execution_count": 26,
   "id": "62785ed7",
   "metadata": {},
   "outputs": [
    {
     "data": {
      "text/plain": [
       "['.idea', 'main.py', 'test1.py', 'test2.py', 'venv']"
      ]
     },
     "execution_count": 26,
     "metadata": {},
     "output_type": "execute_result"
    }
   ],
   "source": [
    "os.listdir('./mongodb1')"
   ]
  },
  {
   "cell_type": "markdown",
   "id": "ee3dc74f",
   "metadata": {},
   "source": [
    "2. What function is used to rename files??\n",
    "\n",
    "Ans-os.rename method rename file/directory. it takes 2 parameter as source and destination folder name.\n",
    "    "
   ]
  },
  {
   "cell_type": "code",
   "execution_count": 32,
   "id": "55e531cf",
   "metadata": {},
   "outputs": [],
   "source": [
    "#os.open('abc.txt',w)\n",
    "os.rename('mongodb','mongodb2')"
   ]
  },
  {
   "cell_type": "markdown",
   "id": "f4e16cc7",
   "metadata": {},
   "source": [
    "3. What is the difference between the delete functions in the send2trash and shutil modules?\n",
    "\n",
    "Using send2trash, we can send files to the Trash or Recycle Bin instead of permanently deleting them. \n",
    "\n",
    "Shutil module offers high-level operation on a file like a copy, create, and remote operation on the file. It comes under Python’s standard utility modules. This module helps in automating the process of copying and removal of files and directories. "
   ]
  },
  {
   "cell_type": "markdown",
   "id": "36a182d6",
   "metadata": {},
   "source": [
    "4.ZipFile objects have a close() method just like File objects’ close() method. What ZipFile method is\n",
    "equivalent to File objects’ open() method?\n",
    "\n",
    "Ans-ZipFile.open() method is equivalent to open() method. It also taking mode parameter. The mode parameter, if included, must be 'r' (the default) or 'w'."
   ]
  },
  {
   "cell_type": "markdown",
   "id": "cf5b118a",
   "metadata": {},
   "source": [
    "5. Create a programme that searches a folder tree for files with a certain file extension (such as .pdf or .jpg). Copy these files from whatever location they are in to a new folder."
   ]
  },
  {
   "cell_type": "code",
   "execution_count": 149,
   "id": "36523b21",
   "metadata": {},
   "outputs": [
    {
     "name": "stdout",
     "output_type": "stream",
     "text": [
      "Copied file source C:\\Users\\dpkjs\\Documents\\ineuron\\Python\\new\\30072022_AH02830700072957837_RLS - Copy (2).pdf\n",
      "Destination C:\\Users\\dpkjs\\Documents\\ineuron\\Python\\new_copy\n",
      "Copied file source C:\\Users\\dpkjs\\Documents\\ineuron\\Python\\new\\30072022_AH02830700072957837_RLS - Copy (3).pdf\n",
      "Destination C:\\Users\\dpkjs\\Documents\\ineuron\\Python\\new_copy\n",
      "Copied file source C:\\Users\\dpkjs\\Documents\\ineuron\\Python\\new\\30072022_AH02830700072957837_RLS - Copy.pdf\n",
      "Destination C:\\Users\\dpkjs\\Documents\\ineuron\\Python\\new_copy\n",
      "Copied file source C:\\Users\\dpkjs\\Documents\\ineuron\\Python\\new\\30072022_AH02830700072957837_RLS.pdf\n",
      "Destination C:\\Users\\dpkjs\\Documents\\ineuron\\Python\\new_copy\n",
      "Copied file source C:\\Users\\dpkjs\\Documents\\ineuron\\Python\\new\\WIN_20220731_12_50_33_Pro - Copy.jpg\n",
      "Destination C:\\Users\\dpkjs\\Documents\\ineuron\\Python\\new_copy\n",
      "Copied file source C:\\Users\\dpkjs\\Documents\\ineuron\\Python\\new\\WIN_20220731_12_50_33_Pro.jpg\n",
      "Destination C:\\Users\\dpkjs\\Documents\\ineuron\\Python\\new_copy\n",
      "Copied file source C:\\Users\\dpkjs\\Documents\\ineuron\\Python\\new\\WIN_20220731_12_50_36_Pro - Copy.jpg\n",
      "Destination C:\\Users\\dpkjs\\Documents\\ineuron\\Python\\new_copy\n",
      "Copied file source C:\\Users\\dpkjs\\Documents\\ineuron\\Python\\new\\WIN_20220731_12_50_36_Pro.jpg\n",
      "Destination C:\\Users\\dpkjs\\Documents\\ineuron\\Python\\new_copy\n"
     ]
    }
   ],
   "source": [
    "import os,shutil\n",
    "\n",
    "folder=os.path.abspath('new')\n",
    "destination=os.path.abspath('new_copy')\n",
    "extension=['pdf','jpg']\n",
    "\n",
    "li=os.listdir('new')\n",
    "for i in li:\n",
    "    s=i.split('.')\n",
    "    if s[-1] in extension:\n",
    "        filepath=os.path.join(folder,i)\n",
    "        shutil.copy(filepath,destination)\n",
    "        print('Copied file source '+filepath+'\\nDestination '+destination)\n"
   ]
  }
 ],
 "metadata": {
  "kernelspec": {
   "display_name": "Python 3 (ipykernel)",
   "language": "python",
   "name": "python3"
  },
  "language_info": {
   "codemirror_mode": {
    "name": "ipython",
    "version": 3
   },
   "file_extension": ".py",
   "mimetype": "text/x-python",
   "name": "python",
   "nbconvert_exporter": "python",
   "pygments_lexer": "ipython3",
   "version": "3.9.12"
  }
 },
 "nbformat": 4,
 "nbformat_minor": 5
}
