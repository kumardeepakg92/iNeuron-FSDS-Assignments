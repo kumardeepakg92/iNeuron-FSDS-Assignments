{
  "nbformat": 4,
  "nbformat_minor": 0,
  "metadata": {
    "colab": {
      "name": "Assignment_7.ipynb",
      "provenance": [],
      "authorship_tag": "ABX9TyN3rtdUBVIw+YzRNWdzjeS/"
    },
    "kernelspec": {
      "name": "python3",
      "display_name": "Python 3"
    },
    "language_info": {
      "name": "python"
    }
  },
  "cells": [
    {
      "cell_type": "markdown",
      "source": [
        "1. What is the name of the feature responsible for generating Regex objects?\n",
        "\n",
        "Ans-re.compile()"
      ],
      "metadata": {
        "id": "Igrncb0UU-zx"
      }
    },
    {
      "cell_type": "markdown",
      "source": [
        "2. Why do raw strings often appear in Regex objects?\n",
        "\n",
        "Ans-whenever we use print function of any string containing escape character. it translate. but if we use raw string it will not. that's why we are using raw string."
      ],
      "metadata": {
        "id": "mgCvN0xHXklB"
      }
    },
    {
      "cell_type": "code",
      "source": [
        "import re\n",
        "abc=\"Hello \\'world\"\n",
        "xyz=r\"Hello \\'world\"\n",
        "print(\"Normal Print \", abc, \"\\nUsing r prefix of string, raw string is \",xyz)"
      ],
      "metadata": {
        "colab": {
          "base_uri": "https://localhost:8080/"
        },
        "id": "wZzMvie5a9CG",
        "outputId": "5dc83de0-8f80-4d76-c26a-b5c46c1ba1c9"
      },
      "execution_count": 1,
      "outputs": [
        {
          "output_type": "stream",
          "name": "stdout",
          "text": [
            "Normal Print  Hello 'world \n",
            "Using r prefix of string, raw string is  Hello \\'world\n"
          ]
        }
      ]
    },
    {
      "cell_type": "markdown",
      "source": [
        "3. What is the return value of the search() method?\n",
        "\n",
        "Ans-If string matches then It returns match function of re module else NoneType.\n"
      ],
      "metadata": {
        "id": "M5kRoKOzavRU"
      }
    },
    {
      "cell_type": "code",
      "execution_count": 2,
      "metadata": {
        "colab": {
          "base_uri": "https://localhost:8080/"
        },
        "id": "BZcPSF-UU28u",
        "outputId": "b4d7c354-ad91-4bcc-f5b3-4d3ac51f2ac0"
      },
      "outputs": [
        {
          "output_type": "stream",
          "name": "stdout",
          "text": [
            "<re.Match object; span=(0, 5), match='Hello'>\n",
            "None\n"
          ]
        }
      ],
      "source": [
        "string=\"Hello World\"\n",
        "print(re.search('Hello',string))\n",
        "print(re.search('Deepak',string))"
      ]
    },
    {
      "cell_type": "markdown",
      "source": [
        "4. From a Match item, how do you get the actual strings that match the pattern?\n",
        "\n",
        "Ans-we can use object.group() method to print actual string match."
      ],
      "metadata": {
        "id": "Vc4_SR07fgLH"
      }
    },
    {
      "cell_type": "code",
      "source": [
        "string=\"Hello World\"\n",
        "ob=re.match('He',string)\n",
        "ob.group()"
      ],
      "metadata": {
        "colab": {
          "base_uri": "https://localhost:8080/",
          "height": 36
        },
        "id": "dI7epM9Dd0o2",
        "outputId": "6fac4bf7-c14c-40e4-e27b-5d390180663d"
      },
      "execution_count": 3,
      "outputs": [
        {
          "output_type": "execute_result",
          "data": {
            "text/plain": [
              "'He'"
            ],
            "application/vnd.google.colaboratory.intrinsic+json": {
              "type": "string"
            }
          },
          "metadata": {},
          "execution_count": 3
        }
      ]
    },
    {
      "cell_type": "markdown",
      "source": [
        "5. In the regex which created from the r'(\\d\\d\\d)-(\\d\\d\\d-\\d\\d\\d\\d)', what does group zero cover?\n",
        "Group 2? Group 1?\n",
        "\n",
        "Ans-Group zero contains exact match value, group 1 contains first enclose RegEx for example (\\d\\d\\d) match value. Group 2 contains 2nd enclose value for example (\\d\\d\\d-\\d\\d\\d\\d) match value."
      ],
      "metadata": {
        "id": "YRvq-PSVkW3G"
      }
    },
    {
      "cell_type": "code",
      "source": [
        "import re\n",
        "grp=re.search(r'(\\d\\d\\d)-(\\d\\d\\d-\\d\\d\\d\\d)','111-101-1234')\n",
        "print(grp)\n",
        "print(grp.group())\n",
        "print(grp.group(0))\n",
        "print(grp.group(1))\n",
        "print(grp.group(2))"
      ],
      "metadata": {
        "colab": {
          "base_uri": "https://localhost:8080/"
        },
        "id": "0IEx0AWWizg8",
        "outputId": "96e8a08d-ea68-4265-c8b5-7b34ca7df539"
      },
      "execution_count": 34,
      "outputs": [
        {
          "output_type": "stream",
          "name": "stdout",
          "text": [
            "<re.Match object; span=(0, 12), match='111-101-1234'>\n",
            "111-101-1234\n",
            "111-101-1234\n",
            "111\n",
            "101-1234\n"
          ]
        }
      ]
    },
    {
      "cell_type": "markdown",
      "source": [
        "6. In standard expression syntax, parentheses and intervals have distinct meanings. How can you tell\n",
        "a regex that you want it to fit real parentheses and periods?\n",
        "\n",
        "Ans-we can use \"\\\\\" for escape parentheses."
      ],
      "metadata": {
        "id": "1TP5fMJekL2Q"
      }
    },
    {
      "cell_type": "code",
      "source": [
        "\n",
        "import re\n",
        "\n",
        "#op=re.compile('\\(.+\\)')\n",
        "w='(deepak)'\n",
        "grp = re.search('\\(.+\\)',w)\n",
        "print(grp)"
      ],
      "metadata": {
        "colab": {
          "base_uri": "https://localhost:8080/"
        },
        "id": "bpY5dC9TdE6U",
        "outputId": "5a95b055-0b72-4bc0-81f8-16c6d7e47e83"
      },
      "execution_count": 73,
      "outputs": [
        {
          "output_type": "stream",
          "name": "stdout",
          "text": [
            "<re.Match object; span=(0, 8), match='(deepak)'>\n"
          ]
        }
      ]
    },
    {
      "cell_type": "markdown",
      "source": [
        "7. The findall() method returns a string list or a list of string tuples. What causes it to return one of the two options?\n",
        "\n",
        "Ans-findall() method, Find all occurrences of a pattern in a string. Return value in list."
      ],
      "metadata": {
        "id": "61MVDke8zpUI"
      }
    },
    {
      "cell_type": "code",
      "source": [
        "import re\n",
        "ou=re.findall('Deepak','Deepak is a student of Ineuron, Hello Deepak')\n",
        "print(ou)\n",
        "print(type(ou))"
      ],
      "metadata": {
        "colab": {
          "base_uri": "https://localhost:8080/"
        },
        "id": "trdRxgHpdKJB",
        "outputId": "f84c18d3-79bf-4fd4-eb4b-3d81563149bf"
      },
      "execution_count": 82,
      "outputs": [
        {
          "output_type": "stream",
          "name": "stdout",
          "text": [
            "['Deepak', 'Deepak']\n",
            "<class 'list'>\n"
          ]
        }
      ]
    },
    {
      "cell_type": "markdown",
      "source": [
        "8. In standard expressions, what does the | character mean?\n",
        "\n",
        "Ans-A|B, creates an RE that will match either A or B."
      ],
      "metadata": {
        "id": "ZhSmhrwL3LyX"
      }
    },
    {
      "cell_type": "code",
      "source": [
        "import re\n",
        "\n",
        "re.findall('I|e',\"Ineuron is a institute\")"
      ],
      "metadata": {
        "colab": {
          "base_uri": "https://localhost:8080/"
        },
        "id": "ZTRYDxnW3ahu",
        "outputId": "cc40ba29-dc47-4058-97fa-94d255c417b0"
      },
      "execution_count": 86,
      "outputs": [
        {
          "output_type": "execute_result",
          "data": {
            "text/plain": [
              "['I', 'e', 'e']"
            ]
          },
          "metadata": {},
          "execution_count": 86
        }
      ]
    },
    {
      "cell_type": "markdown",
      "source": [
        "9. In regular expressions, what does the character stand for?\n",
        "\n",
        "Ans-Causes the resulting RE to match 0 or 1 repetitions of the preceding RE. ab? will match either ‘a’ or ‘ab’."
      ],
      "metadata": {
        "id": "aDg1cTBd3ZSG"
      }
    },
    {
      "cell_type": "code",
      "source": [
        "import re \n",
        "re.findall('ab?','aopbuhabijbaoi')"
      ],
      "metadata": {
        "colab": {
          "base_uri": "https://localhost:8080/"
        },
        "id": "maxyj9KXs_7p",
        "outputId": "0ebb611c-5d5a-40ed-ef6d-bb66241da49d"
      },
      "execution_count": 91,
      "outputs": [
        {
          "output_type": "execute_result",
          "data": {
            "text/plain": [
              "['a', 'ab', 'a']"
            ]
          },
          "metadata": {},
          "execution_count": 91
        }
      ]
    },
    {
      "cell_type": "markdown",
      "source": [
        "10.In regular expressions, what is the difference between the + and * characters?\n",
        "\n",
        "Ans-\n",
        "    + it represent to match 1 or more repetitions of the preceding RE. ab+ will match ‘a’ followed by any non-zero number of ‘b’s; it will not match just ‘a’.\n",
        "\n",
        "    *  asterisk represents the repetition 0 or more times as possible."
      ],
      "metadata": {
        "id": "UuOlJH2C5x9W"
      }
    },
    {
      "cell_type": "code",
      "source": [
        "import re \n",
        "print(re.findall('\\d\\d+','12 123 132 12345 ab123'))\n",
        "print(re.findall('0\\d*3','012 1023 132 012345 ab123'))"
      ],
      "metadata": {
        "colab": {
          "base_uri": "https://localhost:8080/"
        },
        "id": "Jzs0AMSO5auP",
        "outputId": "7052a01b-d0ec-48eb-b61a-5b6462a67cec"
      },
      "execution_count": 32,
      "outputs": [
        {
          "output_type": "stream",
          "name": "stdout",
          "text": [
            "['12', '123', '132', '12345', '123']\n",
            "['023', '0123']\n"
          ]
        }
      ]
    },
    {
      "cell_type": "markdown",
      "source": [
        "11. What is the difference between {4} and {4,5} in regular expression?\n",
        "Ans-\n",
        "\n",
        "a{2, 4} will match the string twice a or more upto 4 a and a{2} will be matched 2 times a."
      ],
      "metadata": {
        "id": "7K7tYC_fxl7s"
      }
    },
    {
      "cell_type": "code",
      "source": [
        "import re \n",
        "print(re.findall('a{2,4}','aaab, baaaac, gaad'))\n",
        "print(re.findall('a{2}','aaab, baaaac, gaad'))"
      ],
      "metadata": {
        "colab": {
          "base_uri": "https://localhost:8080/"
        },
        "id": "o6DMJopVslgh",
        "outputId": "8ad869cb-1c41-494f-8e25-36b48bdc5218"
      },
      "execution_count": 35,
      "outputs": [
        {
          "output_type": "stream",
          "name": "stdout",
          "text": [
            "['aaa', 'aaaa', 'aa']\n",
            "['aa', 'aa', 'aa', 'aa']\n"
          ]
        }
      ]
    },
    {
      "cell_type": "markdown",
      "source": [
        "12. What do you mean by the \\d, \\w, and \\s shorthand character classes signify in regular\n",
        "expressions?\n",
        "\n",
        "\\d match one decimal number range[0-9] in string,\n",
        "\n",
        "\\w match the alphanumeric [0-9a-zA-Z] characters.\n",
        "\n",
        "\\s match a one white space character.\n"
      ],
      "metadata": {
        "id": "lr1qe9UvzV6O"
      }
    },
    {
      "cell_type": "code",
      "source": [
        "import re \n",
        "print(re.findall('\\d','aa12dab baa2aac gaa321d'))\n",
        "print(re.findall('\\w','aa12dab baa2aac gaa321d'))\n",
        "print(re.findall('\\s','aa12 dab baa2aac gaa321d'))"
      ],
      "metadata": {
        "colab": {
          "base_uri": "https://localhost:8080/"
        },
        "id": "f83vyaoEwMLK",
        "outputId": "29c7ace1-15cf-4ce2-9069-025c3076ff27"
      },
      "execution_count": 40,
      "outputs": [
        {
          "output_type": "stream",
          "name": "stdout",
          "text": [
            "['1', '2', '2', '3', '2', '1']\n",
            "['a', 'a', '1', '2', 'd', 'a', 'b', 'b', 'a', 'a', '2', 'a', 'a', 'c', 'g', 'a', 'a', '3', '2', '1', 'd']\n",
            "[' ', ' ', ' ']\n"
          ]
        }
      ]
    },
    {
      "cell_type": "markdown",
      "source": [
        "13. What do means by \\D, \\W, and \\S shorthand character classes signify in regular expressions?\n",
        "\n",
        "\\D match any non-decimal digit. This is the opposite of \\d\n",
        "\n",
        "\\W match one non-word character. This is the opposite of \\w\n",
        "\n",
        "\\S match one non-white space character. This is the opposite of \\s.\n"
      ],
      "metadata": {
        "id": "GHKopWAh0eDV"
      }
    },
    {
      "cell_type": "code",
      "source": [
        "import re \n",
        "print(re.findall('\\D','aa12dab baa2aac gaa321d'))\n",
        "print(re.findall('\\W','@ A@2E  #'))\n",
        "print(re.findall('\\S','aa12 dab baa2aac gaa321d'))"
      ],
      "metadata": {
        "colab": {
          "base_uri": "https://localhost:8080/"
        },
        "id": "xU6rOLUhwggc",
        "outputId": "6e8e21da-b9da-4e3a-afa6-a63575f9cf4f"
      },
      "execution_count": 44,
      "outputs": [
        {
          "output_type": "stream",
          "name": "stdout",
          "text": [
            "['a', 'a', 'd', 'a', 'b', ' ', 'b', 'a', 'a', 'a', 'a', 'c', ' ', 'g', 'a', 'a', 'd']\n",
            "['@', ' ', '@', ' ', ' ', '#']\n",
            "['a', 'a', '1', '2', 'd', 'a', 'b', 'b', 'a', 'a', '2', 'a', 'a', 'c', 'g', 'a', 'a', '3', '2', '1', 'd']\n"
          ]
        }
      ]
    },
    {
      "cell_type": "markdown",
      "source": [
        "14. What is the difference between .*? and .*?\n",
        "Ans-'.*' finds longest string and '.*?' returns every matched string means shortest string."
      ],
      "metadata": {
        "id": "jpJj8hQ110h9"
      }
    },
    {
      "cell_type": "code",
      "source": [
        "import re \n",
        "print(re.findall('.*','aa12dab baa2aac gaa321d'))\n",
        "print(re.findall('.*?','aa12dab baa2aac gaa321d'))"
      ],
      "metadata": {
        "colab": {
          "base_uri": "https://localhost:8080/"
        },
        "id": "CZPwkrm30yWT",
        "outputId": "097d1a27-7e48-447c-b0d4-82a3cfcd51c5"
      },
      "execution_count": 83,
      "outputs": [
        {
          "output_type": "stream",
          "name": "stdout",
          "text": [
            "['aa12dab baa2aac gaa321d', '']\n",
            "['', 'a', '', 'a', '', '1', '', '2', '', 'd', '', 'a', '', 'b', '', ' ', '', 'b', '', 'a', '', 'a', '', '2', '', 'a', '', 'a', '', 'c', '', ' ', '', 'g', '', 'a', '', 'a', '', '3', '', '2', '', '1', '', 'd', '']\n"
          ]
        }
      ]
    },
    {
      "cell_type": "markdown",
      "source": [
        "15. What is the syntax for matching both numbers and lowercase letters with a character class?\n",
        "\n",
        "'\\w', \n",
        "\n",
        "Ex-re.findall('\\w','@ A@2E  #')"
      ],
      "metadata": {
        "id": "R4LTMonz82SC"
      }
    },
    {
      "cell_type": "code",
      "source": [
        "print(re.findall('\\w','@ A@2E  #'))"
      ],
      "metadata": {
        "colab": {
          "base_uri": "https://localhost:8080/"
        },
        "id": "RzpbP7RC9CVC",
        "outputId": "e8c619e8-859f-4246-8098-e8e219dfae68"
      },
      "execution_count": 45,
      "outputs": [
        {
          "output_type": "stream",
          "name": "stdout",
          "text": [
            "['A', '2', 'E']\n"
          ]
        }
      ]
    },
    {
      "cell_type": "markdown",
      "source": [
        "16. What is the procedure for making a normal expression in regax case insensitive?\n",
        "\n",
        "Ans-We can use IGNORECASE flag parameter.\n"
      ],
      "metadata": {
        "id": "fCoiv9cd9TIS"
      }
    },
    {
      "cell_type": "code",
      "source": [
        "import re\n",
        "\n",
        "re.findall('i|e',\"Ineuron is a Institute\",re.IGNORECASE)"
      ],
      "metadata": {
        "colab": {
          "base_uri": "https://localhost:8080/"
        },
        "id": "TTb6RVpK9GQc",
        "outputId": "513a4595-517b-4121-e174-e330cd7624a8"
      },
      "execution_count": 48,
      "outputs": [
        {
          "output_type": "execute_result",
          "data": {
            "text/plain": [
              "['I', 'e', 'i', 'I', 'i', 'e']"
            ]
          },
          "metadata": {},
          "execution_count": 48
        }
      ]
    },
    {
      "cell_type": "markdown",
      "source": [
        "17. What does the . character normally match? What does it match if re.DOTALL is passed as 2nd argument in re.compile()?\n",
        "\n",
        "the ‘.’ special character in Python matches with any character excluding the new line, but using DOTALL flag in python we can extend its functionality.\n",
        "With the help of DOTALL flag the ‘.’ character can match any character including newline."
      ],
      "metadata": {
        "id": "82yQvBz5BqOL"
      }
    },
    {
      "cell_type": "code",
      "source": [
        "import re\n",
        "txt='''Hi\n",
        "deepak\\nkumar'''\n",
        "print(\"Without DOTALL-\",re.findall('.',txt))\n",
        "print(\"With DOTALL-\",re.findall('.',txt,re.DOTALL))"
      ],
      "metadata": {
        "colab": {
          "base_uri": "https://localhost:8080/"
        },
        "id": "Y-5CTWR8Am0B",
        "outputId": "a948ad0f-72af-4f6b-deef-cf75b1e164fe"
      },
      "execution_count": 61,
      "outputs": [
        {
          "output_type": "stream",
          "name": "stdout",
          "text": [
            "Without DOTALL- ['H', 'i', 'd', 'e', 'e', 'p', 'a', 'k', 'k', 'u', 'm', 'a', 'r']\n",
            "With DOTALL- ['H', 'i', '\\n', 'd', 'e', 'e', 'p', 'a', 'k', '\\n', 'k', 'u', 'm', 'a', 'r']\n"
          ]
        }
      ]
    },
    {
      "cell_type": "markdown",
      "source": [
        "18. If numReg = re.compile(r'\\d+'), what will numRegex.sub('X', '11 drummers, 10 pipers, five rings, 4 hen') return?\n",
        "\n",
        "Ans-X drummers, X pipers, five rings, X hen"
      ],
      "metadata": {
        "id": "jXLxejR7FOsR"
      }
    },
    {
      "cell_type": "code",
      "source": [
        "import re\n",
        "numReg = re.compile(r'\\d+')\n",
        "numReg.sub('X', '11 drummers, 10 pipers, five rings, 4 hen')"
      ],
      "metadata": {
        "colab": {
          "base_uri": "https://localhost:8080/",
          "height": 36
        },
        "id": "sHkpKtZAB_UN",
        "outputId": "fa66b29f-0730-4aa1-c557-581dec7dc359"
      },
      "execution_count": 64,
      "outputs": [
        {
          "output_type": "execute_result",
          "data": {
            "text/plain": [
              "'X drummers, X pipers, five rings, X hen'"
            ],
            "application/vnd.google.colaboratory.intrinsic+json": {
              "type": "string"
            }
          },
          "metadata": {},
          "execution_count": 64
        }
      ]
    },
    {
      "cell_type": "markdown",
      "source": [
        "19. What does passing re.VERBOSE as the 2nd argument to re.compile() allow to do?\n",
        "\n",
        "Ans-re.VERBOSE Ignore whitespace and comments for nicer looking."
      ],
      "metadata": {
        "id": "V0N-BJxaGouK"
      }
    },
    {
      "cell_type": "code",
      "source": [
        "import re\n",
        "com=re.compile('''  \\d        #match one decimal number range[0-9] in string,\n",
        "                    \\w        #match the alphanumeric [0-9a-zA-Z] characters.\n",
        "                    \\s        #match a one white space character.\n",
        "''',re.VERBOSE)\n",
        "com.findall('as21 3er78 re deepak123')"
      ],
      "metadata": {
        "colab": {
          "base_uri": "https://localhost:8080/"
        },
        "id": "845IKsieGDK1",
        "outputId": "6783530f-3168-4333-9cae-4e9ceca7cad6"
      },
      "execution_count": 74,
      "outputs": [
        {
          "output_type": "execute_result",
          "data": {
            "text/plain": [
              "['21 ', '78 ']"
            ]
          },
          "metadata": {},
          "execution_count": 74
        }
      ]
    },
    {
      "cell_type": "markdown",
      "source": [
        "20. How would you write a regex that match a number with comma for every three digits? It must\n",
        "match the given following:\n",
        "'42'\n",
        "'1,234'\n",
        "'6,368,745'\n",
        "\n",
        "but not the following:\n",
        "'12,34,567' (which has only two digits between the commas)\n",
        "'1234' (which lacks commas)"
      ],
      "metadata": {
        "id": "u8ptVX5pNXEA"
      }
    },
    {
      "cell_type": "code",
      "source": [
        "import re\n",
        "regex=re.compile('\\d,\\d\\d\\d')\n",
        "regex.findall('42' '1,234' '6,368,745')"
      ],
      "metadata": {
        "colab": {
          "base_uri": "https://localhost:8080/"
        },
        "id": "ABKLX2upHcl9",
        "outputId": "107bcd8b-eea6-4d6e-e060-1c287ee816dc"
      },
      "execution_count": 75,
      "outputs": [
        {
          "output_type": "execute_result",
          "data": {
            "text/plain": [
              "['1,234', '6,368']"
            ]
          },
          "metadata": {},
          "execution_count": 75
        }
      ]
    },
    {
      "cell_type": "markdown",
      "source": [
        "21. How would you write a regex that matches the full name of someone whose last name is\n",
        "Watanabe? You can assume that the first name that comes before it will always be one word that\n",
        "begins with a capital letter. The regex must match the following:\n",
        "&#39;Haruto Watanabe&#39;\n",
        "&#39;Alice Watanabe&#39;\n",
        "&#39;RoboCop Watanabe&#39;\n",
        "but not the following:\n",
        "&#39;haruto Watanabe&#39; (where the first name is not capitalized)\n",
        "&#39;Mr. Watanabe&#39; (where the preceding word has a nonletter character)\n",
        "&#39;Watanabe&#39; (which has no first name)\n",
        "&#39;Haruto watanabe&#39; (where Watanabe is not capitalized)"
      ],
      "metadata": {
        "id": "ENQMvWJsPpjT"
      }
    },
    {
      "cell_type": "code",
      "source": [
        "import re\n",
        "\n",
        "regex=re.compile('[A-Z]\\w+\\sWatanabe')\n",
        "\n",
        "regex.findall(\"'Haruto Watanabe' 'Alice Watanabe' 'RoboCop Watanabe' 'haruto Watanabe' 'Mr. Watanabe' 'Watanabe' 'Haruto watanabe'\")"
      ],
      "metadata": {
        "colab": {
          "base_uri": "https://localhost:8080/"
        },
        "id": "qZMuHtdlPWqR",
        "outputId": "dd9ff892-a958-41f1-a8be-83b4d9ff9351"
      },
      "execution_count": 78,
      "outputs": [
        {
          "output_type": "execute_result",
          "data": {
            "text/plain": [
              "['Haruto Watanabe', 'Alice Watanabe', 'RoboCop Watanabe']"
            ]
          },
          "metadata": {},
          "execution_count": 78
        }
      ]
    },
    {
      "cell_type": "markdown",
      "source": [
        "22. How would you write a regex that matches a sentence where the first word is either Alice, Bob,\n",
        "or Carol; the second word is either eats, pets, or throws; the third word is apples, cats, or baseballs;\n",
        "and the sentence ends with a period? This regex should be case-insensitive. It must match the\n",
        "following:\n",
        "&#39;Alice eats apples.&#39;\n",
        "&#39;Bob pets cats.&#39;\n",
        "&#39;Carol throws baseballs.&#39;\n",
        "&#39;Alice throws Apples.&#39;\n",
        "&#39;BOB EATS CATS.&#39;\n",
        "but not the following:\n",
        "&#39;RoboCop eats apples.&#39;\n",
        "&#39;ALICE THROWS FOOTBALLS.&#39;\n",
        "&#39;Carol eats 7 cats.&#39;"
      ],
      "metadata": {
        "id": "tDcJftxsSuMQ"
      }
    },
    {
      "cell_type": "code",
      "source": [
        "import re\n",
        "reg=re.compile(r'((Alice|Bob|Carol)\\s(eats|pets|throws)\\s(apples|cats|baseballs))',re.IGNORECASE)\n",
        "reg.findall(\"'Alice eats apples.' 'Bob pets cats.' 'Carol throws baseballs.' 'Alice throws Apples.' 'BOB EATS CATS.' 'RoboCop eats apples.' 'ALICE THROWS FOOTBALLS.' 'Carol eats 7 cats.'\")"
      ],
      "metadata": {
        "colab": {
          "base_uri": "https://localhost:8080/"
        },
        "id": "UECqPl_DSfJN",
        "outputId": "60516377-c5c0-45b9-c544-e463d6ccbf2c"
      },
      "execution_count": 79,
      "outputs": [
        {
          "output_type": "execute_result",
          "data": {
            "text/plain": [
              "[('Alice eats apples', 'Alice', 'eats', 'apples'),\n",
              " ('Bob pets cats', 'Bob', 'pets', 'cats'),\n",
              " ('Carol throws baseballs', 'Carol', 'throws', 'baseballs'),\n",
              " ('Alice throws Apples', 'Alice', 'throws', 'Apples'),\n",
              " ('BOB EATS CATS', 'BOB', 'EATS', 'CATS')]"
            ]
          },
          "metadata": {},
          "execution_count": 79
        }
      ]
    },
    {
      "cell_type": "code",
      "source": [
        ""
      ],
      "metadata": {
        "id": "rOj_9bWwgsA7"
      },
      "execution_count": null,
      "outputs": []
    }
  ]
}