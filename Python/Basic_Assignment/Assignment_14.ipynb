{
 "cells": [
  {
   "cell_type": "markdown",
   "id": "fee6196a",
   "metadata": {},
   "source": [
    "1. What does RGBA stand for?\n",
    "\n",
    "Ans-It is a value of four tuple integer of color. Ex (255,255,255,255).\n",
    "\n",
    "Values are represented as RED, Green, Blue, Alpha."
   ]
  },
  {
   "cell_type": "markdown",
   "id": "d21e39ca",
   "metadata": {},
   "source": [
    "2. From the Pillow module, how do you get the RGBA value of any images?\n",
    "\n",
    "Ans-We need to convert image in to RGBA mode by convert class and pass value 'RGBA'. Returns a converted copy of this image. in  the \"RGBA\" mode. \n",
    "\n",
    "We pass the parameter of converted image in to getdata(). It Returns the contents of this image as a sequence object\n",
    "containing pixel values."
   ]
  },
  {
   "cell_type": "code",
   "execution_count": 66,
   "id": "f8b2a6de",
   "metadata": {},
   "outputs": [],
   "source": [
    "from PIL import Image\n",
    "im=Image.open('my_photo.JPG')\n",
    "rgba=im.convert('RGBA')\n",
    "data=rgba.getdata()\n",
    "li=list(data)"
   ]
  },
  {
   "cell_type": "markdown",
   "id": "8a9d0d54",
   "metadata": {},
   "source": [
    "3. What is a box tuple, and how does it work?\n",
    "\n",
    "Ans-Box tuple store value of Left, upper, right, lower. we can pass box tuple values while image croping."
   ]
  },
  {
   "cell_type": "code",
   "execution_count": 49,
   "id": "8b9fc522",
   "metadata": {},
   "outputs": [],
   "source": [
    "box=(0,0,100,500)\n",
    "a=rgba.crop(box)\n",
    "a.show()"
   ]
  },
  {
   "cell_type": "markdown",
   "id": "93601a44",
   "metadata": {},
   "source": [
    "4. Use your image and load in notebook then, How can you find out the width and height of an Image object?\n",
    "\n",
    "Ans-image.width and image.height "
   ]
  },
  {
   "cell_type": "code",
   "execution_count": 55,
   "id": "15672022",
   "metadata": {},
   "outputs": [
    {
     "name": "stdout",
     "output_type": "stream",
     "text": [
      "Image Size is (1560, 2080) where Image width is 1560 and height is 2080\n"
     ]
    }
   ],
   "source": [
    "print(\"Image Size is \"+str(im.size)+\" where Image width is \"+str(im.width)+\" and height is \"+str(im.height))"
   ]
  },
  {
   "cell_type": "markdown",
   "id": "29e6579a",
   "metadata": {},
   "source": [
    "5. What method would you call to get Image object for a 100×100 image, excluding the lower-left quarter of it?\n",
    "\n",
    "Ans-crop(box) we can use crop(box) method to crop image. we can pass value in box as (0,100,100,0)\n",
    "\n",
    "and we can resize image by resize() method by passing size value."
   ]
  },
  {
   "cell_type": "code",
   "execution_count": 57,
   "id": "735dc282",
   "metadata": {},
   "outputs": [
    {
     "data": {
      "image/png": "[encoded data removed]",
      "text/plain": [
       "<PIL.Image.Image image mode=RGBA size=100x100 at 0x21926E68400>"
      ]
     },
     "execution_count": 57,
     "metadata": {},
     "output_type": "execute_result"
    }
   ],
   "source": [
    "rgba.resize((100,100))"
   ]
  },
  {
   "cell_type": "markdown",
   "id": "cfece452",
   "metadata": {},
   "source": [
    "6. After making changes to an Image object, how could you save it as an image file?\n",
    "\n",
    "Ans-with save method."
   ]
  },
  {
   "cell_type": "markdown",
   "id": "5c5f0d67",
   "metadata": {},
   "source": [
    "7. What module contains Pillow’s shape-drawing code?\n",
    "\n",
    "Ans- we can pass image object to ImageDraw.Draw() and we can draw on image.\n"
   ]
  },
  {
   "cell_type": "markdown",
   "id": "b8c80065",
   "metadata": {},
   "source": [
    "8. Image objects do not have drawing methods. What kind of object does? How do you get this kind of object?\n",
    "\n",
    "Ans-\n",
    "\n",
    "dr=ImageDraw.Draw()\n",
    "\n",
    "dr.line()"
   ]
  },
  {
   "cell_type": "code",
   "execution_count": 65,
   "id": "4cc54817",
   "metadata": {},
   "outputs": [],
   "source": [
    "from PIL import ImageDraw\n",
    "import random\n",
    "draw=ImageDraw.Draw(rgba)\n",
    "colors = [\"red\", \"green\", \"blue\", \"yellow\", \"purple\", \"orange\"]\n",
    "for i in range(0, 100, 20):\n",
    "    draw.line((i, 0) + rgba.size, width=5, fill=random.choice(colors))\n",
    "rgba.show()"
   ]
  }
 ],
 "metadata": {
  "kernelspec": {
   "display_name": "Python 3 (ipykernel)",
   "language": "python",
   "name": "python3"
  },
  "language_info": {
   "codemirror_mode": {
    "name": "ipython",
    "version": 3
   },
   "file_extension": ".py",
   "mimetype": "text/x-python",
   "name": "python",
   "nbconvert_exporter": "python",
   "pygments_lexer": "ipython3",
   "version": "3.9.12"
  }
 },
 "nbformat": 4,
 "nbformat_minor": 5
}
