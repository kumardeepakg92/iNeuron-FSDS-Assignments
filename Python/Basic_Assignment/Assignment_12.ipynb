{
 "cells": [
  {
   "cell_type": "markdown",
   "id": "76ddda4b",
   "metadata": {},
   "source": [
    "1. In what modes should the PdfFileReader() and PdfFileWriter() File objects will be opened?\n",
    "\n",
    "Ans-PyPDF2"
   ]
  },
  {
   "cell_type": "markdown",
   "id": "2617bc02",
   "metadata": {},
   "source": [
    "2. From a PdfFileReader object, how do you get a Page object for page 5?\n",
    "\n",
    "Ans-we can call getpage(n) method where n is equal tp page number"
   ]
  },
  {
   "cell_type": "code",
   "execution_count": 24,
   "id": "0a160c3d",
   "metadata": {},
   "outputs": [
    {
     "name": "stdout",
     "output_type": "stream",
     "text": [
      "1. In what modes should the PdfFileReader() and PdfFileWriter() File objects will be opened?  \n",
      "2. From a PdfFileReader object, how do you get a Page object for page 5?  \n",
      "3. What PdfFileReader variable stores the number of pages in the PDF document?  \n",
      "4. If a PdfFileReader object’s PDF is encrypted with the password swordfish, what must you do \n",
      "before you can obtain Page objects from it?  \n",
      "5. What methods do you use to rotate a page?  \n",
      "6. What is the difference between a Run object and a Paragraph object?  \n",
      "7. How do you obtain a list of Paragraph objects for a Document object that’s stored in a variable \n",
      "named doc?  \n",
      "8. What type of object has bold, underline, italic, strike, and outli ne variables?  \n",
      "9. What is the difference between False, True, and None for the bold variable?  \n",
      "10. How do you create a Document object for a new Word document?  \n",
      "11. How do you add a paragraph with the text 'Hello, there!' to a Document object stored in a \n",
      "vari able named doc?  \n",
      "12. What integers represent the levels of headings available in Word documents?  \n",
      " \n"
     ]
    }
   ],
   "source": [
    "import PyPDF2\n",
    "\n",
    "pdfFileObject=open('Assignment_12.pdf','rb')\n",
    "pdfReader = PyPDF2.PdfFileReader(pdfFileObject)\n",
    "text=pdfReader.getPage(0)\n",
    "print(text.extract_text())"
   ]
  },
  {
   "cell_type": "markdown",
   "id": "af519a66",
   "metadata": {},
   "source": [
    "3. What PdfFileReader variable stores the number of pages in the PDF document?\n",
    "\n",
    "Ans-numPages"
   ]
  },
  {
   "cell_type": "code",
   "execution_count": 27,
   "id": "4c34b9e9",
   "metadata": {},
   "outputs": [
    {
     "data": {
      "text/plain": [
       "1"
      ]
     },
     "execution_count": 27,
     "metadata": {},
     "output_type": "execute_result"
    }
   ],
   "source": [
    "pdfReader.numPages"
   ]
  },
  {
   "cell_type": "markdown",
   "id": "316bb2b5",
   "metadata": {},
   "source": [
    "4. If a PdfFileReader object’s PDF is encrypted with the password swordfish, what must you do before you can obtain Page objects from it?\n",
    "\n",
    "Ans-We can pass password in pdffilereader as parameter.\n",
    "PdfFileReader(pdfFileObject,password='swordfish')"
   ]
  },
  {
   "cell_type": "markdown",
   "id": "175806f5",
   "metadata": {},
   "source": [
    "5. What methods do you use to rotate a page?\n",
    "\n",
    "Ans-rotateClockwise() and rotateCounterClockwise()"
   ]
  },
  {
   "cell_type": "markdown",
   "id": "8297aab9",
   "metadata": {},
   "source": [
    "6. What is the difference between a Run object and a Paragraph object?\n",
    "\n",
    "Ans-Paragraph object manage to append paragraph, It have various method to make styling in paragraph.\n",
    "\n",
    "Run object manage formatiing on paragraph. like add_picture,add_tab, bold,font, style,underline etc"
   ]
  },
  {
   "cell_type": "markdown",
   "id": "09aff893",
   "metadata": {},
   "source": [
    "7. How do you obtain a list of Paragraph objects for a Document object that’s stored in a variable named doc?\n",
    "\n",
    "Ans-doc.paragraphs"
   ]
  },
  {
   "cell_type": "markdown",
   "id": "7a258ef4",
   "metadata": {},
   "source": [
    "8. What type of object has bold, underline, italic, strike, and outline variables?\n",
    "\n",
    "Ans-Run object"
   ]
  },
  {
   "cell_type": "markdown",
   "id": "160f72ee",
   "metadata": {},
   "source": [
    "9. What is the difference between False, True, and None for the bold variable?\n",
    "\n",
    "Ans- True means run object bold\n",
    "False means run object not bold\n",
    "None means use style setting of run object."
   ]
  },
  {
   "cell_type": "markdown",
   "id": "3640fc4c",
   "metadata": {},
   "source": [
    "10. How do you create a Document object for a new Word document?\n",
    "\n",
    "Ans-document.save('demo.docx')"
   ]
  },
  {
   "cell_type": "markdown",
   "id": "05fee705",
   "metadata": {},
   "source": [
    "11. How do you add a paragraph with the text 'Hello, there!' to a Document object stored in a variable named doc?\n",
    "\n",
    "doc.add_paragraph('Hello, there!')"
   ]
  },
  {
   "cell_type": "markdown",
   "id": "07140f40",
   "metadata": {},
   "source": [
    "12. What integers represent the levels of headings available in Word documents?\n",
    "\n",
    "Ans-Heading level is 0 to 9"
   ]
  }
 ],
 "metadata": {
  "kernelspec": {
   "display_name": "Python 3 (ipykernel)",
   "language": "python",
   "name": "python3"
  },
  "language_info": {
   "codemirror_mode": {
    "name": "ipython",
    "version": 3
   },
   "file_extension": ".py",
   "mimetype": "text/x-python",
   "name": "python",
   "nbconvert_exporter": "python",
   "pygments_lexer": "ipython3",
   "version": "3.9.12"
  }
 },
 "nbformat": 4,
 "nbformat_minor": 5
}
