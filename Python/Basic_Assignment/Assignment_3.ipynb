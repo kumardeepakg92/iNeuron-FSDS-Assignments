{
  "nbformat": 4,
  "nbformat_minor": 0,
  "metadata": {
    "colab": {
      "name": "Assignment_3.ipynb",
      "provenance": [],
      "authorship_tag": "ABX9TyPQQPo3F6qOShOttQ6rZmVk",
      "include_colab_link": true
    },
    "kernelspec": {
      "name": "python3",
      "display_name": "Python 3"
    },
    "language_info": {
      "name": "python"
    }
  },
  "cells": [
    {
      "cell_type": "markdown",
      "metadata": {
        "id": "view-in-github",
        "colab_type": "text"
      },
      "source": [
        "<a href=\"https://colab.research.google.com/github/kumardeepakg92/python_basics/blob/main/Assignment_3.ipynb\" target=\"_parent\"><img src=\"https://colab.research.google.com/assets/colab-badge.svg\" alt=\"Open In Colab\"/></a>"
      ]
    },
    {
      "cell_type": "markdown",
      "source": [
        "1. Why are functions advantageous to have in your programs ?\n",
        "\n",
        "Ans.\n",
        "*   Using function, we can avoid repeating same code block again and again\n",
        "*   We can call function anywhere in program multiple times.\n",
        "*   Tracking of code will be easy, we can create seperate module for any   function or we can give developper to work on seperate function.\n",
        "*   we can return the as many output as we want. function return data type will Non Type."
      ],
      "metadata": {
        "id": "WaVkkWK7Ebu7"
      }
    },
    {
      "cell_type": "markdown",
      "source": [
        "2. When does the code in a function run: when its specified or when its called?\n",
        "\n",
        "Ans-when its called, Code in function only execute when we call function. \n",
        "\n",
        "3. What statement creates a function?\n",
        "\n",
        "Ans-def function_name():\n",
        "        statement..\n",
        "        statement..\n",
        "        return output\n",
        "\n",
        "4. What is the difference between a function and a function call?\n",
        "Ans-Function is a set of code in which we write our logic. we can take input as any number of parameter and give any number of return type.\n",
        "\n",
        "When we required to run function or pass control to the function we can call function.\n",
        "\n",
        "5. How many global scopes are there in a Python program? How many local scopes?\n",
        "\n",
        "Ans- There is one global scope, and a local scope is created whenever a function is called.\n",
        "Global variable is define outside of any function and local variable define  inside of any function.\n",
        "Global variable can be used anywhere in our programme while local variable only be used inside in function.\n",
        "\n",
        "6. What happens to variables in a local scope when the function call returns?\n",
        "\n",
        "Ans-Local variable will be used inside in function after return the local variable will destroy and you can't access outside of function.\n",
        "\n",
        "7. What is the concept of a return value? Is it possible to have a return value in an expression?\n",
        "\n",
        "Ans-Return is used in function to produce result, objects or call any other function. It returns value as None Type data type. \n",
        "\n",
        "We can't return whole expression but expression value can be return.\n",
        "\n",
        "8. If a function does not have a return statement, what is the return value of a call to that function?\n",
        "\n",
        "Ans-None\n",
        "\n",
        "9. How do you make a function variable refer to the global variable?\n",
        "\n",
        "Ans-\n"
      ],
      "metadata": {
        "id": "NIisN9eiFSB0"
      }
    },
    {
      "cell_type": "code",
      "source": [
        "outside=2\n",
        "def abc():\n",
        "    print(\"Global variable is \",outside)\n",
        "abc()"
      ],
      "metadata": {
        "colab": {
          "base_uri": "https://localhost:8080/"
        },
        "id": "-kcwQ71Ob2qi",
        "outputId": "f308e9be-1f41-4ead-f4ff-1ba347c735f6"
      },
      "execution_count": 11,
      "outputs": [
        {
          "output_type": "stream",
          "name": "stdout",
          "text": [
            "Global variable is  2\n"
          ]
        }
      ]
    },
    {
      "cell_type": "markdown",
      "source": [
        "10. What is the data type of None?\n",
        "\n",
        "Ans-None keyword is a object of data type of None type class"
      ],
      "metadata": {
        "id": "P08X-DEid2BD"
      }
    },
    {
      "cell_type": "markdown",
      "source": [
        "11. What does the sentence import areallyourpetsnamederic do?\n",
        "\n",
        "Ans:-Import all module associated with areallyourpetsnamederic."
      ],
      "metadata": {
        "id": "Qd9QbJ1WtyP5"
      }
    },
    {
      "cell_type": "markdown",
      "source": [
        "12. If you had a bacon() feature in a spam module, what would you call it after importing spam?\n",
        "\n",
        "Ans-We will import spam module and we can call by spam.bacon()"
      ],
      "metadata": {
        "id": "AK5Aq_mlur-w"
      }
    },
    {
      "cell_type": "markdown",
      "source": [
        "13. What can you do to save a programme from crashing if it encounters an error?\n",
        "\n",
        "Ans-We can use exception handling. we can add try,except and finally.\n"
      ],
      "metadata": {
        "id": "gZRGmZ-UvYBa"
      }
    },
    {
      "cell_type": "markdown",
      "source": [
        "14. What is the purpose of the try clause? What is the purpose of the except clause?\n",
        "\n",
        "Ans-try block is used for handle errors inside try block. It executes runtime error. It stop to crash our programme.\n",
        "\n",
        "Except block is executes whenever try block finds runtime error."
      ],
      "metadata": {
        "id": "UBYQ8K0i4D6Q"
      }
    }
  ]
}