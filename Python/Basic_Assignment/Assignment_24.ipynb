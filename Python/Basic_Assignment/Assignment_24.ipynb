{
 "cells": [
  {
   "cell_type": "markdown",
   "id": "0819543e",
   "metadata": {},
   "source": [
    "1. What is the relationship between def statements and lambda expressions ?\n",
    "\n",
    "Ans-A lambda function is a small anonymous function. A lambda function can take any number of arguments, but can only have one expression.\n",
    "\n",
    "A function is a block of code which only runs when it is called. You can pass data, known as parameters, into a function. A function can return data as a result."
   ]
  },
  {
   "cell_type": "markdown",
   "id": "4c72d34b",
   "metadata": {},
   "source": [
    "2. What is the benefit of lambda?\n",
    "\n",
    "Lambda functions reduce the number of lines of code when compared to normal python function defined using def keyword. \n",
    "\n",
    "They are generally used when a function is needed temporarily for a short period of time.\n",
    "\n",
    "Using lambda function, you can define a function and call it immediately at the end of definition. This can’t be done with def functions."
   ]
  },
  {
   "cell_type": "markdown",
   "id": "7e8996e5",
   "metadata": {},
   "source": [
    "3. Compare and contrast map, filter, and reduce.\n",
    "\n",
    "Ans- The map() function iterates through all items in the given iterable and executes the function we passed as an argument on each of them.\n",
    "\n",
    "The filter() Function, Similar to map(), filter() takes a function object and an iterable and creates a new list. filter() forms a new list that contains only elements that satisfy a certain condition, i.e. the function we passed returns True.\n",
    "\n",
    "The reduce(fun,seq) function is used to apply a particular function passed in its argument to all of the list elements mentioned in the sequence passed along."
   ]
  },
  {
   "cell_type": "markdown",
   "id": "43ae71ad",
   "metadata": {},
   "source": [
    "4. What are function annotations, and how are they used?\n",
    "\n",
    "Ans-Function annotations are arbitrary python expressions that are associated with various part of functions. These expressions are evaluated at compile time and have no life in python’s runtime environment. "
   ]
  },
  {
   "cell_type": "markdown",
   "id": "b25095f4",
   "metadata": {},
   "source": [
    "5. What are recursive functions, and how are they used?\n",
    "\n",
    "\n",
    "Ans- it is a process in which a function calls itself directly or indirectly."
   ]
  },
  {
   "cell_type": "code",
   "execution_count": 2,
   "id": "de6770e9",
   "metadata": {},
   "outputs": [
    {
     "name": "stdout",
     "output_type": "stream",
     "text": [
      "5\n",
      "4\n",
      "3\n",
      "2\n",
      "1\n",
      "0\n"
     ]
    }
   ],
   "source": [
    "def fun(n):\n",
    "    print(n)\n",
    "    if n>0:\n",
    "        return fun(n-1)\n",
    "fun(5)"
   ]
  },
  {
   "cell_type": "markdown",
   "id": "9f60b3a7",
   "metadata": {},
   "source": [
    "6. What are some general design guidelines for coding functions?\n",
    "\n",
    "Ans-\n",
    "1. Use 4-space indentation and no tabs.\n",
    "\n",
    "2. Use docstrings \n",
    "\n",
    "3. Wrap lines so that they don’t exceed 79 characters \n",
    "\n",
    "4. Use of regular and updated comments are valuable to both the coders and users\n",
    "\n",
    "5. Use spaces around operators and after commas\n",
    "\n",
    "6. Naming Conventions"
   ]
  },
  {
   "cell_type": "markdown",
   "id": "b1eaf2ac",
   "metadata": {},
   "source": [
    "7. Name three or more ways that functions can communicate results to a caller.\n",
    "\n",
    "Ans-\n",
    "\n",
    "1. Calling python function with returned value\n",
    "\n",
    "2. Python call function with arguments\n",
    "\n",
    "3. Python call function from inside function itself"
   ]
  },
  {
   "cell_type": "code",
   "execution_count": null,
   "id": "e29f3c9e",
   "metadata": {},
   "outputs": [],
   "source": []
  }
 ],
 "metadata": {
  "kernelspec": {
   "display_name": "Python 3 (ipykernel)",
   "language": "python",
   "name": "python3"
  },
  "language_info": {
   "codemirror_mode": {
    "name": "ipython",
    "version": 3
   },
   "file_extension": ".py",
   "mimetype": "text/x-python",
   "name": "python",
   "nbconvert_exporter": "python",
   "pygments_lexer": "ipython3",
   "version": "3.9.12"
  }
 },
 "nbformat": 4,
 "nbformat_minor": 5
}
