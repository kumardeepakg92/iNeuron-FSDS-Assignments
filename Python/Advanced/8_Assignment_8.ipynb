{
  "nbformat": 4,
  "nbformat_minor": 0,
  "metadata": {
    "colab": {
      "name": "8.Assignment_8.ipynb",
      "provenance": []
    },
    "kernelspec": {
      "name": "python3",
      "display_name": "Python 3"
    },
    "language_info": {
      "name": "python"
    }
  },
  "cells": [
    {
      "cell_type": "markdown",
      "source": [
        "Q1. What are the two latest user-defined exception constraints in Python 3.X?\n",
        "\n",
        "Ans-Assert & raise are the two user defined exception."
      ],
      "metadata": {
        "id": "JvaLIL-a-a7x"
      }
    },
    {
      "cell_type": "markdown",
      "source": [
        "Q2. How are class-based exceptions that have been raised matched to handlers?\n",
        "\n",
        "Ans- We can define our own class based exception."
      ],
      "metadata": {
        "id": "Irvzk_OsEMJp"
      }
    },
    {
      "cell_type": "code",
      "execution_count": 5,
      "metadata": {
        "colab": {
          "base_uri": "https://localhost:8080/",
          "height": 200
        },
        "id": "ozMKly9q-Vd3",
        "outputId": "1c2f988b-a1be-48a8-925e-6469f8f1f51b"
      },
      "outputs": [
        {
          "output_type": "error",
          "ename": "my_error",
          "evalue": "ignored",
          "traceback": [
            "\u001b[0;31m---------------------------------------------------------------------------\u001b[0m",
            "\u001b[0;31mmy_error\u001b[0m                                  Traceback (most recent call last)",
            "\u001b[0;32m<ipython-input-5-a4d62c64717a>\u001b[0m in \u001b[0;36m<module>\u001b[0;34m\u001b[0m\n\u001b[1;32m      5\u001b[0m \u001b[0mvar\u001b[0m\u001b[0;34m=\u001b[0m\u001b[0;36m9\u001b[0m\u001b[0;34m\u001b[0m\u001b[0;34m\u001b[0m\u001b[0m\n\u001b[1;32m      6\u001b[0m \u001b[0;32mif\u001b[0m \u001b[0mtype\u001b[0m\u001b[0;34m(\u001b[0m\u001b[0mvar\u001b[0m\u001b[0;34m)\u001b[0m\u001b[0;34m!=\u001b[0m\u001b[0mstr\u001b[0m\u001b[0;34m:\u001b[0m\u001b[0;34m\u001b[0m\u001b[0;34m\u001b[0m\u001b[0m\n\u001b[0;32m----> 7\u001b[0;31m   \u001b[0;32mraise\u001b[0m \u001b[0mmy_error\u001b[0m\u001b[0;34m(\u001b[0m\u001b[0;34m'Not a string value'\u001b[0m\u001b[0;34m)\u001b[0m\u001b[0;34m\u001b[0m\u001b[0;34m\u001b[0m\u001b[0m\n\u001b[0m",
            "\u001b[0;31mmy_error\u001b[0m: Not a string value"
          ]
        }
      ],
      "source": [
        "class my_error(Exception):\n",
        "  def __init__(self,st):\n",
        "    self.st=st\n",
        "    \n",
        "var=9\n",
        "if type(var)!=str:\n",
        "  raise my_error('Not a string value')"
      ]
    },
    {
      "cell_type": "markdown",
      "source": [
        "Q3. Describe two methods for attaching context information to exception artefacts.\n",
        "\n",
        "Ans-The **process()** method of LoggerAdapter is where the contextual information is added to the logging output. its passes the message and keyword arguments of the logging call, and it passes back modified versions of these to use in the call to the underlying logger.\n",
        "\n",
        "Other method that can be used is **exception()**, Logs a messgae with level ERROR on this logger. The arguments are interpreted as for **debug()**. Exception info is added to the logging message."
      ],
      "metadata": {
        "id": "vYslURHBRVM4"
      }
    },
    {
      "cell_type": "markdown",
      "source": [
        "Q4. Describe two methods for specifying the text of an exception object&#39;s error message.\n",
        "\n",
        "Ans-**raise** and **assert** are two methods for specifying the text of an exception object's error message.raise statement is used to trigger explicit exception, if certain condition is not as per requirement of programmer. it helps in triggering exception as per need of programmer and logic.\n",
        "\n",
        "There are few assertions that programmer always want to be True to avoid code failure. This type of requirment is fullfilled by assert statement. This statement takes a Boolean Condition output of which if True, further program executes. if output of assert statement is False it raises an Assertion Error."
      ],
      "metadata": {
        "id": "fiz0r05xSkxA"
      }
    },
    {
      "cell_type": "markdown",
      "source": [
        "Q5. Why do you no longer use string-based exceptions?\n",
        "\n",
        "Ans-String-based Exceptions doesn't inherit from Exceptions. so plain exceptions catch all exceptions and not only system."
      ],
      "metadata": {
        "id": "H77YuizzTDV5"
      }
    }
  ]
}