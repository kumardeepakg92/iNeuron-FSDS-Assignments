{
  "nbformat": 4,
  "nbformat_minor": 0,
  "metadata": {
    "colab": {
      "name": "5.Assignment_5.ipynb",
      "provenance": []
    },
    "kernelspec": {
      "name": "python3",
      "display_name": "Python 3"
    },
    "language_info": {
      "name": "python"
    }
  },
  "cells": [
    {
      "cell_type": "markdown",
      "source": [
        "Q1. What is the meaning of multiple inheritance?\n",
        "\n",
        "Ans- When a class is derived from more than one base class it is called multiple Inheritance.\n",
        "\n",
        "\n",
        "Solving Diamond problem in multiple inheritance.\n",
        "\n",
        "![Diamond1.png](data:image/png;base64,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)"
      ],
      "metadata": {
        "id": "ed89HJjP8AS_"
      }
    },
    {
      "cell_type": "code",
      "execution_count": 2,
      "metadata": {
        "colab": {
          "base_uri": "https://localhost:8080/"
        },
        "id": "eCX2qbT174pG",
        "outputId": "93611af0-1e3d-4c88-ce85-0019fa0b47dc"
      },
      "outputs": [
        {
          "output_type": "stream",
          "name": "stdout",
          "text": [
            "Class1\n",
            "Class2\n",
            "Class3\n",
            "Class4\n"
          ]
        }
      ],
      "source": [
        "class class1:\n",
        "  def __init__(self):\n",
        "    print(\"Class1\")\n",
        "\n",
        "class class2(class1):\n",
        "  def __init__(self):\n",
        "    super().__init__()\n",
        "    print(\"Class2\")\n",
        "    \n",
        "class class3(class1):\n",
        "  def __init__(self):\n",
        "    super().__init__()\n",
        "    print(\"Class3\")\n",
        "    \n",
        "class class4(class3,class2):\n",
        "  def __init__(self):\n",
        "    super().__init__()\n",
        "    print(\"Class4\")\n",
        "ob=class4()"
      ]
    },
    {
      "cell_type": "markdown",
      "source": [
        "Q2. What is the concept of delegation?\n",
        "\n",
        "Ans-In object-oriented programming, delegation refers to evaluating a member (property or method) of one object (the receiver) in the context of another original object (the sender). \n"
      ],
      "metadata": {
        "id": "bmaTwXsW_dkg"
      }
    },
    {
      "cell_type": "code",
      "source": [
        "from delegateto import DelegateTo\n",
        "class Foo:\n",
        "    up = DelegateTo('v', 'upper')\n",
        "    def __init__(self, v):\n",
        "        self.v = v\n",
        "\n",
        "Foo('hello').up()"
      ],
      "metadata": {
        "colab": {
          "base_uri": "https://localhost:8080/",
          "height": 36
        },
        "id": "2F7q62Zy9haj",
        "outputId": "40c19899-40ed-4fc2-abcb-fca44c2652fb"
      },
      "execution_count": 5,
      "outputs": [
        {
          "output_type": "execute_result",
          "data": {
            "text/plain": [
              "'HELLO'"
            ],
            "application/vnd.google.colaboratory.intrinsic+json": {
              "type": "string"
            }
          },
          "metadata": {},
          "execution_count": 5
        }
      ]
    },
    {
      "cell_type": "markdown",
      "source": [
        "Q3. What is the concept of composition?\n",
        "\n",
        "Ans-A class that contains one or more objects of other classes as a instance variable."
      ],
      "metadata": {
        "id": "SyI-yXzorMKD"
      }
    },
    {
      "cell_type": "code",
      "source": [
        "class car:\n",
        "  def __init__(self,wheels):\n",
        "    self.wheels=wheels\n",
        "  def whl(self):\n",
        "    return self.wheels\n",
        "\n",
        "class vehical:\n",
        "  def __init__(self,wheels,model):\n",
        "    self.wheels=wheels\n",
        "    self.model=model\n",
        "    self.obj=car(self.wheels)\n",
        "  def car_type(self):\n",
        "    return self.obj.wheels,self.model\n",
        "ob=vehical(4,'TATA')\n",
        "ob.car_type()"
      ],
      "metadata": {
        "colab": {
          "base_uri": "https://localhost:8080/"
        },
        "id": "TYYc9VG4_-QH",
        "outputId": "91cddc96-dcb2-4d52-fa80-c97a9c1a0ffd"
      },
      "execution_count": 6,
      "outputs": [
        {
          "output_type": "execute_result",
          "data": {
            "text/plain": [
              "(4, 'TATA')"
            ]
          },
          "metadata": {},
          "execution_count": 6
        }
      ]
    },
    {
      "cell_type": "markdown",
      "source": [
        "Q4. What are bound methods and how do we use them?\n",
        "\n",
        "Ans-If a function is an attribute of class and it is accessed via the instances, they are called bound methods. A bound method is one that has ‘self‘ as its first argument. Since these are dependent on the instance of classes, these are also known as instance methods."
      ],
      "metadata": {
        "id": "Jp6C5hWKvsfW"
      }
    },
    {
      "cell_type": "code",
      "source": [
        "class Car:\n",
        "    gears = 5\n",
        "    @classmethod\n",
        "    def change_gears(cls, gears):\n",
        "        cls.gears = gears\n",
        "\n",
        "Car1 = Car()\n",
        "\n",
        "print(\"Car1 gears before calling change_gears() = \", Car1.gears)\n",
        "Car1.change_gears(6) \n",
        "print(\"Gears after calling change_gears() = \", Car1.gears)\n",
        "  \n",
        "\n",
        "print(Car1.change_gears)"
      ],
      "metadata": {
        "colab": {
          "base_uri": "https://localhost:8080/"
        },
        "id": "UbDyVspwEIF2",
        "outputId": "a6f2b247-02ff-4ef5-b131-76102ad4d788"
      },
      "execution_count": 8,
      "outputs": [
        {
          "output_type": "stream",
          "name": "stdout",
          "text": [
            "Car1 gears before calling change_gears() =  5\n",
            "Gears after calling change_gears() =  6\n",
            "<bound method Car.change_gears of <class '__main__.Car'>>\n"
          ]
        }
      ]
    },
    {
      "cell_type": "markdown",
      "source": [
        "Q5. What is the purpose of pseudoprivate attributes?\n",
        "\n",
        "Ans-If Attributes and methods whose names start with a double underscore is called private fields and method. it means that this data is not inherited - at least, not in a way we are used to, because Python implements name mangling."
      ],
      "metadata": {
        "id": "3E825G7G0kQg"
      }
    },
    {
      "cell_type": "code",
      "source": [
        "class Student:\n",
        "    __schoolName = 'XYZ School' # private class attribute\n",
        "\n",
        "    def __init__(self, name, age):\n",
        "        self.__name=name  # private instance attribute\n",
        "        self.__salary=age # private instance attribute\n",
        "    def __display(self):  # private method\n",
        "\t    print('This is private method.')\n",
        "ob=Student(\"Deepak\",30)\n",
        "\n",
        "try:\n",
        "  print(ob.__schoolName)\n",
        "except Exception as e:\n",
        "  print(\"We can't call directly any private attribute Error:- \",e)\n",
        "finally:\n",
        "  print(\"Calling private attribute with class reference \",ob._Student__schoolName)\n",
        "\n",
        "\n"
      ],
      "metadata": {
        "colab": {
          "base_uri": "https://localhost:8080/"
        },
        "id": "-m4QdtYz0M9a",
        "outputId": "daef4173-cb1c-4957-f00f-3c58d575a151"
      },
      "execution_count": 14,
      "outputs": [
        {
          "output_type": "stream",
          "name": "stdout",
          "text": [
            "We can't call directly any private attribute Error:-  'Student' object has no attribute '__schoolName'\n",
            "Calling private attribute with class reference  XYZ School\n"
          ]
        }
      ]
    }
  ]
}