{
  "nbformat": 4,
  "nbformat_minor": 0,
  "metadata": {
    "colab": {
      "name": "7.Assignment_7.ipynb",
      "provenance": []
    },
    "kernelspec": {
      "name": "python3",
      "display_name": "Python 3"
    },
    "language_info": {
      "name": "python"
    }
  },
  "cells": [
    {
      "cell_type": "markdown",
      "source": [
        "Q1. What is the purpose of the try statement?\n",
        "\n",
        "**Ans**-***try***: block contains one or more statements which are likely to encounter an exception. If the statements in this block are executed without an exception, the subsequent except: block will skipped."
      ],
      "metadata": {
        "id": "ZGTcS58EKkae"
      }
    },
    {
      "cell_type": "markdown",
      "source": [
        "Q2. What are the two most popular try statement variations?\n",
        "\n",
        "Ans- Most popular statements are:\n",
        "\n",
        "1.   try, except\n",
        "2.   try, except, finally"
      ],
      "metadata": {
        "id": "D0A86s_q4ISp"
      }
    },
    {
      "cell_type": "markdown",
      "source": [
        "Q3. What is the purpose of the raise statement?\n",
        "\n",
        "Ans-If a condition does not meet our criteria but is correct according to the Python interpreter, we can intentionally raise an exception using the raise keyword."
      ],
      "metadata": {
        "id": "5tptQ5j95O5W"
      }
    },
    {
      "cell_type": "markdown",
      "source": [
        "Q4. What does the assert statement do, and what other statement is it like?\n",
        "\n",
        "Ans-Python examines the adjacent expression, preferably true when it finds an assert statement. Python throws an AssertionError exception if the result of the expression is false."
      ],
      "metadata": {
        "id": "CAkHthp75xlu"
      }
    },
    {
      "cell_type": "markdown",
      "source": [
        "Q5. What is the purpose of the with/as argument, and what other statement is it like?\n",
        "\n",
        "Ans-with statement in Python is used in exception handling to make the code cleaner and much more readable. It simplifies the management of common resources like file streams. "
      ],
      "metadata": {
        "id": "MC-JmW7O6O4y"
      }
    },
    {
      "cell_type": "code",
      "execution_count": null,
      "metadata": {
        "id": "H8upn8L2Kcim"
      },
      "outputs": [],
      "source": [
        "with op"
      ]
    }
  ]
}