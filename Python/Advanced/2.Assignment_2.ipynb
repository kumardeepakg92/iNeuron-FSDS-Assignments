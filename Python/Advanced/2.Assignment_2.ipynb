{
 "cells": [
  {
   "cell_type": "markdown",
   "id": "c8569654",
   "metadata": {},
   "source": [
    "Q1. What is the relationship between classes and modules?"
   ]
  },
  {
   "cell_type": "markdown",
   "id": "dc208b17",
   "metadata": {},
   "source": [
    "1. class is used to define a blueprint for a given object, whereas a module is used to reuse a given piece of code inside another program.\n",
    "\n",
    "2. A class can have its own instance, but a module cannot be instantiated.\n",
    "\n",
    "3. Class support OOPS functionality while module not.\n",
    "\n",
    "4. Inheritance is supported in class while not supported in method."
   ]
  },
  {
   "cell_type": "markdown",
   "id": "c55c487e",
   "metadata": {},
   "source": [
    "Q2. How do you make instances and classes?"
   ]
  },
  {
   "cell_type": "markdown",
   "id": "b5e268bb",
   "metadata": {},
   "source": [
    "For creating Class we use Class keyword followed by class name. Class instance created by calling __init__ method. passing the self keyword.\n",
    "\n",
    "class car:\n",
    "    \n",
    "    def __init__(self,a):\n",
    "\n",
    "    pass\n",
    "    \n",
    "obj=car(a)\n",
    "\n",
    "Here car is class and obj is instance of class car"
   ]
  },
  {
   "cell_type": "markdown",
   "id": "2e26d509",
   "metadata": {},
   "source": [
    "Q3. Where and how should be class attributes created?"
   ]
  },
  {
   "cell_type": "markdown",
   "id": "625ba4ef",
   "metadata": {},
   "source": [
    "class attribute declare before/outside of __init__ function.Class Attributes are unique to each class. class attributes are class variables that are inherited by every object of a class. The value of class attributes remain the same for every new object.\n",
    "\n",
    "class car:\n",
    "\n",
    "    car=\"Tata\" # This is class variable\n",
    "    \n",
    "    def __init__(self):\n",
    "    \n",
    "        pass\n",
    "    "
   ]
  },
  {
   "cell_type": "markdown",
   "id": "b6e73fbd",
   "metadata": {},
   "source": [
    "Q4. Where and how are instance attributes created?"
   ]
  },
  {
   "cell_type": "markdown",
   "id": "38f4fb3e",
   "metadata": {},
   "source": [
    "Instance Attributes are unique to each object. instance attributes, which are defined in the __init__() function, are class variables that allow us to define different values for each object of a class.\n",
    "\n",
    "class car:\n",
    "\n",
    "    def __init__(self,model):\n",
    "    \n",
    "        self.model=model # This is instance attribute which will change for every object.\n",
    "        "
   ]
  },
  {
   "cell_type": "markdown",
   "id": "09bf719f",
   "metadata": {},
   "source": [
    "Q5. What does the term &quot;self&quot; in a Python class mean?"
   ]
  },
  {
   "cell_type": "markdown",
   "id": "002953d3",
   "metadata": {},
   "source": [
    "self represents the instance of the class. By using the “self”  we can access the attributes and methods of the class in python. It binds the attributes with the given arguments."
   ]
  },
  {
   "cell_type": "markdown",
   "id": "605487b5",
   "metadata": {},
   "source": [
    "Q6. How does a Python class handle operator overloading?"
   ]
  },
  {
   "cell_type": "markdown",
   "id": "c23d7bac",
   "metadata": {},
   "source": [
    "Python operators work for built-in classes. But the same operator behaves differently with different types. For example, the + operator will perform arithmetic addition on two numbers, merge two lists, or concatenate two strings.\n",
    "\n",
    "In pyhton when we add two object we get type error. to resolve this we use magic method which start with double underscore and end with double undersccore.\n",
    "\n",
    "Operator\tSpecial Methods\n",
    "*\t__add__(self, other)\n",
    "\n",
    "*\t__sub__(self, other)\n",
    "\n",
    "*\t__mul__(self, other)"
   ]
  },
  {
   "cell_type": "code",
   "execution_count": 6,
   "id": "cb4e074b",
   "metadata": {},
   "outputs": [
    {
     "name": "stdout",
     "output_type": "stream",
     "text": [
      "3\n"
     ]
    }
   ],
   "source": [
    "class overloading:\n",
    "    def __init__(self,a):\n",
    "        self.a=a\n",
    "    def __add__(self,b):\n",
    "        return self.a+b.a\n",
    "    \n",
    "ob=overloading(1)\n",
    "ob1=overloading(2)\n",
    "print(ob+ob1)\n"
   ]
  },
  {
   "cell_type": "markdown",
   "id": "b023b440",
   "metadata": {},
   "source": [
    "Q7. When do you consider allowing operator overloading of your classes?"
   ]
  },
  {
   "cell_type": "markdown",
   "id": "03be5b84",
   "metadata": {},
   "source": [
    "When we want to different meaning for same operator. We use operator overloading."
   ]
  },
  {
   "cell_type": "markdown",
   "id": "cee7a170",
   "metadata": {},
   "source": [
    "Q8. What is the most popular form of operator overloading?"
   ]
  },
  {
   "cell_type": "markdown",
   "id": "25736c8c",
   "metadata": {},
   "source": [
    "Magic method is most popular form of operator overloading."
   ]
  },
  {
   "cell_type": "code",
   "execution_count": 7,
   "id": "9045ef95",
   "metadata": {},
   "outputs": [
    {
     "name": "stdout",
     "output_type": "stream",
     "text": [
      "Deepak Kumar\n"
     ]
    }
   ],
   "source": [
    "class overloading:\n",
    "    def __init__(self,a):\n",
    "        self.a=a\n",
    "    def __add__(self,b):\n",
    "        return self.a+b.a\n",
    "    \n",
    "ob=overloading('Deepak ')\n",
    "ob1=overloading('Kumar')\n",
    "print(ob+ob1)"
   ]
  },
  {
   "cell_type": "markdown",
   "id": "6141c205",
   "metadata": {},
   "source": [
    "Q9. What are the two most important concepts to grasp in order to comprehend Python OOP code?"
   ]
  },
  {
   "cell_type": "markdown",
   "id": "1041719b",
   "metadata": {},
   "source": [
    "Class and object are two main concepts. Apart from this there is Inheritance, Polymorphism, Abstraction, Encapsulation."
   ]
  }
 ],
 "metadata": {
  "kernelspec": {
   "display_name": "Python 3 (ipykernel)",
   "language": "python",
   "name": "python3"
  },
  "language_info": {
   "codemirror_mode": {
    "name": "ipython",
    "version": 3
   },
   "file_extension": ".py",
   "mimetype": "text/x-python",
   "name": "python",
   "nbconvert_exporter": "python",
   "pygments_lexer": "ipython3",
   "version": "3.9.12"
  }
 },
 "nbformat": 4,
 "nbformat_minor": 5
}
