{
 "cells": [
  {
   "cell_type": "markdown",
   "id": "5f7ec2f5",
   "metadata": {},
   "source": [
    "1. What is the concept of an abstract superclass?"
   ]
  },
  {
   "cell_type": "markdown",
   "id": "b6a4064f",
   "metadata": {},
   "source": [
    "An abstract class can be considered as a blueprint for other classes. It allows us to create a set of methods that must be created within any child classes built from the abstract class. A class which contains one or more abstract methods is called an abstract class. "
   ]
  },
  {
   "cell_type": "code",
   "execution_count": 4,
   "id": "50998a82",
   "metadata": {},
   "outputs": [
    {
     "name": "stdout",
     "output_type": "stream",
     "text": [
      "Triangle have 3 sides\n",
      "Square have four side\n",
      "Pentagon have 5 sides\n"
     ]
    }
   ],
   "source": [
    "from abc import ABC\n",
    "\n",
    "class polygon(ABC):\n",
    "    def noofsides(self):\n",
    "        pass\n",
    "class triangle(polygon):\n",
    "    def noofsides(self):\n",
    "        print(\"Triangle have 3 sides\")\n",
    "class square(polygon):\n",
    "    def noofsides(self):\n",
    "        print(\"Square have four side\")\n",
    "class pentagon(polygon):\n",
    "    def noofsides(self):\n",
    "        print(\"Pentagon have 5 sides\")\n",
    "        \n",
    "tri=triangle()\n",
    "tri.noofsides()\n",
    "\n",
    "sq=square()\n",
    "sq.noofsides()\n",
    "\n",
    "pen=pentagon()\n",
    "pen.noofsides()"
   ]
  },
  {
   "cell_type": "markdown",
   "id": "6bfccf24",
   "metadata": {},
   "source": [
    "2. What happens when a class statement&#39;s top level contains a basic assignment statement?"
   ]
  },
  {
   "cell_type": "markdown",
   "id": "ecc8b4fd",
   "metadata": {},
   "source": [
    "Assignment in class will be two methods. \n",
    "\n",
    "1. Class Attribute- Which is same value for all objects\n",
    "2. Instance attribute-It will change for all objects.\n"
   ]
  },
  {
   "cell_type": "code",
   "execution_count": 5,
   "id": "61d96bb1",
   "metadata": {},
   "outputs": [],
   "source": [
    "class car:\n",
    "    wheels=4 # Class Attribute\n",
    "    def __init__(self,model):\n",
    "        self.model=model #Instance attribute"
   ]
  },
  {
   "cell_type": "markdown",
   "id": "cb1b8fde",
   "metadata": {},
   "source": [
    "3. Why does a class need to manually call a superclass&#39;s __init__ method?"
   ]
  },
  {
   "cell_type": "markdown",
   "id": "723ceacf",
   "metadata": {},
   "source": [
    "we can use parent class __init__ method by using super() method. superclass init function assigning attribute value inside class, that will be used in subclass or child class also."
   ]
  },
  {
   "cell_type": "code",
   "execution_count": 16,
   "id": "dce1c990",
   "metadata": {},
   "outputs": [
    {
     "name": "stdout",
     "output_type": "stream",
     "text": [
      "TATA 2022 300000\n"
     ]
    }
   ],
   "source": [
    "class car:\n",
    "    def __init__(self,model,year):\n",
    "        self.model=model\n",
    "        self.year=year\n",
    "class tata(car):\n",
    "    def __init__(self,model,year,price):\n",
    "        super().__init__(model,year)\n",
    "        self.price=price\n",
    "    def car_spec(self):\n",
    "        print(self.model,self.year,self.price)\n",
    "\n",
    "ob=tata('TATA',2022,300000)\n",
    "ob.car_spec()\n"
   ]
  },
  {
   "cell_type": "markdown",
   "id": "93857420",
   "metadata": {},
   "source": [
    "4. How can you augment, instead of completely replacing, an inherited method?"
   ]
  },
  {
   "cell_type": "markdown",
   "id": "055cf55a",
   "metadata": {},
   "source": [
    "With super() method we can augment."
   ]
  },
  {
   "cell_type": "code",
   "execution_count": 17,
   "id": "6759b14e",
   "metadata": {},
   "outputs": [
    {
     "name": "stdout",
     "output_type": "stream",
     "text": [
      "TATA 2022 300000\n"
     ]
    }
   ],
   "source": [
    "class car:\n",
    "    def __init__(self,model,year):\n",
    "        self.model=model\n",
    "        self.year=year\n",
    "class tata(car):\n",
    "    def __init__(self,model,year,price):\n",
    "        super().__init__(model,year)\n",
    "        self.price=price\n",
    "    def car_spec(self):\n",
    "        print(self.model,self.year,self.price)\n",
    "\n",
    "ob=tata('TATA',2022,300000)\n",
    "ob.car_spec()"
   ]
  },
  {
   "cell_type": "markdown",
   "id": "c6edf221",
   "metadata": {},
   "source": [
    "5. How is the local scope of a class different from that of a function?"
   ]
  },
  {
   "cell_type": "markdown",
   "id": "46488243",
   "metadata": {},
   "source": [
    "Variable used in function can't be call outside of function, it will be available upto function exist.\n",
    "\n",
    "But class variable can be called outside of class."
   ]
  },
  {
   "cell_type": "code",
   "execution_count": 21,
   "id": "b8c3c5a1",
   "metadata": {},
   "outputs": [
    {
     "name": "stdout",
     "output_type": "stream",
     "text": [
      "a is not available outside of function.\n"
     ]
    },
    {
     "data": {
      "text/plain": [
       "10"
      ]
     },
     "execution_count": 21,
     "metadata": {},
     "output_type": "execute_result"
    }
   ],
   "source": [
    "def var():\n",
    "    a=10\n",
    "    print(a)\n",
    "try:\n",
    "    print(a)\n",
    "except NameError:\n",
    "    print(\"a is not available outside of function.\")\n",
    "\n",
    "class var:\n",
    "    cl_var=10\n",
    "    def __init__(self):\n",
    "        pass\n",
    "ob=var()\n",
    "ob.cl_var"
   ]
  }
 ],
 "metadata": {
  "kernelspec": {
   "display_name": "Python 3 (ipykernel)",
   "language": "python",
   "name": "python3"
  },
  "language_info": {
   "codemirror_mode": {
    "name": "ipython",
    "version": 3
   },
   "file_extension": ".py",
   "mimetype": "text/x-python",
   "name": "python",
   "nbconvert_exporter": "python",
   "pygments_lexer": "ipython3",
   "version": "3.9.12"
  }
 },
 "nbformat": 4,
 "nbformat_minor": 5
}
