{
 "cells": [
  {
   "cell_type": "markdown",
   "id": "59318e0b",
   "metadata": {},
   "source": [
    "Q1. Which two operator overloading methods can you use in your classes to support iteration?"
   ]
  },
  {
   "cell_type": "markdown",
   "id": "ffd8d7cc",
   "metadata": {},
   "source": [
    "__iter__ & __next__ methods use in class to support iteration."
   ]
  },
  {
   "cell_type": "code",
   "execution_count": 38,
   "id": "63613760",
   "metadata": {},
   "outputs": [
    {
     "name": "stdout",
     "output_type": "stream",
     "text": [
      "ODD No-  1\n",
      "Even No-  2\n",
      "ODD No-  3\n",
      "Even No-  4\n",
      "ODD No-  5\n",
      "Even No-  6\n",
      "ODD No-  7\n",
      "Even No-  8\n",
      "ODD No-  9\n"
     ]
    }
   ],
   "source": [
    "class odd_even:\n",
    "    \n",
    "    def __init__(self,n):\n",
    "        self.n=n\n",
    "        self.i=0\n",
    "    def __iter__(self):\n",
    "        return self\n",
    "    \n",
    "    def __next__(self):\n",
    "        self.i+=1\n",
    "        if self.i<self.n:\n",
    "            if self.i%2==0:\n",
    "                print(\"Even No- \",self.i)\n",
    "            else:\n",
    "                print(\"ODD No- \",self.i)\n",
    "        else:\n",
    "            raise StopIteration\n",
    "            \n",
    "ob=odd_even(10)\n",
    "\n",
    "for i in range(9):\n",
    "    next(ob)"
   ]
  },
  {
   "cell_type": "markdown",
   "id": "37777abe",
   "metadata": {},
   "source": [
    "Q2. In what contexts do the two operator overloading methods manage printing?"
   ]
  },
  {
   "cell_type": "markdown",
   "id": "902cd753",
   "metadata": {},
   "source": [
    "__str__ & __repr__ operator overloading methods manage printing.\n",
    "\n",
    " the __str__ function is supposed to return a human-readable format, which is good for logging or to display some information about the object. Whereas, the __repr__ function is supposed to return an “official” string representation of the object, which can be used to construct the object again."
   ]
  },
  {
   "cell_type": "code",
   "execution_count": 47,
   "id": "7999d0da",
   "metadata": {},
   "outputs": [
    {
     "name": "stdout",
     "output_type": "stream",
     "text": [
      "2022-08-23 23:35:41.916558\n",
      "datetime.datetime(2022, 8, 23, 23, 35, 41, 916558)\n",
      "\n",
      " Person name is Deepak and age is 30\n",
      "Person(name=Deepak, age=30)\n"
     ]
    }
   ],
   "source": [
    "import datetime\n",
    "now = datetime.datetime.now()\n",
    "print(now.__str__())\n",
    "print(now.__repr__())\n",
    "\n",
    "\n",
    "class Person:\n",
    "\n",
    "    def __init__(self, person_name, person_age):\n",
    "        self.name = person_name\n",
    "        self.age = person_age\n",
    "\n",
    "    def __str__(self):\n",
    "        return f'Person name is {self.name} and age is {self.age}'\n",
    "\n",
    "    def __repr__(self):\n",
    "        return f'Person(name={self.name}, age={self.age})'\n",
    "\n",
    "\n",
    "p = Person('Deepak', 30)\n",
    "\n",
    "print(\"\\n\",p.__str__())\n",
    "print(p.__repr__())"
   ]
  },
  {
   "cell_type": "markdown",
   "id": "cd864adb",
   "metadata": {},
   "source": [
    "Q3. In a class, how do you intercept slice operations?"
   ]
  },
  {
   "cell_type": "markdown",
   "id": "84ec0cfd",
   "metadata": {},
   "source": [
    " We can implement __getitem__ method in class for slicing operation."
   ]
  },
  {
   "cell_type": "code",
   "execution_count": 59,
   "id": "8805677a",
   "metadata": {},
   "outputs": [
    {
     "name": "stdout",
     "output_type": "stream",
     "text": [
      "(1, 2)\n"
     ]
    }
   ],
   "source": [
    "class abc:\n",
    "    def __getitem__(self,key):\n",
    "        return key\n",
    "ob=abc()\n",
    "print(ob[1,2])"
   ]
  },
  {
   "cell_type": "markdown",
   "id": "653d43a4",
   "metadata": {},
   "source": [
    "Q4. In a class, how do you capture in-place addition?"
   ]
  },
  {
   "cell_type": "markdown",
   "id": "aec82bdb",
   "metadata": {},
   "source": [
    "In-place operation addition is the process of adding two variable. like x+=y. We can implement in class using __iadd()__ method"
   ]
  },
  {
   "cell_type": "code",
   "execution_count": 68,
   "id": "fb3fd40d",
   "metadata": {},
   "outputs": [
    {
     "data": {
      "text/plain": [
       "22"
      ]
     },
     "execution_count": 68,
     "metadata": {},
     "output_type": "execute_result"
    }
   ],
   "source": [
    "class inplace:\n",
    "    def __init__(self,num):\n",
    "        self.num=num\n",
    "    def __iadd__(self,other):\n",
    "        self.num+=other.num\n",
    "        return self.num\n",
    "ob=inplace(12)\n",
    "ob1=inplace(10)\n",
    "ob+=ob1\n",
    "ob"
   ]
  },
  {
   "cell_type": "markdown",
   "id": "ce64d154",
   "metadata": {},
   "source": [
    "Q5. When is it appropriate to use operator overloading?"
   ]
  },
  {
   "cell_type": "markdown",
   "id": "ade7eb38",
   "metadata": {},
   "source": [
    "If we want to use operator as other than its normal operation."
   ]
  },
  {
   "cell_type": "code",
   "execution_count": 69,
   "id": "6d66ec1d",
   "metadata": {},
   "outputs": [
    {
     "data": {
      "text/plain": [
       "100"
      ]
     },
     "execution_count": 69,
     "metadata": {},
     "output_type": "execute_result"
    }
   ],
   "source": [
    "class add_operator:\n",
    "    def __init__(self,num):\n",
    "        self.num=num\n",
    "    def __add__(self,other):\n",
    "        return self.num+other.num\n",
    "num1=add_operator(10)\n",
    "num2=add_operator(90)\n",
    "num1+num2"
   ]
  }
 ],
 "metadata": {
  "kernelspec": {
   "display_name": "Python 3 (ipykernel)",
   "language": "python",
   "name": "python3"
  },
  "language_info": {
   "codemirror_mode": {
    "name": "ipython",
    "version": 3
   },
   "file_extension": ".py",
   "mimetype": "text/x-python",
   "name": "python",
   "nbconvert_exporter": "python",
   "pygments_lexer": "ipython3",
   "version": "3.9.12"
  }
 },
 "nbformat": 4,
 "nbformat_minor": 5
}
