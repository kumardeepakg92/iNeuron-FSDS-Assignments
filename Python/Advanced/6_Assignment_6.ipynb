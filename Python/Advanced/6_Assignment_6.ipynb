{
  "nbformat": 4,
  "nbformat_minor": 0,
  "metadata": {
    "colab": {
      "name": "6.Assignment_6.ipynb",
      "provenance": []
    },
    "kernelspec": {
      "name": "python3",
      "display_name": "Python 3"
    },
    "language_info": {
      "name": "python"
    }
  },
  "cells": [
    {
      "cell_type": "markdown",
      "source": [
        "Q1. Describe three applications for exception processing.\n",
        "\n",
        "An exception in Python is an incident that happens while executing a program that disrupts the normal flow of the program's instructions. When a Python code comes across a condition it can't handle, it raises an exception.\n",
        "\n",
        "**StopIteration**\tIf the next() method returns null for an iterator, this exception is raised.\n",
        "\n",
        "**IOError**\tIf an input or output action fails, like when using the print command or the open() function to access a file that does not exist, this exception is raised.\n",
        "\n",
        "**IndexError**\tThis exception is raised when the index attempted to be accessed is not found."
      ],
      "metadata": {
        "id": "NixLyThr-Gf7"
      }
    },
    {
      "cell_type": "markdown",
      "source": [
        "Q2. What happens if you don&#39;t do something extra to treat an exception?\n",
        "\n",
        "**Ans**-If Exceptions are not handled flow of program will be broken during the run time which might lead to a abnormal termination of the program. Inshort inability of program to handle exceptions will result in crashing of program.\n",
        "\n"
      ],
      "metadata": {
        "id": "Q9bVyfSUC6-s"
      }
    },
    {
      "cell_type": "markdown",
      "source": [
        "Q3. What are your options for recovering from an exception in your script?\n",
        "\n",
        "**Ans**- We will implement **try** and except block to recover from exception"
      ],
      "metadata": {
        "id": "CkoC_AZrDxF0"
      }
    },
    {
      "cell_type": "markdown",
      "source": [
        "Q4. Describe two methods for triggering exceptions in your script.\n",
        "\n",
        "**Ans**-raise and assert methods to trigger exceptions.\n",
        "\n",
        "**raise**-If a condition does not meet our criteria but is correct according to the Python interpreter, we can intentionally raise an exception using the raise keyword. \n",
        "\n",
        "**assert**- Python examines the adjacent expression, preferably true when it finds an assert statement. Python throws an AssertionError exception if the result of the expression is false."
      ],
      "metadata": {
        "id": "kO3XcsdiEE08"
      }
    },
    {
      "cell_type": "code",
      "execution_count": 3,
      "metadata": {
        "colab": {
          "base_uri": "https://localhost:8080/",
          "height": 200
        },
        "id": "NlwTSFxt-FL2",
        "outputId": "9bde2270-7c15-43f4-990a-b8349757514e"
      },
      "outputs": [
        {
          "output_type": "error",
          "ename": "Exception",
          "evalue": "ignored",
          "traceback": [
            "\u001b[0;31m---------------------------------------------------------------------------\u001b[0m",
            "\u001b[0;31mException\u001b[0m                                 Traceback (most recent call last)",
            "\u001b[0;32m<ipython-input-3-a4042a7b6a79>\u001b[0m in \u001b[0;36m<module>\u001b[0;34m\u001b[0m\n\u001b[1;32m      1\u001b[0m \u001b[0mn\u001b[0m\u001b[0;34m=\u001b[0m\u001b[0;36m0\u001b[0m\u001b[0;34m\u001b[0m\u001b[0;34m\u001b[0m\u001b[0m\n\u001b[1;32m      2\u001b[0m \u001b[0;32mif\u001b[0m \u001b[0mn\u001b[0m\u001b[0;34m<\u001b[0m\u001b[0;36m3\u001b[0m\u001b[0;34m:\u001b[0m\u001b[0;34m\u001b[0m\u001b[0;34m\u001b[0m\u001b[0m\n\u001b[0;32m----> 3\u001b[0;31m   \u001b[0;32mraise\u001b[0m \u001b[0mException\u001b[0m\u001b[0;34m(\u001b[0m\u001b[0;34m\"Number is less than or equal to 3 \"\u001b[0m\u001b[0;34m)\u001b[0m\u001b[0;34m\u001b[0m\u001b[0;34m\u001b[0m\u001b[0m\n\u001b[0m",
            "\u001b[0;31mException\u001b[0m: Number is less than or equal to 3 "
          ]
        }
      ],
      "source": [
        "n=0\n",
        "if n<3:\n",
        "  raise Exception(\"Number is less than or equal to 3 \")"
      ]
    },
    {
      "cell_type": "code",
      "source": [
        "n=0\n",
        "if True:\n",
        "  assert n>3,\"n is less than 3\"\n",
        "  print(2)"
      ],
      "metadata": {
        "colab": {
          "base_uri": "https://localhost:8080/",
          "height": 217
        },
        "id": "Uk8we_bgGKe6",
        "outputId": "e492825b-d1cc-4d32-83b0-9eb9824245d5"
      },
      "execution_count": 7,
      "outputs": [
        {
          "output_type": "error",
          "ename": "AssertionError",
          "evalue": "ignored",
          "traceback": [
            "\u001b[0;31m---------------------------------------------------------------------------\u001b[0m",
            "\u001b[0;31mAssertionError\u001b[0m                            Traceback (most recent call last)",
            "\u001b[0;32m<ipython-input-7-536c11a7a1a2>\u001b[0m in \u001b[0;36m<module>\u001b[0;34m\u001b[0m\n\u001b[1;32m      1\u001b[0m \u001b[0mn\u001b[0m\u001b[0;34m=\u001b[0m\u001b[0;36m0\u001b[0m\u001b[0;34m\u001b[0m\u001b[0;34m\u001b[0m\u001b[0m\n\u001b[1;32m      2\u001b[0m \u001b[0;32mif\u001b[0m \u001b[0;32mTrue\u001b[0m\u001b[0;34m:\u001b[0m\u001b[0;34m\u001b[0m\u001b[0;34m\u001b[0m\u001b[0m\n\u001b[0;32m----> 3\u001b[0;31m   \u001b[0;32massert\u001b[0m \u001b[0mn\u001b[0m\u001b[0;34m>\u001b[0m\u001b[0;36m3\u001b[0m\u001b[0;34m,\u001b[0m\u001b[0;34m\"n is less than 3\"\u001b[0m\u001b[0;34m\u001b[0m\u001b[0;34m\u001b[0m\u001b[0m\n\u001b[0m\u001b[1;32m      4\u001b[0m   \u001b[0mprint\u001b[0m\u001b[0;34m(\u001b[0m\u001b[0;36m2\u001b[0m\u001b[0;34m)\u001b[0m\u001b[0;34m\u001b[0m\u001b[0;34m\u001b[0m\u001b[0m\n",
            "\u001b[0;31mAssertionError\u001b[0m: n is less than 3"
          ]
        }
      ]
    },
    {
      "cell_type": "markdown",
      "source": [
        "Q5. Identify two methods for specifying actions to be executed at termination time, regardless of whether or not an exception exists.\n",
        "\n",
        "**Ans**-**else** and **finally** blocks executed at termination time, regardless of whether an exceptions exists or not."
      ],
      "metadata": {
        "id": "uEr_CTwvHYXc"
      }
    },
    {
      "cell_type": "code",
      "source": [
        "try:\n",
        "    print('try block')\n",
        "    x=int(input('Enter a number: '))\n",
        "    y=int(input('Enter another number: '))\n",
        "    z=x/y\n",
        "except ZeroDivisionError:\n",
        "    print(\"except ZeroDivisionError block\")\n",
        "    print(\"Division by 0 not accepted\")\n",
        "else:\n",
        "    print(\"else block\")\n",
        "    print(\"Division = \", z)\n",
        "finally:\n",
        "    print(\"finally block\")\n",
        "    x=0\n",
        "    y=0\n",
        "print (\"Out of try, except, else and finally blocks. x= {} and y= {}\".format(x,y) )"
      ],
      "metadata": {
        "colab": {
          "base_uri": "https://localhost:8080/"
        },
        "id": "sUFBjmOtG9yD",
        "outputId": "dcf3b7be-1a1a-4d4b-d7a7-1cb15e78186f"
      },
      "execution_count": 9,
      "outputs": [
        {
          "output_type": "stream",
          "name": "stdout",
          "text": [
            "try block\n",
            "Enter a number: 10\n",
            "Enter another number: 2\n",
            "else block\n",
            "Division =  5.0\n",
            "finally block\n",
            "Out of try, except, else and finally blocks. x= 0 and y= 0\n"
          ]
        }
      ]
    },
    {
      "cell_type": "code",
      "source": [],
      "metadata": {
        "id": "CHad8-84Jqp4"
      },
      "execution_count": null,
      "outputs": []
    }
  ]
}