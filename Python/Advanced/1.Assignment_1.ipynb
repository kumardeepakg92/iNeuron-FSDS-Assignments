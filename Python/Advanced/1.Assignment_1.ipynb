{
 "cells": [
  {
   "cell_type": "markdown",
   "id": "7e23e1f4",
   "metadata": {},
   "source": [
    "Q1. What is the purpose of Python&#39;s OOP?"
   ]
  },
  {
   "cell_type": "markdown",
   "id": "f53d7547",
   "metadata": {},
   "source": [
    "OOP is bind bind the data and the function in to a single unit. So that no other part can aceess data. we can use by creating object of class.\n",
    "\n",
    "OOP makes our code reusable and logical, four main principles of OOP are inheritance, encapsulation, abstraction, and polymorphism."
   ]
  },
  {
   "cell_type": "markdown",
   "id": "4f4f4e48",
   "metadata": {},
   "source": [
    "Q2. Where does an inheritance search look for an attribute?"
   ]
  },
  {
   "cell_type": "markdown",
   "id": "34f0be0d",
   "metadata": {},
   "source": [
    "Ans- It will first searches inside child class or its own instance. if not available then searches to parent class."
   ]
  },
  {
   "cell_type": "markdown",
   "id": "6313e55e",
   "metadata": {},
   "source": [
    "Q3. How do you distinguish between a class object and an instance object?"
   ]
  },
  {
   "cell_type": "markdown",
   "id": "838e0a3c",
   "metadata": {},
   "source": [
    "Object is a contiguous block of memory that stores the actual information that distinguishes this object from other objects, while an instance is a reference to an object. It is a block of memory, which points to the staring address of where the object is stored.\n",
    "\n",
    "Objects are the results of instantiating a class where Instance is a memory block, which contains the reference to an object."
   ]
  },
  {
   "cell_type": "markdown",
   "id": "93f5a296",
   "metadata": {},
   "source": [
    "Q4. What makes the first argument in a class’s method function special?"
   ]
  },
  {
   "cell_type": "markdown",
   "id": "3a8b5ca6",
   "metadata": {},
   "source": [
    "First argument in class is __init__ method which acts as constructor and take parameter value for use inside class. Inside __init__ we use first self argument . it refers to to the newly created object and assign all parameters values inside class."
   ]
  },
  {
   "cell_type": "markdown",
   "id": "922ca30d",
   "metadata": {},
   "source": [
    "Q5. What is the purpose of the __init__ method?"
   ]
  },
  {
   "cell_type": "markdown",
   "id": "7996f4da",
   "metadata": {},
   "source": [
    "It acts as a Constructor like other oops concept. It is run as soon as an object of a class is created. The method is useful to do any initialization you want to do with your object."
   ]
  },
  {
   "cell_type": "code",
   "execution_count": 3,
   "id": "1bb7c2f3",
   "metadata": {},
   "outputs": [],
   "source": [
    "class abc:\n",
    "    def __init__(self):\n",
    "        pass\n",
    "    pass"
   ]
  },
  {
   "cell_type": "markdown",
   "id": "537eb693",
   "metadata": {},
   "source": [
    "Q6. What is the process for creating a class instance?"
   ]
  },
  {
   "cell_type": "markdown",
   "id": "0a9cf628",
   "metadata": {},
   "source": [
    "We can create object of a class by passing argument of init function required.\n"
   ]
  },
  {
   "cell_type": "markdown",
   "id": "6a070cb5",
   "metadata": {},
   "source": [
    "my_car=car('abc') -> In this my_car is instance of car class"
   ]
  },
  {
   "cell_type": "markdown",
   "id": "9a2d12d7",
   "metadata": {},
   "source": [
    "Q7. What is the process for creating a class?"
   ]
  },
  {
   "cell_type": "markdown",
   "id": "40a5b214",
   "metadata": {},
   "source": [
    "Ans- class keyword is used followed by name of class for creating any class.\n",
    "\n",
    "class Class Name:"
   ]
  },
  {
   "cell_type": "markdown",
   "id": "14c0f2ac",
   "metadata": {},
   "source": [
    "Q8. How would you define the superclasses of a class?"
   ]
  },
  {
   "cell_type": "markdown",
   "id": "7c13815a",
   "metadata": {},
   "source": [
    "Child class is created by giving reference of superclass/parent class\n",
    "\n",
    "class tata_motor(car): here tata_motor is child class of superclass car"
   ]
  },
  {
   "cell_type": "code",
   "execution_count": null,
   "id": "232903f9",
   "metadata": {},
   "outputs": [],
   "source": []
  }
 ],
 "metadata": {
  "kernelspec": {
   "display_name": "Python 3 (ipykernel)",
   "language": "python",
   "name": "python3"
  },
  "language_info": {
   "codemirror_mode": {
    "name": "ipython",
    "version": 3
   },
   "file_extension": ".py",
   "mimetype": "text/x-python",
   "name": "python",
   "nbconvert_exporter": "python",
   "pygments_lexer": "ipython3",
   "version": "3.9.12"
  }
 },
 "nbformat": 4,
 "nbformat_minor": 5
}
