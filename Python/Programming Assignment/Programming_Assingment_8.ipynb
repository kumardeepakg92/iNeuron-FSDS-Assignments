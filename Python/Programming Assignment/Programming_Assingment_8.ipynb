{
 "cells": [
  {
   "cell_type": "markdown",
   "id": "071dceef",
   "metadata": {},
   "source": [
    "1. Write a Python Program to Add Two Matrices?"
   ]
  },
  {
   "cell_type": "code",
   "execution_count": 40,
   "id": "4c62b3e4",
   "metadata": {},
   "outputs": [
    {
     "name": "stdout",
     "output_type": "stream",
     "text": [
      "Adding two matrix, No of row = No of column\n",
      "Enter row or column of matrix 2\n",
      "Matrix[1] Row [1] Column [1] = 4\n",
      "Matrix[1] Row [1] Column [2] = 5\n",
      "Matrix[1] Row [2] Column [1] = 5\n",
      "Matrix[1] Row [2] Column [2] = 6\n",
      "Matrix[2] Row [1] Column [1] = 65\n",
      "Matrix[2] Row [1] Column [2] = 5\n",
      "Matrix[2] Row [2] Column [1] = 8\n",
      "Matrix[2] Row [2] Column [2] = 8\n",
      "\n",
      "Matrix[0]=\n",
      "[[4, 5], [5, 6]]\n",
      "\n",
      "Matrix[1]=\n",
      "[[65, 5], [8, 8]]\n",
      "\n",
      "Sum of two Matrix \n",
      " [[69, 10], [13, 14]]\n"
     ]
    }
   ],
   "source": [
    "try:\n",
    "    a=int(input(\"Adding two matrix, No of row = No of column\\nEnter row or column of matrix \"))\n",
    "    mat=[]\n",
    "    for k in range(2):\n",
    "        dumy=[]\n",
    "        for i in range(a):\n",
    "            temp=[]\n",
    "            for j in range(a):\n",
    "                temp.append(int(input(\"Matrix[{}] Row [{}] Column [{}] = \".format(k+1,i+1,j+1))))\n",
    "            dumy.append(temp)\n",
    "        mat.append(dumy)\n",
    "    #Print both matrix\n",
    "    for i in range(2):\n",
    "        print(\"\\nMatrix[{}]=\\n{}\".format(i,mat[i]))\n",
    "    \n",
    "    #Creating Nested Matrix\n",
    "    sum=[]\n",
    "    for i in range(len(mat[0])):\n",
    "        sum.append([])\n",
    "        for j in range(len(mat[0])):\n",
    "            sum[i].append(0)\n",
    "    #Adding Matrix\n",
    "    for i in range(a):\n",
    "        for j in range(a):\n",
    "            sum[i][j]=mat[0][i][j]+mat[1][i][j]\n",
    "            \n",
    "    print(\"\\nSum of two Matrix \\n\",sum)\n",
    "except Exception as e:\n",
    "    print(e)\n"
   ]
  },
  {
   "cell_type": "markdown",
   "id": "a634d2cb",
   "metadata": {},
   "source": [
    "2. Write a Python Program to Multiply Two Matrices?"
   ]
  },
  {
   "cell_type": "code",
   "execution_count": 75,
   "id": "5c0de87d",
   "metadata": {},
   "outputs": [
    {
     "name": "stdout",
     "output_type": "stream",
     "text": [
      "Multiply two matrix,\n",
      "No of row in 1st Matrix 2\n",
      "\n",
      "No of Column in 1st Matrix 4\n",
      "Matrix[1] Row [1] Column [1] = 2\n",
      "Matrix[1] Row [1] Column [2] = 1\n",
      "Matrix[1] Row [1] Column [3] = 3\n",
      "Matrix[1] Row [1] Column [4] = 4\n",
      "Matrix[1] Row [2] Column [1] = 5\n",
      "Matrix[1] Row [2] Column [2] = 6\n",
      "Matrix[1] Row [2] Column [3] = 5\n",
      "Matrix[1] Row [2] Column [4] = 2\n",
      "\n",
      "No of row in 2nd Matrix 4\n",
      "\n",
      "No of Column in 2nd Matrix 1\n",
      "Matrix[2] Row [1] Column [1] = 1\n",
      "Matrix[2] Row [2] Column [1] = 2\n",
      "Matrix[2] Row [3] Column [1] = 3\n",
      "Matrix[2] Row [4] Column [1] = 4\n",
      "\n",
      "Matrix[1]2*4= [[2, 1, 3, 4], [5, 6, 5, 2]]\n",
      "Matrix[2]4*1= [[1], [2], [3], [4]]\n",
      "Multiplication of two matricx =  [[29], [40]]\n"
     ]
    }
   ],
   "source": [
    "try:\n",
    "    mat1_row=int(input(\"Multiply two matrix,\\nNo of row in 1st Matrix \"))\n",
    "    mat1_col=int(input(\"\\nNo of Column in 1st Matrix \"))\n",
    "    mat1=[]\n",
    "    \n",
    "    #Input of first matrix\n",
    "    for i in range(mat1_row):\n",
    "        temp=[]\n",
    "        for j in range(mat1_col):\n",
    "            temp.append(int(input(\"Matrix[1] Row [{}] Column [{}] = \".format(i+1,j+1))))\n",
    "        mat1.append(temp)\n",
    "    \n",
    "    #Input of second matrix\n",
    "    mat2_row=int(input(\"\\nNo of row in 2nd Matrix \"))\n",
    "    mat2_col=int(input(\"\\nNo of Column in 2nd Matrix \"))\n",
    "    mat2=[]\n",
    "    \n",
    "    for i in range(mat2_row):\n",
    "        temp=[]\n",
    "        for j in range(mat2_col):\n",
    "            temp.append(int(input(\"Matrix[2] Row [{}] Column [{}] = \".format(i+1,j+1))))\n",
    "        mat2.append(temp)    \n",
    "    #Print both matrix\n",
    "    print(\"\\nMatrix[1]{}*{}= {}\\nMatrix[2]{}*{}= {}\".format(mat1_row,mat1_col,mat1,mat2_row,mat2_col,mat2))\n",
    "    #Compare row and column\n",
    "    if mat1_col==mat2_row:\n",
    "        mul=[]\n",
    "        #Nested matrix\n",
    "        for i in range(mat1_row):\n",
    "            mul.append([])\n",
    "            for j in range(mat2_col):\n",
    "                mul[i].append(0)\n",
    "        #Multiplication\n",
    "        for i in range(mat1_row):\n",
    "            for j in range(mat2_col):\n",
    "                for k in range(mat2_row):\n",
    "                    mul[i][j]+=mat1[i][k]*mat2[k][j]\n",
    "        print(\"Multiplication of two matricx = \",mul)\n",
    "    else:\n",
    "        print(\"Matrix[1] Row is not equal to Matrix[2] Column\")\n",
    "except Exception as e:\n",
    "    print(e)\n"
   ]
  },
  {
   "cell_type": "markdown",
   "id": "ee7690fc",
   "metadata": {},
   "source": [
    "3. Write a Python Program to Transpose a Matrix?"
   ]
  },
  {
   "cell_type": "code",
   "execution_count": 84,
   "id": "507f8d9b",
   "metadata": {},
   "outputs": [
    {
     "name": "stdout",
     "output_type": "stream",
     "text": [
      "Transpose of matrix,\n",
      "No of row in Matrix 3\n",
      "\n",
      "No of Column in Matrix 5\n",
      "Matrix Row [1] Column [1] = 1\n",
      "Matrix Row [1] Column [2] = 2\n",
      "Matrix Row [1] Column [3] = 3\n",
      "Matrix Row [1] Column [4] = 4\n",
      "Matrix Row [1] Column [5] = 5\n",
      "Matrix Row [2] Column [1] = 6\n",
      "Matrix Row [2] Column [2] = 7\n",
      "Matrix Row [2] Column [3] = 8\n",
      "Matrix Row [2] Column [4] = 9\n",
      "Matrix Row [2] Column [5] = 0\n",
      "Matrix Row [3] Column [1] = 3\n",
      "Matrix Row [3] Column [2] = 2\n",
      "Matrix Row [3] Column [3] = 1\n",
      "Matrix Row [3] Column [4] = 4\n",
      "Matrix Row [3] Column [5] = 5\n",
      "Matrix =  [[1, 2, 3, 4, 5], [6, 7, 8, 9, 0], [3, 2, 1, 4, 5]]\n",
      "[[1, 6, 3], [2, 7, 2], [3, 8, 1], [4, 9, 4], [5, 0, 5]]\n"
     ]
    }
   ],
   "source": [
    "try:\n",
    "    mat_row=int(input(\"Transpose of matrix,\\nNo of row in Matrix \"))\n",
    "    mat_col=int(input(\"\\nNo of Column in Matrix \"))\n",
    "    mat=[]\n",
    "    \n",
    "    #Input of first matrix\n",
    "    for i in range(mat_row):\n",
    "        temp=[]\n",
    "        for j in range(mat_col):\n",
    "            temp.append(int(input(\"Matrix Row [{}] Column [{}] = \".format(i+1,j+1))))\n",
    "        mat.append(temp)\n",
    "    print(\"Matrix = \",mat)\n",
    "    trans=[]\n",
    "    for i in range(mat_col):\n",
    "        trans.append([])\n",
    "        for j in range(mat_row):\n",
    "            trans[i].append(0)\n",
    "    #transpose\n",
    "    for i in range(mat_row):\n",
    "        for j in range(mat_col):\n",
    "            trans[j][i]=mat[i][j]\n",
    "    print(trans)\n",
    "except Exception as e:\n",
    "    print(e)"
   ]
  },
  {
   "cell_type": "markdown",
   "id": "c1af518e",
   "metadata": {},
   "source": [
    "4. Write a Python Program to Sort Words in Alphabetic Order?"
   ]
  },
  {
   "cell_type": "code",
   "execution_count": 92,
   "id": "2b7c37b0",
   "metadata": {},
   "outputs": [
    {
     "name": "stdout",
     "output_type": "stream",
     "text": [
      "Enter Wordspo,rt,as,asdadsa,u\n"
     ]
    },
    {
     "data": {
      "text/plain": [
       "['as', 'asdadsa', 'po', 'rt', 'u']"
      ]
     },
     "execution_count": 92,
     "metadata": {},
     "output_type": "execute_result"
    }
   ],
   "source": [
    "li=input(\"Enter Words\").split(',')\n",
    "li.sort()\n",
    "print(\"Sorted Words\")"
   ]
  },
  {
   "cell_type": "markdown",
   "id": "f9d74db6",
   "metadata": {},
   "source": [
    "5. Write a Python Program to Remove Punctuation From a String?"
   ]
  },
  {
   "cell_type": "code",
   "execution_count": 96,
   "id": "f63cb4d5",
   "metadata": {},
   "outputs": [
    {
     "name": "stdout",
     "output_type": "stream",
     "text": [
      "Input String\n",
      "this; is@( $punctuation#,< programme%^\n",
      "Removed all Punctuation\n",
      " this is punctuation programme\n"
     ]
    }
   ],
   "source": [
    "pun='''!()-[]{};:'\"\\,<>./?@#$%^&*_~'''\n",
    "s=input(\"Input String\\n\")\n",
    "no_pun=\"\"\n",
    "for i in s:\n",
    "    if i not in pun:\n",
    "        no_pun=no_pun+i\n",
    "print(\"Removed all Punctuation\\n\",no_pun)\n",
    "        "
   ]
  }
 ],
 "metadata": {
  "kernelspec": {
   "display_name": "Python 3 (ipykernel)",
   "language": "python",
   "name": "python3"
  },
  "language_info": {
   "codemirror_mode": {
    "name": "ipython",
    "version": 3
   },
   "file_extension": ".py",
   "mimetype": "text/x-python",
   "name": "python",
   "nbconvert_exporter": "python",
   "pygments_lexer": "ipython3",
   "version": "3.9.12"
  }
 },
 "nbformat": 4,
 "nbformat_minor": 5
}
