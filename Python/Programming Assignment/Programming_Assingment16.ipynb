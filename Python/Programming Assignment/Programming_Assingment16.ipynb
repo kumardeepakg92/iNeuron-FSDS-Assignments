{
 "cells": [
  {
   "cell_type": "markdown",
   "id": "48a9ec13",
   "metadata": {},
   "source": [
    "Question1. \n",
    "\n",
    "Write a function that stutters a word as if someone is struggling to read it. The first two letters are repeated twice with an ellipsis ... and space after each, and then the word is pronounced with a question mark ?.\n",
    "\n",
    "Examples\n",
    "stutter(\"incredible\") ➞ \"in... in... incredible?\"\n",
    "\n",
    "stutter(\"enthusiastic\") ➞ \"en... en... enthusiastic?\"\n",
    "\n",
    "stutter(\"outstanding\") ➞ \"ou... ou... outstanding?\"\n",
    "\n",
    "Hint :- Assume all input is in lower case and at least two characters long."
   ]
  },
  {
   "cell_type": "code",
   "execution_count": 8,
   "id": "00c84dc8",
   "metadata": {},
   "outputs": [
    {
     "name": "stdout",
     "output_type": "stream",
     "text": [
      "incredible ->  in... in... incredible?\n",
      "enthusiastic ->  en... en... enthusiastic?\n",
      "outstanding ->  ou... ou... outstanding?\n"
     ]
    }
   ],
   "source": [
    "def stutter(string):\n",
    "    st=string[0:2]+'... '+string[0:2]+'... '+string+'?'\n",
    "    return st\n",
    "print(\"incredible -> \",stutter('incredible'))\n",
    "print(\"enthusiastic -> \",stutter('enthusiastic'))\n",
    "print(\"outstanding -> \",stutter('outstanding'))"
   ]
  },
  {
   "cell_type": "markdown",
   "id": "95189ac6",
   "metadata": {},
   "source": [
    "Question 2.\n",
    "Create a function that takes an angle in radians and returns the corresponding angle in degrees rounded to one decimal place.\n",
    "\n",
    "Examples\n",
    "\n",
    "radians_to_degrees(1) ➞ 57.3\n",
    "\n",
    "radians_to_degrees(20) ➞ 1145.9\n",
    "\n",
    "radians_to_degrees(50) ➞ 2864.8\n"
   ]
  },
  {
   "cell_type": "code",
   "execution_count": 13,
   "id": "54e52bc4",
   "metadata": {},
   "outputs": [
    {
     "name": "stdout",
     "output_type": "stream",
     "text": [
      "1 Radian = 57.3 Degree\n",
      "20 Radian = 1145.9 Degree\n",
      "50 Radian = 2864.8 Degree\n"
     ]
    }
   ],
   "source": [
    "import math\n",
    "\n",
    "def radians_to_degrees(angle_in_radian):\n",
    "    degree=round(angle_in_radian*(180/math.pi),1)\n",
    "    return degree\n",
    "print(\"1 Radian = {} Degree\".format(radians_to_degrees(1)))\n",
    "print(\"20 Radian = {} Degree\".format(radians_to_degrees(20)))\n",
    "print(\"50 Radian = {} Degree\".format(radians_to_degrees(50)))"
   ]
  },
  {
   "cell_type": "markdown",
   "id": "044ac910",
   "metadata": {},
   "source": [
    "Question 3. \n",
    "In this challenge, establish if a given integer num is a Curzon number. If 1 plus 2 elevated to num is exactly divisible by 1 plus 2 multiplied by num, then num is a Curzon number.\n",
    "\n",
    "Given a non-negative integer num, implement a function that returns True if num is a Curzon number, or False otherwise.\n",
    "\n",
    "Examples\n",
    "is_curzon(5) ➞ True\n",
    "# 2 ** 5 + 1 = 33\n",
    "# 2 * 5 + 1 = 11\n",
    "# 33 is a multiple of 11\n",
    "\n",
    "is_curzon(10) ➞ False\n",
    "# 2 ** 10 + 1 = 1025\n",
    "# 2 * 10 + 1 = 21\n",
    "# 1025 is not a multiple of 21\n",
    "\n",
    "is_curzon(14) ➞ True\n",
    "# 2 ** 14 + 1 = 16385\n",
    "# 2 * 14 + 1 = 29\n",
    "# 16385 is a multiple of 29"
   ]
  },
  {
   "cell_type": "code",
   "execution_count": 15,
   "id": "d60e2742",
   "metadata": {},
   "outputs": [
    {
     "name": "stdout",
     "output_type": "stream",
     "text": [
      "Is 5 curzon number ? =  True\n",
      "Is 10 curzon number ? =  False\n",
      "Is 14 curzon number ? =  True\n"
     ]
    }
   ],
   "source": [
    "def is_curzon(num):\n",
    "    power=2**num+1\n",
    "    mul=2*num+1\n",
    "    if power%mul==0:\n",
    "        return True\n",
    "    else:\n",
    "        return False\n",
    "print(\"Is 5 curzon number ? = \",is_curzon(5))\n",
    "print(\"Is 10 curzon number ? = \",is_curzon(10))\n",
    "print(\"Is 14 curzon number ? = \",is_curzon(14))"
   ]
  },
  {
   "cell_type": "markdown",
   "id": "ae0cfe6c",
   "metadata": {},
   "source": [
    "Question 4.\n",
    "\n",
    "Given the side length x find the area of a hexagon.\n",
    "\n",
    "Examples\n",
    "\n",
    "area_of_hexagon(1) ➞ 2.6\n",
    "\n",
    "area_of_hexagon(2) ➞ 10.4\n",
    "\n",
    "area_of_hexagon(3) ➞ 23.4\n"
   ]
  },
  {
   "cell_type": "code",
   "execution_count": 20,
   "id": "a5a06f7a",
   "metadata": {},
   "outputs": [
    {
     "name": "stdout",
     "output_type": "stream",
     "text": [
      "Area of Hexagon where side each equal to 1 is  2.6\n",
      "Area of Hexagon where side each equal to 2 is  10.4\n",
      "Area of Hexagon where side each equal to 3 is  23.4\n"
     ]
    }
   ],
   "source": [
    "def area_of_hexagon(side):\n",
    "    area=round((3*(side*side)*math.sqrt(3))/2,1)\n",
    "    return area\n",
    "print(\"Area of Hexagon where side each equal to 1 is \",area_of_hexagon(1))\n",
    "print(\"Area of Hexagon where side each equal to 2 is \",area_of_hexagon(2))\n",
    "print(\"Area of Hexagon where side each equal to 3 is \",area_of_hexagon(3))"
   ]
  },
  {
   "cell_type": "markdown",
   "id": "c62e9fde",
   "metadata": {},
   "source": [
    "Question 5. \n",
    "\n",
    "Create a function that returns a base-2 (binary) representation of a base-10 (decimal) string number. To convert is simple: ((2) means base-2 and (10) means base-10)\n",
    "\n",
    "010101001(2) = 1 + 8 + 32 + 128.\n",
    "\n",
    "Going from right to left, the value of the most right bit is 1, now from that every bit to the left will be x2 the value, value of an 8 bit binary numbers are (256, 128, 64, 32, 16, 8, 4, 2, 1).\n",
    "\n",
    "Examples\n",
    "\n",
    "binary(1) ➞ &quot;1&quot;\n",
    "# 1*1 = 1\n",
    "\n",
    "binary(5) ➞ &quot;101&quot;\n",
    "# 1*1 + 1*4 = 5\n",
    "\n",
    "binary(10) ➞ &quot;1010&quot;\n",
    "# 1*2 + 1*8 = 10"
   ]
  },
  {
   "cell_type": "code",
   "execution_count": 37,
   "id": "8707876d",
   "metadata": {},
   "outputs": [
    {
     "data": {
      "text/plain": [
       "'1010'"
      ]
     },
     "execution_count": 37,
     "metadata": {},
     "output_type": "execute_result"
    }
   ],
   "source": [
    "def binary(num):\n",
    "    qu=num\n",
    "    l=[]\n",
    "    while qu>0:\n",
    "        re=qu%2\n",
    "        l.append(re)\n",
    "        qu=int(qu/2)\n",
    "        bina=''.join(str(x) for x in l[::-1])\n",
    "    return bina\n",
    "binary(10)"
   ]
  }
 ],
 "metadata": {
  "kernelspec": {
   "display_name": "Python 3 (ipykernel)",
   "language": "python",
   "name": "python3"
  },
  "language_info": {
   "codemirror_mode": {
    "name": "ipython",
    "version": 3
   },
   "file_extension": ".py",
   "mimetype": "text/x-python",
   "name": "python",
   "nbconvert_exporter": "python",
   "pygments_lexer": "ipython3",
   "version": "3.9.12"
  }
 },
 "nbformat": 4,
 "nbformat_minor": 5
}
