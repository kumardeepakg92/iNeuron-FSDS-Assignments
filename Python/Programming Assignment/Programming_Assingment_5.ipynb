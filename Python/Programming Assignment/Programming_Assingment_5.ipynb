{
 "cells": [
  {
   "cell_type": "markdown",
   "id": "a14489e4",
   "metadata": {},
   "source": [
    "1. Write a Python Program to Find LCM?"
   ]
  },
  {
   "cell_type": "code",
   "execution_count": 1,
   "id": "ad0b219a",
   "metadata": {},
   "outputs": [
    {
     "name": "stdout",
     "output_type": "stream",
     "text": [
      "Enter first number 21\n",
      "Enter first number 2\n",
      "LCM of 21 and 2 is 42\n"
     ]
    }
   ],
   "source": [
    "a=int(input(\"Enter first number \"))\n",
    "b=int(input(\"Enter first number \"))\n",
    "if a>b:\n",
    "    large=a\n",
    "else:\n",
    "    large=b\n",
    "lcm=0\n",
    "while(True):\n",
    "    if (large%a==0) and (large%b==0):\n",
    "        lcm=large\n",
    "        break\n",
    "    else:\n",
    "        large+=1\n",
    "print(\"LCM of {} and {} is {}\".format(a,b,lcm))"
   ]
  },
  {
   "cell_type": "markdown",
   "id": "df9190f8",
   "metadata": {},
   "source": [
    "2. Write a Python Program to Find HCF?"
   ]
  },
  {
   "cell_type": "code",
   "execution_count": 41,
   "id": "27c5ffe3",
   "metadata": {},
   "outputs": [
    {
     "name": "stdout",
     "output_type": "stream",
     "text": [
      "Enter first number 1000\n",
      "Enter first number 3001\n",
      "HCF of 1000 and 3001 is 1 \n"
     ]
    }
   ],
   "source": [
    "a=int(input(\"Enter first number \"))\n",
    "b=int(input(\"Enter first number \"))\n",
    "if a>b:\n",
    "    lowest=b\n",
    "else:\n",
    "    lowest=a\n",
    "hcf=0\n",
    "for i in range(1,lowest+1):\n",
    "    if (a%i==0) and (b%i==0):\n",
    "        hcf=i\n",
    "print(\"HCF of {} and {} is {} \".format(a,b,hcf))"
   ]
  },
  {
   "cell_type": "markdown",
   "id": "c4051b93",
   "metadata": {},
   "source": [
    "3. Write a Python Program to Convert Decimal to Binary, Octal and Hexadecimal?"
   ]
  },
  {
   "cell_type": "code",
   "execution_count": 3,
   "id": "0015c050",
   "metadata": {},
   "outputs": [
    {
     "name": "stdout",
     "output_type": "stream",
     "text": [
      "Enter Decimal number 23\n",
      "Please enter value for convert in to Binary, Octal and Hexadecimal\n",
      "1 for Binary\n",
      "2 for Octal\n",
      "3 for Hexadecimal\n",
      "Your input is 3\n",
      "Hexadecimal number of 23 is 17"
     ]
    }
   ],
   "source": [
    "decimal=int(input(\"Enter Decimal number \"))\n",
    "convert=int(input(\"Please enter value for convert in to Binary, Octal and Hexadecimal\\n1 for Binary\\n2 for Octal\\n3 for Hexadecimal\\nYour input is \"))\n",
    "if convert==1:\n",
    "    bin=[]\n",
    "    i=decimal\n",
    "    while i>0:\n",
    "        bin.append(i%2)\n",
    "        i=int(i/2)\n",
    "    bin=bin[::-1]\n",
    "    print(\"Binary number of {} is \".format(decimal),end='')\n",
    "    for b in bin:\n",
    "        print(b,end=\"\")\n",
    "        \n",
    "if convert==2:\n",
    "    oct=[]\n",
    "    i=decimal\n",
    "    while i>0:\n",
    "        oct.append(i%8)\n",
    "        i=int(i/8)\n",
    "    oct=oct[::-1]\n",
    "    print(\"Octal number of {} is \".format(decimal),end='')\n",
    "    for b in oct:\n",
    "        print(b,end=\"\")\n",
    "\n",
    "if convert==3:\n",
    "    hexa=[]\n",
    "    i=decimal\n",
    "    while i>0:\n",
    "        hexa.append(i%16)\n",
    "        i=int(i/16)\n",
    "    hexa=hexa[::-1]\n",
    "    print(\"Hexadecimal number of {} is \".format(decimal),end='')\n",
    "    for b in hexa:\n",
    "        print(b,end=\"\")"
   ]
  },
  {
   "cell_type": "markdown",
   "id": "22069b50",
   "metadata": {},
   "source": [
    "4. Write a Python Program To Find ASCII value of a character?"
   ]
  },
  {
   "cell_type": "code",
   "execution_count": 20,
   "id": "59b351c9",
   "metadata": {},
   "outputs": [
    {
     "name": "stdout",
     "output_type": "stream",
     "text": [
      "Enter a character To Find ASCII value $\n",
      "ASCII value is  36\n"
     ]
    }
   ],
   "source": [
    "try :\n",
    "    a=input(\"Enter a character To Find ASCII value \")\n",
    "    print(\"ASCII value is \", ord(a))\n",
    "except Exception as e:\n",
    "    print(e)"
   ]
  },
  {
   "cell_type": "markdown",
   "id": "10c3500b",
   "metadata": {},
   "source": [
    "5. Write a Python Program to Make a Simple Calculator with 4 basic mathematical operations?"
   ]
  },
  {
   "cell_type": "code",
   "execution_count": 36,
   "id": "24584ee7",
   "metadata": {},
   "outputs": [
    {
     "name": "stdout",
     "output_type": "stream",
     "text": [
      "Input two number\n",
      "First Number is 65\n",
      "Second number is 5\n",
      "Select operation\n",
      "1.Addition\n",
      "2.Substraction\n",
      "3.Multiplication\n",
      "4.Division\n",
      "Your Input for operation is 4\n",
      "\n",
      "Result is  13.0\n"
     ]
    }
   ],
   "source": [
    "a=float(input(\"Input two number\\nFirst Number is \"))\n",
    "b=float(input(\"Second number is \"))\n",
    "c=input(\"Select operation\\n1.Addition\\n2.Substraction\\n3.Multiplication\\n4.Division\\nYour Input for operation is \")\n",
    "if c=='1':\n",
    "    print(\"\\nResult is \",a+b)\n",
    "elif c=='2':\n",
    "    print(\"\\nResult is \",a-b)\n",
    "elif c=='3':\n",
    "    print(\"\\nResult is \",a*b)\n",
    "elif c=='4':\n",
    "    print(\"\\nResult is \",a/b)\n",
    "    \n",
    "else:\n",
    "    print(\"Invalid input \",c)"
   ]
  },
  {
   "cell_type": "code",
   "execution_count": null,
   "id": "dca0d342",
   "metadata": {},
   "outputs": [],
   "source": []
  }
 ],
 "metadata": {
  "kernelspec": {
   "display_name": "Python 3 (ipykernel)",
   "language": "python",
   "name": "python3"
  },
  "language_info": {
   "codemirror_mode": {
    "name": "ipython",
    "version": 3
   },
   "file_extension": ".py",
   "mimetype": "text/x-python",
   "name": "python",
   "nbconvert_exporter": "python",
   "pygments_lexer": "ipython3",
   "version": "3.9.12"
  }
 },
 "nbformat": 4,
 "nbformat_minor": 5
}
