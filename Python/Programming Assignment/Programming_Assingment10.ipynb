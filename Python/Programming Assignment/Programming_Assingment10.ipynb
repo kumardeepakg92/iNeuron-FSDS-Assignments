{
  "nbformat": 4,
  "nbformat_minor": 0,
  "metadata": {
    "colab": {
      "name": "Programming_Assingment10.ipynb",
      "provenance": [],
      "collapsed_sections": []
    },
    "kernelspec": {
      "name": "python3",
      "display_name": "Python 3"
    },
    "language_info": {
      "name": "python"
    }
  },
  "cells": [
    {
      "cell_type": "markdown",
      "source": [
        "1. Write a Python program to find sum of elements in list?"
      ],
      "metadata": {
        "id": "u2NBSZiI0f9P"
      }
    },
    {
      "cell_type": "code",
      "execution_count": 1,
      "metadata": {
        "colab": {
          "base_uri": "https://localhost:8080/"
        },
        "id": "iKsT7VYQ0Zxm",
        "outputId": "c2af5ab1-2a42-4fce-be3c-01ba64dc1a04"
      },
      "outputs": [
        {
          "output_type": "stream",
          "name": "stdout",
          "text": [
            "Sum of all elements in list is  544\n"
          ]
        }
      ],
      "source": [
        "l=[2,5,6,7,2,43,56,34,76,21,34,45,213]\n",
        "sum=0\n",
        "for i in l:\n",
        "    sum+=i\n",
        "print(\"Sum of all elements in list is \",sum)"
      ]
    },
    {
      "cell_type": "markdown",
      "source": [
        "2. Write a Python program to Multiply all numbers in the list?"
      ],
      "metadata": {
        "id": "SF3-JfkZ1Hv3"
      }
    },
    {
      "cell_type": "code",
      "source": [
        "l=[1,3,2,4,3]\n",
        "mul=1\n",
        "for i in l:\n",
        "    mul*=i\n",
        "print(\"Multiply of all elements in list is \",mul)"
      ],
      "metadata": {
        "colab": {
          "base_uri": "https://localhost:8080/"
        },
        "id": "BhAa62cZ1BWm",
        "outputId": "0cd2dfbb-e022-4fc1-b8ac-88aee5a509a8"
      },
      "execution_count": 3,
      "outputs": [
        {
          "output_type": "stream",
          "name": "stdout",
          "text": [
            "Multiply of all elements in list is  72\n"
          ]
        }
      ]
    },
    {
      "cell_type": "markdown",
      "source": [
        "3. Write a Python program to find smallest number in a list?"
      ],
      "metadata": {
        "id": "Wh1Dq3nm1iY2"
      }
    },
    {
      "cell_type": "code",
      "source": [
        "l=[87,34,23,343]\n",
        "min(l)"
      ],
      "metadata": {
        "colab": {
          "base_uri": "https://localhost:8080/"
        },
        "id": "r4z4sx4x1Yiq",
        "outputId": "1eb16b03-bdff-4169-d76f-8ce41b2b96e0"
      },
      "execution_count": 5,
      "outputs": [
        {
          "output_type": "execute_result",
          "data": {
            "text/plain": [
              "23"
            ]
          },
          "metadata": {},
          "execution_count": 5
        }
      ]
    },
    {
      "cell_type": "markdown",
      "source": [
        "4. Write a Python program to find largest number in a list?"
      ],
      "metadata": {
        "id": "I3rSZ0xr12Yl"
      }
    },
    {
      "cell_type": "code",
      "source": [
        "l=[87,34,23,343]\n",
        "max(l)"
      ],
      "metadata": {
        "colab": {
          "base_uri": "https://localhost:8080/"
        },
        "id": "2OIHNs3V1n68",
        "outputId": "5014e0bb-6ee9-4f21-8347-a44f7c298c6a"
      },
      "execution_count": 7,
      "outputs": [
        {
          "output_type": "execute_result",
          "data": {
            "text/plain": [
              "343"
            ]
          },
          "metadata": {},
          "execution_count": 7
        }
      ]
    },
    {
      "cell_type": "markdown",
      "source": [
        "5. Write a Python program to find second largest number in a list?"
      ],
      "metadata": {
        "id": "g-TCmBl32Avn"
      }
    },
    {
      "cell_type": "code",
      "source": [
        "l=[87,34,23,343]\n",
        "l.sort()\n",
        "l[-2]"
      ],
      "metadata": {
        "colab": {
          "base_uri": "https://localhost:8080/"
        },
        "id": "Fho_CuPu16BZ",
        "outputId": "2893831d-6746-491d-f535-958972c4b76d"
      },
      "execution_count": 10,
      "outputs": [
        {
          "output_type": "execute_result",
          "data": {
            "text/plain": [
              "87"
            ]
          },
          "metadata": {},
          "execution_count": 10
        }
      ]
    },
    {
      "cell_type": "markdown",
      "source": [
        "6. Write a Python program to find N largest elements from a list?"
      ],
      "metadata": {
        "id": "LYH9lx2N2aqt"
      }
    },
    {
      "cell_type": "code",
      "source": [
        "n=int(input(\"Enter value of n \"))\n",
        "l=[2,5,6,7,43,56,76,21,34,45,213]\n",
        "l.sort()\n",
        "for i in range(1,n+1):\n",
        "    print(\"{} largest number is {}\".format(i,l[-i]))"
      ],
      "metadata": {
        "colab": {
          "base_uri": "https://localhost:8080/"
        },
        "id": "UhZAQi2W2Rx3",
        "outputId": "2da5c16a-6ccb-4ec1-f117-78db6968719e"
      },
      "execution_count": 22,
      "outputs": [
        {
          "output_type": "stream",
          "name": "stdout",
          "text": [
            "Enter value of n 5\n",
            "1 largest number is 213\n",
            "2 largest number is 76\n",
            "3 largest number is 56\n",
            "4 largest number is 45\n",
            "5 largest number is 43\n"
          ]
        }
      ]
    },
    {
      "cell_type": "markdown",
      "source": [
        "7. Write a Python program to print even numbers in a list?"
      ],
      "metadata": {
        "id": "IIbvfEkQ4nC2"
      }
    },
    {
      "cell_type": "code",
      "source": [
        "l=[2,5,6,7,43,56,76,21,34,45,213]\n",
        "print(\"Even number in list \",l)\n",
        "for i in l:\n",
        "    if i%2==0:\n",
        "        print(i)\n"
      ],
      "metadata": {
        "colab": {
          "base_uri": "https://localhost:8080/"
        },
        "id": "a_rPzxcq294H",
        "outputId": "d2fa1999-7f2a-4c76-b9a9-2525d9e973dc"
      },
      "execution_count": 24,
      "outputs": [
        {
          "output_type": "stream",
          "name": "stdout",
          "text": [
            "Even number in list  [2, 5, 6, 7, 43, 56, 76, 21, 34, 45, 213]\n",
            "2\n",
            "6\n",
            "56\n",
            "76\n",
            "34\n"
          ]
        }
      ]
    },
    {
      "cell_type": "markdown",
      "source": [
        "8. Write a Python program to print odd numbers in a List?"
      ],
      "metadata": {
        "id": "wbSVyL1j5NO_"
      }
    },
    {
      "cell_type": "code",
      "source": [
        "l=[2,5,6,7,43,56,76,21,34,45,213]\n",
        "print(\"Odd number in list \",l)\n",
        "for i in l:\n",
        "    if i%2!=0:\n",
        "        print(i)"
      ],
      "metadata": {
        "colab": {
          "base_uri": "https://localhost:8080/"
        },
        "id": "b6GzcrES4457",
        "outputId": "1c0916cb-a60f-47b0-a7ac-4eb8ef9cc0fd"
      },
      "execution_count": 25,
      "outputs": [
        {
          "output_type": "stream",
          "name": "stdout",
          "text": [
            "Odd number in list  [2, 5, 6, 7, 43, 56, 76, 21, 34, 45, 213]\n",
            "5\n",
            "7\n",
            "43\n",
            "21\n",
            "45\n",
            "213\n"
          ]
        }
      ]
    },
    {
      "cell_type": "markdown",
      "source": [
        "9. Write a Python program to Remove empty List from List?"
      ],
      "metadata": {
        "id": "t12xIflr5Zvr"
      }
    },
    {
      "cell_type": "code",
      "source": [
        "l=[[],2,[],5,[6,7],[43],[56,76,21],[],34,45,[],213,[]]\n",
        "for i in l:\n",
        "    if type(i)==list and len(i)==0:\n",
        "        l.remove(i)\n",
        "print(\"Empty list removed from list {}\".format(l))\n"
      ],
      "metadata": {
        "colab": {
          "base_uri": "https://localhost:8080/"
        },
        "id": "bI4jEcwd5UVu",
        "outputId": "2e1d9191-1b42-44eb-ad2a-3174a859802a"
      },
      "execution_count": 11,
      "outputs": [
        {
          "output_type": "stream",
          "name": "stdout",
          "text": [
            "Empty list removed from list [2, 5, [6, 7], [43], [56, 76, 21], 34, 45, 213]\n"
          ]
        }
      ]
    },
    {
      "cell_type": "markdown",
      "source": [
        "10. Write a Python program to Cloning or Copying a list?"
      ],
      "metadata": {
        "id": "QH9QZkbBy2xF"
      }
    },
    {
      "cell_type": "code",
      "source": [
        "import copy\n",
        "l=[2, 5, [6, 7], [43], [56, 76, 21], 34, 45, 213]\n",
        "a=copy.copy(l)\n",
        "a"
      ],
      "metadata": {
        "colab": {
          "base_uri": "https://localhost:8080/"
        },
        "id": "BbqM0oU66Dnl",
        "outputId": "fe853a2f-9b3f-45e6-cd75-7e88948bb412"
      },
      "execution_count": 14,
      "outputs": [
        {
          "output_type": "execute_result",
          "data": {
            "text/plain": [
              "[2, 5, [6, 7], [43], [56, 76, 21], 34, 45, 213]"
            ]
          },
          "metadata": {},
          "execution_count": 14
        }
      ]
    },
    {
      "cell_type": "markdown",
      "source": [
        "11. Write a Python program to Count occurrences of an element in a list?"
      ],
      "metadata": {
        "id": "t_MdnPbvzSSX"
      }
    },
    {
      "cell_type": "code",
      "source": [
        "l=[2,4,6,1,2,4,7,8,2,3,4,1,6,3,2]\n",
        "print(\"2 in list {} are {}\".format(l,l.count(2)))"
      ],
      "metadata": {
        "colab": {
          "base_uri": "https://localhost:8080/"
        },
        "id": "py24DALU6IIT",
        "outputId": "a21c7f0d-24e9-4be0-82c0-7b6dc9542c92"
      },
      "execution_count": 18,
      "outputs": [
        {
          "output_type": "stream",
          "name": "stdout",
          "text": [
            "2 in list [2, 4, 6, 1, 2, 4, 7, 8, 2, 3, 4, 1, 6, 3, 2] are 4\n"
          ]
        }
      ]
    }
  ]
}