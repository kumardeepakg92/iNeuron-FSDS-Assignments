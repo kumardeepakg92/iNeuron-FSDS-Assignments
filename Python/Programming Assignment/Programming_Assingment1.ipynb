{
 "cells": [
  {
   "cell_type": "markdown",
   "id": "8d084947",
   "metadata": {},
   "source": [
    "1. Write a Python program to print \"Hello Python\"?"
   ]
  },
  {
   "cell_type": "code",
   "execution_count": 2,
   "id": "a2b3a3dc",
   "metadata": {},
   "outputs": [
    {
     "name": "stdout",
     "output_type": "stream",
     "text": [
      "Hello Python\n"
     ]
    }
   ],
   "source": [
    "print(\"Hello Python\")"
   ]
  },
  {
   "cell_type": "markdown",
   "id": "eafbb9b1",
   "metadata": {},
   "source": [
    "2. Write a Python program to do arithmetical operations addition and division.?"
   ]
  },
  {
   "cell_type": "code",
   "execution_count": 7,
   "id": "a01e5f2d",
   "metadata": {},
   "outputs": [
    {
     "name": "stdout",
     "output_type": "stream",
     "text": [
      "Addition of 10  and  2  is  12\n",
      "Division of 10  and  2  is  5.0\n"
     ]
    }
   ],
   "source": [
    "a=10\n",
    "b=2\n",
    "print(\"Addition of\", a, \" and \", b, \" is \", a+b)\n",
    "print(\"Division of\", a, \" and \", b, \" is \", a/b)"
   ]
  },
  {
   "cell_type": "markdown",
   "id": "8887efb5",
   "metadata": {},
   "source": [
    "3. Write a Python program to find the area of a triangle?"
   ]
  },
  {
   "cell_type": "code",
   "execution_count": 11,
   "id": "052dd0fc",
   "metadata": {},
   "outputs": [
    {
     "name": "stdout",
     "output_type": "stream",
     "text": [
      "Base of triangle 5\n",
      "Height of triangle 5\n",
      "Area of traingle is  12.5\n"
     ]
    }
   ],
   "source": [
    "b=float(input(\"Base of triangle \"))\n",
    "h=float(input(\"Height of triangle \"))\n",
    "area=(1/2)*b*h\n",
    "print(\"Area of traingle is \", area)"
   ]
  },
  {
   "cell_type": "markdown",
   "id": "90bec0ec",
   "metadata": {},
   "source": [
    "4. Write a Python program to swap two variables?"
   ]
  },
  {
   "cell_type": "code",
   "execution_count": 13,
   "id": "548bb50f",
   "metadata": {},
   "outputs": [
    {
     "name": "stdout",
     "output_type": "stream",
     "text": [
      "Enter first variable 45\n",
      "Enter second variable 5\n",
      "After swap now first variable is 5 and second variable is 45 \n"
     ]
    }
   ],
   "source": [
    "x=input(\"Enter first variable \")\n",
    "y=input(\"Enter second variable \")\n",
    "\n",
    "temp = x\n",
    "x=y\n",
    "y=temp\n",
    "print(\"After swap now first variable is {} and second variable is {} \".format(x,y))"
   ]
  },
  {
   "cell_type": "markdown",
   "id": "276e91cd",
   "metadata": {},
   "source": [
    "5. Write a Python program to generate a random number?"
   ]
  },
  {
   "cell_type": "code",
   "execution_count": 15,
   "id": "6768f4f8",
   "metadata": {},
   "outputs": [
    {
     "name": "stdout",
     "output_type": "stream",
     "text": [
      "5\n"
     ]
    }
   ],
   "source": [
    "import random\n",
    "\n",
    "n=random.randint(0,10)\n",
    "\n",
    "print(n)"
   ]
  },
  {
   "cell_type": "code",
   "execution_count": null,
   "id": "356143c5",
   "metadata": {},
   "outputs": [],
   "source": []
  }
 ],
 "metadata": {
  "kernelspec": {
   "display_name": "Python 3 (ipykernel)",
   "language": "python",
   "name": "python3"
  },
  "language_info": {
   "codemirror_mode": {
    "name": "ipython",
    "version": 3
   },
   "file_extension": ".py",
   "mimetype": "text/x-python",
   "name": "python",
   "nbconvert_exporter": "python",
   "pygments_lexer": "ipython3",
   "version": "3.9.12"
  }
 },
 "nbformat": 4,
 "nbformat_minor": 5
}
