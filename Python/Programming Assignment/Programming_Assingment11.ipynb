{
 "cells": [
  {
   "cell_type": "markdown",
   "id": "25371e53",
   "metadata": {},
   "source": [
    "1. Write a Python program to find words which are greater than given length k?"
   ]
  },
  {
   "cell_type": "code",
   "execution_count": 1,
   "id": "2ed2e7ec",
   "metadata": {},
   "outputs": [
    {
     "name": "stdout",
     "output_type": "stream",
     "text": [
      "Deepak\n",
      "iNeuron\n"
     ]
    }
   ],
   "source": [
    "l=['My','name','is','Deepak','abc','iNeuron']\n",
    "k=4\n",
    "for i in l:\n",
    "    if i.count('')-1 >k:\n",
    "        print(i)"
   ]
  },
  {
   "cell_type": "markdown",
   "id": "3f642075",
   "metadata": {},
   "source": [
    "2. Write a Python program for removing i-th character from a string?"
   ]
  },
  {
   "cell_type": "code",
   "execution_count": 24,
   "id": "91d14da4",
   "metadata": {},
   "outputs": [
    {
     "data": {
      "text/plain": [
       "'Depak'"
      ]
     },
     "execution_count": 24,
     "metadata": {},
     "output_type": "execute_result"
    }
   ],
   "source": [
    "def remove(s,n):\n",
    "    first=s[:n]\n",
    "    second=s[n+1:]\n",
    "    return first + second\n",
    "remove('Deepak',2)"
   ]
  },
  {
   "cell_type": "markdown",
   "id": "bdf2b458",
   "metadata": {},
   "source": [
    "3. Write a Python program to split and join a string?"
   ]
  },
  {
   "cell_type": "code",
   "execution_count": 27,
   "id": "ba6bf913",
   "metadata": {},
   "outputs": [
    {
     "name": "stdout",
     "output_type": "stream",
     "text": [
      "Split s= ['My', 'name', 'is', 'Deepak', 'and', 'i', 'am', 'working', 'at', 'HCL']\n"
     ]
    },
    {
     "data": {
      "text/plain": [
       "'My name is Deepak and i am working at HCL'"
      ]
     },
     "execution_count": 27,
     "metadata": {},
     "output_type": "execute_result"
    }
   ],
   "source": [
    "s=\"My name is Deepak and i am working at HCL\"\n",
    "sp=s.split(' ')\n",
    "print(\"Split s=\",sp)\n",
    "' '.join(sp)"
   ]
  },
  {
   "cell_type": "markdown",
   "id": "3c6b7757",
   "metadata": {},
   "source": [
    "4. Write a Python to check if a given string is binary string or not?"
   ]
  },
  {
   "cell_type": "code",
   "execution_count": 55,
   "id": "767cfd18",
   "metadata": {},
   "outputs": [
    {
     "name": "stdout",
     "output_type": "stream",
     "text": [
      "Enter string to check binary string or not ? 1010101010\n",
      "This is binary string\n"
     ]
    }
   ],
   "source": [
    "s=set(input(\"Enter string to check binary string or not ? \"))\n",
    "if s=={'0'} or s=={'1'} or s=={'0','1'}:\n",
    "    print(\"This is binary string\")\n",
    "else:\n",
    "    print(\"This is not a binary string\")"
   ]
  },
  {
   "cell_type": "markdown",
   "id": "d2c51eaf",
   "metadata": {},
   "source": [
    "5. Write a Python program to find uncommon words from two Strings?"
   ]
  },
  {
   "cell_type": "code",
   "execution_count": 62,
   "id": "7f8e09d6",
   "metadata": {},
   "outputs": [
    {
     "name": "stdout",
     "output_type": "stream",
     "text": [
      "Enter first string deepak\n",
      "Enter second string kumar\n"
     ]
    },
    {
     "data": {
      "text/plain": [
       "{'d', 'e', 'm', 'p', 'r', 'u'}"
      ]
     },
     "execution_count": 62,
     "metadata": {},
     "output_type": "execute_result"
    }
   ],
   "source": [
    "first=set(input(\"Enter first string \"))\n",
    "second=set(input(\"Enter second string \"))\n",
    "uncommon_words=first.union(second)-first.intersection(second)\n",
    "uncommon_words"
   ]
  },
  {
   "cell_type": "markdown",
   "id": "bcbecffa",
   "metadata": {},
   "source": [
    "6. Write a Python to find all duplicate characters in string?"
   ]
  },
  {
   "cell_type": "code",
   "execution_count": 75,
   "id": "050273ad",
   "metadata": {},
   "outputs": [
    {
     "name": "stdout",
     "output_type": "stream",
     "text": [
      "Enter String deepak\n",
      "Duplicate character in deepak are \n",
      "{'e'}\n"
     ]
    }
   ],
   "source": [
    "string=input(\"Enter String \")\n",
    "dup=set()\n",
    "for i in string:\n",
    "    if string.count(i)>1:\n",
    "        dup.add(i)\n",
    "print(\"Duplicate character in {} are \\n{}\".format(string,dup))"
   ]
  },
  {
   "cell_type": "markdown",
   "id": "f73076b4",
   "metadata": {},
   "source": [
    "7. Write a Python Program to check if a string contains any special character?"
   ]
  },
  {
   "cell_type": "code",
   "execution_count": 79,
   "id": "214734b9",
   "metadata": {},
   "outputs": [
    {
     "name": "stdout",
     "output_type": "stream",
     "text": [
      "True\n"
     ]
    }
   ],
   "source": [
    "string='dee@@pak#'\n",
    "\n",
    "special='[@_!#$%^&*()<>?/\\|}{~:]'\n",
    "for i in string:\n",
    "    if i in special:\n",
    "        print(True)\n",
    "        break"
   ]
  }
 ],
 "metadata": {
  "kernelspec": {
   "display_name": "Python 3 (ipykernel)",
   "language": "python",
   "name": "python3"
  },
  "language_info": {
   "codemirror_mode": {
    "name": "ipython",
    "version": 3
   },
   "file_extension": ".py",
   "mimetype": "text/x-python",
   "name": "python",
   "nbconvert_exporter": "python",
   "pygments_lexer": "ipython3",
   "version": "3.9.12"
  }
 },
 "nbformat": 4,
 "nbformat_minor": 5
}
