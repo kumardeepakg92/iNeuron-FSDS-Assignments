{
 "cells": [
  {
   "cell_type": "markdown",
   "id": "ac4b7cbe",
   "metadata": {},
   "source": [
    "Question 1:\n",
    "\n",
    "Write a program that calculates and prints the value according to the given formula: Q = Square root of [(2 * C * D)/H]\n",
    "\n",
    "Following are the fixed values of C and H:\n",
    "C is 50. H is 30.\n",
    "\n",
    "D is the variable whose values should be input to your program in a comma-separated sequence.\n",
    "Example\n",
    "\n",
    "Let us assume the following comma separated input sequence is given to the program:\n",
    "100,150,180\n",
    "\n",
    "The output of the program should be:\n",
    "18,22,24"
   ]
  },
  {
   "cell_type": "code",
   "execution_count": 12,
   "id": "eed55187",
   "metadata": {},
   "outputs": [
    {
     "name": "stdout",
     "output_type": "stream",
     "text": [
      "Enter value in comma sepearated100,150,180\n"
     ]
    },
    {
     "data": {
      "text/plain": [
       "[18, 22, 24]"
      ]
     },
     "execution_count": 12,
     "metadata": {},
     "output_type": "execute_result"
    }
   ],
   "source": [
    "import math\n",
    "\n",
    "c=50\n",
    "h=30\n",
    "d=input(\"Enter value in comma sepearated\").split(',')\n",
    "out=[]\n",
    "for i in d:\n",
    "    out.append(int(math.sqrt((2*c*int(i))/h)))\n",
    "out"
   ]
  },
  {
   "cell_type": "markdown",
   "id": "ebb9bcc5",
   "metadata": {},
   "source": [
    "Question 2:\n",
    "\n",
    "Write a program which takes 2 digits, X,Y as input and generates a 2-dimensional array. The element value in the i-th row and j-th column of the array should be i*j.\n",
    "\n",
    "Note: i=0,1.., X-1; j=0,1,¡Y-1.\n",
    "\n",
    "Example\n",
    "Suppose the following inputs are given to the program:\n",
    "3,5\n",
    "\n",
    "Then, the output of the program should be:\n",
    "[[0, 0, 0, 0, 0], [0, 1, 2, 3, 4], [0, 2, 4, 6, 8]]"
   ]
  },
  {
   "cell_type": "code",
   "execution_count": 13,
   "id": "98bab311",
   "metadata": {},
   "outputs": [
    {
     "name": "stdout",
     "output_type": "stream",
     "text": [
      "Enter X value3\n",
      "Enter Y value5\n"
     ]
    },
    {
     "data": {
      "text/plain": [
       "[[0, 0, 0, 0, 0], [0, 1, 2, 3, 4], [0, 2, 4, 6, 8]]"
      ]
     },
     "execution_count": 13,
     "metadata": {},
     "output_type": "execute_result"
    }
   ],
   "source": [
    "x=int(input(\"Enter X value\"))\n",
    "y=int(input(\"Enter Y value\"))\n",
    "out=[]\n",
    "for i in range(x):\n",
    "    temp=[]\n",
    "    for j in range(y):\n",
    "        temp.append(i*j)\n",
    "    out.append(temp)\n",
    "out"
   ]
  },
  {
   "cell_type": "markdown",
   "id": "9b3661e1",
   "metadata": {},
   "source": [
    "Question 3:\n",
    "\n",
    "Write a program that accepts a comma separated sequence of words as input and prints the words in a comma-separated sequence after sorting them alphabetically.\n",
    "\n",
    "Suppose the following input is supplied to the program:\n",
    "without,hello,bag,world\n",
    "\n",
    "Then, the output should be:\n",
    "bag,hello,without,world"
   ]
  },
  {
   "cell_type": "code",
   "execution_count": 14,
   "id": "326a7c3e",
   "metadata": {},
   "outputs": [
    {
     "name": "stdout",
     "output_type": "stream",
     "text": [
      "Enter comma separated sequence of words without,hello,bag,world\n",
      "sorting them alphabetically \n",
      " bag,hello,without,world\n"
     ]
    }
   ],
   "source": [
    "words=input(\"Enter comma separated sequence of words \").split(',')\n",
    "words.sort()\n",
    "join=','.join(words)\n",
    "print(\"sorting them alphabetically \\n\",join)"
   ]
  },
  {
   "cell_type": "markdown",
   "id": "7460aee3",
   "metadata": {},
   "source": [
    "Question 4:\n",
    "\n",
    "Write a program that accepts a sequence of whitespace separated words as input and prints the words after removing all duplicate words and sorting them alphanumerically.\n",
    "\n",
    "Suppose the following input is supplied to the program:\n",
    "hello world and practice makes perfect and hello world again\n",
    "\n",
    "Then, the output should be:\n",
    "again and hello makes perfect practice world"
   ]
  },
  {
   "cell_type": "code",
   "execution_count": 15,
   "id": "45a60eba",
   "metadata": {},
   "outputs": [
    {
     "name": "stdout",
     "output_type": "stream",
     "text": [
      "Enter sequence of whitespace separated wordshello world and practice makes perfect and hello world again\n",
      "again,and,hello,makes,perfect,practice,world\n"
     ]
    }
   ],
   "source": [
    "words=set(input(\"Enter sequence of whitespace separated words\").split(' '))\n",
    "sort=sorted(words)\n",
    "sorted_words=','.join(sort)\n",
    "print(sorted_words)"
   ]
  },
  {
   "cell_type": "markdown",
   "id": "c7b019e4",
   "metadata": {},
   "source": [
    "Question 5:\n",
    "\n",
    "Write a program that accepts a sentence and calculate the number of letters and digits.\n",
    "\n",
    "Suppose the following input is supplied to the program:\n",
    "hello world! 123\n",
    "\n",
    "Then, the output should be:\n",
    "LETTERS 10\n",
    "\n",
    "DIGITS 3"
   ]
  },
  {
   "cell_type": "code",
   "execution_count": 16,
   "id": "f3d73397",
   "metadata": {
    "scrolled": true
   },
   "outputs": [
    {
     "name": "stdout",
     "output_type": "stream",
     "text": [
      "Enter sentence hello world! 123\n",
      "LETTERS 10 \n",
      "DIGITS 3 \n"
     ]
    }
   ],
   "source": [
    "sentence=input(\"Enter sentence \").lower()\n",
    "digits = ['0', '1', '2', '3', '4', '5', '6', '7', '8', '9']\n",
    "letters=['a', 'b', 'c', 'd', 'e', 'f', 'g', 'h', 'i', 'j', 'k', 'l', 'm', 'n', 'o', 'p', 'q', 'r', 's', 't', 'u', 'v', 'w', 'x', 'y', 'z']\n",
    "digits_count=0\n",
    "letters_count=0\n",
    "\n",
    "for i in sentence:\n",
    "    if i in letters:\n",
    "        letters_count+=1\n",
    "    elif i in digits:\n",
    "        digits_count+=1\n",
    "print(\"LETTERS {} \\nDIGITS {} \".format(letters_count,digits_count))\n",
    "        "
   ]
  },
  {
   "cell_type": "markdown",
   "id": "cb2f41c0",
   "metadata": {},
   "source": [
    "Question 6:\n",
    "\n",
    "A website requires the users to input username and password to register. Write a program to check the validity of password input by users.\n",
    "\n",
    "Following are the criteria for checking the password:\n",
    "\n",
    "1. At least 1 letter between [a-z]\n",
    "\n",
    "2. At least 1 number between [0-9]\n",
    "\n",
    "1. At least 1 letter between [A-Z]\n",
    "\n",
    "3. At least 1 character from [$#@]\n",
    "\n",
    "4. Minimum length of transaction password: 6\n",
    "\n",
    "5. Maximum length of transaction password: 12\n",
    "\n",
    "Your program should accept a sequence of comma separated passwords and will check them according to the above criteria. Passwords that match the criteria are to be printed, each separated by a comma.\n",
    "\n",
    "Example\n",
    "\n",
    "If the following passwords are given as input to the program:\n",
    "ABd1234@1,a F1#,2w3E*,2We3345\n",
    "Then, the output of the program should be:\n",
    "ABd1234@1"
   ]
  },
  {
   "cell_type": "code",
   "execution_count": 17,
   "id": "505592f0",
   "metadata": {},
   "outputs": [
    {
     "name": "stdout",
     "output_type": "stream",
     "text": [
      "Enter sequence of comma separated passwords ABd1234@1,a F1#,2w3E*,2We3345\n",
      "ABd1234@1\n"
     ]
    }
   ],
   "source": [
    "password=input(\"Enter sequence of comma separated passwords \").split(',')\n",
    "special=['$','#','@']\n",
    "psd=dict()\n",
    "for i in password:\n",
    "    if len(i)>5 and len(i)<13:\n",
    "        if not any(ch.isdigit() for ch in i):\n",
    "            psd[i]=False\n",
    "        elif not any(ch.isupper() for ch in i):\n",
    "            psd[i]=False\n",
    "        elif not any(ch.islower() for ch in i):\n",
    "            psd[i]=False\n",
    "        elif not any(ch in special for ch in i):\n",
    "            psd[i]=False\n",
    "        else:\n",
    "            psd[i]=True\n",
    "    else:\n",
    "        psd[i]=False \n",
    "        \n",
    "for k in psd.keys():\n",
    "    if psd[k]==True:\n",
    "        print(k)"
   ]
  }
 ],
 "metadata": {
  "kernelspec": {
   "display_name": "Python 3 (ipykernel)",
   "language": "python",
   "name": "python3"
  },
  "language_info": {
   "codemirror_mode": {
    "name": "ipython",
    "version": 3
   },
   "file_extension": ".py",
   "mimetype": "text/x-python",
   "name": "python",
   "nbconvert_exporter": "python",
   "pygments_lexer": "ipython3",
   "version": "3.9.12"
  }
 },
 "nbformat": 4,
 "nbformat_minor": 5
}
