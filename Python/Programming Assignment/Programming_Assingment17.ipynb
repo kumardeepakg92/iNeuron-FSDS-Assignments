{
 "cells": [
  {
   "cell_type": "markdown",
   "id": "db558d9b",
   "metadata": {},
   "source": [
    "Question1. \n",
    "\n",
    "Create a function that takes three arguments a, b, c and returns the sum of the numbers that are evenly divided by c from the range a, b inclusive.\n",
    "\n",
    "Examples\n",
    "evenly_divisible(1, 10, 20) ➞ 0\n",
    "# No number between 1 and 10 can be evenly divided by 20.\n",
    "\n",
    "evenly_divisible(1, 10, 2) ➞ 30\n",
    "# 2 + 4 + 6 + 8 + 10 = 30\n",
    "\n",
    "evenly_divisible(1, 10, 3) ➞ 18\n",
    "# 3 + 6 + 9 = 18"
   ]
  },
  {
   "cell_type": "code",
   "execution_count": 4,
   "id": "92f5f46a",
   "metadata": {},
   "outputs": [
    {
     "name": "stdout",
     "output_type": "stream",
     "text": [
      "Evenly_divisible of 2 where range 1-10 is 30\n",
      "Evenly_divisible of 20 where range 1-10 is 0\n",
      "Evenly_divisible of 3 where range 1-10 is 18\n"
     ]
    }
   ],
   "source": [
    "def evenly_divisible(a,b,c):\n",
    "    sum=0\n",
    "    for i in range(a,b+1):\n",
    "        if i%c==0:\n",
    "            sum=sum+i       \n",
    "    return sum\n",
    "evenly_divisible(1,10,2)\n",
    "print(\"Evenly_divisible of {} where range {}-{} is {}\".format(2,1,10,evenly_divisible(1,10,2)))\n",
    "print(\"Evenly_divisible of {} where range {}-{} is {}\".format(20,1,10,evenly_divisible(1,10,20)))\n",
    "print(\"Evenly_divisible of {} where range {}-{} is {}\".format(3,1,10,evenly_divisible(1,10,3)))"
   ]
  },
  {
   "cell_type": "markdown",
   "id": "b7139071",
   "metadata": {},
   "source": [
    "Question2. \n",
    "\n",
    "Create a function that returns True if a given inequality expression is correct and False otherwise.\n",
    "\n",
    "Examples\n",
    "\n",
    "correct_signs(&quot;3 &lt; 7 &lt; 11&quot;) ➞ True\n",
    "\n",
    "correct_signs(&quot;13 &gt; 44 &gt; 33 &gt; 1&quot;) ➞ False\n",
    "\n",
    "correct_signs(&quot;1 &lt; 2 &lt; 6 &lt; 9 &gt; 3&quot;) ➞ True"
   ]
  },
  {
   "cell_type": "code",
   "execution_count": 27,
   "id": "749f8a9f",
   "metadata": {},
   "outputs": [
    {
     "name": "stdout",
     "output_type": "stream",
     "text": [
      "Is 3 < 7 < 11 True/False -> True\n",
      "Is 13 > 44 > 33 > 1 True/False -> False\n",
      "Is 1 < 2 < 6 < 9 > 3 True/False -> True\n"
     ]
    }
   ],
   "source": [
    "def correct_signs(expr):\n",
    "    return eval(expr)\n",
    "print(\"Is {} True/False -> {}\".format(\"3 < 7 < 11\",correct_signs(\"3 < 7 < 11\")))\n",
    "print(\"Is {} True/False -> {}\".format(\"13 > 44 > 33 > 1\",correct_signs(\"13 > 44 > 33 > 1\")))\n",
    "print(\"Is {} True/False -> {}\".format(\"1 < 2 < 6 < 9 > 3\",correct_signs(\"1 < 2 < 6 < 9 > 3\")))"
   ]
  },
  {
   "cell_type": "markdown",
   "id": "e006bc33",
   "metadata": {},
   "source": [
    "Question3. \n",
    "Create a function that replaces all the vowels in a string with a specified character.\n",
    "\n",
    "Examples\n",
    "\n",
    "replace_vowels(&quot;the aardvark&quot;, &quot;#&quot;) ➞ &quot;th# ##rdv#rk&quot;\n",
    "\n",
    "replace_vowels(&quot;minnie mouse&quot;, &quot;?&quot;) ➞ &quot;m?nn?? m??s?&quot;\n",
    "\n",
    "replace_vowels(&quot;shakespeare&quot;, &quot;*&quot;) ➞ &quot;sh*k*sp**r*&quot;"
   ]
  },
  {
   "cell_type": "code",
   "execution_count": 30,
   "id": "46ba50ab",
   "metadata": {},
   "outputs": [
    {
     "name": "stdout",
     "output_type": "stream",
     "text": [
      "converted vowel in to # in word 'the aardvark' ->>  th# ##rdv#rk\n",
      "converted vowel in to ? in word 'minnie mouse' ->>  m?nn?? m??s?\n",
      "converted vowel in to * in word 'shakespeare' ->>  sh*k*sp**r*\n"
     ]
    }
   ],
   "source": [
    "def replace_vowels(string,special):\n",
    "    vowel=['a','e','i','o','u']\n",
    "    st=str()\n",
    "    for char in string:\n",
    "        if char in vowel:\n",
    "            st=st+special\n",
    "        else:\n",
    "            st=st+char\n",
    "    return st\n",
    "replace_vowels(\"the aardvark\", \"#\")\n",
    "print(\"converted vowel in to # in word 'the aardvark' ->> \",replace_vowels(\"the aardvark\", \"#\"))\n",
    "print(\"converted vowel in to ? in word 'minnie mouse' ->> \",replace_vowels(\"minnie mouse\", \"?\"))\n",
    "print(\"converted vowel in to * in word 'shakespeare' ->> \",replace_vowels(\"shakespeare\", \"*\"))"
   ]
  },
  {
   "cell_type": "markdown",
   "id": "481650ca",
   "metadata": {},
   "source": [
    "Question4. \n",
    "\n",
    "Write a function that calculates the factorial of a number recursively.\n",
    "\n",
    "Examples\n",
    "\n",
    "factorial(5) ➞ 120\n",
    "\n",
    "factorial(3) ➞ 6\n",
    "\n",
    "factorial(1) ➞ 1\n",
    "\n",
    "factorial(0) ➞ 1"
   ]
  },
  {
   "cell_type": "code",
   "execution_count": 9,
   "id": "53916273",
   "metadata": {},
   "outputs": [
    {
     "name": "stdout",
     "output_type": "stream",
     "text": [
      "Factorial of 5 is 120\n",
      "Factorial of 3 is 6\n",
      "Factorial of 1 is 1\n",
      "Factorial of 0 is 1\n"
     ]
    }
   ],
   "source": [
    "def fact(n):\n",
    "    if n==1 or n==0:\n",
    "        return 1\n",
    "    else:\n",
    "        return (n*fact(n-1))\n",
    "print(\"Factorial of {} is {}\".format(5,fact(5)))\n",
    "print(\"Factorial of {} is {}\".format(3,fact(3)))\n",
    "print(\"Factorial of {} is {}\".format(1,fact(1)))\n",
    "print(\"Factorial of {} is {}\".format(0,fact(0)))"
   ]
  },
  {
   "cell_type": "markdown",
   "id": "f705208e",
   "metadata": {},
   "source": [
    "Question 5\n",
    "\n",
    "Hamming distance is the number of characters that differ between two strings.\n",
    "\n",
    "To illustrate:\n",
    "\n",
    "String1: &quot;abcbba&quot;\n",
    "\n",
    "String2: &quot;abcbda&quot;\n",
    "\n",
    "Hamming Distance: 1 - &quot;b&quot; vs. &quot;d&quot; is the only difference.\n",
    "\n",
    "Create a function that computes the hamming distance between two strings.\n",
    "\n",
    "Examples\n",
    "\n",
    "hamming_distance(&quot;abcde&quot;, &quot;bcdef&quot;) ➞ 5\n",
    "\n",
    "hamming_distance(&quot;abcde&quot;, &quot;abcde&quot;) ➞ 0\n",
    "\n",
    "hamming_distance(&quot;strong&quot;, &quot;strung&quot;) ➞ 1\n"
   ]
  },
  {
   "cell_type": "code",
   "execution_count": 17,
   "id": "bd250ed1",
   "metadata": {},
   "outputs": [
    {
     "name": "stdout",
     "output_type": "stream",
     "text": [
      "Hamming Distance of \"abcde\", \"bcdef\" is  5\n",
      "Hamming Distance of \"abcde\", \"abcde\" is  0\n",
      "Hamming Distance of \"strong\", \"strung\" is  1\n"
     ]
    }
   ],
   "source": [
    "def hamming_distance(str1,str2):\n",
    "    sum=0\n",
    "    for i,j in zip(str1,str2):\n",
    "        if i!=j:\n",
    "            sum+=1\n",
    "    return sum\n",
    "print('Hamming Distance of \"abcde\", \"bcdef\" is ',hamming_distance(\"abcde\", \"bcdef\"))\n",
    "print('Hamming Distance of \"abcde\", \"abcde\" is ',hamming_distance(\"abcde\", \"abcde\"))\n",
    "print('Hamming Distance of \"strong\", \"strung\" is ',hamming_distance(\"strong\", \"strung\"))"
   ]
  }
 ],
 "metadata": {
  "kernelspec": {
   "display_name": "Python 3 (ipykernel)",
   "language": "python",
   "name": "python3"
  },
  "language_info": {
   "codemirror_mode": {
    "name": "ipython",
    "version": 3
   },
   "file_extension": ".py",
   "mimetype": "text/x-python",
   "name": "python",
   "nbconvert_exporter": "python",
   "pygments_lexer": "ipython3",
   "version": "3.9.12"
  }
 },
 "nbformat": 4,
 "nbformat_minor": 5
}
