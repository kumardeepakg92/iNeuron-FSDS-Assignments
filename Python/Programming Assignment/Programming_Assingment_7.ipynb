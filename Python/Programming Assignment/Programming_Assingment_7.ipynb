{
 "cells": [
  {
   "cell_type": "markdown",
   "id": "008d7a7a",
   "metadata": {},
   "source": [
    "1. Write a Python Program to find sum of array?"
   ]
  },
  {
   "cell_type": "code",
   "execution_count": 10,
   "id": "9773adeb",
   "metadata": {},
   "outputs": [
    {
     "name": "stdout",
     "output_type": "stream",
     "text": [
      "Enter array number 1,2,3,4,5,6\n",
      "Sum of array is  21\n"
     ]
    }
   ],
   "source": [
    "ar=input(\"Enter array number with comma seperated \")\n",
    "li=ar.split(\",\")\n",
    "sum=0\n",
    "for i in li:\n",
    "    sum+=int(i)\n",
    "    \n",
    "print(\"Sum of array is \",sum)"
   ]
  },
  {
   "cell_type": "markdown",
   "id": "3272fafa",
   "metadata": {},
   "source": [
    "2. Write a Python Program to find largest element in an array?"
   ]
  },
  {
   "cell_type": "code",
   "execution_count": 21,
   "id": "a7fc3c5d",
   "metadata": {},
   "outputs": [
    {
     "name": "stdout",
     "output_type": "stream",
     "text": [
      "Enter array number -1,5,-8\n",
      "max of array is  5\n"
     ]
    }
   ],
   "source": [
    "ar=input(\"Enter array number with comma seperated \")\n",
    "li=ar.split(\",\")\n",
    "max=0\n",
    "for i in li:\n",
    "    if int(i)>max:\n",
    "        max=int(i)\n",
    "    \n",
    "print(\"max of array is \",max)"
   ]
  },
  {
   "cell_type": "markdown",
   "id": "ddc412e6",
   "metadata": {},
   "source": [
    "3. Write a Python Program for array rotation?"
   ]
  },
  {
   "cell_type": "code",
   "execution_count": 22,
   "id": "701c5636",
   "metadata": {},
   "outputs": [
    {
     "name": "stdout",
     "output_type": "stream",
     "text": [
      "Enter array number with comma seperated 4,1,2,5\n",
      "max of array is  ['5', '2', '1', '4']\n"
     ]
    }
   ],
   "source": [
    "ar=input(\"Enter array number with comma seperated \")\n",
    "li=ar.split(\",\")\n",
    "li=li[::-1]\n",
    "print(\"max of array is \",li)"
   ]
  },
  {
   "cell_type": "markdown",
   "id": "8ed409a4",
   "metadata": {},
   "source": [
    "4. Write a Python Program to Split the array and add the first part to the end?"
   ]
  },
  {
   "cell_type": "code",
   "execution_count": 77,
   "id": "2bfb760b",
   "metadata": {},
   "outputs": [
    {
     "data": {
      "text/plain": [
       "[5, 6, 7, 8, 9, 1, 2, 3, 4]"
      ]
     },
     "execution_count": 77,
     "metadata": {},
     "output_type": "execute_result"
    }
   ],
   "source": [
    "l=[1,2,3,4,5,6,7,8,9]\n",
    "new=[]\n",
    "mid=int(len(l)/2)\n",
    "if len(l)%2==0:\n",
    "    for i in range(mid):\n",
    "        new.append(l[mid+i])\n",
    "    for i in range(mid):\n",
    "        new.append(l[i])\n",
    "else:\n",
    "    for i in range(mid+1):\n",
    "        new.append(l[mid+i])\n",
    "    for i in range(mid):\n",
    "        new.append(l[i])\n",
    "new"
   ]
  },
  {
   "cell_type": "markdown",
   "id": "1869ac35",
   "metadata": {},
   "source": [
    "5. Write a Python Program to check if given array is Monotonic?"
   ]
  },
  {
   "cell_type": "code",
   "execution_count": 107,
   "id": "23f09cd0",
   "metadata": {},
   "outputs": [
    {
     "name": "stdout",
     "output_type": "stream",
     "text": [
      "[3, 2, 1, 0] is monotonic array\n"
     ]
    }
   ],
   "source": [
    "li=[3,2,1,0]\n",
    "inc=True\n",
    "dec=True\n",
    "for i in range(len(li)-1):\n",
    "    if li[i]<li[i+1]:\n",
    "        inc=inc & True\n",
    "    else:\n",
    "        inc=inc & False\n",
    "        break\n",
    "for i in range(len(li)-1):\n",
    "    if li[i]>li[i+1]:\n",
    "        dec=dec & True\n",
    "    else:\n",
    "        dec=dec & False\n",
    "        break\n",
    "if inc or dec ==True:\n",
    "    print(\"{} is monotonic array\".format(li))\n",
    "else:\n",
    "    print(\"{} is not monotonic array\".format(li))"
   ]
  },
  {
   "cell_type": "code",
   "execution_count": null,
   "id": "ee21fc8d",
   "metadata": {},
   "outputs": [],
   "source": []
  }
 ],
 "metadata": {
  "kernelspec": {
   "display_name": "Python 3 (ipykernel)",
   "language": "python",
   "name": "python3"
  },
  "language_info": {
   "codemirror_mode": {
    "name": "ipython",
    "version": 3
   },
   "file_extension": ".py",
   "mimetype": "text/x-python",
   "name": "python",
   "nbconvert_exporter": "python",
   "pygments_lexer": "ipython3",
   "version": "3.9.12"
  }
 },
 "nbformat": 4,
 "nbformat_minor": 5
}
