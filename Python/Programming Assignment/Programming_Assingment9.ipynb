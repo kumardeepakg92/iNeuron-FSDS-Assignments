{
  "nbformat": 4,
  "nbformat_minor": 0,
  "metadata": {
    "colab": {
      "name": "Programming_Assingment9.ipynb",
      "provenance": [],
      "collapsed_sections": []
    },
    "kernelspec": {
      "name": "python3",
      "display_name": "Python 3"
    },
    "language_info": {
      "name": "python"
    }
  },
  "cells": [
    {
      "cell_type": "markdown",
      "source": [
        "1. Write a Python program to check if the given number is a Disarium Number?"
      ],
      "metadata": {
        "id": "nsApUT5j1iNo"
      }
    },
    {
      "cell_type": "code",
      "execution_count": 7,
      "metadata": {
        "colab": {
          "base_uri": "https://localhost:8080/"
        },
        "id": "tytrJW1M1Skm",
        "outputId": "7ccebcd0-1174-4fa2-bed9-a6b3ccac38e5"
      },
      "outputs": [
        {
          "output_type": "stream",
          "name": "stdout",
          "text": [
            "Enter number 175\n",
            "175 is Disarium number \n"
          ]
        }
      ],
      "source": [
        "n=int(input(\"Enter number \"))\n",
        "i=n\n",
        "lt=len(str(n))\n",
        "sum=0\n",
        "while n>0:\n",
        "    rem=n%10\n",
        "    n=int(n/10)\n",
        "    sum=sum+rem**lt\n",
        "    lt=lt-1\n",
        "if sum==i:\n",
        "    print(\"{} is Disarium number \".format(i))\n",
        "else:\n",
        "    print(\"{} is not Disarium number \".format(i))"
      ]
    },
    {
      "cell_type": "markdown",
      "source": [
        "2. Write a Python program to print all disarium numbers between 1 to 100?"
      ],
      "metadata": {
        "id": "ZwFxNzSOIuN6"
      }
    },
    {
      "cell_type": "code",
      "source": [
        "def dis(n):\n",
        "    i=n\n",
        "    lt=len(str(n))\n",
        "    sum=0\n",
        "    while n>0:\n",
        "        rem=n%10\n",
        "        n=int(n/10)\n",
        "        sum=sum+rem**lt\n",
        "        lt=lt-1\n",
        "    if sum==i:\n",
        "        return True\n",
        "    else:\n",
        "        return False\n",
        "l=[]\n",
        "for i in range(100):\n",
        "    if dis(i):\n",
        "        l.append(i)\n",
        "l"
      ],
      "metadata": {
        "colab": {
          "base_uri": "https://localhost:8080/"
        },
        "id": "7T9sAjhTHQxx",
        "outputId": "76d53d43-05e6-477b-8da1-45a43a5705b8"
      },
      "execution_count": 11,
      "outputs": [
        {
          "output_type": "execute_result",
          "data": {
            "text/plain": [
              "[0, 1, 2, 3, 4, 5, 6, 7, 8, 9, 89]"
            ]
          },
          "metadata": {},
          "execution_count": 11
        }
      ]
    },
    {
      "cell_type": "markdown",
      "source": [
        "3. Write a Python program to check if the given number is Happy Number?"
      ],
      "metadata": {
        "id": "zxcU0E-hJtRx"
      }
    },
    {
      "cell_type": "code",
      "source": [
        "def happy(n):\n",
        "    sum=0\n",
        "    while n>0:\n",
        "        rem=n%10\n",
        "        n=int(n/10)\n",
        "        sum=sum+rem**2\n",
        "    if sum < 10:\n",
        "        if sum==1:\n",
        "            return True\n",
        "        else:\n",
        "            return False\n",
        "    else:\n",
        "        return happy(sum)\n",
        "happy(32)\n"
      ],
      "metadata": {
        "colab": {
          "base_uri": "https://localhost:8080/"
        },
        "id": "-om_yBFxJjC-",
        "outputId": "fe2a645f-3a50-48b8-dac0-db2d8630a73a"
      },
      "execution_count": 15,
      "outputs": [
        {
          "output_type": "execute_result",
          "data": {
            "text/plain": [
              "True"
            ]
          },
          "metadata": {},
          "execution_count": 15
        }
      ]
    },
    {
      "cell_type": "markdown",
      "source": [
        "4. Write a Python program to print all happy numbers between 1 and 100?"
      ],
      "metadata": {
        "id": "TZJ50AXDPnIz"
      }
    },
    {
      "cell_type": "code",
      "source": [
        "l=[]\n",
        "for i in range(100):\n",
        "    if happy(i):\n",
        "        l.append(i)\n",
        "print(\"All Happy number between 1-100 are \\n \",l)"
      ],
      "metadata": {
        "colab": {
          "base_uri": "https://localhost:8080/"
        },
        "id": "z0yukXhVN4os",
        "outputId": "23f61645-3162-4710-855f-76d8dbf99fc0"
      },
      "execution_count": 17,
      "outputs": [
        {
          "output_type": "stream",
          "name": "stdout",
          "text": [
            "All Happy number between 1-100 are \n",
            "  [1, 7, 10, 13, 19, 23, 28, 31, 32, 44, 49, 68, 70, 79, 82, 86, 91, 94, 97]\n"
          ]
        }
      ]
    },
    {
      "cell_type": "markdown",
      "source": [
        "5. Write a Python program to determine whether the given number is a Harshad Number?"
      ],
      "metadata": {
        "id": "TtPXVF4ARK7-"
      }
    },
    {
      "cell_type": "code",
      "source": [
        "def harshad(n):\n",
        "    i=n\n",
        "    sum=0\n",
        "    while n>0:\n",
        "        rem=n%10\n",
        "        n=int(n/10)\n",
        "        sum=sum+rem\n",
        "    if i%sum==0:\n",
        "        return True\n",
        "    else:\n",
        "        return False\n",
        "print(\"Is 12 Harshad number ? \\n \",harshad(12))"
      ],
      "metadata": {
        "colab": {
          "base_uri": "https://localhost:8080/"
        },
        "id": "bnT8rR7tQmAw",
        "outputId": "443e54ef-1ee9-4f99-a0ef-b44eeeda9008"
      },
      "execution_count": 22,
      "outputs": [
        {
          "output_type": "stream",
          "name": "stdout",
          "text": [
            "Is 12 Harshad number ? \n",
            "  True\n"
          ]
        }
      ]
    },
    {
      "cell_type": "markdown",
      "source": [
        "6. Write a Python program to print all pronic numbers between 1 and 100?"
      ],
      "metadata": {
        "id": "Uzz16e7rTVEG"
      }
    },
    {
      "cell_type": "code",
      "source": [
        "def pronic(n):\n",
        "    pro=False\n",
        "    for i in range(2,n):\n",
        "        if i*(i-1)==n:\n",
        "            pro=True\n",
        "            break\n",
        "    return pro\n",
        "l=[]\n",
        "for i in range(100):\n",
        "    if pronic(i):\n",
        "        l.append(i)\n",
        "print(\"All Pronic number between 1-100 are \\n\",l)"
      ],
      "metadata": {
        "colab": {
          "base_uri": "https://localhost:8080/"
        },
        "id": "HRCXYgZoSm7i",
        "outputId": "6f83543a-b62d-464b-9fa6-42c55fdb0b82"
      },
      "execution_count": 32,
      "outputs": [
        {
          "output_type": "stream",
          "name": "stdout",
          "text": [
            "All Pronic number between 1-100 are \n",
            " [6, 12, 20, 30, 42, 56, 72, 90]\n"
          ]
        }
      ]
    },
    {
      "cell_type": "code",
      "source": [
        ""
      ],
      "metadata": {
        "id": "x5R3VNwZUbYR"
      },
      "execution_count": null,
      "outputs": []
    }
  ]
}