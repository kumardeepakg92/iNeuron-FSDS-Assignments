{
 "cells": [
  {
   "cell_type": "markdown",
   "id": "426a9292",
   "metadata": {},
   "source": [
    "Question1\n",
    "\n",
    "Create a function that takes a string and returns a string in which each character is repeated once.\n",
    "\n",
    "Examples\n",
    "\n",
    "double_char(&quot;String&quot;) ➞ &quot;SSttrriinngg&quot;\n",
    "\n",
    "double_char(&quot;Hello World!&quot;) ➞ &quot;HHeelllloo WWoorrlldd!!&quot;\n",
    "\n",
    "double_char(&quot;1234!_ &quot;) ➞ &quot;11223344!!__ &quot;"
   ]
  },
  {
   "cell_type": "code",
   "execution_count": 3,
   "id": "560a75ee",
   "metadata": {},
   "outputs": [
    {
     "name": "stdout",
     "output_type": "stream",
     "text": [
      "double_char(\"String\") ->  SSttrriinngg\n",
      "double_char(\"Hello World!\") ->  HHeelllloo  WWoorrlldd!!\n",
      "double_char(\"1234!_ \") ->  11223344!!__  \n"
     ]
    }
   ],
   "source": [
    "def double_char(string):\n",
    "    st=str()\n",
    "    for i in string:\n",
    "        st+=i+i\n",
    "    return st\n",
    "print('double_char(\"String\") -> ',double_char(\"String\"))\n",
    "print('double_char(\"Hello World!\") -> ',double_char(\"Hello World!\"))\n",
    "print('double_char(\"1234!_ \") -> ',double_char(\"1234!_ \"))"
   ]
  },
  {
   "cell_type": "markdown",
   "id": "cd027c24",
   "metadata": {},
   "source": [
    "Question2\n",
    "\n",
    "Create a function that reverses a boolean value and returns the string &quot;boolean expected&quot; if another variable type is given.\n",
    "\n",
    "Examples\n",
    "\n",
    "reverse(True) ➞ False\n",
    "\n",
    "reverse(False) ➞ True\n",
    "\n",
    "reverse(0) ➞ &quot;boolean expected&quot;\n",
    "\n",
    "reverse(None) ➞ &quot;boolean expected&quot;"
   ]
  },
  {
   "cell_type": "code",
   "execution_count": 7,
   "id": "30bb8a9f",
   "metadata": {},
   "outputs": [
    {
     "name": "stdout",
     "output_type": "stream",
     "text": [
      "reverse(True) ->  False\n",
      "reverse(False) ->  True\n",
      "reverse(0) ->  boolean expected\n",
      "reverse(None) ->  boolean expected\n"
     ]
    }
   ],
   "source": [
    "def reverse(boolean):\n",
    "    if type(boolean)==bool:\n",
    "        if boolean:\n",
    "            return False\n",
    "        else:\n",
    "            return True\n",
    "    else:\n",
    "        return 'boolean expected'\n",
    "print(\"reverse(True) -> \",reverse(True))\n",
    "print(\"reverse(False) -> \",reverse(False))\n",
    "print(\"reverse(0) -> \",reverse(0))\n",
    "print(\"reverse(None) -> \",reverse(None))"
   ]
  },
  {
   "cell_type": "markdown",
   "id": "e12c8ec9",
   "metadata": {},
   "source": [
    "Question3\n",
    "\n",
    "Create a function that returns the thickness (in meters) of a piece of paper after folding it n number of times. The paper starts off with a thickness of 0.5mm.\n",
    "\n",
    "Examples\n",
    "\n",
    "num_layers(1) ➞ &quot;0.001m&quot;\n",
    "\n",
    "# Paper folded once is 1mm (equal to 0.001m)\n",
    "\n",
    "num_layers(4) ➞ &quot;0.008m&quot;\n",
    "\n",
    "# Paper folded 4 times is 8mm (equal to 0.008m)\n",
    "\n",
    "num_layers(21) ➞ &quot;1048.576m&quot;\n",
    "\n",
    "# Paper folded 21 times is 1048576mm (equal to 1048.576m)"
   ]
  },
  {
   "cell_type": "code",
   "execution_count": 20,
   "id": "a9a8532c",
   "metadata": {},
   "outputs": [
    {
     "name": "stdout",
     "output_type": "stream",
     "text": [
      "num_layers(1) ->  0.001m\n",
      "num_layers(4) ->  0.008m\n",
      "num_layers(21) ->  1048.576m\n"
     ]
    }
   ],
   "source": [
    "def num_layers(n):\n",
    "    return str((0.5*(2**n)*0.001))+'m'\n",
    "print(\"num_layers(1) -> \",num_layers(1))\n",
    "print(\"num_layers(4) -> \",num_layers(4))\n",
    "print(\"num_layers(21) -> \",num_layers(21))"
   ]
  },
  {
   "cell_type": "markdown",
   "id": "d3581c04",
   "metadata": {},
   "source": [
    "Question4\n",
    "\n",
    "Create a function that takes a single string as argument and returns an ordered list containing the indices of all capital letters in the string.\n",
    "\n",
    "Examples\n",
    "\n",
    "index_of_caps(&quot;eDaBiT&quot;) ➞ [1, 3, 5]\n",
    "\n",
    "index_of_caps(&quot;eQuINoX&quot;) ➞ [1, 3, 4, 6]\n",
    "\n",
    "index_of_caps(&quot;determine&quot;) ➞ []\n",
    "\n",
    "index_of_caps(&quot;STRIKE&quot;) ➞ [0, 1, 2, 3, 4, 5]\n",
    "\n",
    "index_of_caps(&quot;sUn&quot;) ➞ [1]"
   ]
  },
  {
   "cell_type": "code",
   "execution_count": 27,
   "id": "fbc1732e",
   "metadata": {},
   "outputs": [
    {
     "name": "stdout",
     "output_type": "stream",
     "text": [
      "index_of_caps(\"eDaBiT\") ->  [1, 3, 5]\n",
      "index_of_caps(\"eQuINoX\") ->  [1, 3, 4, 6]\n",
      "index_of_caps(\"determine\") ->  []\n",
      "index_of_caps(\"STRIKE\") ->  [0, 1, 2, 3, 4, 5]\n",
      "index_of_caps(\"sUn\") ->  [1]\n"
     ]
    }
   ],
   "source": [
    "def index_of_caps(string):\n",
    "    l=[]\n",
    "    for i in range(len(string)):\n",
    "        if string[i].isupper():\n",
    "            l.append(i)\n",
    "    return l\n",
    "print('index_of_caps(\"eDaBiT\") -> ',index_of_caps(\"eDaBiT\"))\n",
    "print('index_of_caps(\"eQuINoX\") -> ',index_of_caps(\"eQuINoX\"))\n",
    "print('index_of_caps(\"determine\") -> ',index_of_caps(\"determine\"))\n",
    "print('index_of_caps(\"STRIKE\") -> ',index_of_caps(\"STRIKE\"))\n",
    "print('index_of_caps(\"sUn\") -> ',index_of_caps(\"sUn\"))"
   ]
  },
  {
   "cell_type": "markdown",
   "id": "f6a912e0",
   "metadata": {},
   "source": [
    "Question5\n",
    "\n",
    "Using list comprehensions, create a function that finds all even numbers from 1 to the given number.\n",
    "\n",
    "Examples\n",
    "\n",
    "find_even_nums(8) ➞ [2, 4, 6, 8]\n",
    "\n",
    "find_even_nums(4) ➞ [2, 4]\n",
    "\n",
    "find_even_nums(2) ➞ [2]"
   ]
  },
  {
   "cell_type": "code",
   "execution_count": 35,
   "id": "1dd576ad",
   "metadata": {},
   "outputs": [
    {
     "name": "stdout",
     "output_type": "stream",
     "text": [
      "find_even_nums(8) ->  [2, 4, 6, 8]\n",
      "find_even_nums(4) ->  [2, 4]\n",
      "find_even_nums(2) ->  [2]\n"
     ]
    }
   ],
   "source": [
    "def find_even_nums(n):\n",
    "    return [i for i in range(1,n+1) if i%2==0]\n",
    "print(\"find_even_nums(8) -> \",find_even_nums(8))\n",
    "print(\"find_even_nums(4) -> \",find_even_nums(4))\n",
    "print(\"find_even_nums(2) -> \",find_even_nums(2))"
   ]
  }
 ],
 "metadata": {
  "kernelspec": {
   "display_name": "Python 3 (ipykernel)",
   "language": "python",
   "name": "python3"
  },
  "language_info": {
   "codemirror_mode": {
    "name": "ipython",
    "version": 3
   },
   "file_extension": ".py",
   "mimetype": "text/x-python",
   "name": "python",
   "nbconvert_exporter": "python",
   "pygments_lexer": "ipython3",
   "version": "3.9.12"
  }
 },
 "nbformat": 4,
 "nbformat_minor": 5
}
