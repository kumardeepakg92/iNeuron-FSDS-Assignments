{
 "cells": [
  {
   "cell_type": "markdown",
   "id": "a98b2216",
   "metadata": {},
   "source": [
    "1. Write a Python Program to Display Fibonacci Sequence Using Recursion?"
   ]
  },
  {
   "cell_type": "code",
   "execution_count": 19,
   "id": "79da9ade",
   "metadata": {},
   "outputs": [
    {
     "name": "stdout",
     "output_type": "stream",
     "text": [
      "Enput number 8\n",
      "011235813"
     ]
    }
   ],
   "source": [
    "n=int(input(\"Enput number \"))\n",
    "def fibonacci(n):\n",
    "    if n<=1:\n",
    "        return n\n",
    "    else:\n",
    "        return (fibonacci(n-1)+fibonacci(n-2))\n",
    "for i in range(n):\n",
    "    print(fibonacci(i),end=\"\")"
   ]
  },
  {
   "cell_type": "markdown",
   "id": "82f76fb8",
   "metadata": {},
   "source": [
    "2. Write a Python Program to Find Factorial of Number Using Recursion?"
   ]
  },
  {
   "cell_type": "code",
   "execution_count": 26,
   "id": "5a0ce881",
   "metadata": {},
   "outputs": [
    {
     "name": "stdout",
     "output_type": "stream",
     "text": [
      "Enput number 5\n"
     ]
    },
    {
     "data": {
      "text/plain": [
       "120"
      ]
     },
     "execution_count": 26,
     "metadata": {},
     "output_type": "execute_result"
    }
   ],
   "source": [
    "fact=int(input(\"Enput number \"))\n",
    "def factorial(fact):\n",
    "    if fact<=1:\n",
    "        return fact\n",
    "    else:\n",
    "        return fact*factorial(fact-1)\n",
    "factorial(fact)"
   ]
  },
  {
   "cell_type": "markdown",
   "id": "141a7ceb",
   "metadata": {},
   "source": [
    "3. Write a Python Program to calculate your Body Mass Index?"
   ]
  },
  {
   "cell_type": "code",
   "execution_count": 31,
   "id": "b8b7087e",
   "metadata": {},
   "outputs": [
    {
     "name": "stdout",
     "output_type": "stream",
     "text": [
      "Enter your weight in kilograms 88\n",
      "Enter your height in centimeters 168\n",
      "Your BMI is  52.38\n"
     ]
    }
   ],
   "source": [
    "weight=float(input(\"Enter your weight in kilograms \"))\n",
    "height=float(input(\"Enter your height in centimeters \"))\n",
    "height/=100\n",
    "bmi=round(weight/height,2)\n",
    "\n",
    "print(\"Your BMI is \",bmi)"
   ]
  },
  {
   "cell_type": "markdown",
   "id": "1a00ab48",
   "metadata": {},
   "source": [
    "4. Write a Python Program to calculate the natural logarithm of any number?"
   ]
  },
  {
   "cell_type": "code",
   "execution_count": 35,
   "id": "a5b760ae",
   "metadata": {},
   "outputs": [
    {
     "name": "stdout",
     "output_type": "stream",
     "text": [
      "Enter number to find logarithm 4\n",
      "1.39\n"
     ]
    }
   ],
   "source": [
    "import math\n",
    "a=float(input(\"Enter number to find logarithm \"))\n",
    "print(round(math.log(a),2))"
   ]
  },
  {
   "cell_type": "markdown",
   "id": "c8fbbd79",
   "metadata": {},
   "source": [
    "5. Write a Python Program for cube sum of first n natural numbers?"
   ]
  },
  {
   "cell_type": "code",
   "execution_count": 48,
   "id": "20e06846",
   "metadata": {},
   "outputs": [
    {
     "name": "stdout",
     "output_type": "stream",
     "text": [
      "Enter number to find cube sum of first n natural numbers 4\n"
     ]
    },
    {
     "data": {
      "text/plain": [
       "100"
      ]
     },
     "execution_count": 48,
     "metadata": {},
     "output_type": "execute_result"
    }
   ],
   "source": [
    "cu=int(input(\"Enter number to find cube sum of first n natural numbers \"))\n",
    "def cube(n):\n",
    "    if n<=1:\n",
    "        return 1\n",
    "    else:\n",
    "        return ((n**3)+cube(n-1))\n",
    "cube(cu)"
   ]
  },
  {
   "cell_type": "code",
   "execution_count": null,
   "id": "a5197b78",
   "metadata": {},
   "outputs": [],
   "source": []
  }
 ],
 "metadata": {
  "kernelspec": {
   "display_name": "Python 3 (ipykernel)",
   "language": "python",
   "name": "python3"
  },
  "language_info": {
   "codemirror_mode": {
    "name": "ipython",
    "version": 3
   },
   "file_extension": ".py",
   "mimetype": "text/x-python",
   "name": "python",
   "nbconvert_exporter": "python",
   "pygments_lexer": "ipython3",
   "version": "3.9.12"
  }
 },
 "nbformat": 4,
 "nbformat_minor": 5
}
