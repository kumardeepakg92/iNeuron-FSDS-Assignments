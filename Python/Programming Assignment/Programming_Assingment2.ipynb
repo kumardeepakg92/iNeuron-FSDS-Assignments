{
 "cells": [
  {
   "cell_type": "markdown",
   "id": "95676f0c",
   "metadata": {},
   "source": [
    "1. Write a Python program to convert kilometers to miles?"
   ]
  },
  {
   "cell_type": "code",
   "execution_count": 1,
   "id": "26965fd5",
   "metadata": {},
   "outputs": [
    {
     "name": "stdout",
     "output_type": "stream",
     "text": [
      "Enter Kilometer 45\n",
      "45.0 kilometer is equal to 27.9 miles\n"
     ]
    }
   ],
   "source": [
    "kilo=float(input(\"Enter Kilometer \"))\n",
    "miles=kilo * 0.62\n",
    "print(\"{} kilometer is equal to {} miles\".format(kilo,miles))"
   ]
  },
  {
   "cell_type": "markdown",
   "id": "7b3aadcb",
   "metadata": {},
   "source": [
    "2. Write a Python program to convert Celsius to Fahrenheit?"
   ]
  },
  {
   "cell_type": "code",
   "execution_count": 5,
   "id": "2a596516",
   "metadata": {},
   "outputs": [
    {
     "name": "stdout",
     "output_type": "stream",
     "text": [
      "Enter Celsius 2\n",
      "2.0 Celsius is equal to 35.6 Fahrenheit\n"
     ]
    }
   ],
   "source": [
    "cel=float(input(\"Enter Celsius \"))\n",
    "fah=cel * 1.8+32\n",
    "print(\"{} Celsius is equal to {} Fahrenheit\".format(cel,fah))"
   ]
  },
  {
   "cell_type": "markdown",
   "id": "d7bed271",
   "metadata": {},
   "source": [
    "3. Write a Python program to display calendar?"
   ]
  },
  {
   "cell_type": "code",
   "execution_count": 18,
   "id": "8abc7a08",
   "metadata": {},
   "outputs": [
    {
     "name": "stdout",
     "output_type": "stream",
     "text": [
      "Enter year  2020\n",
      "                                  2020\n",
      "\n",
      "      January                   February                   March\n",
      "Mo Tu We Th Fr Sa Su      Mo Tu We Th Fr Sa Su      Mo Tu We Th Fr Sa Su\n",
      "       1  2  3  4  5                      1  2                         1\n",
      " 6  7  8  9 10 11 12       3  4  5  6  7  8  9       2  3  4  5  6  7  8\n",
      "13 14 15 16 17 18 19      10 11 12 13 14 15 16       9 10 11 12 13 14 15\n",
      "20 21 22 23 24 25 26      17 18 19 20 21 22 23      16 17 18 19 20 21 22\n",
      "27 28 29 30 31            24 25 26 27 28 29         23 24 25 26 27 28 29\n",
      "                                                    30 31\n",
      "\n",
      "       April                      May                       June\n",
      "Mo Tu We Th Fr Sa Su      Mo Tu We Th Fr Sa Su      Mo Tu We Th Fr Sa Su\n",
      "       1  2  3  4  5                   1  2  3       1  2  3  4  5  6  7\n",
      " 6  7  8  9 10 11 12       4  5  6  7  8  9 10       8  9 10 11 12 13 14\n",
      "13 14 15 16 17 18 19      11 12 13 14 15 16 17      15 16 17 18 19 20 21\n",
      "20 21 22 23 24 25 26      18 19 20 21 22 23 24      22 23 24 25 26 27 28\n",
      "27 28 29 30               25 26 27 28 29 30 31      29 30\n",
      "\n",
      "        July                     August                  September\n",
      "Mo Tu We Th Fr Sa Su      Mo Tu We Th Fr Sa Su      Mo Tu We Th Fr Sa Su\n",
      "       1  2  3  4  5                      1  2          1  2  3  4  5  6\n",
      " 6  7  8  9 10 11 12       3  4  5  6  7  8  9       7  8  9 10 11 12 13\n",
      "13 14 15 16 17 18 19      10 11 12 13 14 15 16      14 15 16 17 18 19 20\n",
      "20 21 22 23 24 25 26      17 18 19 20 21 22 23      21 22 23 24 25 26 27\n",
      "27 28 29 30 31            24 25 26 27 28 29 30      28 29 30\n",
      "                          31\n",
      "\n",
      "      October                   November                  December\n",
      "Mo Tu We Th Fr Sa Su      Mo Tu We Th Fr Sa Su      Mo Tu We Th Fr Sa Su\n",
      "          1  2  3  4                         1          1  2  3  4  5  6\n",
      " 5  6  7  8  9 10 11       2  3  4  5  6  7  8       7  8  9 10 11 12 13\n",
      "12 13 14 15 16 17 18       9 10 11 12 13 14 15      14 15 16 17 18 19 20\n",
      "19 20 21 22 23 24 25      16 17 18 19 20 21 22      21 22 23 24 25 26 27\n",
      "26 27 28 29 30 31         23 24 25 26 27 28 29      28 29 30 31\n",
      "                          30\n",
      "\n"
     ]
    }
   ],
   "source": [
    "import calendar\n",
    "year=int(input(\"Enter year  \"))\n",
    "\n",
    "print(calendar.calendar(year))"
   ]
  },
  {
   "cell_type": "markdown",
   "id": "0eac6489",
   "metadata": {},
   "source": [
    "4. Write a Python program to solve quadratic equation?"
   ]
  },
  {
   "cell_type": "code",
   "execution_count": 56,
   "id": "572f39f9",
   "metadata": {},
   "outputs": [
    {
     "name": "stdout",
     "output_type": "stream",
     "text": [
      "Enter value a = 1\n",
      "Enter value b = 1\n",
      "Enter value c = 1\n",
      "\n",
      "Complex roots\n",
      "\n",
      "Roots are (-0.5+1.22j) , (-0.5-1.22j) \n"
     ]
    }
   ],
   "source": [
    "import math\n",
    "\n",
    "a=float(input(\"Enter value a = \"))\n",
    "b=float(input(\"Enter value b = \"))\n",
    "c=float(input(\"Enter value c = \"))\n",
    "\n",
    "d=b*b-4*a*c\n",
    "\n",
    "if d > 0:\n",
    "    print(\"\\nReal and different roots\\n\")\n",
    "    \n",
    "    root1=round((-b+math.sqrt(d))/2*a, 2)\n",
    "    root2=round((-b-math.sqrt(d))/2*a, 2)\n",
    "    \n",
    "    print(\"Roots are {}, {} \".format(root1,root2))\n",
    "elif d==0:\n",
    "    print(\"\\nReal and same roots\\n\")\n",
    "    \n",
    "    root1=round((-b+math.sqrt(d))/2*a, 2)\n",
    "    root2=round((-b-math.sqrt(d))/2*a, 2)\n",
    "    \n",
    "    print(\"Roots are {}, {} \".format(root1,root2))\n",
    "else:\n",
    "    print(\"\\nComplex roots\\n\")\n",
    "    d*=-1\n",
    "    root1=complex(-b/(2*a), round(math.sqrt(d/(2*a)), 2))\n",
    "    root2=complex(-b/(2*a), - round(math.sqrt(d/(2*a)), 2))\n",
    "    print(\"Roots are {} , {} \".format(root1,root2))"
   ]
  },
  {
   "cell_type": "markdown",
   "id": "e7e0fb0d",
   "metadata": {},
   "source": [
    "5. Write a Python program to swap two variables without temp variable?"
   ]
  },
  {
   "cell_type": "code",
   "execution_count": 59,
   "id": "9e87384c",
   "metadata": {},
   "outputs": [
    {
     "name": "stdout",
     "output_type": "stream",
     "text": [
      "First integer = 4\n",
      "Second integer = 5\n",
      "After swap first number is 5 and second number is 4 \n"
     ]
    }
   ],
   "source": [
    "a=int(input(\"First integer = \"))\n",
    "b=int(input(\"Second integer = \"))\n",
    "\n",
    "a=a+b\n",
    "b=a-b\n",
    "a=a-b\n",
    "print(\"After swap first number is {} and second number is {} \".format(a,b))"
   ]
  },
  {
   "cell_type": "code",
   "execution_count": null,
   "id": "0d446131",
   "metadata": {},
   "outputs": [],
   "source": []
  }
 ],
 "metadata": {
  "kernelspec": {
   "display_name": "Python 3 (ipykernel)",
   "language": "python",
   "name": "python3"
  },
  "language_info": {
   "codemirror_mode": {
    "name": "ipython",
    "version": 3
   },
   "file_extension": ".py",
   "mimetype": "text/x-python",
   "name": "python",
   "nbconvert_exporter": "python",
   "pygments_lexer": "ipython3",
   "version": "3.9.12"
  }
 },
 "nbformat": 4,
 "nbformat_minor": 5
}
