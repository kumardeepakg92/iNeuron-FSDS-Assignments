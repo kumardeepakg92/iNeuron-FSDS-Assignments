{
 "cells": [
  {
   "cell_type": "markdown",
   "id": "a83807a3",
   "metadata": {},
   "source": [
    "Question1\n",
    "\n",
    "Write a function that takes a list and a number as arguments. Add the number to the end of the list, then remove the first element of the list. The function should then return the updated list.\n",
    "\n",
    "Examples\n",
    "\n",
    "next_in_line([5, 6, 7, 8, 9], 1) ➞ [6, 7, 8, 9, 1]\n",
    "\n",
    "next_in_line([7, 6, 3, 23, 17], 10) ➞ [6, 3, 23, 17, 10]\n",
    "\n",
    "next_in_line([1, 10, 20, 42 ], 6) ➞ [10, 20, 42, 6]\n",
    "\n",
    "next_in_line([], 6) ➞ &quot;No list has been selected&quot;"
   ]
  },
  {
   "cell_type": "code",
   "execution_count": 10,
   "id": "f3b8f61a",
   "metadata": {},
   "outputs": [
    {
     "name": "stdout",
     "output_type": "stream",
     "text": [
      "next_in_line([5, 6, 7, 8, 9], 1) ->  [6, 7, 8, 9, 1]\n",
      "next_in_line([7, 6, 3, 23, 17], 10) ->  [6, 3, 23, 17, 10]\n",
      "next_in_line([1, 10, 20, 42 ], 6) ->  [10, 20, 42, 6]\n",
      "next_in_line([], 6) ->  No list has been selected\n"
     ]
    }
   ],
   "source": [
    "def next_in_line(li,num):\n",
    "    if len(li)>0:\n",
    "        li.append(num)\n",
    "        li.pop(0)\n",
    "        return li\n",
    "    else:\n",
    "        return \"No list has been selected\"\n",
    "print(\"next_in_line([5, 6, 7, 8, 9], 1) -> \",next_in_line([5, 6, 7, 8, 9], 1))\n",
    "print(\"next_in_line([7, 6, 3, 23, 17], 10) -> \",next_in_line([7, 6, 3, 23, 17], 10))\n",
    "print(\"next_in_line([1, 10, 20, 42 ], 6) -> \",next_in_line([1, 10, 20, 42 ], 6))\n",
    "print(\"next_in_line([], 6) -> \",next_in_line([], 6))"
   ]
  },
  {
   "cell_type": "markdown",
   "id": "f29d64f7",
   "metadata": {},
   "source": [
    "Question2\n",
    "\n",
    "Create the function that takes a list of dictionaries and returns the sum of people&#39;s budgets.\n",
    "\n",
    "Examples\n",
    "\n",
    "get_budgets([\n",
    "\n",
    "{ &quot;name&quot;: &quot;John&quot;, &quot;age&quot;: 21, &quot;budget&quot;: 23000 },\n",
    "\n",
    "{ &quot;name&quot;: &quot;Steve&quot;, &quot;age&quot;: 32, &quot;budget&quot;: 40000 },\n",
    "\n",
    "{ &quot;name&quot;: &quot;Martin&quot;, &quot;age&quot;: 16, &quot;budget&quot;: 2700 }\n",
    "\n",
    "]) ➞ 65700\n",
    "\n",
    "get_budgets([\n",
    "\n",
    "{ &quot;name&quot;: &quot;John&quot;, &quot;age&quot;: 21, &quot;budget&quot;: 29000 },\n",
    "\n",
    "{ &quot;name&quot;: &quot;Steve&quot;, &quot;age&quot;: 32, &quot;budget&quot;: 32000 },\n",
    "\n",
    "{ &quot;name&quot;: &quot;Martin&quot;, &quot;age&quot;: 16, &quot;budget&quot;: 1600 }\n",
    "\n",
    "]) ➞ 62600"
   ]
  },
  {
   "cell_type": "code",
   "execution_count": 14,
   "id": "cafd1913",
   "metadata": {},
   "outputs": [
    {
     "name": "stdout",
     "output_type": "stream",
     "text": [
      "[{'name': 'John', 'age': 21, 'budget': 23000}, {'name': 'Steve', 'age': 32, 'budget': 40000}, {'name': 'Martin', 'age': 16, 'budget': 2700}] -> 65700\n",
      "[{'name': 'John', 'age': 21, 'budget': 29000}, {'name': 'Steve', 'age': 32, 'budget': 32000}, {'name': 'Martin', 'age': 16, 'budget': 1600}] -> 62600\n"
     ]
    }
   ],
   "source": [
    "def get_budgets(li):\n",
    "    budgets=0\n",
    "    for i in li:\n",
    "        budgets+=i[\"budget\"]\n",
    "    print(\"{} -> {}\".format(li,budgets))\n",
    "\n",
    "get_budgets([\n",
    "\n",
    "{ \"name\": \"John\", \"age\": 21, \"budget\": 23000 },\n",
    "\n",
    "{ \"name\": \"Steve\", \"age\": 32, \"budget\": 40000 },\n",
    "\n",
    "{ \"name\": \"Martin\", \"age\": 16, \"budget\": 2700 }\n",
    "\n",
    "])\n",
    "get_budgets([\n",
    "\n",
    "{ \"name\": \"John\", \"age\": 21, \"budget\": 29000 },\n",
    "\n",
    "{ \"name\": \"Steve\", \"age\": 32, \"budget\": 32000 },\n",
    "\n",
    "{ \"name\": \"Martin\", \"age\": 16, \"budget\": 1600 }\n",
    "\n",
    "])"
   ]
  },
  {
   "cell_type": "markdown",
   "id": "24324717",
   "metadata": {},
   "source": [
    "Question3\n",
    "\n",
    "Create a function that takes a string and returns a string with its letters in alphabetical order.\n",
    "\n",
    "Examples\n",
    "\n",
    "alphabet_soup(&quot;hello&quot;) ➞ &quot;ehllo&quot;\n",
    "\n",
    "alphabet_soup(&quot;edabit&quot;) ➞ &quot;abdeit&quot;\n",
    "\n",
    "alphabet_soup(&quot;hacker&quot;) ➞ &quot;acehkr&quot;\n",
    "\n",
    "alphabet_soup(&quot;geek&quot;) ➞ &quot;eegk&quot;\n",
    "\n",
    "alphabet_soup(&quot;javascript&quot;) ➞ &quot;aacijprstv&quot;\n"
   ]
  },
  {
   "cell_type": "code",
   "execution_count": 20,
   "id": "7e8d2948",
   "metadata": {},
   "outputs": [
    {
     "name": "stdout",
     "output_type": "stream",
     "text": [
      "alphabet_soup(\"hello\") ->  ehllo\n",
      "alphabet_soup(\"edabit\") ->  abdeit\n",
      "alphabet_soup(\"hacker\") ->  acehkr\n",
      "alphabet_soup(\"geek\") ->  eegk\n",
      "alphabet_soup(\"javascript\") ->  aacijprstv\n"
     ]
    }
   ],
   "source": [
    "def alphabet_soup(string):\n",
    "    st=sorted(string)\n",
    "    return (''.join([x for x in st]))\n",
    "print('alphabet_soup(\"hello\") -> ',alphabet_soup(\"hello\"))\n",
    "print('alphabet_soup(\"edabit\") -> ',alphabet_soup(\"edabit\"))\n",
    "print('alphabet_soup(\"hacker\") -> ',alphabet_soup(\"hacker\"))\n",
    "print('alphabet_soup(\"geek\") -> ',alphabet_soup(\"geek\"))\n",
    "print('alphabet_soup(\"javascript\") -> ',alphabet_soup(\"javascript\"))"
   ]
  },
  {
   "cell_type": "markdown",
   "id": "a12bbe1b",
   "metadata": {},
   "source": [
    "Question4\n",
    "\n",
    "Suppose that you invest $10,000 for 10 years at an interest rate of 6% compounded monthly. What will be the value of your investment at the end of the 10 year period?\n",
    "\n",
    "Create a function that accepts the principal p, the term in years t, the interest rate r, and the number of compounding periods per year n. The function returns the value at the end of term rounded to the nearest cent.\n",
    "\n",
    "For the example above:\n",
    "\n",
    "compound_interest(10000, 10, 0.06, 12) ➞ 18193.97\n",
    "\n",
    "Note that the interest rate is given as a decimal and n=12 because with monthly compounding there are 12 periods per year. Compounding can also be done annually, quarterly, weekly, or daily.\n",
    "\n",
    "Examples\n",
    "\n",
    "compound_interest(100, 1, 0.05, 1) ➞ 105.0\n",
    "\n",
    "compound_interest(3500, 15, 0.1, 4) ➞ 15399.26\n",
    "\n",
    "compound_interest(100000, 20, 0.15, 365) ➞ 2007316.26\n"
   ]
  },
  {
   "cell_type": "code",
   "execution_count": 23,
   "id": "f42f85b3",
   "metadata": {},
   "outputs": [
    {
     "name": "stdout",
     "output_type": "stream",
     "text": [
      "compound_interest(100, 1, 0.05, 1) ->  105.0\n",
      "compound_interest(3500, 15, 0.1, 4) ->  15399.26\n",
      "compound_interest(100000, 20, 0.15, 365) ->  2007316.26\n",
      "compound_interest(10000, 10, 0.06, 12) ->  18193.97\n"
     ]
    }
   ],
   "source": [
    "def compound_interest(p,t,r,n):\n",
    "    a=round(p*((1+(r/n))**(n*t)),2)\n",
    "    return a\n",
    "\n",
    "print(\"compound_interest(100, 1, 0.05, 1) -> \",compound_interest(100, 1, 0.05, 1))\n",
    "print(\"compound_interest(3500, 15, 0.1, 4) -> \",compound_interest(3500, 15, 0.1, 4))\n",
    "print(\"compound_interest(100000, 20, 0.15, 365) -> \",compound_interest(100000, 20, 0.15, 365))\n",
    "print(\"compound_interest(10000, 10, 0.06, 12) -> \",compound_interest(10000, 10, 0.06, 12))"
   ]
  },
  {
   "cell_type": "markdown",
   "id": "3daa51e0",
   "metadata": {},
   "source": [
    "Question5\n",
    "\n",
    "Write a function that takes a list of elements and returns only the integers.\n",
    "\n",
    "Examples\n",
    "\n",
    "return_only_integer([9, 2, &quot;space&quot;, &quot;car&quot;, &quot;lion&quot;, 16]) ➞ [9, 2, 16]\n",
    "\n",
    "return_only_integer([&quot;hello&quot;, 81, &quot;basketball&quot;, 123, &quot;fox&quot;]) ➞ [81, 123]\n",
    "\n",
    "return_only_integer([10, &quot;121&quot;, 56, 20, &quot;car&quot;, 3, &quot;lion&quot;]) ➞ [10, 56, 20,\n",
    "3]\n",
    "\n",
    "return_only_integer([&quot;String&quot;, True, 3.3, 1]) ➞ [1]"
   ]
  },
  {
   "cell_type": "code",
   "execution_count": 27,
   "id": "09cfd581",
   "metadata": {},
   "outputs": [
    {
     "name": "stdout",
     "output_type": "stream",
     "text": [
      "return_only_integer([\"hello\", 81, \"basketball\", 123, \"fox\"]) ->  [81, 123]\n",
      "return_only_integer([9, 2, \"space\", \"car\", \"lion\", 16]) ->  [9, 2, 16]\n",
      "return_only_integer([10, \"121\", 56, 20, \"car\", 3, \"lion\"]) ->  [10, 56, 20, 3]\n",
      "return_only_integer([\"String\", True, 3.3, 1]) ->  [1]\n"
     ]
    }
   ],
   "source": [
    "def return_only_integer(li):\n",
    "    l=[]\n",
    "    for i in li:\n",
    "        if type(i)==int:\n",
    "            l.append(i)\n",
    "    return l\n",
    "print('return_only_integer([\"hello\", 81, \"basketball\", 123, \"fox\"]) -> ',return_only_integer([\"hello\", 81, \"basketball\", 123, \"fox\"]))\n",
    "print('return_only_integer([9, 2, \"space\", \"car\", \"lion\", 16]) -> ',return_only_integer([9, 2, \"space\", \"car\", \"lion\", 16]))\n",
    "print('return_only_integer([10, \"121\", 56, 20, \"car\", 3, \"lion\"]) -> ',return_only_integer([10, \"121\", 56, 20, \"car\", 3, \"lion\"]))\n",
    "print('return_only_integer([\"String\", True, 3.3, 1]) -> ',return_only_integer([\"String\", True, 3.3, 1]))"
   ]
  }
 ],
 "metadata": {
  "kernelspec": {
   "display_name": "Python 3 (ipykernel)",
   "language": "python",
   "name": "python3"
  },
  "language_info": {
   "codemirror_mode": {
    "name": "ipython",
    "version": 3
   },
   "file_extension": ".py",
   "mimetype": "text/x-python",
   "name": "python",
   "nbconvert_exporter": "python",
   "pygments_lexer": "ipython3",
   "version": "3.9.12"
  }
 },
 "nbformat": 4,
 "nbformat_minor": 5
}
