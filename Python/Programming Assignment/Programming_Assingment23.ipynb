{
 "cells": [
  {
   "cell_type": "markdown",
   "id": "06980ca7",
   "metadata": {},
   "source": [
    "Question 1\n",
    "\n",
    "Create a function that takes a number as an argument and returns True or False depending on whether the number is symmetrical or not. A number is symmetrical when it is the same as its reverse.\n",
    "\n",
    "Examples\n",
    "\n",
    "is_symmetrical(7227) ➞ True\n",
    "\n",
    "is_symmetrical(12567) ➞ False\n",
    "\n",
    "is_symmetrical(44444444) ➞ True\n",
    "\n",
    "is_symmetrical(9939) ➞ False\n",
    "\n",
    "is_symmetrical(1112111) ➞ True"
   ]
  },
  {
   "cell_type": "code",
   "execution_count": 7,
   "id": "36353842",
   "metadata": {},
   "outputs": [
    {
     "name": "stdout",
     "output_type": "stream",
     "text": [
      "is_symmetrical(7227) ->  True\n",
      "is_symmetrical(12567) ->  False\n",
      "is_symmetrical(44444444) ->  True\n",
      "is_symmetrical(9939) ->  False\n",
      "is_symmetrical(1112111) ->  True\n"
     ]
    }
   ],
   "source": [
    "def is_symmetrical(num):\n",
    "    temp=num\n",
    "    reverse=0\n",
    "    while num>0:\n",
    "        a=num%10\n",
    "        reverse=reverse*10+a\n",
    "        num=num//10\n",
    "    if temp==reverse:\n",
    "        return True\n",
    "    else:\n",
    "        return False\n",
    "\n",
    "print(\"is_symmetrical(7227) -> \",is_symmetrical(7227))\n",
    "print(\"is_symmetrical(12567) -> \",is_symmetrical(12567))\n",
    "print(\"is_symmetrical(44444444) -> \",is_symmetrical(44444444))\n",
    "print(\"is_symmetrical(9939) -> \",is_symmetrical(9939))\n",
    "print(\"is_symmetrical(1112111) -> \",is_symmetrical(1112111))"
   ]
  },
  {
   "cell_type": "markdown",
   "id": "fc40c132",
   "metadata": {},
   "source": [
    "Question 2\n",
    "\n",
    "Given a string of numbers separated by a comma and space, return the product of the numbers.\n",
    "\n",
    "Examples\n",
    "\n",
    "multiply_nums(&quot;2, 3&quot;) ➞ 6\n",
    "\n",
    "multiply_nums(&quot;1, 2, 3, 4&quot;) ➞ 24\n",
    "\n",
    "multiply_nums(&quot;54, 75, 453, 0&quot;) ➞ 0\n",
    "\n",
    "multiply_nums(&quot;10, -2&quot;) ➞ -20"
   ]
  },
  {
   "cell_type": "code",
   "execution_count": 9,
   "id": "6e468cc1",
   "metadata": {},
   "outputs": [
    {
     "name": "stdout",
     "output_type": "stream",
     "text": [
      "multiply_nums(\"2, 3\") ->  6\n",
      "multiply_nums(\"1, 2, 3, 4\") ->  24\n",
      "multiply_nums(\"54, 75, 453, 0\") ->  0\n",
      "multiply_nums(\"10, -2\") ->  -20\n"
     ]
    }
   ],
   "source": [
    "def multiply_nums(string):\n",
    "    st=string.split(',')\n",
    "    mul=1\n",
    "    for i in st:\n",
    "        mul=mul*int(i)\n",
    "    return mul\n",
    "\n",
    "print('multiply_nums(\"2, 3\") -> ',multiply_nums(\"2, 3\"))\n",
    "print('multiply_nums(\"1, 2, 3, 4\") -> ',multiply_nums(\"1, 2, 3, 4\"))\n",
    "print('multiply_nums(\"54, 75, 453, 0\") -> ',multiply_nums(\"54, 75, 453, 0\"))\n",
    "print('multiply_nums(\"10, -2\") -> ',multiply_nums(\"10, -2\"))"
   ]
  },
  {
   "cell_type": "markdown",
   "id": "6f793c6d",
   "metadata": {},
   "source": [
    "Question 3\n",
    "\n",
    "Create a function that squares every digit of a number.\n",
    "\n",
    "Examples\n",
    "\n",
    "square_digits(9119) ➞ 811181\n",
    "\n",
    "square_digits(2483) ➞ 416649\n",
    "\n",
    "square_digits(3212) ➞ 9414\n",
    "\n",
    "Notes\n",
    "\n",
    "The function receives an integer and must return an integer."
   ]
  },
  {
   "cell_type": "code",
   "execution_count": 12,
   "id": "f2fd0fbd",
   "metadata": {},
   "outputs": [
    {
     "name": "stdout",
     "output_type": "stream",
     "text": [
      "square_digits(9119) ->  811181\n",
      "square_digits(2483) ->  416649\n",
      "square_digits(3212) ->  9414\n"
     ]
    }
   ],
   "source": [
    "def square_digits(num):\n",
    "    temp=str()\n",
    "    for i in str(num):\n",
    "        temp=temp+str(int(i)**2)\n",
    "    return int(temp)\n",
    "print(\"square_digits(9119) -> \",square_digits(9119))\n",
    "print(\"square_digits(2483) -> \",square_digits(2483))\n",
    "print(\"square_digits(3212) -> \",square_digits(3212))"
   ]
  },
  {
   "cell_type": "markdown",
   "id": "e0a7ceff",
   "metadata": {},
   "source": [
    "Question 4\n",
    "\n",
    "Create a function that sorts a list and removes all duplicate items from it.\n",
    "\n",
    "Examples\n",
    "\n",
    "setify([1, 3, 3, 5, 5]) ➞ [1, 3, 5]\n",
    "\n",
    "setify([4, 4, 4, 4]) ➞ [4]\n",
    "\n",
    "setify([5, 7, 8, 9, 10, 15]) ➞ [5, 7, 8, 9, 10, 15]\n",
    "\n",
    "setify([3, 3, 3, 2, 1]) ➞ [1, 2, 3]"
   ]
  },
  {
   "cell_type": "code",
   "execution_count": 25,
   "id": "04eefb8c",
   "metadata": {},
   "outputs": [
    {
     "name": "stdout",
     "output_type": "stream",
     "text": [
      "setify([1, 3, 3, 5, 5]) ->  [1, 3, 5]\n",
      "setify([4, 4, 4, 4]) ->  [4]\n",
      "setify([5, 7, 8, 9, 10, 15]) ->  [5, 7, 8, 9, 10, 15]\n",
      "setify([3, 3, 3, 2, 1]) ->  [1, 2, 3]\n"
     ]
    }
   ],
   "source": [
    "def setify(li):\n",
    "    l=sorted(li)\n",
    "    temp=[]\n",
    "    for i in l:\n",
    "        if i not in temp:\n",
    "            temp.append(i)\n",
    "    return temp\n",
    "print(\"setify([1, 3, 3, 5, 5]) -> \",setify([1, 3, 3, 5, 5]))\n",
    "print(\"setify([4, 4, 4, 4]) -> \",setify([4, 4, 4, 4]))\n",
    "print(\"setify([5, 7, 8, 9, 10, 15]) -> \",setify([5, 7, 8, 9, 10, 15]))\n",
    "print(\"setify([3, 3, 3, 2, 1]) -> \",setify([3, 3, 3, 2, 1]))"
   ]
  },
  {
   "cell_type": "markdown",
   "id": "7dabe578",
   "metadata": {},
   "source": [
    "Question 5\n",
    "\n",
    "Create a function that returns the mean of all digits.\n",
    "\n",
    "Examples\n",
    "\n",
    "mean(42) ➞ 3\n",
    "\n",
    "mean(12345) ➞ 3\n",
    "\n",
    "mean(666) ➞ 6\n",
    "\n",
    "Notes\n",
    "\n",
    " The mean of all digits is the sum of digits / how many digits there are (e.g. mean of digits in 512 is (5+1+2)/3(number of digits) = 8/3=2).\n",
    "\n",
    " The mean will always be an integer."
   ]
  },
  {
   "cell_type": "code",
   "execution_count": 28,
   "id": "6e1f373b",
   "metadata": {},
   "outputs": [
    {
     "name": "stdout",
     "output_type": "stream",
     "text": [
      "mean(42) ->  3.0\n",
      "mean(12345) ->  3.0\n",
      "mean(666) ->  6.0\n"
     ]
    }
   ],
   "source": [
    "def mean(num):\n",
    "    st=str(num)\n",
    "    mean=0\n",
    "    for i in st:\n",
    "        mean+=int(i)\n",
    "    mean=mean/len(st)\n",
    "    return mean\n",
    "print(\"mean(42) -> \",mean(42))\n",
    "print(\"mean(12345) -> \",mean(12345))\n",
    "print(\"mean(666) -> \",mean(666)) "
   ]
  }
 ],
 "metadata": {
  "kernelspec": {
   "display_name": "Python 3 (ipykernel)",
   "language": "python",
   "name": "python3"
  },
  "language_info": {
   "codemirror_mode": {
    "name": "ipython",
    "version": 3
   },
   "file_extension": ".py",
   "mimetype": "text/x-python",
   "name": "python",
   "nbconvert_exporter": "python",
   "pygments_lexer": "ipython3",
   "version": "3.9.12"
  }
 },
 "nbformat": 4,
 "nbformat_minor": 5
}
