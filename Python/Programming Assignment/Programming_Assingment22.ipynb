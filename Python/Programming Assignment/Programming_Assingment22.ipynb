{
 "cells": [
  {
   "cell_type": "markdown",
   "id": "19280a12",
   "metadata": {},
   "source": [
    "Question1\n",
    "\n",
    "Create a function that takes three parameters where:\n",
    "\n",
    " x is the start of the range (inclusive).\n",
    "\n",
    " y is the end of the range (inclusive).\n",
    "\n",
    " n is the divisor to be checked against.\n",
    "\n",
    "Return an ordered list with numbers in the range that are divisible by the third parameter n. Return an empty list if there are no numbers that are divisible by n.\n",
    "\n",
    "Examples\n",
    "\n",
    "list_operation(1, 10, 3) ➞ [3, 6, 9]\n",
    "\n",
    "list_operation(7, 9, 2) ➞ [8]\n",
    "\n",
    "list_operation(15, 20, 7) ➞ []"
   ]
  },
  {
   "cell_type": "code",
   "execution_count": 3,
   "id": "536100d5",
   "metadata": {},
   "outputs": [
    {
     "name": "stdout",
     "output_type": "stream",
     "text": [
      "list_operation(1, 10, 3) ->  [3, 6, 9]\n",
      "list_operation(7, 9, 2) ->  [8]\n",
      "list_operation(15, 20, 7) ->  []\n"
     ]
    }
   ],
   "source": [
    "def list_operation(x,y,n):\n",
    "    l=[]\n",
    "    for i in range(x,y+1):\n",
    "        if i%n==0:\n",
    "            l.append(i)\n",
    "    return l\n",
    "print(\"list_operation(1, 10, 3) -> \",list_operation(1, 10, 3))\n",
    "print(\"list_operation(7, 9, 2) -> \",list_operation(7, 9, 2))\n",
    "print(\"list_operation(15, 20, 7) -> \",list_operation(15, 20, 7))"
   ]
  },
  {
   "cell_type": "markdown",
   "id": "e696c875",
   "metadata": {},
   "source": [
    "Question2\n",
    "\n",
    "Create a function that takes in two lists and returns True if the second list follows the first list by one element, and False otherwise. In other words, determine if the second list is the first list shifted to the right by 1.\n",
    "\n",
    "Examples\n",
    "\n",
    "simon_says([1, 2], [5, 1]) ➞ True\n",
    "\n",
    "simon_says([1, 2], [5, 5]) ➞ False\n",
    "\n",
    "simon_says([1, 2, 3, 4, 5], [0, 1, 2, 3, 4]) ➞ True\n",
    "\n",
    "simon_says([1, 2, 3, 4, 5], [5, 5, 1, 2, 3]) ➞ False\n",
    "\n",
    "Notes\n",
    "\n",
    " Both input lists will be of the same length, and will have a minimum length of 2.\n",
    "\n",
    " The values of the 0-indexed element in the second list and the n-1th indexed element in the first list do not matter."
   ]
  },
  {
   "cell_type": "code",
   "execution_count": 6,
   "id": "d3e6be94",
   "metadata": {},
   "outputs": [
    {
     "name": "stdout",
     "output_type": "stream",
     "text": [
      "simon_says([1, 2], [5, 1]) ->  True\n",
      "simon_says([1, 2], [5, 5]) ->  False\n",
      "simon_says([1, 2, 3, 4, 5], [0, 1, 2, 3, 4]) ->  True\n",
      "simon_says([1, 2, 3, 4, 5], [5, 5, 1, 2, 3]) ->  False\n"
     ]
    }
   ],
   "source": [
    "def simon_says(l1,l2):\n",
    "    if len(l1)==len(l2) and len(l1)>=2 and len(l2)>=2:\n",
    "        if l1[:-1]==l2[1:]:\n",
    "            return True\n",
    "        else:\n",
    "            return False\n",
    "    else:\n",
    "        return \"List input is not correct\"\n",
    "\n",
    "print(\"simon_says([1, 2], [5, 1]) -> \",simon_says([1, 2], [5, 1]))\n",
    "print(\"simon_says([1, 2], [5, 5]) -> \",simon_says([1, 2], [5, 5]))\n",
    "print(\"simon_says([1, 2, 3, 4, 5], [0, 1, 2, 3, 4]) -> \",simon_says([1, 2, 3, 4, 5], [0, 1, 2, 3, 4]))\n",
    "print(\"simon_says([1, 2, 3, 4, 5], [5, 5, 1, 2, 3]) -> \",simon_says([1, 2, 3, 4, 5], [5, 5, 1, 2, 3]))"
   ]
  },
  {
   "cell_type": "markdown",
   "id": "94189796",
   "metadata": {},
   "source": [
    "Question3\n",
    "\n",
    "A group of friends have decided to start a secret society. The name will be the first letter of each of their names, sorted in alphabetical order.\n",
    "\n",
    "Create a function that takes in a list of names and returns the name of the secret society.\n",
    "\n",
    "Examples\n",
    "society_name([&quot;Adam&quot;, &quot;Sarah&quot;, &quot;Malcolm&quot;]) ➞ &quot;AMS&quot;\n",
    "\n",
    "society_name([&quot;Harry&quot;, &quot;Newt&quot;, &quot;Luna&quot;, &quot;Cho&quot;]) ➞ &quot;CHLN&quot;\n",
    "\n",
    "society_name([&quot;Phoebe&quot;, &quot;Chandler&quot;, &quot;Rachel&quot;, &quot;Ross&quot;, &quot;Monica&quot;, &quot;Joey&quot;])"
   ]
  },
  {
   "cell_type": "code",
   "execution_count": 8,
   "id": "cbdaaa5b",
   "metadata": {},
   "outputs": [
    {
     "name": "stdout",
     "output_type": "stream",
     "text": [
      "society_name([\"Adam\", \"Sarah\", \"Malcolm\"]) ->  AMS\n",
      "society_name([\"Harry\", \"Newt\", \"Luna\", \"Cho\"]) ->  CHLN\n",
      "society_name([\"Phoebe\", \"Chandler\", \"Rachel\", \"Ross\", \"Monica\", \"Joey\"]) ->  CJMPRR\n"
     ]
    }
   ],
   "source": [
    "def society_name(li):\n",
    "    s=[]\n",
    "    for i in li:\n",
    "        s.append(i[0])\n",
    "    s=sorted(s)\n",
    "    so=''.join(x for x in s)\n",
    "    return so\n",
    "print('society_name([\"Adam\", \"Sarah\", \"Malcolm\"]) -> ',society_name([\"Adam\", \"Sarah\", \"Malcolm\"]))\n",
    "print('society_name([\"Harry\", \"Newt\", \"Luna\", \"Cho\"]) -> ',society_name([\"Harry\", \"Newt\", \"Luna\", \"Cho\"]))\n",
    "print('society_name([\"Phoebe\", \"Chandler\", \"Rachel\", \"Ross\", \"Monica\", \"Joey\"]) -> ',society_name([\"Phoebe\", \"Chandler\", \"Rachel\", \"Ross\", \"Monica\", \"Joey\"]))"
   ]
  },
  {
   "cell_type": "markdown",
   "id": "7399c325",
   "metadata": {},
   "source": [
    "Question4\n",
    "\n",
    "An isogram is a word that has no duplicate letters. Create a function that takes a string and returns either True or False depending on whether or not it&#39;s an &quot;isogram&quot;.\n",
    "\n",
    "Examples\n",
    "\n",
    "is_isogram(&quot;Algorism&quot;) ➞ True\n",
    "\n",
    "is_isogram(&quot;PasSword&quot;) ➞ False\n",
    "\n",
    "# Not case sensitive.\n",
    "\n",
    "is_isogram(&quot;Consecutive&quot;) ➞ False\n",
    "\n",
    "Notes\n",
    "\n",
    " Ignore letter case (should not be case sensitive).\n",
    "\n",
    " All test cases contain valid one word strings."
   ]
  },
  {
   "cell_type": "code",
   "execution_count": 16,
   "id": "8447d034",
   "metadata": {},
   "outputs": [
    {
     "name": "stdout",
     "output_type": "stream",
     "text": [
      "is_isogram(\"Algorism\") ->  True\n",
      "is_isogram(\"PasSword\") ->  False\n",
      "is_isogram(\"Consecutive\") ->  False\n"
     ]
    }
   ],
   "source": [
    "def is_isogram(string):\n",
    "    st=string.lower()\n",
    "    temp=0\n",
    "    for i in st:\n",
    "        if st.count(i) > 1:\n",
    "            temp+=1\n",
    "    if temp > 0:\n",
    "        return False\n",
    "    else:\n",
    "        return True\n",
    "print('is_isogram(\"Algorism\") -> ',is_isogram(\"Algorism\"))\n",
    "print('is_isogram(\"PasSword\") -> ',is_isogram(\"PasSword\"))\n",
    "print('is_isogram(\"Consecutive\") -> ',is_isogram(\"Consecutive\"))"
   ]
  },
  {
   "cell_type": "markdown",
   "id": "30f65752",
   "metadata": {},
   "source": [
    "Question5\n",
    "\n",
    "Create a function that takes a string and returns True or False, depending on whether the characters are in order or not.\n",
    "\n",
    "Examples\n",
    "\n",
    "is_in_order(&quot;abc&quot;) ➞ True\n",
    "\n",
    "is_in_order(&quot;edabit&quot;) ➞ False\n",
    "\n",
    "is_in_order(&quot;123&quot;) ➞ True\n",
    "\n",
    "is_in_order(&quot;xyzz&quot;) ➞ True\n",
    "\n",
    "Notes\n",
    "\n",
    "You don&#39;t have to handle empty strings."
   ]
  },
  {
   "cell_type": "code",
   "execution_count": 19,
   "id": "b6312165",
   "metadata": {},
   "outputs": [
    {
     "name": "stdout",
     "output_type": "stream",
     "text": [
      "is_in_order(\"abc\") ->  True\n",
      "is_in_order(\"edabit\") ->  False\n",
      "is_in_order(\"123\") ->  True\n",
      "is_in_order(\"xyzz\") ->  True\n"
     ]
    }
   ],
   "source": [
    "def is_in_order(string):\n",
    "    for i in range(len(string)-1):\n",
    "        if string[i]<string[i+1]:\n",
    "            return True\n",
    "        else:\n",
    "            return False\n",
    "print('is_in_order(\"abc\") -> ',is_in_order(\"abc\"))\n",
    "print('is_in_order(\"edabit\") -> ',is_in_order(\"edabit\"))\n",
    "print('is_in_order(\"123\") -> ',is_in_order(\"123\"))\n",
    "print('is_in_order(\"xyzz\") -> ',is_in_order(\"xyzz\"))"
   ]
  }
 ],
 "metadata": {
  "kernelspec": {
   "display_name": "Python 3 (ipykernel)",
   "language": "python",
   "name": "python3"
  },
  "language_info": {
   "codemirror_mode": {
    "name": "ipython",
    "version": 3
   },
   "file_extension": ".py",
   "mimetype": "text/x-python",
   "name": "python",
   "nbconvert_exporter": "python",
   "pygments_lexer": "ipython3",
   "version": "3.9.12"
  }
 },
 "nbformat": 4,
 "nbformat_minor": 5
}
