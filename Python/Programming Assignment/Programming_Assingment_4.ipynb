{
 "cells": [
  {
   "cell_type": "markdown",
   "id": "bd5ceaa2",
   "metadata": {},
   "source": [
    "1. Write a Python Program to Find the Factorial of a Number?"
   ]
  },
  {
   "cell_type": "code",
   "execution_count": 8,
   "id": "db0ff95b",
   "metadata": {},
   "outputs": [
    {
     "name": "stdout",
     "output_type": "stream",
     "text": [
      "Enter a number 5\n",
      "Factorial of 5 is 120 \n"
     ]
    }
   ],
   "source": [
    "num=int(input(\"Enter a number \"))\n",
    "\n",
    "fact=1\n",
    "i=1\n",
    "while i <= num:\n",
    "    fact*=i\n",
    "    i+=1\n",
    "print(\"Factorial of {} is {} \".format(num,fact))\n",
    "    "
   ]
  },
  {
   "cell_type": "markdown",
   "id": "d674e058",
   "metadata": {},
   "source": [
    "2. Write a Python Program to Display the multiplication Table?"
   ]
  },
  {
   "cell_type": "code",
   "execution_count": 11,
   "id": "e73a24b4",
   "metadata": {},
   "outputs": [
    {
     "name": "stdout",
     "output_type": "stream",
     "text": [
      "Enter a number 15\n",
      "15\n",
      "30\n",
      "45\n",
      "60\n",
      "75\n",
      "90\n",
      "105\n",
      "120\n",
      "135\n",
      "150\n"
     ]
    }
   ],
   "source": [
    "num=int(input(\"Enter a number \"))\n",
    "i=1\n",
    "while i<=10:\n",
    "    print(num*i)\n",
    "    i+=1"
   ]
  },
  {
   "cell_type": "markdown",
   "id": "450adfd7",
   "metadata": {},
   "source": [
    "3. Write a Python Program to Print the Fibonacci sequence?"
   ]
  },
  {
   "cell_type": "code",
   "execution_count": 21,
   "id": "bee8e45d",
   "metadata": {},
   "outputs": [
    {
     "name": "stdout",
     "output_type": "stream",
     "text": [
      "Enter a number 6\n",
      "6 Fibonacci Sequence \n",
      " [0, 1, 1, 2, 3, 5] \n"
     ]
    }
   ],
   "source": [
    "num=int(input(\"Enter a number \"))\n",
    "i=2\n",
    "fib=[0,1]\n",
    "while i<num:\n",
    "    fib.append(fib[-1]+fib[-2])\n",
    "    i+=1\n",
    "print(\"{} Fibonacci Sequence \\n {} \".format(num,fib))"
   ]
  },
  {
   "cell_type": "markdown",
   "id": "438fdb3c",
   "metadata": {},
   "source": [
    "4. Write a Python Program to Check Armstrong Number?"
   ]
  },
  {
   "cell_type": "code",
   "execution_count": 34,
   "id": "6c912b0d",
   "metadata": {},
   "outputs": [
    {
     "name": "stdout",
     "output_type": "stream",
     "text": [
      "Enter a number 153\n",
      "153 is a armstrong number\n"
     ]
    }
   ],
   "source": [
    "num=int(input(\"Enter a number \"))\n",
    "\n",
    "i=num\n",
    "add=0\n",
    "while i > 0:\n",
    "    digit=i%10\n",
    "    add+=digit*digit*digit\n",
    "    i=int(i/10)\n",
    "if add==num :\n",
    "    print(\"{} is a armstrong number\".format(num))\n",
    "else:\n",
    "    print(\"{} is not a armstrong number\".format(num))"
   ]
  },
  {
   "cell_type": "markdown",
   "id": "c1fb27bf",
   "metadata": {},
   "source": [
    "5. Write a Python Program to Find Armstrong Number in an Interval?"
   ]
  },
  {
   "cell_type": "code",
   "execution_count": 56,
   "id": "0412b6c1",
   "metadata": {},
   "outputs": [
    {
     "name": "stdout",
     "output_type": "stream",
     "text": [
      "Enter starting no 0\n",
      "Enter last number 1000\n",
      "All armststrong number between 0 and 1000 \n",
      " [0, 1, 153, 370, 371, 407] \n"
     ]
    }
   ],
   "source": [
    "first=int(input(\"Enter starting no \"))\n",
    "end=int(input(\"Enter last number \"))\n",
    "start=first\n",
    "l=[]\n",
    "while start < end:\n",
    "    i=start\n",
    "    add=0\n",
    "    while i > 0:\n",
    "        digit=i%10\n",
    "        add+=digit*digit*digit\n",
    "        i=int(i/10)\n",
    "    if add==start:\n",
    "        l.append(start)\n",
    "    start+=1\n",
    "print(\"All armststrong number between {} and {} \\n {} \".format(first,end,l))"
   ]
  },
  {
   "cell_type": "markdown",
   "id": "ebbe89bc",
   "metadata": {},
   "source": [
    "6. Write a Python Program to Find the Sum of Natural Numbers?"
   ]
  },
  {
   "cell_type": "code",
   "execution_count": 63,
   "id": "df1d6283",
   "metadata": {},
   "outputs": [
    {
     "name": "stdout",
     "output_type": "stream",
     "text": [
      "Enter natural number 10\n",
      "55\n"
     ]
    }
   ],
   "source": [
    "num=int(input(\"Enter natural number \"))\n",
    "sum=int(num*(num+1)/2)\n",
    "print(sum)"
   ]
  },
  {
   "cell_type": "code",
   "execution_count": null,
   "id": "41fc9acb",
   "metadata": {},
   "outputs": [],
   "source": []
  }
 ],
 "metadata": {
  "kernelspec": {
   "display_name": "Python 3 (ipykernel)",
   "language": "python",
   "name": "python3"
  },
  "language_info": {
   "codemirror_mode": {
    "name": "ipython",
    "version": 3
   },
   "file_extension": ".py",
   "mimetype": "text/x-python",
   "name": "python",
   "nbconvert_exporter": "python",
   "pygments_lexer": "ipython3",
   "version": "3.9.12"
  }
 },
 "nbformat": 4,
 "nbformat_minor": 5
}
