{
 "cells": [
  {
   "cell_type": "markdown",
   "id": "41a52209",
   "metadata": {},
   "source": [
    "Question 1\n",
    "\n",
    "Create a function that takes a list of non-negative integers and strings and return a new list without the strings.\n",
    "Examples\n",
    "filter_list([1, 2, &quot;a&quot;, &quot;b&quot;]) ➞ [1, 2]\n",
    "\n",
    "filter_list([1, &quot;a&quot;, &quot;b&quot;, 0, 15]) ➞ [1, 0, 15]\n",
    "\n",
    "filter_list([1, 2, &quot;aasf&quot;, &quot;1&quot;, &quot;123&quot;, 123]) ➞ [1, 2, 123]\n"
   ]
  },
  {
   "cell_type": "code",
   "execution_count": 4,
   "id": "ddb3cef7",
   "metadata": {},
   "outputs": [
    {
     "name": "stdout",
     "output_type": "stream",
     "text": [
      "without string of list =[1, \"a\", \"b\", 0, 15] ->  [1, 0, 15]\n",
      "without string of list =[1, 2, \"aasf\", \"1\", \"123\", 123] ->  [1, 2, 123]\n"
     ]
    }
   ],
   "source": [
    "def filter_list(li):\n",
    "    new_li=[]\n",
    "    for i in li:\n",
    "        if type(i)==str:\n",
    "            pass\n",
    "        else:\n",
    "            new_li.append(i)\n",
    "    return new_li\n",
    "\n",
    "print('without string of list =[1, \"a\", \"b\", 0, 15] -> ',filter_list([1, \"a\", \"b\", 0, 15]))\n",
    "print('without string of list =[1, 2, \"aasf\", \"1\", \"123\", 123] -> ',filter_list([1, 2, \"aasf\", \"1\", \"123\", 123]))"
   ]
  },
  {
   "cell_type": "markdown",
   "id": "6a64f64d",
   "metadata": {},
   "source": [
    "Question 2\n",
    "\n",
    "The &quot;Reverser&quot; takes a string as input and returns that string in reverse order, with the opposite case.\n",
    "\n",
    "Examples\n",
    "\n",
    "reverse(&quot;Hello World&quot;) ➞ &quot;DLROw OLLEh&quot;\n",
    "\n",
    "reverse(&quot;ReVeRsE&quot;) ➞ &quot;eSrEvEr&quot;\n",
    "\n",
    "reverse(&quot;Radar&quot;) ➞ &quot;RADAr&quot;"
   ]
  },
  {
   "cell_type": "code",
   "execution_count": 17,
   "id": "c7a36419",
   "metadata": {},
   "outputs": [
    {
     "name": "stdout",
     "output_type": "stream",
     "text": [
      "Reverser of 'Hello World' ->  DLROw OLLEh\n",
      "Reverser of 'ReVeRsE' ->  eSrEvEr\n",
      "Reverser of 'Radar' ->  RADAr\n"
     ]
    }
   ],
   "source": [
    "def reverse(string):\n",
    "    st=str()\n",
    "    for i in string:\n",
    "        if i.isupper():\n",
    "            st+=i.lower()\n",
    "        else:\n",
    "            st+=i.upper()\n",
    "    return st[::-1]\n",
    "print(\"Reverser of 'Hello World' -> \",reverse(\"Hello World\"))\n",
    "print(\"Reverser of 'ReVeRsE' -> \",reverse(\"ReVeRsE\"))\n",
    "print(\"Reverser of 'Radar' -> \",reverse(\"Radar\"))"
   ]
  },
  {
   "cell_type": "markdown",
   "id": "e10a5e18",
   "metadata": {},
   "source": [
    "Question 3\n",
    "\n",
    "You can assign variables from lists like this:\n",
    "\n",
    "lst = [1, 2, 3, 4, 5, 6]\n",
    "\n",
    "first = lst[0]\n",
    "\n",
    "middle = lst[1:-1]\n",
    "\n",
    "last = lst[-1]\n",
    "\n",
    "print(first) ➞ outputs 1\n",
    "\n",
    "print(middle) ➞ outputs [2, 3, 4, 5]\n",
    "\n",
    "print(last) ➞ outputs 6\n",
    "\n",
    "With Python 3, you can assign variables from lists in a much more succinct way. Create variables first, middle and last from the given list using destructuring assignment (check the Resources tab for some examples), where:\n",
    "\n",
    "first ➞ 1\n",
    "\n",
    "middle ➞ [2, 3, 4, 5]\n",
    "\n",
    "last ➞ 6\n",
    "\n",
    "Your task is to unpack the list write your code here into three variables, being first, middle, and last, with middle being everything in between the first and last element. Then print all three variables."
   ]
  },
  {
   "cell_type": "code",
   "execution_count": 19,
   "id": "22adb786",
   "metadata": {},
   "outputs": [
    {
     "name": "stdout",
     "output_type": "stream",
     "text": [
      "First ->  1\n",
      "Middle ->  [2, 3, 4, 5]\n",
      "Last ->  6\n"
     ]
    }
   ],
   "source": [
    "first,*middle,last=[1, 2, 3, 4, 5, 6]\n",
    "print(\"First -> \",first)\n",
    "print(\"Middle -> \",middle)\n",
    "print(\"Last -> \",last)"
   ]
  },
  {
   "cell_type": "markdown",
   "id": "867c223b",
   "metadata": {},
   "source": [
    "Question 4\n",
    "\n",
    "Write a function that calculates the factorial of a number recursively.\n",
    "\n",
    "Examples\n",
    "\n",
    "factorial(5) ➞ 120\n",
    "\n",
    "factorial(3) ➞ 6\n",
    "\n",
    "factorial(1) ➞ 1\n",
    "\n",
    "factorial(0) ➞ 1\n"
   ]
  },
  {
   "cell_type": "code",
   "execution_count": 24,
   "id": "0b2c8024",
   "metadata": {},
   "outputs": [
    {
     "name": "stdout",
     "output_type": "stream",
     "text": [
      "Factorial(5) ->  120\n",
      "Factorial(3) ->  6\n",
      "Factorial(1) ->  1\n",
      "Factorial(0) ->  1\n"
     ]
    }
   ],
   "source": [
    "def fact(n):\n",
    "    if n==0 or n==1:\n",
    "        return 1\n",
    "    else:\n",
    "        return (n*fact(n-1))\n",
    "print(\"Factorial(5) -> \",fact(5))\n",
    "print(\"Factorial(3) -> \",fact(3))\n",
    "print(\"Factorial(1) -> \",fact(1))\n",
    "print(\"Factorial(0) -> \",fact(0))"
   ]
  },
  {
   "cell_type": "markdown",
   "id": "d22d780a",
   "metadata": {},
   "source": [
    "Question 5\n",
    "\n",
    "Write a function that moves all elements of one type to the end of the list.\n",
    "\n",
    "Examples\n",
    "\n",
    "move_to_end([1, 3, 2, 4, 4, 1], 1) ➞ [3, 2, 4, 4, 1, 1]\n",
    "\n",
    "# Move all the 1s to the end of the array.\n",
    "\n",
    "move_to_end([7, 8, 9, 1, 2, 3, 4], 9) ➞ [7, 8, 1, 2, 3, 4, 9]\n",
    "\n",
    "move_to_end([&quot;a&quot;, &quot;a&quot;, &quot;a&quot;, &quot;b&quot;], &quot;a&quot;) ➞ [&quot;b&quot;, &quot;a&quot;, &quot;a&quot;, &quot;a&quot;]"
   ]
  },
  {
   "cell_type": "code",
   "execution_count": 32,
   "id": "9564f353",
   "metadata": {},
   "outputs": [
    {
     "name": "stdout",
     "output_type": "stream",
     "text": [
      "move_to_end([7, 8, 9, 1, 2, 3, 4], 9) ->  [7, 8, 1, 2, 3, 4, 9]\n",
      "move_to_end([1, 3, 2, 4, 4, 1], 1) ->  [3, 2, 4, 4, 1, 1]\n",
      "move_to_end([\"a\", \"a\", \"a\", \"b\"], \"a\") ->  ['b', 'a', 'a', 'a']\n"
     ]
    }
   ],
   "source": [
    "def move_to_end(li,char):\n",
    "    first=[]\n",
    "    last=[]\n",
    "    for i in li:\n",
    "        if i==char:\n",
    "            last.append(i)\n",
    "        else:\n",
    "            first.append(i)\n",
    "    first.extend(last)\n",
    "    return first\n",
    "print(\"move_to_end([7, 8, 9, 1, 2, 3, 4], 9) -> \",move_to_end([7, 8, 9, 1, 2, 3, 4], 9))\n",
    "print(\"move_to_end([1, 3, 2, 4, 4, 1], 1) -> \",move_to_end([1, 3, 2, 4, 4, 1], 1))\n",
    "print('move_to_end([\"a\", \"a\", \"a\", \"b\"], \"a\") -> ',move_to_end([\"a\", \"a\", \"a\", \"b\"], \"a\"))"
   ]
  }
 ],
 "metadata": {
  "kernelspec": {
   "display_name": "Python 3 (ipykernel)",
   "language": "python",
   "name": "python3"
  },
  "language_info": {
   "codemirror_mode": {
    "name": "ipython",
    "version": 3
   },
   "file_extension": ".py",
   "mimetype": "text/x-python",
   "name": "python",
   "nbconvert_exporter": "python",
   "pygments_lexer": "ipython3",
   "version": "3.9.12"
  }
 },
 "nbformat": 4,
 "nbformat_minor": 5
}
