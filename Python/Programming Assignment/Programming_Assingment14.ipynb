{
 "cells": [
  {
   "cell_type": "markdown",
   "id": "2cff4244",
   "metadata": {},
   "source": [
    "Question 1:\n",
    "\n",
    "Define a class with a generator which can iterate the numbers, which are divisible by 7, between a given range 0 and n."
   ]
  },
  {
   "cell_type": "code",
   "execution_count": 25,
   "id": "a96babcb",
   "metadata": {},
   "outputs": [
    {
     "name": "stdout",
     "output_type": "stream",
     "text": [
      "0\n",
      "7\n",
      "14\n",
      "21\n",
      "28\n",
      "35\n",
      "42\n",
      "49\n",
      "56\n",
      "63\n",
      "70\n",
      "77\n",
      "84\n",
      "91\n",
      "98\n"
     ]
    }
   ],
   "source": [
    "class gen:\n",
    "    def __init__(self,n):\n",
    "        self.n=n\n",
    "    def genertor(self):\n",
    "        for i in range(self.n):\n",
    "            if i%7==0:\n",
    "                yield i\n",
    "n=100\n",
    "a=gen(n)\n",
    "g=a.genertor()\n",
    "for i in range(int(n/7)+1):\n",
    "    print(next(g))"
   ]
  },
  {
   "cell_type": "markdown",
   "id": "147ef8fd",
   "metadata": {},
   "source": [
    "Question 2:\n",
    "\n",
    "Write a program to compute the frequency of the words from the input. The output should output after sorting the key alphanumerically.\n",
    "\n",
    "Suppose the following input is supplied to the program:\n",
    "\n",
    "New to Python or choosing between Python 2 and Python 3? Read Python 2 or Python 3.\n",
    "\n",
    "Then, the output should be:\n",
    "\n",
    "2:2\n",
    "\n",
    "3.:1\n",
    "\n",
    "3?:1\n",
    "\n",
    "New:1\n",
    "\n",
    "Python:5\n",
    "\n",
    "Read:1\n",
    "\n",
    "and:1\n",
    "\n",
    "between:1\n",
    "\n",
    "choosing:1\n",
    "\n",
    "or:2\n",
    "\n",
    "to:1\n"
   ]
  },
  {
   "cell_type": "code",
   "execution_count": 34,
   "id": "96ad41d2",
   "metadata": {},
   "outputs": [
    {
     "name": "stdout",
     "output_type": "stream",
     "text": [
      "Enter sequence of the words New to Python or choosing between Python 2 and Python 3? Read Python 2 or Python 3.\n",
      "2:2\n",
      "3.:1\n",
      "3?:1\n",
      "New:1\n",
      "Python:5\n",
      "Read:1\n",
      "and:1\n",
      "between:1\n",
      "choosing:1\n",
      "or:2\n",
      "to:1\n"
     ]
    }
   ],
   "source": [
    "words=input(\"Enter sequence of the words \").split(' ')\n",
    "words=sorted(words)\n",
    "s=dict()\n",
    "for i in words:\n",
    "    s[i]=words.count(i)\n",
    "for i in s.items():\n",
    "    print(\"{}:{}\".format(i[0],i[1]))"
   ]
  },
  {
   "cell_type": "markdown",
   "id": "d57e85ab",
   "metadata": {},
   "source": [
    "Question 3:\n",
    "\n",
    "Define a class Person and its two child classes: Male and Female. All classes have a method \"getGender\" which can print \"Male\" for Male class and \"Female\" for Female class."
   ]
  },
  {
   "cell_type": "code",
   "execution_count": 46,
   "id": "07c3914f",
   "metadata": {},
   "outputs": [
    {
     "name": "stdout",
     "output_type": "stream",
     "text": [
      "Male\n",
      "Female\n"
     ]
    }
   ],
   "source": [
    "class person:\n",
    "    def getGender():\n",
    "        pass\n",
    "class male(person):\n",
    "    def getGender():\n",
    "        print(\"Male\")\n",
    "class female(person):\n",
    "    def getGender():\n",
    "        print(\"Female\")\n",
    "male.getGender()\n",
    "female.getGender()"
   ]
  },
  {
   "cell_type": "markdown",
   "id": "3f8d6f4a",
   "metadata": {},
   "source": [
    "Question 4:\n",
    "Please write a program to generate all sentences where subject is in [&quot;I&quot;, &quot;You&quot;] and\n",
    "verb is in [&quot;Play&quot;, &quot;Love&quot;] and the object is in [&quot;Hockey&quot;,&quot;Football&quot;]."
   ]
  },
  {
   "cell_type": "code",
   "execution_count": 48,
   "id": "26b6a289",
   "metadata": {},
   "outputs": [
    {
     "name": "stdout",
     "output_type": "stream",
     "text": [
      "I Play Hockey\n",
      "I Play Football\n",
      "I Love Hockey\n",
      "I Love Football\n",
      "You Play Hockey\n",
      "You Play Football\n",
      "You Love Hockey\n",
      "You Love Football\n"
     ]
    }
   ],
   "source": [
    "subject=[\"I\", \"You\"]\n",
    "verb=[\"Play\", \"Love\"]\n",
    "objet=[\"Hockey\",\"Football\"]\n",
    "\n",
    "for sub in subject:\n",
    "    for ver in verb:\n",
    "        for obj in objet:\n",
    "            print(\"{} {} {}\".format(sub,ver,obj))"
   ]
  },
  {
   "cell_type": "markdown",
   "id": "3396fb8f",
   "metadata": {},
   "source": [
    "Question 5:\n",
    "Please write a program to compress and decompress the string &quot;hello world!hello world!hello world!hello world!&quot;."
   ]
  },
  {
   "cell_type": "code",
   "execution_count": 62,
   "id": "79168a70",
   "metadata": {},
   "outputs": [
    {
     "name": "stdout",
     "output_type": "stream",
     "text": [
      "After compress string 'hello world!hello world!hello world!hello world!' \n",
      " hel2o world!hel2o world!hel2o world!hel2o world\n",
      "\n",
      "After decompress string 'hel2o world!hel2o world!hel2o world!hel2o world' \n",
      " hello world!hello world!hello world!hello world\n"
     ]
    }
   ],
   "source": [
    "def compress(string):\n",
    "    new_str=str()\n",
    "    count=1\n",
    "    for i in range(len(string)-1):\n",
    "        if string[i]==string[i+1]:\n",
    "            count+=1\n",
    "        elif count>1:\n",
    "            new_str=new_str+string[i]+str(count)\n",
    "            count=1\n",
    "        else:\n",
    "            new_str=new_str+string[i]\n",
    "    return new_str\n",
    "com=compress('hello world!hello world!hello world!hello world!')\n",
    "print(\"After compress string 'hello world!hello world!hello world!hello world!' \\n\",com)\n",
    "def decompress(string):\n",
    "    new_str=str()\n",
    "    for i in range(len(string)):\n",
    "        if string[i].isdigit():            \n",
    "            new_str+=string[i-1]*(int(string[i])-1)\n",
    "        else:\n",
    "            new_str+=string[i]\n",
    "    return new_str\n",
    "decom=decompress('hel2o world!hel2o world!hel2o world!hel2o world')\n",
    "print(\"\\nAfter decompress string 'hel2o world!hel2o world!hel2o world!hel2o world' \\n\",decom)"
   ]
  },
  {
   "cell_type": "markdown",
   "id": "1f94d67a",
   "metadata": {},
   "source": [
    "Question 6:\n",
    "\n",
    "Please write a binary search function which searches an item in a sorted list. The function should return the index of element to be searched in the list."
   ]
  },
  {
   "cell_type": "code",
   "execution_count": 68,
   "id": "f0bc1854",
   "metadata": {},
   "outputs": [
    {
     "data": {
      "text/plain": [
       "7"
      ]
     },
     "execution_count": 68,
     "metadata": {},
     "output_type": "execute_result"
    }
   ],
   "source": [
    "l=[1,2,3,4,5,6,7,8,9]\n",
    "def binary(li,x):\n",
    "    low=0\n",
    "    high=len(li)-1\n",
    "    mid=0\n",
    "    \n",
    "    while low <= high:\n",
    "        mid=(high + low)//2\n",
    "        if li[mid] < x:\n",
    "            low =mid+1\n",
    "        elif li[mid] > x:\n",
    "            high=mid-1\n",
    "        else:\n",
    "            return mid\n",
    "    return 'Not available in List'\n",
    "binary(l,8)"
   ]
  },
  {
   "cell_type": "code",
   "execution_count": null,
   "id": "b12521ad",
   "metadata": {},
   "outputs": [],
   "source": []
  }
 ],
 "metadata": {
  "kernelspec": {
   "display_name": "Python 3 (ipykernel)",
   "language": "python",
   "name": "python3"
  },
  "language_info": {
   "codemirror_mode": {
    "name": "ipython",
    "version": 3
   },
   "file_extension": ".py",
   "mimetype": "text/x-python",
   "name": "python",
   "nbconvert_exporter": "python",
   "pygments_lexer": "ipython3",
   "version": "3.9.12"
  }
 },
 "nbformat": 4,
 "nbformat_minor": 5
}
