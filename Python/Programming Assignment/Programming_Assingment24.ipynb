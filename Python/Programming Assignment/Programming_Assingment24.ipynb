{
 "cells": [
  {
   "cell_type": "markdown",
   "id": "5cdce5c1",
   "metadata": {},
   "source": [
    "Question1\n",
    "\n",
    "Create a function that takes an integer and returns a list from 1 to the given number, where:\n",
    "\n",
    "1. If the number can be divided evenly by 4, amplify it by 10 (i.e. return 10 times the number).\n",
    "\n",
    "2. If the number cannot be divided evenly by 4, simply return the number.\n",
    "\n",
    "Examples\n",
    "\n",
    "amplify(4) ➞ [1, 2, 3, 40]\n",
    "\n",
    "amplify(3) ➞ [1, 2, 3]\n",
    "\n",
    "amplify(25) ➞ [1, 2, 3, 40, 5, 6, 7, 80, 9, 10, 11, 120, 13, 14, 15, 160,17, 18, 19, 200, 21, 22, 23, 240, 25]\n",
    "\n",
    "Notes\n",
    "\n",
    " The given integer will always be equal to or greater than 1.\n",
    "\n",
    " Include the number (see example above).\n",
    "\n",
    " To perform this problem with its intended purpose, try doing it with list\n",
    "\n",
    "comprehensions. If that&#39;s too difficult, just solve the challenge any way you can."
   ]
  },
  {
   "cell_type": "code",
   "execution_count": 2,
   "id": "55452463",
   "metadata": {},
   "outputs": [
    {
     "name": "stdout",
     "output_type": "stream",
     "text": [
      "amplify(4) ->  [1, 2, 3, 40]\n",
      "amplify(3) ->  [1, 2, 3]\n",
      "amplify(25) ->  [1, 2, 3, 40, 5, 6, 7, 80, 9, 10, 11, 120, 13, 14, 15, 160, 17, 18, 19, 200, 21, 22, 23, 240, 25]\n"
     ]
    }
   ],
   "source": [
    "def amplify(num):\n",
    "    li=[]\n",
    "    for i in range(1,num+1):\n",
    "        if i%4==0:\n",
    "            li.append(10*i)\n",
    "        else:\n",
    "            li.append(i)\n",
    "    return li\n",
    "print('amplify(4) -> ',amplify(4))\n",
    "print('amplify(3) -> ',amplify(3))\n",
    "print('amplify(25) -> ',amplify(25))"
   ]
  },
  {
   "cell_type": "markdown",
   "id": "093eced2",
   "metadata": {},
   "source": [
    "Question2\n",
    "\n",
    "Create a function that takes a list of numbers and return the number that&#39;s unique.\n",
    "\n",
    "Examples\n",
    "\n",
    "unique([3, 3, 3, 7, 3, 3]) ➞ 7\n",
    "\n",
    "unique([0, 0, 0.77, 0, 0]) ➞ 0.77\n",
    "\n",
    "unique([0, 1, 1, 1, 1, 1, 1, 1]) ➞ 0\n",
    "\n",
    "Notes\n",
    "\n",
    "Test cases will always have exactly one unique number while all others are the same."
   ]
  },
  {
   "cell_type": "code",
   "execution_count": 5,
   "id": "1a99526b",
   "metadata": {},
   "outputs": [
    {
     "name": "stdout",
     "output_type": "stream",
     "text": [
      "unique([3, 3, 3, 7, 3, 3]) ->  [7]\n",
      "unique([0, 0, 0.77, 0, 0]) ->  [0.77]\n",
      "unique([0, 1, 1, 1, 1, 1, 1, 1]) ->  [0]\n"
     ]
    }
   ],
   "source": [
    "def unique(li):\n",
    "    l=[]\n",
    "    for i in li:\n",
    "        if li.count(i)>1:\n",
    "            pass\n",
    "        else:\n",
    "            l.append(i)\n",
    "    return l\n",
    "print('unique([3, 3, 3, 7, 3, 3]) -> ',unique([3, 3, 3, 7, 3, 3]))\n",
    "print('unique([0, 0, 0.77, 0, 0]) -> ', unique([0, 0, 0.77, 0, 0]))\n",
    "print('unique([0, 1, 1, 1, 1, 1, 1, 1]) -> ',unique([0, 1, 1, 1, 1, 1, 1, 1]))"
   ]
  },
  {
   "cell_type": "markdown",
   "id": "e68c5922",
   "metadata": {},
   "source": [
    "Question3\n",
    "\n",
    "Your task is to create a Circle constructor that creates a circle with a radius provided by an argument. The circles constructed must have two getters getArea() (PIr^2) and getPerimeter() (2PI*r) which give both respective areas and perimeter (circumference).\n",
    "\n",
    "For help with this class, I have provided you with a Rectangle constructor which you can use as a base example.\n",
    "\n",
    "Examples\n",
    "\n",
    "circy = Circle(11)\n",
    "\n",
    "circy.getArea()\n",
    "\n",
    "# Should return 380.132711084365\n",
    "\n",
    "circy = Circle(4.44)\n",
    "\n",
    "circy.getPerimeter()\n",
    "\n",
    "# Should return 27.897342763877365\n",
    "\n",
    "Notes\n",
    "\n",
    "Round results up to the nearest integer."
   ]
  },
  {
   "cell_type": "code",
   "execution_count": 9,
   "id": "cf9954bb",
   "metadata": {},
   "outputs": [
    {
     "name": "stdout",
     "output_type": "stream",
     "text": [
      "Redius = 11, Area =  380.132711084365\n",
      "Redius = 4.44, Perimeter =  27.897342763877365\n"
     ]
    }
   ],
   "source": [
    "import math\n",
    "class Circle:\n",
    "    def __init__(self,redius):\n",
    "        self.redius=redius\n",
    "    def getArea(self):\n",
    "        return math.pi*(self.redius*self.redius)\n",
    "    def getPerimeter(self):\n",
    "        return math.pi*(2*self.redius)\n",
    "circy=Circle(11)\n",
    "print('Redius = 11, Area = ',circy.getArea())\n",
    "cir=Circle(4.44)\n",
    "print('Redius = 4.44, Perimeter = ',cir.getPerimeter())"
   ]
  },
  {
   "cell_type": "markdown",
   "id": "10899f44",
   "metadata": {},
   "source": [
    "Question4\n",
    "\n",
    "Create a function that takes a list of strings and return a list, sorted from shortest to longest.\n",
    "\n",
    "Examples\n",
    "\n",
    "sort_by_length([&quot;Google&quot;, &quot;Apple&quot;, &quot;Microsoft&quot;])\n",
    "\n",
    "➞ [&quot;Apple&quot;, &quot;Google&quot;, &quot;Microsoft&quot;]\n",
    "\n",
    "sort_by_length([&quot;Leonardo&quot;, &quot;Michelangelo&quot;, &quot;Raphael&quot;, &quot;Donatello&quot;])\n",
    "\n",
    "➞ [&quot;Raphael&quot;, &quot;Leonardo&quot;, &quot;Donatello&quot;, &quot;Michelangelo&quot;]\n",
    "\n",
    "sort_by_length([&quot;Turing&quot;, &quot;Einstein&quot;, &quot;Jung&quot;])\n",
    "\n",
    "➞ [&quot;Jung&quot;, &quot;Turing&quot;, &quot;Einstein&quot;]\n",
    "\n",
    "Notes\n",
    "\n",
    "All test cases contain lists with strings of different lengths, so you won&#39;t have to deal with multiple strings of the same length."
   ]
  },
  {
   "cell_type": "code",
   "execution_count": 18,
   "id": "2fcccac4",
   "metadata": {},
   "outputs": [
    {
     "name": "stdout",
     "output_type": "stream",
     "text": [
      "sort_by_length([\"Google\", \"Apple\", \"Microsoft\"]) ->  ['Apple', 'Google', 'Microsoft']\n",
      "sort_by_length([\"Leonardo\", \"Michelangelo\", \"Raphael\", \"Donatello\"]) ->  ['Raphael', 'Leonardo', 'Donatello', 'Michelangelo']\n",
      "sort_by_length([\"Turing\", \"Einstein\", \"Jung\"]) ->  ['Jung', 'Turing', 'Einstein']\n"
     ]
    }
   ],
   "source": [
    "def sort_by_length(li):\n",
    "    dic=dict()\n",
    "    l=[]\n",
    "    for i in li:\n",
    "        dic[len(i)]=i\n",
    "    key=sorted(dic.keys())\n",
    "    for i in key:\n",
    "        l.append(dic[i])\n",
    "    return l\n",
    "print('sort_by_length([\"Google\", \"Apple\", \"Microsoft\"]) -> ',sort_by_length([\"Google\", \"Apple\", \"Microsoft\"]))\n",
    "print('sort_by_length([\"Leonardo\", \"Michelangelo\", \"Raphael\", \"Donatello\"]) -> ',sort_by_length([\"Leonardo\", \"Michelangelo\", \"Raphael\", \"Donatello\"]))\n",
    "print('sort_by_length([\"Turing\", \"Einstein\", \"Jung\"]) -> ',sort_by_length([\"Turing\", \"Einstein\", \"Jung\"]))"
   ]
  },
  {
   "cell_type": "markdown",
   "id": "a3a6fcd9",
   "metadata": {},
   "source": [
    "Question5\n",
    "\n",
    "Create a function that validates whether three given integers form a Pythagorean triplet. The sum of the squares of the two smallest integers must equal the square of the largest number to be validated.\n",
    "\n",
    "Examples\n",
    "\n",
    "is_triplet(3, 4, 5) ➞ True\n",
    "\n",
    "# 3² + 4² = 25\n",
    "\n",
    "# 5² = 25\n",
    "\n",
    "is_triplet(13, 5, 12) ➞ True\n",
    "\n",
    "# 5² + 12² = 169\n",
    "\n",
    "# 13² = 169\n",
    "\n",
    "is_triplet(1, 2, 3) ➞ False\n",
    "\n",
    "# 1² + 2² = 5\n",
    "\n",
    "# 3² = 9\n",
    "\n",
    "Notes\n",
    "\n",
    "Numbers may not be given in a sorted order."
   ]
  },
  {
   "cell_type": "code",
   "execution_count": 27,
   "id": "23e47d24",
   "metadata": {},
   "outputs": [
    {
     "name": "stdout",
     "output_type": "stream",
     "text": [
      "is_triplet(3, 4, 5) ->  True\n",
      "is_triplet(13, 5, 12) ->  True\n",
      "is_triplet(1, 2, 3) ->  False\n"
     ]
    }
   ],
   "source": [
    "def is_triplet(a,b,c):\n",
    "    li=[a,b,c]\n",
    "    li=sorted(li)\n",
    "    sum=(li[0]**2)+(li[1]**2)\n",
    "    if sum==li[2]**2:\n",
    "        return True\n",
    "    else:\n",
    "        return False\n",
    "print('is_triplet(3, 4, 5) -> ',is_triplet(3, 4, 5))\n",
    "print('is_triplet(13, 5, 12) -> ',is_triplet(13, 5, 12))\n",
    "print('is_triplet(1, 2, 3) -> ',is_triplet(1, 2, 3))"
   ]
  }
 ],
 "metadata": {
  "kernelspec": {
   "display_name": "Python 3 (ipykernel)",
   "language": "python",
   "name": "python3"
  },
  "language_info": {
   "codemirror_mode": {
    "name": "ipython",
    "version": 3
   },
   "file_extension": ".py",
   "mimetype": "text/x-python",
   "name": "python",
   "nbconvert_exporter": "python",
   "pygments_lexer": "ipython3",
   "version": "3.9.12"
  }
 },
 "nbformat": 4,
 "nbformat_minor": 5
}
