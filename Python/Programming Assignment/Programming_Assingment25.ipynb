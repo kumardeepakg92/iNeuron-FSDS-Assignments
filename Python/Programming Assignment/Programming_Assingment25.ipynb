{
 "cells": [
  {
   "cell_type": "markdown",
   "id": "d6212a27",
   "metadata": {},
   "source": [
    "Question1\n",
    "\n",
    "Create a function that takes three integer arguments (a, b, c) and returns the amount of integers which are of equal value.\n",
    "\n",
    "Examples\n",
    "\n",
    "equal(3, 4, 3) ➞ 2\n",
    "\n",
    "equal(1, 1, 1) ➞ 3\n",
    "\n",
    "equal(3, 4, 1) ➞ 0\n",
    "\n",
    "Notes\n",
    "\n",
    "Your function must return 0, 2 or 3."
   ]
  },
  {
   "cell_type": "code",
   "execution_count": 2,
   "id": "68ae2b52",
   "metadata": {},
   "outputs": [
    {
     "name": "stdout",
     "output_type": "stream",
     "text": [
      "equal(3, 4, 3) ->  2\n",
      "equal(1, 1, 1) ->  3\n",
      "equal(3, 4, 1) ->  0\n"
     ]
    }
   ],
   "source": [
    "def equal(a,b,c):\n",
    "    li=[a,b,c]\n",
    "    temp=0\n",
    "    for i in li:\n",
    "        if li.count(i) >1:\n",
    "            temp=li.count(i)\n",
    "    return temp\n",
    "print('equal(3, 4, 3) -> ',equal(3, 4, 3))\n",
    "print('equal(1, 1, 1) -> ',equal(1, 1, 1))\n",
    "print('equal(3, 4, 1) -> ',equal(3, 4, 1))"
   ]
  },
  {
   "cell_type": "markdown",
   "id": "0037b969",
   "metadata": {},
   "source": [
    "Question2\n",
    "\n",
    "Write a function that converts a dictionary into a list of keys-values tuples.\n",
    "\n",
    "Examples\n",
    "\n",
    "dict_to_list({\n",
    "&quot;D&quot;: 1,\n",
    "&quot;B&quot;: 2,\n",
    "&quot;C&quot;: 3\n",
    "}) ➞ [(&quot;B&quot;, 2), (&quot;C&quot;, 3), (&quot;D&quot;, 1)]\n",
    "\n",
    "dict_to_list({\n",
    "&quot;likes&quot;: 2,\n",
    "&quot;dislikes&quot;: 3,\n",
    "&quot;followers&quot;: 10\n",
    "}) ➞ [(&quot;dislikes&quot;, 3), (&quot;followers&quot;, 10), (&quot;likes&quot;, 2)]\n",
    "\n",
    "Notes\n",
    "Return the elements in the list in alphabetical order."
   ]
  },
  {
   "cell_type": "code",
   "execution_count": 5,
   "id": "bc4ed136",
   "metadata": {},
   "outputs": [
    {
     "name": "stdout",
     "output_type": "stream",
     "text": [
      "dict_to_list({ \"D\": 1, \"B\": 2, \"C\": 3 }) ->  [('D', 1), ('B', 2), ('C', 3)]\n",
      "dict_to_list({ \"likes\": 2, \"dislikes\": 3, \"followers\": 10 }) ->  [('likes', 2), ('dislikes', 3), ('followers', 10)]\n"
     ]
    }
   ],
   "source": [
    "def dict_to_list(dic):\n",
    "    return list(dic.items())\n",
    "print('dict_to_list({ \"D\": 1, \"B\": 2, \"C\": 3 }) -> ',dict_to_list({ \"D\": 1, \"B\": 2, \"C\": 3 }))\n",
    "print('dict_to_list({ \"likes\": 2, \"dislikes\": 3, \"followers\": 10 }) -> ',dict_to_list({ \"likes\": 2, \"dislikes\": 3, \"followers\": 10 }))"
   ]
  },
  {
   "cell_type": "markdown",
   "id": "1d49b635",
   "metadata": {},
   "source": [
    "Question3\n",
    "\n",
    "Write a function that creates a dictionary with each (key, value) pair being the (lower case,upper case) versions of a letter, respectively.\n",
    "\n",
    "Examples\n",
    "\n",
    "mapping([&quot;p&quot;, &quot;s&quot;]) ➞ { &quot;p&quot;: &quot;P&quot;, &quot;s&quot;: &quot;S&quot; }\n",
    "\n",
    "mapping([&quot;a&quot;, &quot;b&quot;, &quot;c&quot;]) ➞ { &quot;a&quot;: &quot;A&quot;, &quot;b&quot;: &quot;B&quot;, &quot;c&quot;: &quot;C&quot; }\n",
    "\n",
    "mapping([&quot;a&quot;, &quot;v&quot;, &quot;y&quot;, &quot;z&quot;]) ➞ { &quot;a&quot;: &quot;A&quot;, &quot;v&quot;: &quot;V&quot;, &quot;y&quot;: &quot;Y&quot;, &quot;z&quot;: &quot;Z&quot; }\n",
    "\n",
    "Notes\n",
    "\n",
    "All of the letters in the input list will always be lowercase."
   ]
  },
  {
   "cell_type": "code",
   "execution_count": 9,
   "id": "ba22daed",
   "metadata": {},
   "outputs": [
    {
     "name": "stdout",
     "output_type": "stream",
     "text": [
      "mapping([\"p\", \"s\"]) ->  {'p': 'P', 's': 'S'}\n",
      "mapping([\"a\", \"b\", \"c\"]) ->  {'a': 'A', 'b': 'B', 'c': 'C'}\n",
      "mapping([\"a\", \"v\", \"y\", \"z\"]) ->  {'a': 'A', 'v': 'V', 'y': 'Y', 'z': 'Z'}\n"
     ]
    }
   ],
   "source": [
    "def mapping(li):\n",
    "    dic=dict()\n",
    "    for i in li:\n",
    "        dic[i.lower()]=i.upper()\n",
    "    return dic\n",
    "print('mapping([\"p\", \"s\"]) -> ',mapping([\"p\", \"s\"]))\n",
    "print('mapping([\"a\", \"b\", \"c\"]) -> ',mapping([\"a\", \"b\", \"c\"]))\n",
    "print('mapping([\"a\", \"v\", \"y\", \"z\"]) -> ',mapping([\"a\", \"v\", \"y\", \"z\"]))"
   ]
  },
  {
   "cell_type": "markdown",
   "id": "32904437",
   "metadata": {},
   "source": [
    "Question4\n",
    "\n",
    "Write a function, that replaces all vowels in a string with a specified vowel.\n",
    "\n",
    "Examples\n",
    "\n",
    "vow_replace(&quot;apples and bananas&quot;, &quot;u&quot;) ➞ &quot;upplus und bununus&quot;\n",
    "\n",
    "vow_replace(&quot;cheese casserole&quot;, &quot;o&quot;) ➞ &quot;chooso cossorolo&quot;\n",
    "\n",
    "vow_replace(&quot;stuffed jalapeno poppers&quot;, &quot;e&quot;) ➞ &quot;steffed jelepene peppers&quot;\n",
    "\n",
    "Notes\n",
    "\n",
    "All words will be lowercase. Y is not considered a vowel."
   ]
  },
  {
   "cell_type": "code",
   "execution_count": 17,
   "id": "9cc5b7b3",
   "metadata": {},
   "outputs": [
    {
     "name": "stdout",
     "output_type": "stream",
     "text": [
      "vow_replace(\"apples and bananas\", \"u\") ->  upplus und bununus\n",
      "vow_replace(\"cheese casserole\", \"o\") ->  chooso cossorolo\n",
      "vow_replace(\"stuffed jalapeno poppers\", \"e\") ->  steffed jelepene peppers\n"
     ]
    }
   ],
   "source": [
    "def vow_replace(string,ch):\n",
    "    li=string.split(' ')\n",
    "    vowel=['a','e','i','o','u']\n",
    "    replace=[]\n",
    "    for i in li:\n",
    "        temp=str()\n",
    "        for j in i:\n",
    "            if j in vowel:\n",
    "                temp=temp+ch\n",
    "            else:\n",
    "                temp=temp+j\n",
    "        replace.append(temp)\n",
    "    return ' '.join(x for x in replace)\n",
    "print('vow_replace(\"apples and bananas\", \"u\") -> ',vow_replace(\"apples and bananas\", \"u\"))\n",
    "print('vow_replace(\"cheese casserole\", \"o\") -> ',vow_replace(\"cheese casserole\", \"o\"))\n",
    "print('vow_replace(\"stuffed jalapeno poppers\", \"e\") -> ',vow_replace(\"stuffed jalapeno poppers\", \"e\"))"
   ]
  },
  {
   "cell_type": "markdown",
   "id": "13025cd0",
   "metadata": {},
   "source": [
    "Question5\n",
    "\n",
    "Create a function that takes a string as input and capitalizes a letter if its ASCII code is even and returns its lower case version if its ASCII code is odd.\n",
    "\n",
    "Examples\n",
    "\n",
    "ascii_capitalize(&quot;to be or not to be!&quot;) ➞ &quot;To Be oR NoT To Be!&quot;\n",
    "\n",
    "ascii_capitalize(&quot;THE LITTLE MERMAID&quot;) ➞ &quot;THe LiTTLe meRmaiD&quot;\n",
    "\n",
    "ascii_capitalize(&quot;Oh what a beautiful morning.&quot;) ➞ &quot;oH wHaT a BeauTiFuL\n",
    "moRNiNg.&quot;"
   ]
  },
  {
   "cell_type": "code",
   "execution_count": 25,
   "id": "8f4ab0b2",
   "metadata": {},
   "outputs": [
    {
     "name": "stdout",
     "output_type": "stream",
     "text": [
      "ascii_capitalize(\"to be or not to be!\") -> To Be oR NoT To Be!\n",
      "ascii_capitalize(\"THE LITTLE MERMAID\") ->  THe LiTTLe meRmaiD\n",
      "ascii_capitalize(\"Oh what a beautiful morning.\") ->  oH wHaT a BeauTiFuL moRNiNg.\n"
     ]
    }
   ],
   "source": [
    "def ascii_capitalize(string):\n",
    "    new_str=str()\n",
    "    for i in string:\n",
    "        if ord(i)%2==0:\n",
    "            new_str=new_str+i.upper()\n",
    "        else:\n",
    "            new_str=new_str+i.lower()\n",
    "    return new_str\n",
    "print('ascii_capitalize(\"to be or not to be!\") ->',ascii_capitalize(\"to be or not to be!\"))\n",
    "print('ascii_capitalize(\"THE LITTLE MERMAID\") -> ',ascii_capitalize(\"THE LITTLE MERMAID\"))\n",
    "print('ascii_capitalize(\"Oh what a beautiful morning.\") -> ',ascii_capitalize(\"Oh what a beautiful morning.\"))"
   ]
  }
 ],
 "metadata": {
  "kernelspec": {
   "display_name": "Python 3 (ipykernel)",
   "language": "python",
   "name": "python3"
  },
  "language_info": {
   "codemirror_mode": {
    "name": "ipython",
    "version": 3
   },
   "file_extension": ".py",
   "mimetype": "text/x-python",
   "name": "python",
   "nbconvert_exporter": "python",
   "pygments_lexer": "ipython3",
   "version": "3.9.12"
  }
 },
 "nbformat": 4,
 "nbformat_minor": 5
}
