{
 "cells": [
  {
   "cell_type": "markdown",
   "id": "94b330b0",
   "metadata": {},
   "source": [
    "1. Write a Python program to Extract Unique values dictionary values?"
   ]
  },
  {
   "cell_type": "code",
   "execution_count": 6,
   "id": "44dfce45",
   "metadata": {},
   "outputs": [
    {
     "data": {
      "text/plain": [
       "{1, 21, 'we'}"
      ]
     },
     "execution_count": 6,
     "metadata": {},
     "output_type": "execute_result"
    }
   ],
   "source": [
    "dic={\n",
    "    'a':1,\n",
    "    'ab':1,\n",
    "    'ad':1,\n",
    "    'b':'we',\n",
    "    'c':21\n",
    "}\n",
    "set(dic.values())"
   ]
  },
  {
   "cell_type": "markdown",
   "id": "238e66dc",
   "metadata": {},
   "source": [
    "2. Write a Python program to find the sum of all items in a dictionary?"
   ]
  },
  {
   "cell_type": "code",
   "execution_count": 30,
   "id": "ac443091",
   "metadata": {},
   "outputs": [
    {
     "name": "stdout",
     "output_type": "stream",
     "text": [
      "Sum of all dictionary values is  39\n"
     ]
    }
   ],
   "source": [
    "dic={\n",
    "    'a':1,\n",
    "    'ab':2,\n",
    "    'ad':3,\n",
    "    'b':12,\n",
    "    'c':21\n",
    "}\n",
    "sum=0\n",
    "for i in dic.values():\n",
    "    sum+=i\n",
    "print(\"Sum of all dictionary values is \",sum)"
   ]
  },
  {
   "cell_type": "markdown",
   "id": "8441137c",
   "metadata": {},
   "source": [
    "3. Write a Python program to Merging two Dictionaries?"
   ]
  },
  {
   "cell_type": "code",
   "execution_count": 34,
   "id": "67330883",
   "metadata": {},
   "outputs": [
    {
     "name": "stdout",
     "output_type": "stream",
     "text": [
      "Merged 2 string {'a': 1, 'ab': 2, 'ad': 3, 'b': 12, 'c': 21, 'as': 21, 'df': 31}\n"
     ]
    }
   ],
   "source": [
    "dic1={\n",
    "    'as':21,\n",
    "    'df':31\n",
    "}\n",
    "dic.update(dic1)\n",
    "print(\"Merged 2 string\",dic)"
   ]
  },
  {
   "cell_type": "markdown",
   "id": "a40f6e08",
   "metadata": {},
   "source": [
    "4. Write a Python program to convert key-values list to flat dictionary?"
   ]
  },
  {
   "cell_type": "code",
   "execution_count": 36,
   "id": "46b7dc48",
   "metadata": {},
   "outputs": [
    {
     "name": "stdout",
     "output_type": "stream",
     "text": [
      "List of Keys ['a', 'we', 'qa', 'ree', 'qsc', 'erer'] and values are [1, 4, 2, 5, 3, 7]. Converting in to Dictionary \n",
      " {'a': 1, 'we': 4, 'qa': 2, 'ree': 5, 'qsc': 3, 'erer': 7}\n"
     ]
    }
   ],
   "source": [
    "keys=['a','we','qa','ree','qsc','erer']\n",
    "values=[1,4,2,5,3,7]\n",
    "dic=dict()\n",
    "for i,j in zip(keys,values):\n",
    "    dic[i]=j\n",
    "print(\"List of Keys {} and values are {}. Converting in to Dictionary \\n {}\".format(keys,values,dic))"
   ]
  },
  {
   "cell_type": "markdown",
   "id": "1aa3b361",
   "metadata": {},
   "source": [
    "5. Write a Python program to insertion at the beginning in OrderedDict?"
   ]
  },
  {
   "cell_type": "code",
   "execution_count": 59,
   "id": "1b1a1bc5",
   "metadata": {},
   "outputs": [
    {
     "name": "stdout",
     "output_type": "stream",
     "text": [
      "Ordered dict OrderedDict([('a', 1), ('ab', 2), ('ad', 3), ('b', 12), ('c', 21), ('aaa', 321)])\n",
      "Ordered list is in begining  OrderedDict([('a', 1), ('ab', 2), ('ad', 3), ('b', 12), ('c', 21), ('aaa', 321), ('qww', 22), ('aaaa', 229)])\n",
      "Moving qww value to end  OrderedDict([('a', 1), ('ab', 2), ('ad', 3), ('b', 12), ('c', 21), ('aaa', 321), ('aaaa', 229), ('qww', 22)])\n"
     ]
    }
   ],
   "source": [
    "from collections import OrderedDict\n",
    "od=OrderedDict({\n",
    "    'a':1,\n",
    "    'ab':2,\n",
    "    'ad':3,\n",
    "    'b':12,\n",
    "    'c':21,\n",
    "    'aaa':321\n",
    "})\n",
    "print('Ordered dict',od)\n",
    "od1={\n",
    "    'qww':22,\n",
    "    'aaaa':229\n",
    "}\n",
    "od.update(od1)\n",
    "print(\"Ordered list is in begining \",od)\n",
    "od.move_to_end('qww')\n",
    "print(\"Moving qww value to end \",od)"
   ]
  },
  {
   "cell_type": "markdown",
   "id": "248bfe5d",
   "metadata": {},
   "source": [
    "6. Write a Python program to check order of character in string using OrderedDict()?"
   ]
  },
  {
   "cell_type": "code",
   "execution_count": 62,
   "id": "504411f7",
   "metadata": {},
   "outputs": [
    {
     "name": "stdout",
     "output_type": "stream",
     "text": [
      "{'a': 1, 'ab': 2, 'ad': 3, 'b': 12, 'c': 21, 'aaa': 321}\n",
      "OrderedDict([('a', 1), ('aaa', 321), ('ab', 2), ('ad', 3), ('b', 12), ('c', 21)])\n"
     ]
    }
   ],
   "source": [
    "from collections import OrderedDict\n",
    "dic={\n",
    "    'a':1,\n",
    "    'ab':2,\n",
    "    'ad':3,\n",
    "    'b':12,\n",
    "    'c':21,\n",
    "    'aaa':321\n",
    "}\n",
    "print(dic)\n",
    "ordered=OrderedDict(dict(sorted(dic.items())))\n",
    "print(ordered)"
   ]
  },
  {
   "cell_type": "markdown",
   "id": "dfff0922",
   "metadata": {},
   "source": [
    "7. Write a Python program to sort Python Dictionaries by Key or Value?"
   ]
  },
  {
   "cell_type": "code",
   "execution_count": 82,
   "id": "9cab391a",
   "metadata": {},
   "outputs": [
    {
     "name": "stdout",
     "output_type": "stream",
     "text": [
      "Sorted by Keys of Dictionaries {'a': 1, 'ab': 2, 'ad': 3, 'b': 12, 'c': 21, 'aaa': 321}\n",
      "{'a': 1, 'aaa': 321, 'ab': 2, 'ad': 3, 'b': 12, 'c': 21}\n",
      "Sorted by values of Dictionaries {'a': 1, 'ab': 2, 'ad': 3, 'b': 12, 'c': 21, 'aaa': 321}\n",
      "{'a': 1, 'ab': 2, 'ad': 3, 'b': 12, 'c': 21, 'aaa': 321}\n"
     ]
    }
   ],
   "source": [
    "dic={\n",
    "    'a':1,\n",
    "    'ab':2,\n",
    "    'ad':3,\n",
    "    'b':12,\n",
    "    'c':21,\n",
    "    'aaa':321\n",
    "}\n",
    "\n",
    "ab=sorted(dic.items())\n",
    "sort_key=dict()\n",
    "for i in ab:\n",
    "    sort_key[i[0]]=i[1]\n",
    "print(\"Sorted by Keys of Dictionaries {}\\n{}\".format(dic,sort_key))\n",
    "\n",
    "ab_v=dict()\n",
    "sort_v=dict()\n",
    "for j in dic.items():\n",
    "    ab_v[j[1]]=j[0]\n",
    "sort_value=sorted(ab_v.items())\n",
    "\n",
    "for i in sort_value:\n",
    "    sort_v[i[1]]=i[0]\n",
    "print(\"Sorted by values of Dictionaries {}\\n{}\".format(dic,sort_v))"
   ]
  }
 ],
 "metadata": {
  "kernelspec": {
   "display_name": "Python 3 (ipykernel)",
   "language": "python",
   "name": "python3"
  },
  "language_info": {
   "codemirror_mode": {
    "name": "ipython",
    "version": 3
   },
   "file_extension": ".py",
   "mimetype": "text/x-python",
   "name": "python",
   "nbconvert_exporter": "python",
   "pygments_lexer": "ipython3",
   "version": "3.9.12"
  }
 },
 "nbformat": 4,
 "nbformat_minor": 5
}
