{
 "cells": [
  {
   "cell_type": "markdown",
   "id": "3d6988f5",
   "metadata": {},
   "source": [
    "1. Write a Python program to reverse a string without using any built-in string reversal functions."
   ]
  },
  {
   "cell_type": "code",
   "execution_count": 1,
   "id": "9197735f",
   "metadata": {},
   "outputs": [
    {
     "name": "stdout",
     "output_type": "stream",
     "text": [
      "kapeeD\n"
     ]
    }
   ],
   "source": [
    "name='Deepak'\n",
    "print(name[::-1])"
   ]
  },
  {
   "cell_type": "markdown",
   "id": "9f0de035",
   "metadata": {},
   "source": [
    "2. Implement a function to check if a given string is a palindrome."
   ]
  },
  {
   "cell_type": "code",
   "execution_count": 7,
   "id": "77bcdb0e",
   "metadata": {},
   "outputs": [
    {
     "name": "stdout",
     "output_type": "stream",
     "text": [
      "Name = deepak is not palindrome\n"
     ]
    }
   ],
   "source": [
    "name='deepak'\n",
    "if name == name[::-1]:\n",
    "    print(f\"Name = {name} is palindrome\")\n",
    "else:\n",
    "    print(f\"Name = {name} is not palindrome\")"
   ]
  },
  {
   "cell_type": "markdown",
   "id": "bf68c6fd",
   "metadata": {},
   "source": [
    "3. Write a program to find the largest element in a given list."
   ]
  },
  {
   "cell_type": "code",
   "execution_count": 10,
   "id": "f6f67421",
   "metadata": {},
   "outputs": [
    {
     "name": "stdout",
     "output_type": "stream",
     "text": [
      "Largest number in list [1, 4, 2, 7, 4, 13, 2, 4, 123, 321, 22, 32, 12] is 321\n"
     ]
    }
   ],
   "source": [
    "li=[1,4,2,7,4,13,2,4,123,321,22,32,12]\n",
    "temp=0\n",
    "for i in li:\n",
    "    if i > temp:\n",
    "        temp=i\n",
    "print(f\"Largest number in list {li} is {temp}\")"
   ]
  },
  {
   "cell_type": "markdown",
   "id": "3e13cb29",
   "metadata": {},
   "source": [
    "4. Implement a function to count the occurrence of each element in a list."
   ]
  },
  {
   "cell_type": "code",
   "execution_count": 26,
   "id": "f8aa5077",
   "metadata": {},
   "outputs": [
    {
     "data": {
      "text/plain": [
       "{1: 2, 2: 2, 3: 3, 4: 3, 5: 1}"
      ]
     },
     "execution_count": 26,
     "metadata": {},
     "output_type": "execute_result"
    }
   ],
   "source": [
    "li=[1, 2, 3, 2, 1, 3, 3, 4, 5, 4, 4]\n",
    "counts={}\n",
    "\n",
    "for i in li:\n",
    "    if i in counts:\n",
    "        counts[i] += 1\n",
    "    else:\n",
    "        counts[i] = 1\n",
    "counts"
   ]
  },
  {
   "cell_type": "markdown",
   "id": "d52f76ca",
   "metadata": {},
   "source": [
    "5. Write a Python program to find the second largest number in a list."
   ]
  },
  {
   "cell_type": "code",
   "execution_count": 37,
   "id": "88477e72",
   "metadata": {},
   "outputs": [
    {
     "data": {
      "text/plain": [
       "6"
      ]
     },
     "execution_count": 37,
     "metadata": {},
     "output_type": "execute_result"
    }
   ],
   "source": [
    "li=[7,6,1, 2, 3, 2, 1, 3, 3, 4, 5, 4, 4]\n",
    "s=set(li)\n",
    "sorted(s)[-2]"
   ]
  },
  {
   "cell_type": "markdown",
   "id": "624c3e83",
   "metadata": {},
   "source": [
    "6. Implement a function to remove duplicate elements from a list."
   ]
  },
  {
   "cell_type": "code",
   "execution_count": 38,
   "id": "38da99a6",
   "metadata": {},
   "outputs": [
    {
     "data": {
      "text/plain": [
       "{1, 2, 3, 4, 5, 6, 7}"
      ]
     },
     "execution_count": 38,
     "metadata": {},
     "output_type": "execute_result"
    }
   ],
   "source": [
    "li=[7,6,1, 2, 3, 2, 1, 3, 3, 4, 5, 4, 4]\n",
    "unique=set(li)\n",
    "unique"
   ]
  },
  {
   "cell_type": "markdown",
   "id": "8e043cc6",
   "metadata": {},
   "source": [
    "7. Write a program to calculate the factorial of a given number."
   ]
  },
  {
   "cell_type": "code",
   "execution_count": 40,
   "id": "c847fcfe",
   "metadata": {},
   "outputs": [
    {
     "data": {
      "text/plain": [
       "3628800"
      ]
     },
     "execution_count": 40,
     "metadata": {},
     "output_type": "execute_result"
    }
   ],
   "source": [
    "def fact(n):\n",
    "    if n==1 or n==0:\n",
    "        return 1\n",
    "    else:\n",
    "        return n*fact(n-1)\n",
    "fact(10)"
   ]
  },
  {
   "cell_type": "markdown",
   "id": "c375b86f",
   "metadata": {},
   "source": [
    "8. Implement a function to check if a given number is prime."
   ]
  },
  {
   "cell_type": "code",
   "execution_count": 46,
   "id": "3ca15ab7",
   "metadata": {},
   "outputs": [
    {
     "name": "stdout",
     "output_type": "stream",
     "text": [
      "False\n"
     ]
    }
   ],
   "source": [
    "num=105\n",
    "prime=False\n",
    "for i in range(2,num):\n",
    "    if num%i==0:\n",
    "        prime=False\n",
    "        break\n",
    "    else:\n",
    "        prime=True\n",
    "print(prime)\n",
    "        "
   ]
  },
  {
   "cell_type": "markdown",
   "id": "6b9f55d3",
   "metadata": {},
   "source": [
    "9. Write a Python program to sort a list of integers in ascending order."
   ]
  },
  {
   "cell_type": "code",
   "execution_count": 51,
   "id": "1ccfe5d2",
   "metadata": {},
   "outputs": [
    {
     "data": {
      "text/plain": [
       "[1, 1, 2, 2, 3, 3, 3, 4, 4, 4, 5, 6, 7]"
      ]
     },
     "execution_count": 51,
     "metadata": {},
     "output_type": "execute_result"
    }
   ],
   "source": [
    "li=[7,6,1, 2, 3, 2, 1, 3, 3, 4, 5, 4, 4]\n",
    "li=sorted(li)\n",
    "li"
   ]
  },
  {
   "cell_type": "markdown",
   "id": "f0e07d39",
   "metadata": {},
   "source": [
    "10. Implement a function to find the sum of all numbers in a list.\n"
   ]
  },
  {
   "cell_type": "code",
   "execution_count": 52,
   "id": "5a67bb9f",
   "metadata": {},
   "outputs": [
    {
     "data": {
      "text/plain": [
       "45"
      ]
     },
     "execution_count": 52,
     "metadata": {},
     "output_type": "execute_result"
    }
   ],
   "source": [
    "def add(li):\n",
    "    temp=0\n",
    "    for i in li:\n",
    "        temp +=i\n",
    "    return temp\n",
    "add(li)"
   ]
  },
  {
   "cell_type": "markdown",
   "id": "fa561e59",
   "metadata": {},
   "source": [
    "11. Write a program to find the common elements between two lists."
   ]
  },
  {
   "cell_type": "code",
   "execution_count": 57,
   "id": "8fded20a",
   "metadata": {},
   "outputs": [
    {
     "data": {
      "text/plain": [
       "{1, 2, 3}"
      ]
     },
     "execution_count": 57,
     "metadata": {},
     "output_type": "execute_result"
    }
   ],
   "source": [
    "a=[1,2,3,4,5]\n",
    "b=[3,2,1,15,6,7,8]\n",
    "set(a).intersection(set(b))"
   ]
  },
  {
   "cell_type": "markdown",
   "id": "bbefb9c2",
   "metadata": {},
   "source": [
    "12. Implement a function to check if a given string is an anagram of another string."
   ]
  },
  {
   "cell_type": "code",
   "execution_count": 59,
   "id": "f2a2615a",
   "metadata": {},
   "outputs": [
    {
     "data": {
      "text/plain": [
       "True"
      ]
     },
     "execution_count": 59,
     "metadata": {},
     "output_type": "execute_result"
    }
   ],
   "source": [
    "def anagram(str1,str2):\n",
    "    if sorted(str1) == sorted(str2):\n",
    "        return True\n",
    "    else:\n",
    "        return False\n",
    "anagram('silient','silient')"
   ]
  },
  {
   "cell_type": "markdown",
   "id": "5d856ac2",
   "metadata": {},
   "source": [
    "13. Write a Python program to generate all permutations of a given string."
   ]
  },
  {
   "cell_type": "code",
   "execution_count": 5,
   "id": "ba35f508",
   "metadata": {},
   "outputs": [
    {
     "data": {
      "text/plain": [
       "['ABC', 'ACB', 'BAC', 'BCA', 'CAB', 'CBA']"
      ]
     },
     "execution_count": 5,
     "metadata": {},
     "output_type": "execute_result"
    }
   ],
   "source": [
    "def permute(string):\n",
    "    if len(string) == 1:\n",
    "        return [string]\n",
    "    \n",
    "    permutation=[]\n",
    "    for i in range(len(string)):\n",
    "        char=string[i]\n",
    "        remaining=string[:i]+string[i+1:]\n",
    "        remain_permute=permute(remaining)\n",
    "        for permut in remain_permute:\n",
    "            permutation.append(char+permut)\n",
    "    return permutation\n",
    "permute('ABC')"
   ]
  },
  {
   "cell_type": "markdown",
   "id": "1b4776f7",
   "metadata": {},
   "source": [
    "14. Implement a function to calculate the Fibonacci sequence up to a given number of terms."
   ]
  },
  {
   "cell_type": "code",
   "execution_count": 6,
   "id": "ebac3d08",
   "metadata": {},
   "outputs": [
    {
     "data": {
      "text/plain": [
       "[0, 1, 1, 2]"
      ]
     },
     "execution_count": 6,
     "metadata": {},
     "output_type": "execute_result"
    }
   ],
   "source": [
    "def fib_seq(n):\n",
    "    sequence=[]\n",
    "    a,b=0,1\n",
    "    for i in range(n):\n",
    "        sequence.append(a)\n",
    "        a,b=b,a+b\n",
    "    return sequence\n",
    "fib_seq(4)"
   ]
  },
  {
   "cell_type": "markdown",
   "id": "686ed244",
   "metadata": {},
   "source": [
    "15. Write a program to find the median of a list of numbers."
   ]
  },
  {
   "cell_type": "code",
   "execution_count": 37,
   "id": "058b8705",
   "metadata": {},
   "outputs": [
    {
     "name": "stdout",
     "output_type": "stream",
     "text": [
      "Median of list [1, 3, 4, 6, 8, 9, 11] is 6\n"
     ]
    }
   ],
   "source": [
    "li=[1, 3, 4, 6, 8, 9,11]\n",
    "def median(li):\n",
    "    li=sorted(li)\n",
    "    n=len(li)\n",
    "    if n%2==0:\n",
    "        return (li[n//2]+li[n//2-1])/2\n",
    "        \n",
    "    else:\n",
    "        return li[n//2]\n",
    "        \n",
    "print(f\"Median of list {li} is {median(li)}\")"
   ]
  },
  {
   "cell_type": "markdown",
   "id": "6f7a5db6",
   "metadata": {},
   "source": [
    "16. Implement a function to check if a given list is sorted in non-decreasing order."
   ]
  },
  {
   "cell_type": "code",
   "execution_count": 41,
   "id": "1a4e9447",
   "metadata": {},
   "outputs": [
    {
     "data": {
      "text/plain": [
       "False"
      ]
     },
     "execution_count": 41,
     "metadata": {},
     "output_type": "execute_result"
    }
   ],
   "source": [
    "li=[2,1,3]\n",
    "def non_decreasing(li):\n",
    "    l=sorted(li)\n",
    "    if l==li:\n",
    "        return True\n",
    "    else:\n",
    "        return False\n",
    "non_decreasing(li)"
   ]
  },
  {
   "cell_type": "markdown",
   "id": "2d6f0cb8",
   "metadata": {},
   "source": [
    "17. Write a Python program to find the intersection of two lists."
   ]
  },
  {
   "cell_type": "code",
   "execution_count": 42,
   "id": "ea96e472",
   "metadata": {},
   "outputs": [
    {
     "data": {
      "text/plain": [
       "{2, 4}"
      ]
     },
     "execution_count": 42,
     "metadata": {},
     "output_type": "execute_result"
    }
   ],
   "source": [
    "a={1,2,3,2,4,5}\n",
    "b={2,4,6,8}\n",
    "a.intersection(b)"
   ]
  },
  {
   "cell_type": "markdown",
   "id": "41d56f0b",
   "metadata": {},
   "source": [
    "18. Implement a function to find the maximum subarray sum in a given list."
   ]
  },
  {
   "cell_type": "code",
   "execution_count": 43,
   "id": "2beb3a4b",
   "metadata": {},
   "outputs": [
    {
     "data": {
      "text/plain": [
       "42"
      ]
     },
     "execution_count": 43,
     "metadata": {},
     "output_type": "execute_result"
    }
   ],
   "source": [
    "def max_subarray_sum(nums):\n",
    "\n",
    "    max_sum = nums[0]\n",
    "    current_sum = nums[0]\n",
    "\n",
    "    for i in range(1, len(nums)):\n",
    "        current_sum = max(nums[i], current_sum + nums[i])\n",
    "        max_sum = max(max_sum, current_sum)\n",
    "\n",
    "    return max_sum\n",
    "li=[1, 3, 4, 6, 8, 9,11]\n",
    "max_subarray_sum(li)"
   ]
  },
  {
   "cell_type": "markdown",
   "id": "4fca79a1",
   "metadata": {},
   "source": [
    "19. Write a program to remove all vowels from a given string."
   ]
  },
  {
   "cell_type": "code",
   "execution_count": 45,
   "id": "e7acb9b8",
   "metadata": {},
   "outputs": [
    {
     "data": {
      "text/plain": [
       "'Dpk'"
      ]
     },
     "execution_count": 45,
     "metadata": {},
     "output_type": "execute_result"
    }
   ],
   "source": [
    "string=\"Deepak\"\n",
    "vowel=['a','e','i','o','u']\n",
    "new_str=''\n",
    "for i in string:\n",
    "    if i in vowel:\n",
    "        pass\n",
    "    else:\n",
    "        new_str=new_str+i\n",
    "new_str"
   ]
  },
  {
   "cell_type": "markdown",
   "id": "9b6980e9",
   "metadata": {},
   "source": [
    "20. Implement a function to reverse the order of words in a given sentence."
   ]
  },
  {
   "cell_type": "code",
   "execution_count": 48,
   "id": "07669ac4",
   "metadata": {},
   "outputs": [
    {
     "data": {
      "text/plain": [
       "'norueni'"
      ]
     },
     "execution_count": 48,
     "metadata": {},
     "output_type": "execute_result"
    }
   ],
   "source": [
    "def reverse_str(string):\n",
    "    return string[::-1]\n",
    "reverse_str('ineuron')"
   ]
  },
  {
   "cell_type": "markdown",
   "id": "04f56ae7",
   "metadata": {},
   "source": [
    "21. Write a Python program to check if two strings are anagrams of each other."
   ]
  },
  {
   "cell_type": "code",
   "execution_count": 49,
   "id": "d86e507a",
   "metadata": {},
   "outputs": [
    {
     "data": {
      "text/plain": [
       "True"
      ]
     },
     "execution_count": 49,
     "metadata": {},
     "output_type": "execute_result"
    }
   ],
   "source": [
    "def anagram(str1,str2):\n",
    "    if sorted(str1) == sorted(str2):\n",
    "        return True\n",
    "    else:\n",
    "        return False\n",
    "anagram('silient','silient')"
   ]
  },
  {
   "cell_type": "markdown",
   "id": "96143c3f",
   "metadata": {},
   "source": [
    "22. Implement a function to find the first non-repeating character in a string."
   ]
  },
  {
   "cell_type": "code",
   "execution_count": 58,
   "id": "c656f568",
   "metadata": {},
   "outputs": [
    {
     "data": {
      "text/plain": [
       "'p'"
      ]
     },
     "execution_count": 58,
     "metadata": {},
     "output_type": "execute_result"
    }
   ],
   "source": [
    "def non_repeating(string):\n",
    "    char=''\n",
    "    for i in string:\n",
    "        count=string.count(i)\n",
    "        if count==1:\n",
    "            return i\n",
    "non_repeating('eepak')"
   ]
  },
  {
   "cell_type": "markdown",
   "id": "ca640a0c",
   "metadata": {},
   "source": [
    "23. Write a program to find the prime factors of a given number."
   ]
  },
  {
   "cell_type": "code",
   "execution_count": 61,
   "id": "799a977a",
   "metadata": {},
   "outputs": [
    {
     "data": {
      "text/plain": [
       "[2, 5]"
      ]
     },
     "execution_count": 61,
     "metadata": {},
     "output_type": "execute_result"
    }
   ],
   "source": [
    "num=10\n",
    "factors=[]\n",
    "divisior=2\n",
    "\n",
    "\n",
    "for i in range(num):\n",
    "    if num % divisior == 0:\n",
    "        factors.append(divisior)\n",
    "        num=num/divisior\n",
    "    else:\n",
    "        divisior+=1\n",
    "factors\n",
    "    "
   ]
  },
  {
   "cell_type": "markdown",
   "id": "38b6f45d",
   "metadata": {},
   "source": [
    "24. Implement a function to check if a given number is a power of two."
   ]
  },
  {
   "cell_type": "code",
   "execution_count": 74,
   "id": "7daa707b",
   "metadata": {},
   "outputs": [
    {
     "data": {
      "text/plain": [
       "True"
      ]
     },
     "execution_count": 74,
     "metadata": {},
     "output_type": "execute_result"
    }
   ],
   "source": [
    "def is_power_of_two(n):\n",
    "    return n & (n - 1) == 0\n",
    "is_power_of_two(1024)"
   ]
  },
  {
   "cell_type": "markdown",
   "id": "1bfba544",
   "metadata": {},
   "source": [
    "25. Write a Python program to merge two sorted lists into a single sorted list."
   ]
  },
  {
   "cell_type": "code",
   "execution_count": 77,
   "id": "e83423d5",
   "metadata": {},
   "outputs": [
    {
     "data": {
      "text/plain": [
       "[1, 2, 3, 2, 1, 4, 5, 5, 4, 3, 2, 10, 7, 8]"
      ]
     },
     "execution_count": 77,
     "metadata": {},
     "output_type": "execute_result"
    }
   ],
   "source": [
    "li1=[1,2,3,2,1,4,5]\n",
    "li2=[5,4,3,2,10,7,8]\n",
    "li1.extend(li2)\n",
    "li1"
   ]
  },
  {
   "cell_type": "markdown",
   "id": "6de7cc7f",
   "metadata": {},
   "source": [
    "26. Implement a function to find the mode of a list of numbers."
   ]
  },
  {
   "cell_type": "code",
   "execution_count": 87,
   "id": "0e5b6baa",
   "metadata": {},
   "outputs": [
    {
     "name": "stdout",
     "output_type": "stream",
     "text": [
      "Mode of list [1, 2, 2, 3, 3, 3, 4, 5, 10, 10, 10, 10, 10, 10] is 10 \n"
     ]
    }
   ],
   "source": [
    "li=[1, 2, 2, 3, 3, 3, 4, 5,10,10,10,10,10,10]\n",
    "counts={}\n",
    "\n",
    "for i in li:\n",
    "    if i in counts:\n",
    "        counts[i] += 1\n",
    "    else:\n",
    "        counts[i] = 1\n",
    "\n",
    "for key in counts.keys():\n",
    "    if counts[key]==max(counts.values()):\n",
    "        print(\"Mode of list {} is {} \".format(li,key))\n",
    "        break"
   ]
  },
  {
   "cell_type": "markdown",
   "id": "0837ea45",
   "metadata": {},
   "source": [
    "27. Write a program to find the greatest common divisor (GCD) of two numbers."
   ]
  },
  {
   "cell_type": "code",
   "execution_count": 90,
   "id": "c7dd41b3",
   "metadata": {},
   "outputs": [
    {
     "data": {
      "text/plain": [
       "2"
      ]
     },
     "execution_count": 90,
     "metadata": {},
     "output_type": "execute_result"
    }
   ],
   "source": [
    "def gcd(a, b):\n",
    "    while b != 0:\n",
    "        a, b = b, a % b\n",
    "    return a\n",
    "gcd(12,62)"
   ]
  },
  {
   "cell_type": "markdown",
   "id": "cf7da4bb",
   "metadata": {},
   "source": [
    "28. Implement a function to calculate the square root of a given number."
   ]
  },
  {
   "cell_type": "code",
   "execution_count": 92,
   "id": "fd12a5e4",
   "metadata": {},
   "outputs": [
    {
     "data": {
      "text/plain": [
       "5.0"
      ]
     },
     "execution_count": 92,
     "metadata": {},
     "output_type": "execute_result"
    }
   ],
   "source": [
    "import math\n",
    "num=25\n",
    "math.sqrt(num)"
   ]
  },
  {
   "cell_type": "markdown",
   "id": "6adbf72a",
   "metadata": {},
   "source": [
    "29. Write a Python program to check if a given string is a valid palindrome ignoring non-alphanumeric characters."
   ]
  },
  {
   "cell_type": "code",
   "execution_count": 116,
   "id": "2ca065fc",
   "metadata": {},
   "outputs": [
    {
     "name": "stdout",
     "output_type": "stream",
     "text": [
      "Name = aba is palindrome\n"
     ]
    }
   ],
   "source": [
    "import re\n",
    "\n",
    "name='ab68a'\n",
    "name=re.sub(r'\\d+', '', name)\n",
    "        \n",
    "if name == name[::-1]:\n",
    "    print(f\"Name = {name} is palindrome\")\n",
    "else:\n",
    "    print(f\"Name = {name} is not palindrome\")"
   ]
  },
  {
   "cell_type": "markdown",
   "id": "9ac8281d",
   "metadata": {},
   "source": [
    "30. Implement a function to find the minimum element in a rotated sorted list."
   ]
  },
  {
   "cell_type": "code",
   "execution_count": 119,
   "id": "02392ead",
   "metadata": {},
   "outputs": [
    {
     "data": {
      "text/plain": [
       "2"
      ]
     },
     "execution_count": 119,
     "metadata": {},
     "output_type": "execute_result"
    }
   ],
   "source": [
    "def minum(li):\n",
    "    return min(sorted(li))\n",
    "minum([2,4,6,8,9,3])"
   ]
  },
  {
   "cell_type": "markdown",
   "id": "dad0901e",
   "metadata": {},
   "source": [
    "31. Write a program to find the sum of all even numbers in a list."
   ]
  },
  {
   "cell_type": "code",
   "execution_count": 120,
   "id": "6645c30c",
   "metadata": {},
   "outputs": [
    {
     "data": {
      "text/plain": [
       "12"
      ]
     },
     "execution_count": 120,
     "metadata": {},
     "output_type": "execute_result"
    }
   ],
   "source": [
    "def sum_even(li):\n",
    "    add=0\n",
    "    for i in li:\n",
    "        if i%2 == 0:\n",
    "            add +=i\n",
    "    return add\n",
    "sum_even([2,4,3,1,5,6])"
   ]
  },
  {
   "cell_type": "markdown",
   "id": "916b6c8c",
   "metadata": {},
   "source": [
    "32. Implement a function to calculate the power of a number using recursion."
   ]
  },
  {
   "cell_type": "code",
   "execution_count": 122,
   "id": "b43f95dd",
   "metadata": {},
   "outputs": [
    {
     "data": {
      "text/plain": [
       "16"
      ]
     },
     "execution_count": 122,
     "metadata": {},
     "output_type": "execute_result"
    }
   ],
   "source": [
    "def power(base, exponent):\n",
    "    if exponent == 0:\n",
    "        return 1\n",
    "    else:\n",
    "        return base * power(base, exponent-1)\n",
    "power(2,4)"
   ]
  },
  {
   "cell_type": "markdown",
   "id": "a5e45aed",
   "metadata": {},
   "source": [
    "33. Write a Python program to remove duplicates from a list while preserving the order."
   ]
  },
  {
   "cell_type": "code",
   "execution_count": 126,
   "id": "57313abc",
   "metadata": {},
   "outputs": [
    {
     "data": {
      "text/plain": [
       "[1, 2, 3, 4, 5, 10]"
      ]
     },
     "execution_count": 126,
     "metadata": {},
     "output_type": "execute_result"
    }
   ],
   "source": [
    "li=[1, 2, 2, 3, 3, 3, 4, 5,10,10,10,10,10,10]\n",
    "counts={}\n",
    "\n",
    "for i in li:\n",
    "    if i in counts:\n",
    "        counts[i] += 1\n",
    "    else:\n",
    "        counts[i] = 1\n",
    "list(counts.keys())"
   ]
  },
  {
   "cell_type": "markdown",
   "id": "fbec5992",
   "metadata": {},
   "source": [
    "34. Implement a function to find the longest common prefix among a list of strings."
   ]
  },
  {
   "cell_type": "code",
   "execution_count": 129,
   "id": "ccd783c7",
   "metadata": {},
   "outputs": [
    {
     "data": {
      "text/plain": [
       "'fl'"
      ]
     },
     "execution_count": 129,
     "metadata": {},
     "output_type": "execute_result"
    }
   ],
   "source": [
    "def longest_common_prefix(strings):\n",
    "    min_length = min(len(s) for s in strings)\n",
    "    for i in range(min_length):\n",
    "        char = strings[0][i]\n",
    "        if any(s[i] != char for s in strings[1:]):\n",
    "            return strings[0][:i]\n",
    "    return strings[0]\n",
    "longest_common_prefix([\"flower\", \"flow\", \"flight\"])"
   ]
  },
  {
   "cell_type": "markdown",
   "id": "14ec4893",
   "metadata": {},
   "source": [
    "35. Write a program to check if a given number is a perfect square."
   ]
  },
  {
   "cell_type": "code",
   "execution_count": 143,
   "id": "f259df87",
   "metadata": {},
   "outputs": [
    {
     "name": "stdout",
     "output_type": "stream",
     "text": [
      "Is 1024 perfect_Square = True, 32 * 32 = 1024 \n"
     ]
    }
   ],
   "source": [
    "n=1024\n",
    "perfect_Square=False\n",
    "squ=''\n",
    "for i in range(n):\n",
    "    if i*i ==n:\n",
    "        perfect_Square=True\n",
    "        squ=i\n",
    "        break\n",
    "        \n",
    "print(\"Is {} perfect_Square = {}, {} * {} = {} \".format(n,perfect_Square,squ,squ,n))\n",
    "        \n"
   ]
  },
  {
   "cell_type": "markdown",
   "id": "d21ca6bb",
   "metadata": {},
   "source": [
    "36. Implement a function to calculate the product of all elements in a list."
   ]
  },
  {
   "cell_type": "code",
   "execution_count": 144,
   "id": "bd39dc92",
   "metadata": {},
   "outputs": [
    {
     "data": {
      "text/plain": [
       "360"
      ]
     },
     "execution_count": 144,
     "metadata": {},
     "output_type": "execute_result"
    }
   ],
   "source": [
    "def product(li):\n",
    "    prod=1\n",
    "    for i in li:\n",
    "        prod *= i\n",
    "    return prod\n",
    "product([1,2,3,4,5,3])"
   ]
  },
  {
   "cell_type": "markdown",
   "id": "397ff729",
   "metadata": {},
   "source": [
    "37. Write a Python program to reverse the order of words in a sentence while preserving the word order."
   ]
  },
  {
   "cell_type": "code",
   "execution_count": 153,
   "id": "fe75cb1d",
   "metadata": {},
   "outputs": [
    {
     "data": {
      "text/plain": [
       "'you? are how Hello'"
      ]
     },
     "execution_count": 153,
     "metadata": {},
     "output_type": "execute_result"
    }
   ],
   "source": [
    "string='Hello how are you?'\n",
    "new_str=string.split()\n",
    "reverse_string=new_str[::-1]\n",
    "string_rev=' '.join(reverse_string)\n",
    "string_rev"
   ]
  },
  {
   "cell_type": "markdown",
   "id": "709e6b37",
   "metadata": {},
   "source": [
    "38. Implement a function to find the missing number in a given list of consecutive numbers."
   ]
  },
  {
   "cell_type": "code",
   "execution_count": 167,
   "id": "8cbdc8f5",
   "metadata": {},
   "outputs": [
    {
     "data": {
      "text/plain": [
       "5"
      ]
     },
     "execution_count": 167,
     "metadata": {},
     "output_type": "execute_result"
    }
   ],
   "source": [
    "def missing(li):\n",
    "    missingnum=1\n",
    "    for i in range(len(li)):\n",
    "        if li[i+1] != li[i]+1:\n",
    "            break\n",
    "        else:\n",
    "            missingnum=li[i]+1\n",
    "            \n",
    "    return missingnum+1\n",
    "missing([1,2,3,4,3])"
   ]
  },
  {
   "cell_type": "markdown",
   "id": "aed6eb37",
   "metadata": {},
   "source": [
    "39. Write a program to find the sum of digits of a given number."
   ]
  },
  {
   "cell_type": "code",
   "execution_count": 180,
   "id": "43ee0f68",
   "metadata": {},
   "outputs": [
    {
     "data": {
      "text/plain": [
       "18"
      ]
     },
     "execution_count": 180,
     "metadata": {},
     "output_type": "execute_result"
    }
   ],
   "source": [
    "num=123723\n",
    "temp=0\n",
    "while num > 0:\n",
    "    temp += num % 10\n",
    "    num = num // 10\n",
    "temp"
   ]
  },
  {
   "cell_type": "markdown",
   "id": "82f456e5",
   "metadata": {},
   "source": [
    "40. Implement a function to check if a given string is a valid palindrome considering case sensitivity."
   ]
  },
  {
   "cell_type": "code",
   "execution_count": 189,
   "id": "ac4e92ae",
   "metadata": {},
   "outputs": [
    {
     "data": {
      "text/plain": [
       "True"
      ]
     },
     "execution_count": 189,
     "metadata": {},
     "output_type": "execute_result"
    }
   ],
   "source": [
    "def palin(string):\n",
    "    string=string.lower()\n",
    "    if string == string[::-1]:\n",
    "        return True\n",
    "    else:\n",
    "        return False\n",
    "palin('AbCEeCbA')"
   ]
  },
  {
   "cell_type": "markdown",
   "id": "962651a5",
   "metadata": {},
   "source": [
    "41. Write a Python program to find the smallest missing positive integer in a list."
   ]
  },
  {
   "cell_type": "code",
   "execution_count": 191,
   "id": "c5b65305",
   "metadata": {},
   "outputs": [
    {
     "data": {
      "text/plain": [
       "2"
      ]
     },
     "execution_count": 191,
     "metadata": {},
     "output_type": "execute_result"
    }
   ],
   "source": [
    "num_list=[3, 1, -1, 5, 4]\n",
    "\n",
    "positive_num=set()\n",
    "for i in num_list:\n",
    "    if i>0:\n",
    "        positive_num.add(i)\n",
    "        \n",
    "smallest=1\n",
    "\n",
    "while smallest in positive_num:\n",
    "    smallest += 1\n",
    "smallest"
   ]
  },
  {
   "cell_type": "markdown",
   "id": "de6a86b8",
   "metadata": {},
   "source": [
    "42. Implement a function to find the longest palindrome substring in a given string."
   ]
  },
  {
   "cell_type": "code",
   "execution_count": 195,
   "id": "14ca9505",
   "metadata": {},
   "outputs": [
    {
     "data": {
      "text/plain": [
       "'abchhcba'"
      ]
     },
     "execution_count": 195,
     "metadata": {},
     "output_type": "execute_result"
    }
   ],
   "source": [
    "def long_palin(string):\n",
    "    dic={}\n",
    "    string_split=string.split()\n",
    "    for st in string_split:\n",
    "        if st == st[::-1]:\n",
    "            dic[st]=len(st)\n",
    "    max_len=max(dic.values())\n",
    "    for di in dic.keys():\n",
    "        if dic[di] == max_len:\n",
    "            return di\n",
    "long_palin(' abchhcba defrrfed')"
   ]
  },
  {
   "cell_type": "markdown",
   "id": "2567d47e",
   "metadata": {},
   "source": [
    "43. Write a program to find the number of occurrences of a given element in a list."
   ]
  },
  {
   "cell_type": "code",
   "execution_count": 197,
   "id": "286c24b5",
   "metadata": {},
   "outputs": [
    {
     "data": {
      "text/plain": [
       "{1: 1, 2: 2, 3: 3, 4: 1, 5: 1, 10: 6}"
      ]
     },
     "execution_count": 197,
     "metadata": {},
     "output_type": "execute_result"
    }
   ],
   "source": [
    "li=[1, 2, 2, 3, 3, 3, 4, 5,10,10,10,10,10,10]\n",
    "counts={}\n",
    "\n",
    "for i in li:\n",
    "    if i in counts:\n",
    "        counts[i] += 1\n",
    "    else:\n",
    "        counts[i] = 1\n",
    "counts"
   ]
  },
  {
   "cell_type": "markdown",
   "id": "acf36bbe",
   "metadata": {},
   "source": [
    "44. Implement a function to check if a given number is a perfect number."
   ]
  },
  {
   "cell_type": "code",
   "execution_count": 203,
   "id": "e2826b43",
   "metadata": {},
   "outputs": [
    {
     "data": {
      "text/plain": [
       "True"
      ]
     },
     "execution_count": 203,
     "metadata": {},
     "output_type": "execute_result"
    }
   ],
   "source": [
    "def perfect_number(num):\n",
    "    divisible=[]\n",
    "    for i in range(1,num):\n",
    "        if (num % i) == 0:\n",
    "            divisible.append(i)\n",
    "    if sum(divisible) == num:\n",
    "        return True\n",
    "    else:\n",
    "        return False\n",
    "    \n",
    "perfect_number(28)"
   ]
  },
  {
   "cell_type": "markdown",
   "id": "1052f533",
   "metadata": {},
   "source": [
    "45. Write a Python program to remove all duplicates from a string."
   ]
  },
  {
   "cell_type": "code",
   "execution_count": 212,
   "id": "1a49f40e",
   "metadata": {},
   "outputs": [
    {
     "data": {
      "text/plain": [
       "'kpead'"
      ]
     },
     "execution_count": 212,
     "metadata": {},
     "output_type": "execute_result"
    }
   ],
   "source": [
    "def remove_duplicate(string):\n",
    "    st=set(string)\n",
    "    string_removed=''\n",
    "    for s in st:\n",
    "        string_removed=string_removed + s\n",
    "    return string_removed\n",
    "remove_duplicate('deepak')"
   ]
  },
  {
   "cell_type": "markdown",
   "id": "772da6e0",
   "metadata": {},
   "source": [
    "46. Implement a function to find the first missing positive"
   ]
  },
  {
   "cell_type": "code",
   "execution_count": 213,
   "id": "8ac81620",
   "metadata": {},
   "outputs": [
    {
     "data": {
      "text/plain": [
       "2"
      ]
     },
     "execution_count": 213,
     "metadata": {},
     "output_type": "execute_result"
    }
   ],
   "source": [
    "num_list=[3, 1, -1, 5, 4]\n",
    "\n",
    "positive_num=set()\n",
    "for i in num_list:\n",
    "    if i>0:\n",
    "        positive_num.add(i)\n",
    "        \n",
    "smallest=1\n",
    "\n",
    "while smallest in positive_num:\n",
    "    smallest += 1\n",
    "smallest"
   ]
  }
 ],
 "metadata": {
  "kernelspec": {
   "display_name": "Python 3 (ipykernel)",
   "language": "python",
   "name": "python3"
  },
  "language_info": {
   "codemirror_mode": {
    "name": "ipython",
    "version": 3
   },
   "file_extension": ".py",
   "mimetype": "text/x-python",
   "name": "python",
   "nbconvert_exporter": "python",
   "pygments_lexer": "ipython3",
   "version": "3.9.12"
  }
 },
 "nbformat": 4,
 "nbformat_minor": 5
}
